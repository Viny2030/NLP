{
  "cells": [
    {
      "cell_type": "markdown",
      "metadata": {
        "id": "view-in-github",
        "colab_type": "text"
      },
      "source": [
        "<a href=\"https://colab.research.google.com/github/Viny2030/NLP/blob/main/ejemplo_tokenizaci%C3%B3n.ipynb\" target=\"_parent\"><img src=\"https://colab.research.google.com/assets/colab-badge.svg\" alt=\"Open In Colab\"/></a>"
      ]
    },
    {
      "cell_type": "markdown",
      "id": "3ed9c90c",
      "metadata": {
        "id": "3ed9c90c"
      },
      "source": [
        "# Tokenización"
      ]
    },
    {
      "cell_type": "code",
      "source": [
        "\n",
        "%load_ext Cython"
      ],
      "metadata": {
        "id": "IEh90CUcl1Yo"
      },
      "id": "IEh90CUcl1Yo",
      "execution_count": 31,
      "outputs": []
    },
    {
      "cell_type": "code",
      "execution_count": 1,
      "id": "693658c6",
      "metadata": {
        "colab": {
          "base_uri": "https://localhost:8080/"
        },
        "id": "693658c6",
        "outputId": "d779ccbb-b228-4116-f167-277723d92aee"
      },
      "outputs": [
        {
          "output_type": "stream",
          "name": "stdout",
          "text": [
            "Requirement already satisfied: scikit-learn in /usr/local/lib/python3.10/dist-packages (1.5.2)\n",
            "Requirement already satisfied: numpy>=1.19.5 in /usr/local/lib/python3.10/dist-packages (from scikit-learn) (1.26.4)\n",
            "Requirement already satisfied: scipy>=1.6.0 in /usr/local/lib/python3.10/dist-packages (from scikit-learn) (1.13.1)\n",
            "Requirement already satisfied: joblib>=1.2.0 in /usr/local/lib/python3.10/dist-packages (from scikit-learn) (1.4.2)\n",
            "Requirement already satisfied: threadpoolctl>=3.1.0 in /usr/local/lib/python3.10/dist-packages (from scikit-learn) (3.5.0)\n"
          ]
        }
      ],
      "source": [
        "!pip install -U scikit-learn"
      ]
    },
    {
      "cell_type": "code",
      "execution_count": 2,
      "id": "55ef9b22",
      "metadata": {
        "id": "55ef9b22"
      },
      "outputs": [],
      "source": [
        "import pandas as pd"
      ]
    },
    {
      "cell_type": "code",
      "execution_count": 3,
      "id": "37810159",
      "metadata": {
        "id": "37810159"
      },
      "outputs": [],
      "source": [
        "df = pd.read_csv('https://raw.githubusercontent.com/Viny2030/datasets/refs/heads/main/df_total.csv', encoding='UTF-8')"
      ]
    },
    {
      "cell_type": "code",
      "execution_count": 4,
      "id": "b2611778",
      "metadata": {
        "colab": {
          "base_uri": "https://localhost:8080/",
          "height": 423
        },
        "id": "b2611778",
        "outputId": "da31ebe8-6759-4eb4-d169-833a471b4db8"
      },
      "outputs": [
        {
          "output_type": "execute_result",
          "data": {
            "text/plain": [
              "                                                    url  \\\n",
              "0      https://www.larepublica.co/redirect/post/3201905   \n",
              "1      https://www.larepublica.co/redirect/post/3210288   \n",
              "2      https://www.larepublica.co/redirect/post/3240676   \n",
              "3      https://www.larepublica.co/redirect/post/3342889   \n",
              "4      https://www.larepublica.co/redirect/post/3427208   \n",
              "...                                                 ...   \n",
              "1212  https://www.bbva.com/es/como-lograr-que-los-in...   \n",
              "1213  https://www.bbva.com/es/podcast-como-nos-afect...   \n",
              "1214   https://www.larepublica.co/redirect/post/3253735   \n",
              "1215  https://www.bbva.com/es/bbva-y-barcelona-healt...   \n",
              "1216   https://www.larepublica.co/redirect/post/3263980   \n",
              "\n",
              "                                                   news           Type  \n",
              "0     Durante el foro La banca articulador empresari...           Otra  \n",
              "1     El regulador de valores de China dijo el domin...   Regulaciones  \n",
              "2     En una industria históricamente masculina como...       Alianzas  \n",
              "3     Con el dato de marzo el IPC interanual encaden...  Macroeconomia  \n",
              "4     Ayer en Cartagena se dio inicio a la versión n...           Otra  \n",
              "...                                                 ...            ...  \n",
              "1212  En la vida de toda empresa emergente llega un ...     Innovacion  \n",
              "1213  La espiral alcista de los precios continúa y g...  Macroeconomia  \n",
              "1214  Las grandes derrotas nacionales son experienci...       Alianzas  \n",
              "1215  BBVA ha alcanzado un acuerdo de colaboración c...     Innovacion  \n",
              "1216  Casi entrando a la parte final de noviembre la...       Alianzas  \n",
              "\n",
              "[1217 rows x 3 columns]"
            ],
            "text/html": [
              "\n",
              "  <div id=\"df-e02f0663-84bb-4472-88cc-520474e441f1\" class=\"colab-df-container\">\n",
              "    <div>\n",
              "<style scoped>\n",
              "    .dataframe tbody tr th:only-of-type {\n",
              "        vertical-align: middle;\n",
              "    }\n",
              "\n",
              "    .dataframe tbody tr th {\n",
              "        vertical-align: top;\n",
              "    }\n",
              "\n",
              "    .dataframe thead th {\n",
              "        text-align: right;\n",
              "    }\n",
              "</style>\n",
              "<table border=\"1\" class=\"dataframe\">\n",
              "  <thead>\n",
              "    <tr style=\"text-align: right;\">\n",
              "      <th></th>\n",
              "      <th>url</th>\n",
              "      <th>news</th>\n",
              "      <th>Type</th>\n",
              "    </tr>\n",
              "  </thead>\n",
              "  <tbody>\n",
              "    <tr>\n",
              "      <th>0</th>\n",
              "      <td>https://www.larepublica.co/redirect/post/3201905</td>\n",
              "      <td>Durante el foro La banca articulador empresari...</td>\n",
              "      <td>Otra</td>\n",
              "    </tr>\n",
              "    <tr>\n",
              "      <th>1</th>\n",
              "      <td>https://www.larepublica.co/redirect/post/3210288</td>\n",
              "      <td>El regulador de valores de China dijo el domin...</td>\n",
              "      <td>Regulaciones</td>\n",
              "    </tr>\n",
              "    <tr>\n",
              "      <th>2</th>\n",
              "      <td>https://www.larepublica.co/redirect/post/3240676</td>\n",
              "      <td>En una industria históricamente masculina como...</td>\n",
              "      <td>Alianzas</td>\n",
              "    </tr>\n",
              "    <tr>\n",
              "      <th>3</th>\n",
              "      <td>https://www.larepublica.co/redirect/post/3342889</td>\n",
              "      <td>Con el dato de marzo el IPC interanual encaden...</td>\n",
              "      <td>Macroeconomia</td>\n",
              "    </tr>\n",
              "    <tr>\n",
              "      <th>4</th>\n",
              "      <td>https://www.larepublica.co/redirect/post/3427208</td>\n",
              "      <td>Ayer en Cartagena se dio inicio a la versión n...</td>\n",
              "      <td>Otra</td>\n",
              "    </tr>\n",
              "    <tr>\n",
              "      <th>...</th>\n",
              "      <td>...</td>\n",
              "      <td>...</td>\n",
              "      <td>...</td>\n",
              "    </tr>\n",
              "    <tr>\n",
              "      <th>1212</th>\n",
              "      <td>https://www.bbva.com/es/como-lograr-que-los-in...</td>\n",
              "      <td>En la vida de toda empresa emergente llega un ...</td>\n",
              "      <td>Innovacion</td>\n",
              "    </tr>\n",
              "    <tr>\n",
              "      <th>1213</th>\n",
              "      <td>https://www.bbva.com/es/podcast-como-nos-afect...</td>\n",
              "      <td>La espiral alcista de los precios continúa y g...</td>\n",
              "      <td>Macroeconomia</td>\n",
              "    </tr>\n",
              "    <tr>\n",
              "      <th>1214</th>\n",
              "      <td>https://www.larepublica.co/redirect/post/3253735</td>\n",
              "      <td>Las grandes derrotas nacionales son experienci...</td>\n",
              "      <td>Alianzas</td>\n",
              "    </tr>\n",
              "    <tr>\n",
              "      <th>1215</th>\n",
              "      <td>https://www.bbva.com/es/bbva-y-barcelona-healt...</td>\n",
              "      <td>BBVA ha alcanzado un acuerdo de colaboración c...</td>\n",
              "      <td>Innovacion</td>\n",
              "    </tr>\n",
              "    <tr>\n",
              "      <th>1216</th>\n",
              "      <td>https://www.larepublica.co/redirect/post/3263980</td>\n",
              "      <td>Casi entrando a la parte final de noviembre la...</td>\n",
              "      <td>Alianzas</td>\n",
              "    </tr>\n",
              "  </tbody>\n",
              "</table>\n",
              "<p>1217 rows × 3 columns</p>\n",
              "</div>\n",
              "    <div class=\"colab-df-buttons\">\n",
              "\n",
              "  <div class=\"colab-df-container\">\n",
              "    <button class=\"colab-df-convert\" onclick=\"convertToInteractive('df-e02f0663-84bb-4472-88cc-520474e441f1')\"\n",
              "            title=\"Convert this dataframe to an interactive table.\"\n",
              "            style=\"display:none;\">\n",
              "\n",
              "  <svg xmlns=\"http://www.w3.org/2000/svg\" height=\"24px\" viewBox=\"0 -960 960 960\">\n",
              "    <path d=\"M120-120v-720h720v720H120Zm60-500h600v-160H180v160Zm220 220h160v-160H400v160Zm0 220h160v-160H400v160ZM180-400h160v-160H180v160Zm440 0h160v-160H620v160ZM180-180h160v-160H180v160Zm440 0h160v-160H620v160Z\"/>\n",
              "  </svg>\n",
              "    </button>\n",
              "\n",
              "  <style>\n",
              "    .colab-df-container {\n",
              "      display:flex;\n",
              "      gap: 12px;\n",
              "    }\n",
              "\n",
              "    .colab-df-convert {\n",
              "      background-color: #E8F0FE;\n",
              "      border: none;\n",
              "      border-radius: 50%;\n",
              "      cursor: pointer;\n",
              "      display: none;\n",
              "      fill: #1967D2;\n",
              "      height: 32px;\n",
              "      padding: 0 0 0 0;\n",
              "      width: 32px;\n",
              "    }\n",
              "\n",
              "    .colab-df-convert:hover {\n",
              "      background-color: #E2EBFA;\n",
              "      box-shadow: 0px 1px 2px rgba(60, 64, 67, 0.3), 0px 1px 3px 1px rgba(60, 64, 67, 0.15);\n",
              "      fill: #174EA6;\n",
              "    }\n",
              "\n",
              "    .colab-df-buttons div {\n",
              "      margin-bottom: 4px;\n",
              "    }\n",
              "\n",
              "    [theme=dark] .colab-df-convert {\n",
              "      background-color: #3B4455;\n",
              "      fill: #D2E3FC;\n",
              "    }\n",
              "\n",
              "    [theme=dark] .colab-df-convert:hover {\n",
              "      background-color: #434B5C;\n",
              "      box-shadow: 0px 1px 3px 1px rgba(0, 0, 0, 0.15);\n",
              "      filter: drop-shadow(0px 1px 2px rgba(0, 0, 0, 0.3));\n",
              "      fill: #FFFFFF;\n",
              "    }\n",
              "  </style>\n",
              "\n",
              "    <script>\n",
              "      const buttonEl =\n",
              "        document.querySelector('#df-e02f0663-84bb-4472-88cc-520474e441f1 button.colab-df-convert');\n",
              "      buttonEl.style.display =\n",
              "        google.colab.kernel.accessAllowed ? 'block' : 'none';\n",
              "\n",
              "      async function convertToInteractive(key) {\n",
              "        const element = document.querySelector('#df-e02f0663-84bb-4472-88cc-520474e441f1');\n",
              "        const dataTable =\n",
              "          await google.colab.kernel.invokeFunction('convertToInteractive',\n",
              "                                                    [key], {});\n",
              "        if (!dataTable) return;\n",
              "\n",
              "        const docLinkHtml = 'Like what you see? Visit the ' +\n",
              "          '<a target=\"_blank\" href=https://colab.research.google.com/notebooks/data_table.ipynb>data table notebook</a>'\n",
              "          + ' to learn more about interactive tables.';\n",
              "        element.innerHTML = '';\n",
              "        dataTable['output_type'] = 'display_data';\n",
              "        await google.colab.output.renderOutput(dataTable, element);\n",
              "        const docLink = document.createElement('div');\n",
              "        docLink.innerHTML = docLinkHtml;\n",
              "        element.appendChild(docLink);\n",
              "      }\n",
              "    </script>\n",
              "  </div>\n",
              "\n",
              "\n",
              "<div id=\"df-10081af0-cb2b-4af6-857c-3b82153562f0\">\n",
              "  <button class=\"colab-df-quickchart\" onclick=\"quickchart('df-10081af0-cb2b-4af6-857c-3b82153562f0')\"\n",
              "            title=\"Suggest charts\"\n",
              "            style=\"display:none;\">\n",
              "\n",
              "<svg xmlns=\"http://www.w3.org/2000/svg\" height=\"24px\"viewBox=\"0 0 24 24\"\n",
              "     width=\"24px\">\n",
              "    <g>\n",
              "        <path d=\"M19 3H5c-1.1 0-2 .9-2 2v14c0 1.1.9 2 2 2h14c1.1 0 2-.9 2-2V5c0-1.1-.9-2-2-2zM9 17H7v-7h2v7zm4 0h-2V7h2v10zm4 0h-2v-4h2v4z\"/>\n",
              "    </g>\n",
              "</svg>\n",
              "  </button>\n",
              "\n",
              "<style>\n",
              "  .colab-df-quickchart {\n",
              "      --bg-color: #E8F0FE;\n",
              "      --fill-color: #1967D2;\n",
              "      --hover-bg-color: #E2EBFA;\n",
              "      --hover-fill-color: #174EA6;\n",
              "      --disabled-fill-color: #AAA;\n",
              "      --disabled-bg-color: #DDD;\n",
              "  }\n",
              "\n",
              "  [theme=dark] .colab-df-quickchart {\n",
              "      --bg-color: #3B4455;\n",
              "      --fill-color: #D2E3FC;\n",
              "      --hover-bg-color: #434B5C;\n",
              "      --hover-fill-color: #FFFFFF;\n",
              "      --disabled-bg-color: #3B4455;\n",
              "      --disabled-fill-color: #666;\n",
              "  }\n",
              "\n",
              "  .colab-df-quickchart {\n",
              "    background-color: var(--bg-color);\n",
              "    border: none;\n",
              "    border-radius: 50%;\n",
              "    cursor: pointer;\n",
              "    display: none;\n",
              "    fill: var(--fill-color);\n",
              "    height: 32px;\n",
              "    padding: 0;\n",
              "    width: 32px;\n",
              "  }\n",
              "\n",
              "  .colab-df-quickchart:hover {\n",
              "    background-color: var(--hover-bg-color);\n",
              "    box-shadow: 0 1px 2px rgba(60, 64, 67, 0.3), 0 1px 3px 1px rgba(60, 64, 67, 0.15);\n",
              "    fill: var(--button-hover-fill-color);\n",
              "  }\n",
              "\n",
              "  .colab-df-quickchart-complete:disabled,\n",
              "  .colab-df-quickchart-complete:disabled:hover {\n",
              "    background-color: var(--disabled-bg-color);\n",
              "    fill: var(--disabled-fill-color);\n",
              "    box-shadow: none;\n",
              "  }\n",
              "\n",
              "  .colab-df-spinner {\n",
              "    border: 2px solid var(--fill-color);\n",
              "    border-color: transparent;\n",
              "    border-bottom-color: var(--fill-color);\n",
              "    animation:\n",
              "      spin 1s steps(1) infinite;\n",
              "  }\n",
              "\n",
              "  @keyframes spin {\n",
              "    0% {\n",
              "      border-color: transparent;\n",
              "      border-bottom-color: var(--fill-color);\n",
              "      border-left-color: var(--fill-color);\n",
              "    }\n",
              "    20% {\n",
              "      border-color: transparent;\n",
              "      border-left-color: var(--fill-color);\n",
              "      border-top-color: var(--fill-color);\n",
              "    }\n",
              "    30% {\n",
              "      border-color: transparent;\n",
              "      border-left-color: var(--fill-color);\n",
              "      border-top-color: var(--fill-color);\n",
              "      border-right-color: var(--fill-color);\n",
              "    }\n",
              "    40% {\n",
              "      border-color: transparent;\n",
              "      border-right-color: var(--fill-color);\n",
              "      border-top-color: var(--fill-color);\n",
              "    }\n",
              "    60% {\n",
              "      border-color: transparent;\n",
              "      border-right-color: var(--fill-color);\n",
              "    }\n",
              "    80% {\n",
              "      border-color: transparent;\n",
              "      border-right-color: var(--fill-color);\n",
              "      border-bottom-color: var(--fill-color);\n",
              "    }\n",
              "    90% {\n",
              "      border-color: transparent;\n",
              "      border-bottom-color: var(--fill-color);\n",
              "    }\n",
              "  }\n",
              "</style>\n",
              "\n",
              "  <script>\n",
              "    async function quickchart(key) {\n",
              "      const quickchartButtonEl =\n",
              "        document.querySelector('#' + key + ' button');\n",
              "      quickchartButtonEl.disabled = true;  // To prevent multiple clicks.\n",
              "      quickchartButtonEl.classList.add('colab-df-spinner');\n",
              "      try {\n",
              "        const charts = await google.colab.kernel.invokeFunction(\n",
              "            'suggestCharts', [key], {});\n",
              "      } catch (error) {\n",
              "        console.error('Error during call to suggestCharts:', error);\n",
              "      }\n",
              "      quickchartButtonEl.classList.remove('colab-df-spinner');\n",
              "      quickchartButtonEl.classList.add('colab-df-quickchart-complete');\n",
              "    }\n",
              "    (() => {\n",
              "      let quickchartButtonEl =\n",
              "        document.querySelector('#df-10081af0-cb2b-4af6-857c-3b82153562f0 button');\n",
              "      quickchartButtonEl.style.display =\n",
              "        google.colab.kernel.accessAllowed ? 'block' : 'none';\n",
              "    })();\n",
              "  </script>\n",
              "</div>\n",
              "\n",
              "  <div id=\"id_8806b5fd-e064-4d63-b3e5-88feda296ef5\">\n",
              "    <style>\n",
              "      .colab-df-generate {\n",
              "        background-color: #E8F0FE;\n",
              "        border: none;\n",
              "        border-radius: 50%;\n",
              "        cursor: pointer;\n",
              "        display: none;\n",
              "        fill: #1967D2;\n",
              "        height: 32px;\n",
              "        padding: 0 0 0 0;\n",
              "        width: 32px;\n",
              "      }\n",
              "\n",
              "      .colab-df-generate:hover {\n",
              "        background-color: #E2EBFA;\n",
              "        box-shadow: 0px 1px 2px rgba(60, 64, 67, 0.3), 0px 1px 3px 1px rgba(60, 64, 67, 0.15);\n",
              "        fill: #174EA6;\n",
              "      }\n",
              "\n",
              "      [theme=dark] .colab-df-generate {\n",
              "        background-color: #3B4455;\n",
              "        fill: #D2E3FC;\n",
              "      }\n",
              "\n",
              "      [theme=dark] .colab-df-generate:hover {\n",
              "        background-color: #434B5C;\n",
              "        box-shadow: 0px 1px 3px 1px rgba(0, 0, 0, 0.15);\n",
              "        filter: drop-shadow(0px 1px 2px rgba(0, 0, 0, 0.3));\n",
              "        fill: #FFFFFF;\n",
              "      }\n",
              "    </style>\n",
              "    <button class=\"colab-df-generate\" onclick=\"generateWithVariable('df')\"\n",
              "            title=\"Generate code using this dataframe.\"\n",
              "            style=\"display:none;\">\n",
              "\n",
              "  <svg xmlns=\"http://www.w3.org/2000/svg\" height=\"24px\"viewBox=\"0 0 24 24\"\n",
              "       width=\"24px\">\n",
              "    <path d=\"M7,19H8.4L18.45,9,17,7.55,7,17.6ZM5,21V16.75L18.45,3.32a2,2,0,0,1,2.83,0l1.4,1.43a1.91,1.91,0,0,1,.58,1.4,1.91,1.91,0,0,1-.58,1.4L9.25,21ZM18.45,9,17,7.55Zm-12,3A5.31,5.31,0,0,0,4.9,8.1,5.31,5.31,0,0,0,1,6.5,5.31,5.31,0,0,0,4.9,4.9,5.31,5.31,0,0,0,6.5,1,5.31,5.31,0,0,0,8.1,4.9,5.31,5.31,0,0,0,12,6.5,5.46,5.46,0,0,0,6.5,12Z\"/>\n",
              "  </svg>\n",
              "    </button>\n",
              "    <script>\n",
              "      (() => {\n",
              "      const buttonEl =\n",
              "        document.querySelector('#id_8806b5fd-e064-4d63-b3e5-88feda296ef5 button.colab-df-generate');\n",
              "      buttonEl.style.display =\n",
              "        google.colab.kernel.accessAllowed ? 'block' : 'none';\n",
              "\n",
              "      buttonEl.onclick = () => {\n",
              "        google.colab.notebook.generateWithVariable('df');\n",
              "      }\n",
              "      })();\n",
              "    </script>\n",
              "  </div>\n",
              "\n",
              "    </div>\n",
              "  </div>\n"
            ],
            "application/vnd.google.colaboratory.intrinsic+json": {
              "type": "dataframe",
              "variable_name": "df",
              "summary": "{\n  \"name\": \"df\",\n  \"rows\": 1217,\n  \"fields\": [\n    {\n      \"column\": \"url\",\n      \"properties\": {\n        \"dtype\": \"string\",\n        \"num_unique_values\": 1101,\n        \"samples\": [\n          \"https://www.bbva.com/es/sostenibilidad/por-la-tierra-por-el-mundo-por-todos-un-dia-y-una-sola-tierra/\",\n          \"https://www.larepublica.co/redirect/post/3307565\",\n          \"https://www.bbva.com/es/ar/bbva-ofrece-una-amplia-variedad-de-productos-y-servicios-agropecuarios-en-expoagro/\"\n        ],\n        \"semantic_type\": \"\",\n        \"description\": \"\"\n      }\n    },\n    {\n      \"column\": \"news\",\n      \"properties\": {\n        \"dtype\": \"string\",\n        \"num_unique_values\": 1138,\n        \"samples\": [\n          \"Se anunci\\u00f3 una alianza estrat\\u00e9gica entre la fintech de soluciones financieras Omni Latam y JP Morgan para crear una plataforma que brinde soluciones financieras digitales para grandes empresas y pyme garantiz\\u00e1ndoles liquidez y acceso a capital de trabajo.La iniciativa busca proteger la cadena de suministro de los compradores frente a cualquier necesidad crediticia y desajuste de financiaci\\u00f3n. Se asegurar\\u00e1 que los proveedores tengan acceso a un programa de pagos anticipados de facturas.Con esta alianza combinamos las s\\u00f3lidas capacidades financieras de J.P. Morgan en Am\\u00e9rica Latina y la innovaci\\u00f3n tecnol\\u00f3gica de Omni Latam al servicio de las empresas proporcionando alternativas hechas a la medida de nuestros clientes que se adaptan tanto a compradores como a proveedores. El objetivo es facilitar el acceso al capital de trabajo adicional que necesitan para escalar sus negocios mejorando la estabilidad de la cadena de suministro as\\u00ed como su relaci\\u00f3n y reputaci\\u00f3n en el mercado dijo Diego Caicedo CEO  Cofundador de Omni Latam.Se espera que el acuerdo acelere la participaci\\u00f3n de JP Morgan en la regi\\u00f3n. La compa\\u00f1\\u00eda ya procesa cerca de 40 millones de transacciones diarias siendo el principal liquidador de d\\u00f3lares del mundo.Buscamos solventar las necesidades de los empresarios latinoamericanos por medio de soluciones de financiaci\\u00f3n de la cadena de suministro. Creemos que somos los mejor posicionados para atender esas necesidades de la mano de Omni Latam dijo Ignacio Munoz De Cote director de pagos para Latinoam\\u00e9rica en JP Morgan.\",\n          \"\\u00bfSon los filtros del agua realmente necesarios donde el acceso al agua potable est\\u00e1 garantizado? \\u00bfTienen beneficios para la salud y el medioambiente? Mientras en lugares sin agua potable, los filtros pueden significar una aut\\u00e9ntica revoluci\\u00f3n; en los hogares con agua de grifo potable, hay que tener en cuenta para qu\\u00e9 vas a utilizar las distintas tecnolog\\u00edas de filtrado. Importante: los filtros ayudan a solucionar el desaf\\u00edo del agua embotellada en pl\\u00e1stico, lo que contribuye con la sostenibilidad.\\r\\nTres \\u00e1tomos forman una mol\\u00e9cula sencilla. Dos hidr\\u00f3genos y un ox\\u00edgeno est\\u00e1n en la base de la revoluci\\u00f3n de la vida en nuestro planeta. Sin el agua no existir\\u00eda nada de lo que conocemos. Y, sin embargo, cuando abrimos el grifo y la dejamos correr no pensamos en esto. Lo damos por sentado, a pesar de que se trata de un bien m\\u00e1s escaso y con m\\u00e1s amenazas de lo que podr\\u00edamos pensar.\\r\\nEn el mundo, hoy, la mayor\\u00eda de las personas tienen acceso a agua potable. Sin embargo, seg\\u00fan la Organizaci\\u00f3n Mundial de la Salud, m\\u00e1s de 2000 millones de habitantes consumen a diario agua que tiene el potencial de estar contaminada. La diferencia, en la mayor\\u00eda de los casos, la marca la presencia de sistemas de filtrado, depuraci\\u00f3n y potabilizaci\\u00f3n industriales, as\\u00ed como controles que aseguran que beberla no implica riesgos para la salud.\\r\\nAdem\\u00e1s, siempre existe la posibilidad de instalar purificadores de agua a nivel dom\\u00e9stico. Pero \\u00bfson realmente necesarios en aquellos lugares donde el acceso al agua potable est\\u00e1 garantizado? \\u00bfQu\\u00e9 tipos existen y c\\u00f3mo funcionan? \\u00bfTienen realmente beneficios para la salud y el medioambiente?\\r\\nAgua limpia y saneamiento\\r\\nDurante tres d\\u00edas, diversos distritos de Lima y el Callao tendr\\u00e1n el servicio de agua restringido. Debido a este escenario, los peruanos tienen la oportunidad de reflexionar sobre los cuidados que se le debe dar al agua. A continuaci\\u00f3n, algunos consejos sobre qu\\u00e9 se debe hacer para ahorrarla y qu\\u00e9 trucos hay seguir cuando no se cuenta con muchas reservas.\\r\\n\\u201cLa variedad de part\\u00edculas que pueden ser encontradas dentro del agua de grifo es muy grande. Dependiendo de cada regi\\u00f3n e incluso dentro de la misma provincia puede cambiar notablemente, ya que los acu\\u00edferos y los procesos de tratamiento y transporte son distintos\\u201d, explica Alex Dakov, responsable de la ONG Oceanic Global y CEO de Agua NEA y Green Motive. Lo que s\\u00ed est\\u00e1 claro es que lo que habitualmente llamamos agua es mucho m\\u00e1s que hidr\\u00f3geno y ox\\u00edgeno.\\r\\nEn estado natural, el agua contiene microorganismos y multitud de part\\u00edculas en suspensi\\u00f3n y elementos qu\\u00edmicos disueltos que recoge de su entorno. A ellos se han sumado los micropl\\u00e1sticos, aunque su impacto en la salud todav\\u00eda no se ha logrado determinar. En los pa\\u00edses en los que el acceso al agua potable est\\u00e1 garantizado, se llevan a cabo una serie de procesos de filtrado y desinfecci\\u00f3n para garantizar que la mayor\\u00eda de estos elementos no acabe siendo ingerida. Aun as\\u00ed, existen otras razones por las que se puede querer instalar un filtro en casa.\\r\\n\\u201cCuando hablamos de agua, muchas veces influye un criterio por encima de otros: la percepci\\u00f3n del sabor. Un criterio totalmente subjetivo que cada persona siente o aplica de manera diferente\\u201d, a\\u00f1ade Dakov. \\u201cLas tecnolog\\u00edas de filtrado ayudan a modificar esa percepci\\u00f3n, y por tanto pueden ayudar a beber agua del grifo, pese a no ser necesario desde un punto de vista qu\\u00edmico\\u201d.\\r\\nLa cosa cambia si hablamos de lugares en los que el agua corriente no es potable o ni siquiera existe tal red de agua corriente. Aqu\\u00ed, un filtro puede marcar un antes y un despu\\u00e9s, aunque garantizar la potabilidad, desde un punto de vista qu\\u00edmico y biol\\u00f3gico, es m\\u00e1s complejo que instalar un sistema de filtrado. \\u201cPara muchas comunidades donde el acceso al agua potable es complicado, un filtro puede ser una aut\\u00e9ntica revoluci\\u00f3n. Puede facilitar el acceso a una fuente de vida b\\u00e1sica para el ser humano de una manera econ\\u00f3mica y universal\\u201d, subraya el responsable de Oceanic Global.\\r\\nGesti\\u00f3n del Agua\\r\\nEl agua es un elemento imprescindible para el d\\u00eda a d\\u00eda a cuyo consumo no se le presta la debida atenci\\u00f3n \\u2013salvo en los cada vez m\\u00e1s frecuentes momentos de sequ\\u00eda\\u2013 debido a que su acceso y precio son a\\u00fan muy asequibles para el servicio que presta. El aumento de la concienciaci\\u00f3n ecol\\u00f3gica que se vive de unos a\\u00f1os a esta parte no es, sin embargo, todav\\u00eda suficiente para que los h\\u00e1bitos de los ciudadanos se hayan adecuado a las crecientes necesidades de ahorro de agua que demandan los tiempos que corren. De ah\\u00ed que sea muy oportuno revisar una serie de consejos para controlar la utilizaci\\u00f3n del l\\u00edquido elemento.\\r\\nLos filtros de agua para el hogar han ganado en variedad y eficiencia en los \\u00faltimos a\\u00f1os. Van desde sistemas sencillos para eliminar olores o sabores hasta unidades de desinfecci\\u00f3n o de desmineralizaci\\u00f3n. Estas son las principales tecnolog\\u00edas de filtrado disponibles para uso dom\\u00e9stico en la actualidad, seg\\u00fan el Centro para el Control y la Prevenci\\u00f3n de Enfermedades (CDC) de Estados Unidos.\\r\\nPara elegir filtro, debemos tener en cuenta el tipo de agua de nuestra zona y el prop\\u00f3sito que vamos a darle al agua filtrada. \\u201cCada filtro tiene un uso y unas caracter\\u00edsticas; y no tenerlo en cuenta puede dar lugar a una modificaci\\u00f3n negativa para el agua que se bebe. Por ejemplo, no cambiar un filtro de carbono cuando corresponde, puede acabar contaminando el agua que se est\\u00e1 bebiendo\\u201d, explica Alex Dakov.\\r\\nCada a\\u00f1o generamos m\\u00e1s de 300 millones de toneladas de residuos pl\\u00e1sticos en todo el mundo. La mayor\\u00eda no se recicla (m\\u00e1s de un 80 %) y unos ocho millones de toneladas acaban en los oc\\u00e9anos, seg\\u00fan datos de la agencia medioambiental de la ONU. Cada a\\u00f1o, se producen cerca de 500.000 millones de botellas pl\\u00e1sticas para agua y otras bebidas, la mayor\\u00eda de las cuales acaban en nuestro entorno como basura. En entidades financieras como BBVA, el pl\\u00e1stico es una especie en extinci\\u00f3n.\\r\\nAgua limpia y saneamiento\\r\\nA Rosa Ancco todav\\u00eda le sorprende o\\u00edr en su casa el sonido del agua corriendo. La costumbre no le deja olvidar que hasta hace poco ba\\u00f1aba a sus hijos con botellas de agua caliente. No ha tenido una vida f\\u00e1cil, pero su deseo de darle a su familia un techo digno bajo el que vivir y el apoyo de la Fundaci\\u00f3n Microfinanzas BBVA han sido suficientes para conseguirlo.\\r\\nEl problema de los pl\\u00e1sticos es complejo y atiende a muchas causas, pero la falta de acceso a agua potable es una de ellas. Seg\\u00fan el \\u00faltimo informe de Ocean Panel, mejorar la gesti\\u00f3n del agua y el saneamiento en el mundo es una de las principales l\\u00edneas de acci\\u00f3n para reducir la contaminaci\\u00f3n pl\\u00e1stica (y mejorar la salud global).\\r\\n\\u201cUna de las mayores ventajas que tiene el agua del grifo es que reduce el impacto medioambiental que genera el agua embotellada\\u201d, subraya el CEO de Agua NEA.\\u00a0\\u201cNo solo por la incesante producci\\u00f3n de pl\\u00e1sticos que supone la fabricaci\\u00f3n de las botellas o garrafas, se estima que en el mundo se abren m\\u00e1s de un mill\\u00f3n de botellas de pl\\u00e1stico cada minuto, sino tambi\\u00e9n por los costes medioambientales de su transporte\\u201d.\\r\\nEn este sentido, los filtros de agua y, sobre todo, los aplicados para mejorar la red de agua potable de localidades que dependen en gran medida del agua embotellada, pueden ser una soluci\\u00f3n.\\u00a0 \\u201cUno de los retos a los que la humanidad se enfrentar\\u00e1 en este siglo ser\\u00e1 garantizar el acceso a agua potable para los 8.000 millones de personas que pronto poblaremos el planeta, sin que eso multiplique el problema que tenemos con los pl\\u00e1sticos\\u201d, a\\u00f1ade Dakov.\\r\\nDisponer de una fuente de agua potable en todos los hogares es esencial para la salud humana y del medioambiente. Y disfrutar de agua limpia y desag\\u00fces es un factor m\\u00e1s para luchar contra la desigualdad. En la medida en que reducen la dependencia del agua embotellada, los filtros de agua pueden suponer una de las soluciones a este desaf\\u00edo. Sin embargo, como ya hemos se\\u00f1alado, garantizar la potabilidad del agua desde un punto de vista qu\\u00edmico y biol\\u00f3gico es mucho m\\u00e1s complicado que instalar un filtro en casa.\",\n          \"Los presidentes de Iberia e Iberia Express y el consejero delegado de Cepsa han firmado hoy un acuerdo para avanzar en la descarbonizaci\\u00f3n del sector a\\u00e9reo a trav\\u00e9s del desarrollo e investigaci\\u00f3n de combustibles de origen sostenible y otras alternativas energ\\u00e9ticas como el hidr\\u00f3geno renovable y la electricidad para fomentar la movilidad sostenible de aviones y de la flota de veh\\u00edculos que les prestan servicios en aeropuertos.Para las tres compa\\u00f1\\u00edas el desarrollo de los combustibles de origen sostenible SAF son una prioridad para continuar avanzando hacia una industria cada vez m\\u00e1s baja en carbono y contribuir as\\u00ed a la consecuci\\u00f3n de la Agenda 2030. Este proyecto que contempla la investigaci\\u00f3n y pruebas en vuelo con SAF contribuye a los Objetivos para el Desarrollo Sostenible n\\u00famero 7 Garantizar el acceso a una energ\\u00eda asequible segura sostenible y moderna 8 Promover el crecimiento econ\\u00f3mico inclusivo y sostenible el empleo y el trabajo dignoy 13 adoptar medidas urgentes para combatir el cambio clim\\u00e1tico y sus efectos.Cepsa est\\u00e1 trabajando en un ambicioso plan para dar un giro verde a todos sus negocios y convertirse en un referente de la transici\\u00f3n energ\\u00e9tica en su sector. Adem\\u00e1s la compa\\u00f1\\u00eda cuenta con una amplia experiencia en este \\u00e1mbito lleva m\\u00e1s de 10 a\\u00f1os produciendo biocombustibles en sus centros industriales y desarrolla estudios pioneros a nivel mundial para convertir residuos y aceites usados en combustibles de origen renovable de alto valor energ\\u00e9tico.Para Maarten Wetselaar consejero delegado de Cepsa esta alianza muestra la apuesta de Cepsa por la sostenibilidad y la firme determinaci\\u00f3n de apoyar a nuestros clientes dot\\u00e1ndolos de soluciones viables que aceleren su transici\\u00f3n energ\\u00e9tica. Como referente en el suministro de combustibles para el sector a\\u00e9reo compartimos con el Grupo Iberia el objetivo com\\u00fan de impulsar la descarbonizaci\\u00f3n del transporte como herramienta de lucha contra el cambio clim\\u00e1tico.Como parte del Grupo IAG Iberia e Iberia Express se han comprometido a lograr cero emisiones netas en 2050 y a operar un m\\u00ednimo de un 10 de sus vuelos con combustibles de origen sostenible en 2030.Para la descarbonizaci\\u00f3n del sector a\\u00e9reo es imprescindible el desarrollo producci\\u00f3n y distribuci\\u00f3n de los combustibles de origen sostenible a precios asequibles y en cantidad suficiente para abastecer a las aerol\\u00edneas. Confiamos en que este acuerdo con Cepsa contribuya a ese objetivo ha comentado Javier S\\u00e1nchezPrieto presidente y CEO de Iberia.Combustibles sosteniblesLos biocombustibles para la aviaci\\u00f3n tienen un papel clave en la descarbonizaci\\u00f3n del turismo y del transporte a\\u00e9reo. En comparaci\\u00f3n con el combustible convencional el SAF puede reducir las emisiones de la aviaci\\u00f3n hasta en un 80 respecto al queroseno convencional durante todo su ciclo de vida seg\\u00fan la Asociaci\\u00f3n Internacional de Transporte A\\u00e9reo.Adem\\u00e1s aportan otros beneficios impulsa la econom\\u00eda circular aumenta la independencia energ\\u00e9tica y con ella la seguridad de suministro asegura el mantenimiento de un importante motor de la econom\\u00eda espa\\u00f1ola 200.000 empleos de calidad y puede utilizarse de manera inmediata sin necesidad de renovar la flota y aprovechando las infraestructuras de suministro actuales.Para la consecuci\\u00f3n del objetivo de crecimiento cero de las emisiones de carbono desde 2020 la Asociaci\\u00f3n del Transporte A\\u00e9reo Internacional IATA est\\u00e1 impulsando el uso de biocombustibles sostenibles entre otras iniciativas por su significativa reducci\\u00f3n de CO2.Este acuerdo entre Cepsa y el Grupo Iberia est\\u00e1 en l\\u00ednea con el conjunto de medidas Fit for 55 de la Comisi\\u00f3n Europea que incluye una iniciativa legislativa denominada RefuelEU Aviation que pretende impulsar la oferta y demanda de biocombustibles de aviaci\\u00f3n en la Uni\\u00f3n Europea alcanzando un uso de 2 en 2025 de 5 en 2030 y de 63 en 2050.\"\n        ],\n        \"semantic_type\": \"\",\n        \"description\": \"\"\n      }\n    },\n    {\n      \"column\": \"Type\",\n      \"properties\": {\n        \"dtype\": \"category\",\n        \"num_unique_values\": 7,\n        \"samples\": [\n          \"Otra\",\n          \"Regulaciones\",\n          \"Sostenibilidad\"\n        ],\n        \"semantic_type\": \"\",\n        \"description\": \"\"\n      }\n    }\n  ]\n}"
            }
          },
          "metadata": {},
          "execution_count": 4
        }
      ],
      "source": [
        "df"
      ]
    },
    {
      "cell_type": "code",
      "execution_count": 5,
      "id": "36073d3f",
      "metadata": {
        "colab": {
          "base_uri": "https://localhost:8080/",
          "height": 144
        },
        "id": "36073d3f",
        "outputId": "c694e6bc-859f-4f9a-e715-0194ca2e588f"
      },
      "outputs": [
        {
          "output_type": "execute_result",
          "data": {
            "text/plain": [
              "'Con el dato de marzo el IPC interanual encadena su decimoquinta tasa positiva consecutiva. La inflación publicada por el INE se ha mantenido igual respecto al avance del 30 de marzo y se sitúa 22 puntos por encima del dato de febrero que ascendió al 76.De esos 22 puntos de diferencia la mayor parte la colocó el grupo de la vivienda 09 puntos por la subida de la electricidad y el del transporte 07 puntos por el alza de los carburantes. También impulsaron el IPC de marzo el aumento de los precios de la restauración y los servicios de alojamiento y al encarecimiento generalizado de los alimentos especialmente del pescado y el marisco de la carne de las legumbres y hortalizas y de la leche el queso y los huevos.Sin tener en cuenta la rebaja del impuesto especial sobre la electricidad y las variaciones sobre otros impuestos el IPC interanual alcanzó en marzo 107 nueve décimas más que la tasa general del 98. Así lo refleja el IPC a impuestos constantes que el INE también publica en el marco de esta estadística.La inflación subyacente sin alimentos no elaborados ni productos energéticos aumentó en marzo cuatro décimas hasta 34 su valor más alto desde septiembre de 2008. De este modo la subyacente se sitúa más de seis puntos por debajo de la tasa del IPC general.En el último año la calefacción el alumbrado y la distribución de agua se han encarecido 683 los aceites y grasas han elevado sus precios un 321 y el transporte personal es un 193 más caro por el mayor coste de los carburantes. También registran alzas de dos dígitos los huevos y la leche un 11 más caros que hace un año y la carne de ovino y el pescado fresco y congelado con repuntes del 101 en ambos casos.Cómo están los precios por comunidadesCastillaLa Mancha se situó a la cabeza con una tasa de inflación del 117 seguida de Castilla y León 11 Aragón 107 La Rioja 106 Galicia 105 Extremadura 103 Cantabria 102 y Comunidad Valenciana 102.En el otro las comunidades donde se registraron las menores subidas fueron Canarias 84 Madrid 9 Baleares 94 Asturias 95 País Vasco 95 y Cataluña 95.El IPC dispara su tasa mensual al 3En tasa mensual el IPC registró en marzo un incremento del 3 respecto a febrero su mayor alza mensual en cualquier mes desde 2002 cuando se cambió la metodología de esta estadística para recoger mejor la evolución del mercado. Echando la vista más atrás tomando series anteriores el repunte mensual de marzo es el más elevado desde agosto de 1977.En el tercer mes de 2022 el Índice de Precios de Consumo Armonizado IPCA situó su tasa interanual en 98 más de dos puntos por encima de la de febrero. Por su parte el indicador adelantado del IPCA avanzó un 39 en tasa mensual.'"
            ],
            "application/vnd.google.colaboratory.intrinsic+json": {
              "type": "string"
            }
          },
          "metadata": {},
          "execution_count": 5
        }
      ],
      "source": [
        "df[\"news\"][3]"
      ]
    },
    {
      "cell_type": "code",
      "execution_count": 6,
      "id": "f582402c",
      "metadata": {
        "id": "f582402c"
      },
      "outputs": [],
      "source": [
        "# Separamos los datos en variables de entrada y etiquetas\n",
        "X = df['news']\n",
        "y = df['Type']"
      ]
    },
    {
      "cell_type": "code",
      "execution_count": 7,
      "id": "9d500693",
      "metadata": {
        "colab": {
          "base_uri": "https://localhost:8080/"
        },
        "id": "9d500693",
        "outputId": "6a3e440e-3618-4daa-be58-d232378e4cde"
      },
      "outputs": [
        {
          "output_type": "stream",
          "name": "stdout",
          "text": [
            "Type\n",
            "Macroeconomia     340\n",
            "Alianzas          247\n",
            "Innovacion        195\n",
            "Regulaciones      142\n",
            "Sostenibilidad    137\n",
            "Otra              130\n",
            "Reputacion         26\n",
            "Name: count, dtype: int64\n"
          ]
        }
      ],
      "source": [
        "print(df['Type'].value_counts())"
      ]
    },
    {
      "cell_type": "code",
      "execution_count": 8,
      "id": "89ef52e1",
      "metadata": {
        "id": "89ef52e1"
      },
      "outputs": [],
      "source": [
        "from sklearn.model_selection import train_test_split"
      ]
    },
    {
      "cell_type": "code",
      "execution_count": 9,
      "id": "b84258f9",
      "metadata": {
        "id": "b84258f9"
      },
      "outputs": [],
      "source": [
        "X_train, X_test, y_train, y_test = train_test_split(X, y, test_size=0.2)"
      ]
    },
    {
      "cell_type": "code",
      "execution_count": 10,
      "id": "48347a78",
      "metadata": {
        "colab": {
          "base_uri": "https://localhost:8080/",
          "height": 458
        },
        "id": "48347a78",
        "outputId": "169b0ef4-0480-4f07-9b99-253ec6e78bc0"
      },
      "outputs": [
        {
          "output_type": "execute_result",
          "data": {
            "text/plain": [
              "1120    La inversión sostenible no solo prioriza el be...\n",
              "842     BBVA Trader el canal online que BBVA pone a se...\n",
              "843     Basta un dato para entender la importancia de ...\n",
              "620     La necesidad de cumplir con el aislamiento obl...\n",
              "570     La senadora colorada Carmen Sanguinetti y el n...\n",
              "                              ...                        \n",
              "171     El pasado 18 de diciembre el Gobierno Nacional...\n",
              "670     El nuevo informe de BBVA Research ajusta las p...\n",
              "269     Las difíciles condiciones de encierro y movili...\n",
              "910     La reunión de la Reserva Federal que se realiz...\n",
              "814     Marzo fue el mes con el alza más fuerte desde ...\n",
              "Name: news, Length: 973, dtype: object"
            ],
            "text/html": [
              "<div>\n",
              "<style scoped>\n",
              "    .dataframe tbody tr th:only-of-type {\n",
              "        vertical-align: middle;\n",
              "    }\n",
              "\n",
              "    .dataframe tbody tr th {\n",
              "        vertical-align: top;\n",
              "    }\n",
              "\n",
              "    .dataframe thead th {\n",
              "        text-align: right;\n",
              "    }\n",
              "</style>\n",
              "<table border=\"1\" class=\"dataframe\">\n",
              "  <thead>\n",
              "    <tr style=\"text-align: right;\">\n",
              "      <th></th>\n",
              "      <th>news</th>\n",
              "    </tr>\n",
              "  </thead>\n",
              "  <tbody>\n",
              "    <tr>\n",
              "      <th>1120</th>\n",
              "      <td>La inversión sostenible no solo prioriza el be...</td>\n",
              "    </tr>\n",
              "    <tr>\n",
              "      <th>842</th>\n",
              "      <td>BBVA Trader el canal online que BBVA pone a se...</td>\n",
              "    </tr>\n",
              "    <tr>\n",
              "      <th>843</th>\n",
              "      <td>Basta un dato para entender la importancia de ...</td>\n",
              "    </tr>\n",
              "    <tr>\n",
              "      <th>620</th>\n",
              "      <td>La necesidad de cumplir con el aislamiento obl...</td>\n",
              "    </tr>\n",
              "    <tr>\n",
              "      <th>570</th>\n",
              "      <td>La senadora colorada Carmen Sanguinetti y el n...</td>\n",
              "    </tr>\n",
              "    <tr>\n",
              "      <th>...</th>\n",
              "      <td>...</td>\n",
              "    </tr>\n",
              "    <tr>\n",
              "      <th>171</th>\n",
              "      <td>El pasado 18 de diciembre el Gobierno Nacional...</td>\n",
              "    </tr>\n",
              "    <tr>\n",
              "      <th>670</th>\n",
              "      <td>El nuevo informe de BBVA Research ajusta las p...</td>\n",
              "    </tr>\n",
              "    <tr>\n",
              "      <th>269</th>\n",
              "      <td>Las difíciles condiciones de encierro y movili...</td>\n",
              "    </tr>\n",
              "    <tr>\n",
              "      <th>910</th>\n",
              "      <td>La reunión de la Reserva Federal que se realiz...</td>\n",
              "    </tr>\n",
              "    <tr>\n",
              "      <th>814</th>\n",
              "      <td>Marzo fue el mes con el alza más fuerte desde ...</td>\n",
              "    </tr>\n",
              "  </tbody>\n",
              "</table>\n",
              "<p>973 rows × 1 columns</p>\n",
              "</div><br><label><b>dtype:</b> object</label>"
            ]
          },
          "metadata": {},
          "execution_count": 10
        }
      ],
      "source": [
        "X_train"
      ]
    },
    {
      "cell_type": "code",
      "execution_count": 11,
      "id": "eba6788e",
      "metadata": {
        "colab": {
          "base_uri": "https://localhost:8080/",
          "height": 458
        },
        "id": "eba6788e",
        "outputId": "ad36a192-841f-4a00-c53b-01f237dfc6bb"
      },
      "outputs": [
        {
          "output_type": "execute_result",
          "data": {
            "text/plain": [
              "690     El consumo con tarjetas en la primera mitad de...\n",
              "267     Carlos Serrano Herrera economista en Jefe de B...\n",
              "295     Bbva reveló el Consumption Tracker con cierre ...\n",
              "967     El Departamento Administrativo Nacional de Est...\n",
              "277     El suprarreciclaje es transformar un desecho e...\n",
              "                              ...                        \n",
              "717     Existen muchos retos para los modelos de vivie...\n",
              "680     La Bolsa Mercantil de Colombia BMC y Seedstars...\n",
              "771     Para celebrar el Día Nacional del Tendero la F...\n",
              "15      JPMorgan dijo el lunes que los cambios regulat...\n",
              "1112    Redeban compañía especializada en el procesami...\n",
              "Name: news, Length: 244, dtype: object"
            ],
            "text/html": [
              "<div>\n",
              "<style scoped>\n",
              "    .dataframe tbody tr th:only-of-type {\n",
              "        vertical-align: middle;\n",
              "    }\n",
              "\n",
              "    .dataframe tbody tr th {\n",
              "        vertical-align: top;\n",
              "    }\n",
              "\n",
              "    .dataframe thead th {\n",
              "        text-align: right;\n",
              "    }\n",
              "</style>\n",
              "<table border=\"1\" class=\"dataframe\">\n",
              "  <thead>\n",
              "    <tr style=\"text-align: right;\">\n",
              "      <th></th>\n",
              "      <th>news</th>\n",
              "    </tr>\n",
              "  </thead>\n",
              "  <tbody>\n",
              "    <tr>\n",
              "      <th>690</th>\n",
              "      <td>El consumo con tarjetas en la primera mitad de...</td>\n",
              "    </tr>\n",
              "    <tr>\n",
              "      <th>267</th>\n",
              "      <td>Carlos Serrano Herrera economista en Jefe de B...</td>\n",
              "    </tr>\n",
              "    <tr>\n",
              "      <th>295</th>\n",
              "      <td>Bbva reveló el Consumption Tracker con cierre ...</td>\n",
              "    </tr>\n",
              "    <tr>\n",
              "      <th>967</th>\n",
              "      <td>El Departamento Administrativo Nacional de Est...</td>\n",
              "    </tr>\n",
              "    <tr>\n",
              "      <th>277</th>\n",
              "      <td>El suprarreciclaje es transformar un desecho e...</td>\n",
              "    </tr>\n",
              "    <tr>\n",
              "      <th>...</th>\n",
              "      <td>...</td>\n",
              "    </tr>\n",
              "    <tr>\n",
              "      <th>717</th>\n",
              "      <td>Existen muchos retos para los modelos de vivie...</td>\n",
              "    </tr>\n",
              "    <tr>\n",
              "      <th>680</th>\n",
              "      <td>La Bolsa Mercantil de Colombia BMC y Seedstars...</td>\n",
              "    </tr>\n",
              "    <tr>\n",
              "      <th>771</th>\n",
              "      <td>Para celebrar el Día Nacional del Tendero la F...</td>\n",
              "    </tr>\n",
              "    <tr>\n",
              "      <th>15</th>\n",
              "      <td>JPMorgan dijo el lunes que los cambios regulat...</td>\n",
              "    </tr>\n",
              "    <tr>\n",
              "      <th>1112</th>\n",
              "      <td>Redeban compañía especializada en el procesami...</td>\n",
              "    </tr>\n",
              "  </tbody>\n",
              "</table>\n",
              "<p>244 rows × 1 columns</p>\n",
              "</div><br><label><b>dtype:</b> object</label>"
            ]
          },
          "metadata": {},
          "execution_count": 11
        }
      ],
      "source": [
        "X_test"
      ]
    },
    {
      "cell_type": "code",
      "execution_count": 12,
      "id": "8547d2a3",
      "metadata": {
        "colab": {
          "base_uri": "https://localhost:8080/",
          "height": 458
        },
        "id": "8547d2a3",
        "outputId": "16229478-e983-4b5f-95fd-2ee2743c3fb2"
      },
      "outputs": [
        {
          "output_type": "execute_result",
          "data": {
            "text/plain": [
              "1120    Sostenibilidad\n",
              "842      Macroeconomia\n",
              "843     Sostenibilidad\n",
              "620       Regulaciones\n",
              "570       Regulaciones\n",
              "             ...      \n",
              "171       Regulaciones\n",
              "670      Macroeconomia\n",
              "269       Regulaciones\n",
              "910      Macroeconomia\n",
              "814      Macroeconomia\n",
              "Name: Type, Length: 973, dtype: object"
            ],
            "text/html": [
              "<div>\n",
              "<style scoped>\n",
              "    .dataframe tbody tr th:only-of-type {\n",
              "        vertical-align: middle;\n",
              "    }\n",
              "\n",
              "    .dataframe tbody tr th {\n",
              "        vertical-align: top;\n",
              "    }\n",
              "\n",
              "    .dataframe thead th {\n",
              "        text-align: right;\n",
              "    }\n",
              "</style>\n",
              "<table border=\"1\" class=\"dataframe\">\n",
              "  <thead>\n",
              "    <tr style=\"text-align: right;\">\n",
              "      <th></th>\n",
              "      <th>Type</th>\n",
              "    </tr>\n",
              "  </thead>\n",
              "  <tbody>\n",
              "    <tr>\n",
              "      <th>1120</th>\n",
              "      <td>Sostenibilidad</td>\n",
              "    </tr>\n",
              "    <tr>\n",
              "      <th>842</th>\n",
              "      <td>Macroeconomia</td>\n",
              "    </tr>\n",
              "    <tr>\n",
              "      <th>843</th>\n",
              "      <td>Sostenibilidad</td>\n",
              "    </tr>\n",
              "    <tr>\n",
              "      <th>620</th>\n",
              "      <td>Regulaciones</td>\n",
              "    </tr>\n",
              "    <tr>\n",
              "      <th>570</th>\n",
              "      <td>Regulaciones</td>\n",
              "    </tr>\n",
              "    <tr>\n",
              "      <th>...</th>\n",
              "      <td>...</td>\n",
              "    </tr>\n",
              "    <tr>\n",
              "      <th>171</th>\n",
              "      <td>Regulaciones</td>\n",
              "    </tr>\n",
              "    <tr>\n",
              "      <th>670</th>\n",
              "      <td>Macroeconomia</td>\n",
              "    </tr>\n",
              "    <tr>\n",
              "      <th>269</th>\n",
              "      <td>Regulaciones</td>\n",
              "    </tr>\n",
              "    <tr>\n",
              "      <th>910</th>\n",
              "      <td>Macroeconomia</td>\n",
              "    </tr>\n",
              "    <tr>\n",
              "      <th>814</th>\n",
              "      <td>Macroeconomia</td>\n",
              "    </tr>\n",
              "  </tbody>\n",
              "</table>\n",
              "<p>973 rows × 1 columns</p>\n",
              "</div><br><label><b>dtype:</b> object</label>"
            ]
          },
          "metadata": {},
          "execution_count": 12
        }
      ],
      "source": [
        "y_train"
      ]
    },
    {
      "cell_type": "code",
      "execution_count": 13,
      "id": "d86fb42f",
      "metadata": {
        "colab": {
          "base_uri": "https://localhost:8080/",
          "height": 458
        },
        "id": "d86fb42f",
        "outputId": "d4097010-4bcf-46ed-ca48-2a6ecb2c4038"
      },
      "outputs": [
        {
          "output_type": "execute_result",
          "data": {
            "text/plain": [
              "690               Otra\n",
              "267      Macroeconomia\n",
              "295               Otra\n",
              "967      Macroeconomia\n",
              "277     Sostenibilidad\n",
              "             ...      \n",
              "717       Regulaciones\n",
              "680           Alianzas\n",
              "771           Alianzas\n",
              "15        Regulaciones\n",
              "1112          Alianzas\n",
              "Name: Type, Length: 244, dtype: object"
            ],
            "text/html": [
              "<div>\n",
              "<style scoped>\n",
              "    .dataframe tbody tr th:only-of-type {\n",
              "        vertical-align: middle;\n",
              "    }\n",
              "\n",
              "    .dataframe tbody tr th {\n",
              "        vertical-align: top;\n",
              "    }\n",
              "\n",
              "    .dataframe thead th {\n",
              "        text-align: right;\n",
              "    }\n",
              "</style>\n",
              "<table border=\"1\" class=\"dataframe\">\n",
              "  <thead>\n",
              "    <tr style=\"text-align: right;\">\n",
              "      <th></th>\n",
              "      <th>Type</th>\n",
              "    </tr>\n",
              "  </thead>\n",
              "  <tbody>\n",
              "    <tr>\n",
              "      <th>690</th>\n",
              "      <td>Otra</td>\n",
              "    </tr>\n",
              "    <tr>\n",
              "      <th>267</th>\n",
              "      <td>Macroeconomia</td>\n",
              "    </tr>\n",
              "    <tr>\n",
              "      <th>295</th>\n",
              "      <td>Otra</td>\n",
              "    </tr>\n",
              "    <tr>\n",
              "      <th>967</th>\n",
              "      <td>Macroeconomia</td>\n",
              "    </tr>\n",
              "    <tr>\n",
              "      <th>277</th>\n",
              "      <td>Sostenibilidad</td>\n",
              "    </tr>\n",
              "    <tr>\n",
              "      <th>...</th>\n",
              "      <td>...</td>\n",
              "    </tr>\n",
              "    <tr>\n",
              "      <th>717</th>\n",
              "      <td>Regulaciones</td>\n",
              "    </tr>\n",
              "    <tr>\n",
              "      <th>680</th>\n",
              "      <td>Alianzas</td>\n",
              "    </tr>\n",
              "    <tr>\n",
              "      <th>771</th>\n",
              "      <td>Alianzas</td>\n",
              "    </tr>\n",
              "    <tr>\n",
              "      <th>15</th>\n",
              "      <td>Regulaciones</td>\n",
              "    </tr>\n",
              "    <tr>\n",
              "      <th>1112</th>\n",
              "      <td>Alianzas</td>\n",
              "    </tr>\n",
              "  </tbody>\n",
              "</table>\n",
              "<p>244 rows × 1 columns</p>\n",
              "</div><br><label><b>dtype:</b> object</label>"
            ]
          },
          "metadata": {},
          "execution_count": 13
        }
      ],
      "source": [
        "y_test"
      ]
    },
    {
      "cell_type": "code",
      "execution_count": 14,
      "id": "09afddc3",
      "metadata": {
        "id": "09afddc3"
      },
      "outputs": [],
      "source": [
        "from sklearn.feature_extraction.text import CountVectorizer"
      ]
    },
    {
      "cell_type": "code",
      "execution_count": 15,
      "id": "ea6b689c",
      "metadata": {
        "id": "ea6b689c"
      },
      "outputs": [],
      "source": [
        "vectorizer = CountVectorizer()"
      ]
    },
    {
      "cell_type": "code",
      "execution_count": 16,
      "id": "4d485f86",
      "metadata": {
        "id": "4d485f86"
      },
      "outputs": [],
      "source": [
        "X_train_transformed = vectorizer.fit_transform(X_train)\n",
        "X_test_transformed = vectorizer.transform(X_test)"
      ]
    },
    {
      "cell_type": "code",
      "execution_count": 17,
      "id": "d14954c6",
      "metadata": {
        "colab": {
          "base_uri": "https://localhost:8080/"
        },
        "id": "d14954c6",
        "outputId": "757a08d2-3fe3-4cc5-9a40-af239bad8816"
      },
      "outputs": [
        {
          "output_type": "execute_result",
          "data": {
            "text/plain": [
              "<973x26680 sparse matrix of type '<class 'numpy.int64'>'\n",
              "\twith 236699 stored elements in Compressed Sparse Row format>"
            ]
          },
          "metadata": {},
          "execution_count": 17
        }
      ],
      "source": [
        "X_train_transformed"
      ]
    },
    {
      "cell_type": "code",
      "execution_count": 18,
      "id": "0a24bca3",
      "metadata": {
        "colab": {
          "base_uri": "https://localhost:8080/"
        },
        "id": "0a24bca3",
        "outputId": "401ab7fc-a297-4091-981f-9de2f7018420"
      },
      "outputs": [
        {
          "output_type": "stream",
          "name": "stdout",
          "text": [
            "[[0 0 0 ... 0 0 0]\n",
            " [0 0 0 ... 0 0 0]\n",
            " [0 2 0 ... 0 0 0]\n",
            " ...\n",
            " [0 1 0 ... 0 0 0]\n",
            " [0 0 0 ... 0 0 0]\n",
            " [0 0 0 ... 0 0 0]]\n"
          ]
        }
      ],
      "source": [
        "X_train_transformed_dense = X_train_transformed.toarray()\n",
        "print(X_train_transformed_dense)"
      ]
    },
    {
      "cell_type": "code",
      "execution_count": 19,
      "id": "ed0fef7d",
      "metadata": {
        "id": "ed0fef7d"
      },
      "outputs": [],
      "source": [
        "from sklearn.naive_bayes import MultinomialNB\n",
        "from sklearn import metrics"
      ]
    },
    {
      "cell_type": "code",
      "execution_count": 20,
      "id": "02f85114",
      "metadata": {
        "colab": {
          "base_uri": "https://localhost:8080/"
        },
        "id": "02f85114",
        "outputId": "f0be2814-7e2e-4f82-82db-8d270b6f938d"
      },
      "outputs": [
        {
          "output_type": "stream",
          "name": "stdout",
          "text": [
            "0.7704918032786885\n"
          ]
        }
      ],
      "source": [
        "model = MultinomialNB()\n",
        "model.fit(X_train_transformed, y_train)\n",
        "y_pred = model.predict(X_test_transformed)\n",
        "print(metrics.accuracy_score(y_test, y_pred))"
      ]
    },
    {
      "cell_type": "markdown",
      "id": "848ca47e",
      "metadata": {
        "id": "848ca47e"
      },
      "source": [
        "# Stemming"
      ]
    },
    {
      "cell_type": "code",
      "execution_count": 21,
      "id": "dc31653c",
      "metadata": {
        "id": "dc31653c"
      },
      "outputs": [],
      "source": [
        "import nltk\n",
        "from nltk.tokenize import word_tokenize\n",
        "from nltk.corpus import stopwords\n",
        "from nltk.stem import SnowballStemmer"
      ]
    },
    {
      "cell_type": "code",
      "execution_count": 22,
      "id": "9d492acb",
      "metadata": {
        "colab": {
          "base_uri": "https://localhost:8080/"
        },
        "id": "9d492acb",
        "outputId": "330a59b8-22d3-4b62-9d38-0488cff2b312"
      },
      "outputs": [
        {
          "output_type": "stream",
          "name": "stderr",
          "text": [
            "[nltk_data] Downloading package punkt to /root/nltk_data...\n",
            "[nltk_data]   Unzipping tokenizers/punkt.zip.\n",
            "[nltk_data] Downloading package stopwords to /root/nltk_data...\n",
            "[nltk_data]   Unzipping corpora/stopwords.zip.\n"
          ]
        },
        {
          "output_type": "execute_result",
          "data": {
            "text/plain": [
              "True"
            ]
          },
          "metadata": {},
          "execution_count": 22
        }
      ],
      "source": [
        "nltk.download('punkt')\n",
        "nltk.download('stopwords')"
      ]
    },
    {
      "cell_type": "code",
      "execution_count": 23,
      "id": "76dbb25f",
      "metadata": {
        "id": "76dbb25f"
      },
      "outputs": [],
      "source": [
        "stemmer = SnowballStemmer('spanish')"
      ]
    },
    {
      "cell_type": "code",
      "execution_count": 24,
      "id": "f2098e8b",
      "metadata": {
        "id": "f2098e8b"
      },
      "outputs": [],
      "source": [
        "def tokenize_and_stem(text):\n",
        "    tokens = word_tokenize(text.lower())\n",
        "    stems = [stemmer.stem(token) for token in tokens if token.isalpha()]\n",
        "    return ' '.join(stems)"
      ]
    },
    {
      "cell_type": "code",
      "execution_count": 25,
      "id": "8996765f",
      "metadata": {
        "id": "8996765f"
      },
      "outputs": [],
      "source": [
        "df['news_stemmer'] = df['news'].apply(tokenize_and_stem)"
      ]
    },
    {
      "cell_type": "code",
      "execution_count": null,
      "id": "813319f5",
      "metadata": {
        "id": "813319f5",
        "outputId": "6bb5949d-b865-4805-e557-b89514bd9dc4"
      },
      "outputs": [
        {
          "data": {
            "text/plain": [
              "0       durant el for la banc articul empresarial par ...\n",
              "1       el regul de valor de chin dij el doming que bu...\n",
              "2       en una industri histor masculin com lo es la a...\n",
              "3       con el dat de marz el ipc interanual encaden s...\n",
              "4       ayer en cartagen se dio inici a la version num...\n",
              "                              ...                        \n",
              "1212    en la vid de tod empres emergent lleg un momen...\n",
              "1213    la espiral alcist de los preci continu y gener...\n",
              "1214    las grand derrot nacional son experient trauma...\n",
              "1215    bbva ha alcanz un acuerd de colabor con barcel...\n",
              "1216    casi entrand a la part final de noviembr la ep...\n",
              "Name: news_stemmer, Length: 1217, dtype: object"
            ]
          },
          "execution_count": 27,
          "metadata": {},
          "output_type": "execute_result"
        }
      ],
      "source": [
        "df['news_stemmer']"
      ]
    },
    {
      "cell_type": "code",
      "execution_count": 26,
      "id": "678f0d52",
      "metadata": {
        "colab": {
          "base_uri": "https://localhost:8080/"
        },
        "id": "678f0d52",
        "outputId": "6a7f234a-f905-434b-b897-6c6895882a5e"
      },
      "outputs": [
        {
          "output_type": "stream",
          "name": "stdout",
          "text": [
            "con el dat de marz el ipc interanual encaden su decimoquint tas posit consecut la inflacion public por el ine se ha manten igual respect al avanc del de marz y se situ punt por encim del dat de febrer que ascend al esos punt de diferent la mayor part la coloc el grup de la viviend punt por la sub de la electr y el del transport punt por el alza de los carbur tambien impuls el ipc de marz el aument de los preci de la restaur y los servici de aloj y al encarec generaliz de los aliment especial del pesc y el marisc de la carn de las legumbr y hortaliz y de la lech el ques y los ten en cuent la rebaj del impuest especial sobr la electr y las variacion sobr otros impuest el ipc interanual alcanz en marz nuev decim mas que la tas general del asi lo reflej el ipc a impuest constant que el ine tambien public en el marc de esta inflacion subyacent sin aliment no elabor ni product energet aument en marz cuatr decim hast su valor mas alto desd septiembr de de este mod la subyacent se situ mas de seis punt por debaj de la tas del ipc el ultim año la calefaccion el alumbr y la distribu de agu se han encarec los aceit y gras han elev sus preci un y el transport personal es un mas car por el mayor cost de los carbur tambien registr alzas de dos digit los huev y la lech un mas car que hac un año y la carn de ovin y el pesc fresc y congel con repunt del en ambos estan los preci por comunidadescastillal manch se situ a la cabez con una tas de inflacion del segu de castill y leon aragon la rioj galici extremadur cantabri y comun valencian el otro las comun dond se registr las menor sub fueron canari madr balear asturi pais vasc y cataluñ ipc disp su tas mensual al tas mensual el ipc registr en marz un increment del respect a febrer su mayor alza mensual en cualqui mes desd cuand se camb la metodolog de esta estadist par recog mejor la evolu del merc echand la vist mas atras tom seri anterior el repunt mensual de marz es el mas elev desd agost de el terc mes de el indic de preci de consum armoniz ipca situ su tas interanual en mas de dos punt por encim de la de febrer por su part el indic adelant del ipca avanz un en tas mensual\n"
          ]
        }
      ],
      "source": [
        "print(df['news_stemmer'][3])"
      ]
    },
    {
      "cell_type": "code",
      "execution_count": 27,
      "id": "180f3f6d",
      "metadata": {
        "colab": {
          "base_uri": "https://localhost:8080/"
        },
        "id": "180f3f6d",
        "outputId": "44f13bc6-18ca-4bba-fb47-39a058f95952"
      },
      "outputs": [
        {
          "output_type": "stream",
          "name": "stdout",
          "text": [
            "Con el dato de marzo el IPC interanual encadena su decimoquinta tasa positiva consecutiva. La inflación publicada por el INE se ha mantenido igual respecto al avance del 30 de marzo y se sitúa 22 puntos por encima del dato de febrero que ascendió al 76.De esos 22 puntos de diferencia la mayor parte la colocó el grupo de la vivienda 09 puntos por la subida de la electricidad y el del transporte 07 puntos por el alza de los carburantes. También impulsaron el IPC de marzo el aumento de los precios de la restauración y los servicios de alojamiento y al encarecimiento generalizado de los alimentos especialmente del pescado y el marisco de la carne de las legumbres y hortalizas y de la leche el queso y los huevos.Sin tener en cuenta la rebaja del impuesto especial sobre la electricidad y las variaciones sobre otros impuestos el IPC interanual alcanzó en marzo 107 nueve décimas más que la tasa general del 98. Así lo refleja el IPC a impuestos constantes que el INE también publica en el marco de esta estadística.La inflación subyacente sin alimentos no elaborados ni productos energéticos aumentó en marzo cuatro décimas hasta 34 su valor más alto desde septiembre de 2008. De este modo la subyacente se sitúa más de seis puntos por debajo de la tasa del IPC general.En el último año la calefacción el alumbrado y la distribución de agua se han encarecido 683 los aceites y grasas han elevado sus precios un 321 y el transporte personal es un 193 más caro por el mayor coste de los carburantes. También registran alzas de dos dígitos los huevos y la leche un 11 más caros que hace un año y la carne de ovino y el pescado fresco y congelado con repuntes del 101 en ambos casos.Cómo están los precios por comunidadesCastillaLa Mancha se situó a la cabeza con una tasa de inflación del 117 seguida de Castilla y León 11 Aragón 107 La Rioja 106 Galicia 105 Extremadura 103 Cantabria 102 y Comunidad Valenciana 102.En el otro las comunidades donde se registraron las menores subidas fueron Canarias 84 Madrid 9 Baleares 94 Asturias 95 País Vasco 95 y Cataluña 95.El IPC dispara su tasa mensual al 3En tasa mensual el IPC registró en marzo un incremento del 3 respecto a febrero su mayor alza mensual en cualquier mes desde 2002 cuando se cambió la metodología de esta estadística para recoger mejor la evolución del mercado. Echando la vista más atrás tomando series anteriores el repunte mensual de marzo es el más elevado desde agosto de 1977.En el tercer mes de 2022 el Índice de Precios de Consumo Armonizado IPCA situó su tasa interanual en 98 más de dos puntos por encima de la de febrero. Por su parte el indicador adelantado del IPCA avanzó un 39 en tasa mensual.\n"
          ]
        }
      ],
      "source": [
        "print(df['news'][3])"
      ]
    },
    {
      "cell_type": "code",
      "execution_count": 28,
      "id": "6929c390",
      "metadata": {
        "colab": {
          "base_uri": "https://localhost:8080/"
        },
        "id": "6929c390",
        "outputId": "ef8f6cb6-dd4a-4281-ddf9-95abbca347c8"
      },
      "outputs": [
        {
          "output_type": "stream",
          "name": "stdout",
          "text": [
            "0.7704918032786885\n"
          ]
        }
      ],
      "source": [
        "# Separamos los datos en variables de entrada y etiquetas\n",
        "X = df['news_stemmer']\n",
        "y = df['Type']\n",
        "X_train, X_test, y_train, y_test = train_test_split(X, y, test_size=0.2)\n",
        "vectorizer = CountVectorizer()\n",
        "X_train_transformed = vectorizer.fit_transform(X_train)\n",
        "X_test_transformed = vectorizer.transform(X_test)\n",
        "\n",
        "\n",
        "model = MultinomialNB()\n",
        "model.fit(X_train_transformed, y_train)\n",
        "\n",
        "# Medimos el rendimiento del modelo\n",
        "y_pred = model.predict(X_test_transformed)\n",
        "\n",
        "print(metrics.accuracy_score(y_test, y_pred))"
      ]
    },
    {
      "cell_type": "code",
      "execution_count": 29,
      "id": "315cfd8f",
      "metadata": {
        "colab": {
          "base_uri": "https://localhost:8080/"
        },
        "id": "315cfd8f",
        "outputId": "27cc8ba4-2381-4540-92da-f1c257add7f7"
      },
      "outputs": [
        {
          "output_type": "execute_result",
          "data": {
            "text/plain": [
              "<973x11759 sparse matrix of type '<class 'numpy.int64'>'\n",
              "\twith 192909 stored elements in Compressed Sparse Row format>"
            ]
          },
          "metadata": {},
          "execution_count": 29
        }
      ],
      "source": [
        "X_train_transformed"
      ]
    },
    {
      "cell_type": "markdown",
      "id": "d8a00b50",
      "metadata": {
        "id": "d8a00b50"
      },
      "source": [
        "# Lemmatization"
      ]
    },
    {
      "cell_type": "code",
      "execution_count": 30,
      "id": "340f53b4",
      "metadata": {
        "id": "340f53b4"
      },
      "outputs": [],
      "source": [
        "import spacy"
      ]
    },
    {
      "cell_type": "code",
      "source": [
        "!python -m spacy download es_core_news_sm"
      ],
      "metadata": {
        "colab": {
          "base_uri": "https://localhost:8080/"
        },
        "id": "lf996_IFmYxc",
        "outputId": "93eb94ad-0469-47c4-c299-eb32b02b25d9"
      },
      "id": "lf996_IFmYxc",
      "execution_count": 33,
      "outputs": [
        {
          "output_type": "stream",
          "name": "stdout",
          "text": [
            "Collecting es-core-news-sm==3.7.0\n",
            "  Downloading https://github.com/explosion/spacy-models/releases/download/es_core_news_sm-3.7.0/es_core_news_sm-3.7.0-py3-none-any.whl (12.9 MB)\n",
            "\u001b[2K     \u001b[90m━━━━━━━━━━━━━━━━━━━━━━━━━━━━━━━━━━━━━━━━\u001b[0m \u001b[32m12.9/12.9 MB\u001b[0m \u001b[31m59.2 MB/s\u001b[0m eta \u001b[36m0:00:00\u001b[0m\n",
            "\u001b[?25hRequirement already satisfied: spacy<3.8.0,>=3.7.0 in /usr/local/lib/python3.10/dist-packages (from es-core-news-sm==3.7.0) (3.7.5)\n",
            "Requirement already satisfied: spacy-legacy<3.1.0,>=3.0.11 in /usr/local/lib/python3.10/dist-packages (from spacy<3.8.0,>=3.7.0->es-core-news-sm==3.7.0) (3.0.12)\n",
            "Requirement already satisfied: spacy-loggers<2.0.0,>=1.0.0 in /usr/local/lib/python3.10/dist-packages (from spacy<3.8.0,>=3.7.0->es-core-news-sm==3.7.0) (1.0.5)\n",
            "Requirement already satisfied: murmurhash<1.1.0,>=0.28.0 in /usr/local/lib/python3.10/dist-packages (from spacy<3.8.0,>=3.7.0->es-core-news-sm==3.7.0) (1.0.10)\n",
            "Requirement already satisfied: cymem<2.1.0,>=2.0.2 in /usr/local/lib/python3.10/dist-packages (from spacy<3.8.0,>=3.7.0->es-core-news-sm==3.7.0) (2.0.8)\n",
            "Requirement already satisfied: preshed<3.1.0,>=3.0.2 in /usr/local/lib/python3.10/dist-packages (from spacy<3.8.0,>=3.7.0->es-core-news-sm==3.7.0) (3.0.9)\n",
            "Requirement already satisfied: thinc<8.3.0,>=8.2.2 in /usr/local/lib/python3.10/dist-packages (from spacy<3.8.0,>=3.7.0->es-core-news-sm==3.7.0) (8.2.5)\n",
            "Requirement already satisfied: wasabi<1.2.0,>=0.9.1 in /usr/local/lib/python3.10/dist-packages (from spacy<3.8.0,>=3.7.0->es-core-news-sm==3.7.0) (1.1.3)\n",
            "Requirement already satisfied: srsly<3.0.0,>=2.4.3 in /usr/local/lib/python3.10/dist-packages (from spacy<3.8.0,>=3.7.0->es-core-news-sm==3.7.0) (2.4.8)\n",
            "Requirement already satisfied: catalogue<2.1.0,>=2.0.6 in /usr/local/lib/python3.10/dist-packages (from spacy<3.8.0,>=3.7.0->es-core-news-sm==3.7.0) (2.0.10)\n",
            "Requirement already satisfied: weasel<0.5.0,>=0.1.0 in /usr/local/lib/python3.10/dist-packages (from spacy<3.8.0,>=3.7.0->es-core-news-sm==3.7.0) (0.4.1)\n",
            "Requirement already satisfied: typer<1.0.0,>=0.3.0 in /usr/local/lib/python3.10/dist-packages (from spacy<3.8.0,>=3.7.0->es-core-news-sm==3.7.0) (0.12.5)\n",
            "Requirement already satisfied: tqdm<5.0.0,>=4.38.0 in /usr/local/lib/python3.10/dist-packages (from spacy<3.8.0,>=3.7.0->es-core-news-sm==3.7.0) (4.66.6)\n",
            "Requirement already satisfied: requests<3.0.0,>=2.13.0 in /usr/local/lib/python3.10/dist-packages (from spacy<3.8.0,>=3.7.0->es-core-news-sm==3.7.0) (2.32.3)\n",
            "Requirement already satisfied: pydantic!=1.8,!=1.8.1,<3.0.0,>=1.7.4 in /usr/local/lib/python3.10/dist-packages (from spacy<3.8.0,>=3.7.0->es-core-news-sm==3.7.0) (2.9.2)\n",
            "Requirement already satisfied: jinja2 in /usr/local/lib/python3.10/dist-packages (from spacy<3.8.0,>=3.7.0->es-core-news-sm==3.7.0) (3.1.4)\n",
            "Requirement already satisfied: setuptools in /usr/local/lib/python3.10/dist-packages (from spacy<3.8.0,>=3.7.0->es-core-news-sm==3.7.0) (75.1.0)\n",
            "Requirement already satisfied: packaging>=20.0 in /usr/local/lib/python3.10/dist-packages (from spacy<3.8.0,>=3.7.0->es-core-news-sm==3.7.0) (24.1)\n",
            "Requirement already satisfied: langcodes<4.0.0,>=3.2.0 in /usr/local/lib/python3.10/dist-packages (from spacy<3.8.0,>=3.7.0->es-core-news-sm==3.7.0) (3.4.1)\n",
            "Requirement already satisfied: numpy>=1.19.0 in /usr/local/lib/python3.10/dist-packages (from spacy<3.8.0,>=3.7.0->es-core-news-sm==3.7.0) (1.26.4)\n",
            "Requirement already satisfied: language-data>=1.2 in /usr/local/lib/python3.10/dist-packages (from langcodes<4.0.0,>=3.2.0->spacy<3.8.0,>=3.7.0->es-core-news-sm==3.7.0) (1.2.0)\n",
            "Requirement already satisfied: annotated-types>=0.6.0 in /usr/local/lib/python3.10/dist-packages (from pydantic!=1.8,!=1.8.1,<3.0.0,>=1.7.4->spacy<3.8.0,>=3.7.0->es-core-news-sm==3.7.0) (0.7.0)\n",
            "Requirement already satisfied: pydantic-core==2.23.4 in /usr/local/lib/python3.10/dist-packages (from pydantic!=1.8,!=1.8.1,<3.0.0,>=1.7.4->spacy<3.8.0,>=3.7.0->es-core-news-sm==3.7.0) (2.23.4)\n",
            "Requirement already satisfied: typing-extensions>=4.6.1 in /usr/local/lib/python3.10/dist-packages (from pydantic!=1.8,!=1.8.1,<3.0.0,>=1.7.4->spacy<3.8.0,>=3.7.0->es-core-news-sm==3.7.0) (4.12.2)\n",
            "Requirement already satisfied: charset-normalizer<4,>=2 in /usr/local/lib/python3.10/dist-packages (from requests<3.0.0,>=2.13.0->spacy<3.8.0,>=3.7.0->es-core-news-sm==3.7.0) (3.4.0)\n",
            "Requirement already satisfied: idna<4,>=2.5 in /usr/local/lib/python3.10/dist-packages (from requests<3.0.0,>=2.13.0->spacy<3.8.0,>=3.7.0->es-core-news-sm==3.7.0) (3.10)\n",
            "Requirement already satisfied: urllib3<3,>=1.21.1 in /usr/local/lib/python3.10/dist-packages (from requests<3.0.0,>=2.13.0->spacy<3.8.0,>=3.7.0->es-core-news-sm==3.7.0) (2.2.3)\n",
            "Requirement already satisfied: certifi>=2017.4.17 in /usr/local/lib/python3.10/dist-packages (from requests<3.0.0,>=2.13.0->spacy<3.8.0,>=3.7.0->es-core-news-sm==3.7.0) (2024.8.30)\n",
            "Requirement already satisfied: blis<0.8.0,>=0.7.8 in /usr/local/lib/python3.10/dist-packages (from thinc<8.3.0,>=8.2.2->spacy<3.8.0,>=3.7.0->es-core-news-sm==3.7.0) (0.7.11)\n",
            "Requirement already satisfied: confection<1.0.0,>=0.0.1 in /usr/local/lib/python3.10/dist-packages (from thinc<8.3.0,>=8.2.2->spacy<3.8.0,>=3.7.0->es-core-news-sm==3.7.0) (0.1.5)\n",
            "Requirement already satisfied: click>=8.0.0 in /usr/local/lib/python3.10/dist-packages (from typer<1.0.0,>=0.3.0->spacy<3.8.0,>=3.7.0->es-core-news-sm==3.7.0) (8.1.7)\n",
            "Requirement already satisfied: shellingham>=1.3.0 in /usr/local/lib/python3.10/dist-packages (from typer<1.0.0,>=0.3.0->spacy<3.8.0,>=3.7.0->es-core-news-sm==3.7.0) (1.5.4)\n",
            "Requirement already satisfied: rich>=10.11.0 in /usr/local/lib/python3.10/dist-packages (from typer<1.0.0,>=0.3.0->spacy<3.8.0,>=3.7.0->es-core-news-sm==3.7.0) (13.9.3)\n",
            "Requirement already satisfied: cloudpathlib<1.0.0,>=0.7.0 in /usr/local/lib/python3.10/dist-packages (from weasel<0.5.0,>=0.1.0->spacy<3.8.0,>=3.7.0->es-core-news-sm==3.7.0) (0.20.0)\n",
            "Requirement already satisfied: smart-open<8.0.0,>=5.2.1 in /usr/local/lib/python3.10/dist-packages (from weasel<0.5.0,>=0.1.0->spacy<3.8.0,>=3.7.0->es-core-news-sm==3.7.0) (7.0.5)\n",
            "Requirement already satisfied: MarkupSafe>=2.0 in /usr/local/lib/python3.10/dist-packages (from jinja2->spacy<3.8.0,>=3.7.0->es-core-news-sm==3.7.0) (3.0.2)\n",
            "Requirement already satisfied: marisa-trie>=0.7.7 in /usr/local/lib/python3.10/dist-packages (from language-data>=1.2->langcodes<4.0.0,>=3.2.0->spacy<3.8.0,>=3.7.0->es-core-news-sm==3.7.0) (1.2.1)\n",
            "Requirement already satisfied: markdown-it-py>=2.2.0 in /usr/local/lib/python3.10/dist-packages (from rich>=10.11.0->typer<1.0.0,>=0.3.0->spacy<3.8.0,>=3.7.0->es-core-news-sm==3.7.0) (3.0.0)\n",
            "Requirement already satisfied: pygments<3.0.0,>=2.13.0 in /usr/local/lib/python3.10/dist-packages (from rich>=10.11.0->typer<1.0.0,>=0.3.0->spacy<3.8.0,>=3.7.0->es-core-news-sm==3.7.0) (2.18.0)\n",
            "Requirement already satisfied: wrapt in /usr/local/lib/python3.10/dist-packages (from smart-open<8.0.0,>=5.2.1->weasel<0.5.0,>=0.1.0->spacy<3.8.0,>=3.7.0->es-core-news-sm==3.7.0) (1.16.0)\n",
            "Requirement already satisfied: mdurl~=0.1 in /usr/local/lib/python3.10/dist-packages (from markdown-it-py>=2.2.0->rich>=10.11.0->typer<1.0.0,>=0.3.0->spacy<3.8.0,>=3.7.0->es-core-news-sm==3.7.0) (0.1.2)\n",
            "Installing collected packages: es-core-news-sm\n",
            "Successfully installed es-core-news-sm-3.7.0\n",
            "\u001b[38;5;2m✔ Download and installation successful\u001b[0m\n",
            "You can now load the package via spacy.load('es_core_news_sm')\n",
            "\u001b[38;5;3m⚠ Restart to reload dependencies\u001b[0m\n",
            "If you are in a Jupyter or Colab notebook, you may need to restart Python in\n",
            "order to load all the package's dependencies. You can do this by selecting the\n",
            "'Restart kernel' or 'Restart runtime' option.\n"
          ]
        }
      ]
    },
    {
      "cell_type": "code",
      "source": [
        "import urllib.request\n",
        "import spacy"
      ],
      "metadata": {
        "id": "TnoEHGIqmWHP"
      },
      "id": "TnoEHGIqmWHP",
      "execution_count": 34,
      "outputs": []
    },
    {
      "cell_type": "code",
      "execution_count": 35,
      "id": "5183c0ad",
      "metadata": {
        "id": "5183c0ad"
      },
      "outputs": [],
      "source": [
        "nlp = spacy.load('es_core_news_sm')"
      ]
    },
    {
      "cell_type": "code",
      "execution_count": 36,
      "id": "bc1162d5",
      "metadata": {
        "id": "bc1162d5"
      },
      "outputs": [],
      "source": [
        "def lemmatize_text(text):\n",
        "    doc = nlp(text.lower())\n",
        "    lemmas = [token.lemma_ for token in doc if token.is_alpha]\n",
        "    return ' '.join(lemmas)"
      ]
    },
    {
      "cell_type": "code",
      "execution_count": 37,
      "id": "dee0c1d6",
      "metadata": {
        "id": "dee0c1d6"
      },
      "outputs": [],
      "source": [
        "df['news_lemma'] = df['news'].apply(lemmatize_text)"
      ]
    },
    {
      "cell_type": "code",
      "execution_count": 38,
      "id": "2003b36f",
      "metadata": {
        "colab": {
          "base_uri": "https://localhost:8080/",
          "height": 458
        },
        "id": "2003b36f",
        "outputId": "c6303936-2adf-4738-d1e8-ef2ee272ada2"
      },
      "outputs": [
        {
          "output_type": "execute_result",
          "data": {
            "text/plain": [
              "0       durante el foro el banca articulador empresari...\n",
              "1       el regulador de valor de china decir el doming...\n",
              "2       en uno industria históricamente masculino como...\n",
              "3       con el dato de marzo el ipc interanual encaden...\n",
              "4       ayer en cartagena él dar inicio a el versión n...\n",
              "                              ...                        \n",
              "1212    en el vida de todo empresa emergente llegar un...\n",
              "1213    el espiral alcista de el precio continuar y ge...\n",
              "1214    el grande derrota nacional ser experiencia tra...\n",
              "1215    bbva haber alcanzar uno acuerdo de colaboració...\n",
              "1216    casi entrar a el parte final de noviembre el é...\n",
              "Name: news_lemma, Length: 1217, dtype: object"
            ],
            "text/html": [
              "<div>\n",
              "<style scoped>\n",
              "    .dataframe tbody tr th:only-of-type {\n",
              "        vertical-align: middle;\n",
              "    }\n",
              "\n",
              "    .dataframe tbody tr th {\n",
              "        vertical-align: top;\n",
              "    }\n",
              "\n",
              "    .dataframe thead th {\n",
              "        text-align: right;\n",
              "    }\n",
              "</style>\n",
              "<table border=\"1\" class=\"dataframe\">\n",
              "  <thead>\n",
              "    <tr style=\"text-align: right;\">\n",
              "      <th></th>\n",
              "      <th>news_lemma</th>\n",
              "    </tr>\n",
              "  </thead>\n",
              "  <tbody>\n",
              "    <tr>\n",
              "      <th>0</th>\n",
              "      <td>durante el foro el banca articulador empresari...</td>\n",
              "    </tr>\n",
              "    <tr>\n",
              "      <th>1</th>\n",
              "      <td>el regulador de valor de china decir el doming...</td>\n",
              "    </tr>\n",
              "    <tr>\n",
              "      <th>2</th>\n",
              "      <td>en uno industria históricamente masculino como...</td>\n",
              "    </tr>\n",
              "    <tr>\n",
              "      <th>3</th>\n",
              "      <td>con el dato de marzo el ipc interanual encaden...</td>\n",
              "    </tr>\n",
              "    <tr>\n",
              "      <th>4</th>\n",
              "      <td>ayer en cartagena él dar inicio a el versión n...</td>\n",
              "    </tr>\n",
              "    <tr>\n",
              "      <th>...</th>\n",
              "      <td>...</td>\n",
              "    </tr>\n",
              "    <tr>\n",
              "      <th>1212</th>\n",
              "      <td>en el vida de todo empresa emergente llegar un...</td>\n",
              "    </tr>\n",
              "    <tr>\n",
              "      <th>1213</th>\n",
              "      <td>el espiral alcista de el precio continuar y ge...</td>\n",
              "    </tr>\n",
              "    <tr>\n",
              "      <th>1214</th>\n",
              "      <td>el grande derrota nacional ser experiencia tra...</td>\n",
              "    </tr>\n",
              "    <tr>\n",
              "      <th>1215</th>\n",
              "      <td>bbva haber alcanzar uno acuerdo de colaboració...</td>\n",
              "    </tr>\n",
              "    <tr>\n",
              "      <th>1216</th>\n",
              "      <td>casi entrar a el parte final de noviembre el é...</td>\n",
              "    </tr>\n",
              "  </tbody>\n",
              "</table>\n",
              "<p>1217 rows × 1 columns</p>\n",
              "</div><br><label><b>dtype:</b> object</label>"
            ]
          },
          "metadata": {},
          "execution_count": 38
        }
      ],
      "source": [
        "df['news_lemma']"
      ]
    },
    {
      "cell_type": "code",
      "execution_count": 39,
      "id": "8c6bd924",
      "metadata": {
        "colab": {
          "base_uri": "https://localhost:8080/",
          "height": 144
        },
        "id": "8c6bd924",
        "outputId": "c91c3c92-a253-4306-fb87-5ed0f6ea813e"
      },
      "outputs": [
        {
          "output_type": "execute_result",
          "data": {
            "text/plain": [
              "'con el dato de marzo el ipc interanual encadenar su decimoquinto tasa positivo consecutivo el inflación publicado por el ine él haber mantener igual respecto al avance del de marzo y él situar punto por encima del dato de febrero que ascender al ese punto de diferencia el mayor parte él colocar el grupo de el vivienda punto por el subida de el electricidad y el del transporte punto por el alza de el carburante también impulsar el ipc de marzo el aumento de el precio de el restauración y el servicio de alojamiento y al encarecimiento generalizado de el alimento especialmente del pescado y el marisco de el carne de el legumbr y hortaliza y de el leche el queso y el tener en cuenta el rebaja del impuesto especial sobre el electricidad y el variación sobre otro impuesto el ipc interanual alcanzar en marzo nueve décima más que el tasa general del así él reflejar el ipc a impuesto constante que el ine también publicar en el marco de este inflación subyacente sin alimento no elaborado ni producto energético aumentar en marzo cuatro décima hasta su valor más alto desde septiembre de de este modo el subyacente él situar más de seis punto por debajo de el tasa del ipc el último año el calefacción el alumbrado y el distribución de agua él haber encarecer el aceite y grasas haber elevar su precio uno y el transporte personal ser uno más caro por el mayor coste de el carburante también registrar alza de dos dígito el huevo y el leche uno más caro que hacer uno año y el carne de ovino y el pescado fresco y congelado con repunte del en ambos estar el precio por comunidadescastillala mancho él situar a el cabeza con uno tasa de inflación del seguido de castilla y león aragón el rioja galicia extremaduro cantabria y comunidad valenciano el otro el comunidad donde él registrar el menor subida ser canario madrid balear asturia país vasco y cataluña ipc disparar su tasa mensual al tasa mensual el ipc registrar en marzo uno incremento del respecto a febrero su mayor alza mensual en cualquiera mes desde cuando él cambiar el metodología de este estadística para recoger mejor el evolución del mercado echar el vista más atrás tomar serie anterior el repunte mensual de marzo ser el más elevado desde agosto de el tercer mes de el índice de precio de consumo armonizado ipca situar su tasa interanual en más de dos punto por encima de el de febrero por su parte el indicador adelantado del ipca avanzar uno en tasa mensual'"
            ],
            "application/vnd.google.colaboratory.intrinsic+json": {
              "type": "string"
            }
          },
          "metadata": {},
          "execution_count": 39
        }
      ],
      "source": [
        "df['news_lemma'][3]"
      ]
    },
    {
      "cell_type": "code",
      "execution_count": 40,
      "id": "3664e73f",
      "metadata": {
        "colab": {
          "base_uri": "https://localhost:8080/"
        },
        "id": "3664e73f",
        "outputId": "508f5c8d-6895-47ab-f8fc-0dbce944c602"
      },
      "outputs": [
        {
          "output_type": "stream",
          "name": "stdout",
          "text": [
            "0.8401639344262295\n"
          ]
        }
      ],
      "source": [
        "# Separamos los datos en variables de entrada y etiquetas\n",
        "X = df['news_lemma']\n",
        "y = df['Type']\n",
        "X_train, X_test, y_train, y_test = train_test_split(X, y, test_size=0.2)\n",
        "vectorizer = CountVectorizer()\n",
        "X_train_transformed = vectorizer.fit_transform(X_train)\n",
        "X_test_transformed = vectorizer.transform(X_test)\n",
        "\n",
        "\n",
        "model = MultinomialNB()\n",
        "model.fit(X_train_transformed, y_train)\n",
        "\n",
        "# Medimos el rendimiento del modelo\n",
        "y_pred = model.predict(X_test_transformed)\n",
        "\n",
        "print(metrics.accuracy_score(y_test, y_pred))"
      ]
    },
    {
      "cell_type": "code",
      "execution_count": 41,
      "id": "e11d3135",
      "metadata": {
        "colab": {
          "base_uri": "https://localhost:8080/"
        },
        "id": "e11d3135",
        "outputId": "435180c2-2fe8-49f5-b456-5a0225633188"
      },
      "outputs": [
        {
          "output_type": "execute_result",
          "data": {
            "text/plain": [
              "<973x16606 sparse matrix of type '<class 'numpy.int64'>'\n",
              "\twith 192967 stored elements in Compressed Sparse Row format>"
            ]
          },
          "metadata": {},
          "execution_count": 41
        }
      ],
      "source": [
        "X_train_transformed"
      ]
    },
    {
      "cell_type": "code",
      "source": [
        "from sklearn.ensemble import RandomForestClassifier\n",
        "from sklearn.linear_model import LogisticRegression, SGDClassifier\n",
        "from sklearn.naive_bayes import ComplementNB\n",
        "from sklearn.neighbors import KNeighborsClassifier, NearestCentroid\n",
        "from sklearn.svm import LinearSVC\n",
        "from sklearn.model_selection import cross_val_score  # Import cross_val_score for evaluation\n",
        "import numpy as np # Import numpy for calculations\n",
        "\n",
        "# Define the benchmark function\n",
        "def benchmark(clf, name):\n",
        "    \"\"\"\n",
        "    Benchmarks a given classifier using cross-validation and returns the results.\n",
        "\n",
        "    Args:\n",
        "        clf: The classifier object.\n",
        "        name: The name of the classifier.\n",
        "\n",
        "    Returns:\n",
        "        A dictionary containing the classifier name and its mean accuracy score.\n",
        "    \"\"\"\n",
        "    scores = cross_val_score(clf, X_train_transformed, y_train, cv=5)  # 5-fold cross-validation\n",
        "    print(\"cross_val_score(train):\", scores)\n",
        "    print(\"mean:\", np.mean(scores))\n",
        "    return {\"classifier\": name, \"accuracy\": np.mean(scores)}\n",
        "\n",
        "results = []\n",
        "for clf, name in (\n",
        "    (LogisticRegression(C=5, max_iter=1000), \"Logistic Regression\"),\n",
        "    (KNeighborsClassifier(n_neighbors=100), \"kNN\"),\n",
        "    (RandomForestClassifier(), \"Random Forest\"),\n",
        "    # L2 penalty Linear SVC\n",
        "    (LinearSVC(C=0.1, dual=False, max_iter=1000), \"Linear SVC\"),\n",
        "    # L2 penalty Linear SGD\n",
        "    (\n",
        "        SGDClassifier(\n",
        "            loss=\"log_loss\", alpha=1e-4, n_iter_no_change=3, early_stopping=True\n",
        "        ),\n",
        "        \"log-loss SGD\",\n",
        "    ),\n",
        "    # NearestCentroid (aka Rocchio classifier)\n",
        "    (NearestCentroid(), \"NearestCentroid\"),\n",
        "    # Sparse naive Bayes classifier\n",
        "    (ComplementNB(alpha=0.1), \"Complement naive Bayes\"),\n",
        "):\n",
        "    print(\"=\" * 80)\n",
        "    print(name)\n",
        "    results.append(benchmark(clf, name))"
      ],
      "metadata": {
        "colab": {
          "base_uri": "https://localhost:8080/"
        },
        "id": "7A9ElfmZoMPO",
        "outputId": "a41ef428-3fa8-4872-e0f4-04c08d4209be"
      },
      "id": "7A9ElfmZoMPO",
      "execution_count": 45,
      "outputs": [
        {
          "output_type": "stream",
          "name": "stdout",
          "text": [
            "================================================================================\n",
            "Logistic Regression\n",
            "cross_val_score(train): [0.81538462 0.8        0.76410256 0.79896907 0.86082474]\n",
            "mean: 0.8078561987840338\n",
            "================================================================================\n",
            "kNN\n",
            "cross_val_score(train): [0.47692308 0.44102564 0.42564103 0.45360825 0.40721649]\n",
            "mean: 0.440882897171557\n",
            "================================================================================\n",
            "Random Forest\n",
            "cross_val_score(train): [0.73846154 0.79487179 0.77435897 0.77835052 0.83505155]\n",
            "mean: 0.7842188739095955\n",
            "================================================================================\n",
            "Linear SVC\n",
            "cross_val_score(train): [0.85128205 0.82564103 0.80512821 0.82474227 0.89175258]\n",
            "mean: 0.8397092254824214\n",
            "================================================================================\n",
            "log-loss SGD\n",
            "cross_val_score(train): [0.59487179 0.62564103 0.44102564 0.67010309 0.51546392]\n",
            "mean: 0.569421094369548\n",
            "================================================================================\n",
            "NearestCentroid\n",
            "cross_val_score(train): [0.34871795 0.36410256 0.32820513 0.39690722 0.30412371]\n",
            "mean: 0.34841131377213846\n",
            "================================================================================\n",
            "Complement naive Bayes\n",
            "cross_val_score(train): [0.82051282 0.77435897 0.71794872 0.79381443 0.75773196]\n",
            "mean: 0.772873380914618\n"
          ]
        }
      ]
    },
    {
      "cell_type": "markdown",
      "source": [
        "https://scikit-learn.org/stable/auto_examples/text/plot_document_classification_20newsgroups.html\n"
      ],
      "metadata": {
        "id": "qZVydNwAnYLW"
      },
      "id": "qZVydNwAnYLW"
    },
    {
      "cell_type": "code",
      "source": [
        "from sklearn.ensemble import RandomForestClassifier\n",
        "from sklearn.linear_model import LogisticRegression, SGDClassifier\n",
        "from sklearn.naive_bayes import ComplementNB\n",
        "from sklearn.neighbors import KNeighborsClassifier, NearestCentroid\n",
        "from sklearn.svm import LinearSVC\n",
        "\n",
        "results = []\n",
        "for clf, name in (\n",
        "    (LogisticRegression(C=5, max_iter=1000), \"Logistic Regression\"),\n",
        "    (KNeighborsClassifier(n_neighbors=100), \"kNN\"),\n",
        "    (RandomForestClassifier(), \"Random Forest\"),\n",
        "    # L2 penalty Linear SVC\n",
        "    (LinearSVC(C=0.1, dual=False, max_iter=1000), \"Linear SVC\"),\n",
        "    # L2 penalty Linear SGD\n",
        "    (\n",
        "        SGDClassifier(\n",
        "            loss=\"log_loss\", alpha=1e-4, n_iter_no_change=3, early_stopping=True\n",
        "        ),\n",
        "        \"log-loss SGD\",\n",
        "    ),\n",
        "    # NearestCentroid (aka Rocchio classifier)\n",
        "    (NearestCentroid(), \"NearestCentroid\"),\n",
        "    # Sparse naive Bayes classifier\n",
        "    (ComplementNB(alpha=0.1), \"Complement naive Bayes\"),\n",
        "):\n",
        "    print(\"=\" * 80)\n",
        "    print(name)\n",
        "    results.append(benchmark(clf, name))\n"
      ],
      "metadata": {
        "colab": {
          "base_uri": "https://localhost:8080/"
        },
        "id": "PKLBomXho_0V",
        "outputId": "83f1c0e3-3ea9-4559-be84-3d3e225f039c"
      },
      "id": "PKLBomXho_0V",
      "execution_count": 48,
      "outputs": [
        {
          "output_type": "stream",
          "name": "stdout",
          "text": [
            "================================================================================\n",
            "Logistic Regression\n",
            "cross_val_score(train): [0.81538462 0.8        0.76410256 0.79896907 0.86082474]\n",
            "mean: 0.8078561987840338\n",
            "================================================================================\n",
            "kNN\n",
            "cross_val_score(train): [0.47692308 0.44102564 0.42564103 0.45360825 0.40721649]\n",
            "mean: 0.440882897171557\n",
            "================================================================================\n",
            "Random Forest\n",
            "cross_val_score(train): [0.74358974 0.74871795 0.72307692 0.78350515 0.80927835]\n",
            "mean: 0.7616336241078508\n",
            "================================================================================\n",
            "Linear SVC\n",
            "cross_val_score(train): [0.85128205 0.82564103 0.80512821 0.82474227 0.89175258]\n",
            "mean: 0.8397092254824214\n",
            "================================================================================\n",
            "log-loss SGD\n",
            "cross_val_score(train): [0.76410256 0.64102564 0.68205128 0.81443299 0.22164948]\n",
            "mean: 0.6246523922812581\n",
            "================================================================================\n",
            "NearestCentroid\n",
            "cross_val_score(train): [0.34871795 0.36410256 0.32820513 0.39690722 0.30412371]\n",
            "mean: 0.34841131377213846\n",
            "================================================================================\n",
            "Complement naive Bayes\n",
            "cross_val_score(train): [0.82051282 0.77435897 0.71794872 0.79381443 0.75773196]\n",
            "mean: 0.772873380914618\n"
          ]
        }
      ]
    },
    {
      "cell_type": "code",
      "source": [
        "import matplotlib.pyplot as plt\n",
        "import numpy as np\n",
        "\n",
        "# Assuming 'results' is a list of dictionaries like this:\n",
        "# results = [{'classifier': 'Logistic Regression', 'accuracy': 0.85}, ...]\n",
        "\n",
        "# Extract the classifier names and accuracy scores\n",
        "clf_names = [result['classifier'] for result in results]\n",
        "score = [result['accuracy'] for result in results]\n",
        "\n",
        "# Placeholder for training and test times (you'll need to populate these)\n",
        "training_time = np.random.rand(len(results))  # Replace with actual training times\n",
        "test_time = np.random.rand(len(results))  # Replace with actual test times\n",
        "\n",
        "# Create the plots\n",
        "fig, ax1 = plt.subplots(figsize=(10, 8))\n",
        "ax1.scatter(score, training_time, s=60)\n",
        "ax1.set(\n",
        "    title=\"Score-training time trade-off\",\n",
        "    yscale=\"log\",\n",
        "    xlabel=\"test accuracy\",\n",
        "    ylabel=\"training time (s)\",\n",
        ")\n",
        "\n",
        "fig, ax2 = plt.subplots(figsize=(10, 8))\n",
        "ax2.scatter(score, test_time, s=60)\n",
        "ax2.set(\n",
        "    title=\"Score-test time trade-off\",\n",
        "    yscale=\"log\",\n",
        "    xlabel=\"test accuracy\",\n",
        "    ylabel=\"test time (s)\",\n",
        ")\n",
        "\n",
        "# Annotate the points with classifier names\n",
        "for i, txt in enumerate(clf_names):\n",
        "    ax1.annotate(txt, (score[i], training_time[i]))\n",
        "    ax2.annotate(txt, (score[i], test_time[i]))\n",
        "\n",
        "plt.show()  # Display the plots"
      ],
      "metadata": {
        "colab": {
          "base_uri": "https://localhost:8080/",
          "height": 1000
        },
        "id": "YX4F1LRaq2j7",
        "outputId": "4a40a42f-b927-4984-e0e5-6b7c17a74fdb"
      },
      "id": "YX4F1LRaq2j7",
      "execution_count": 50,
      "outputs": [
        {
          "output_type": "display_data",
          "data": {
            "text/plain": [
              "<Figure size 1000x800 with 1 Axes>"
            ],
            "image/png": "[encoded data removed]"
          },
          "metadata": {}
        },
        {
          "output_type": "display_data",
          "data": {
            "text/plain": [
              "<Figure size 1000x800 with 1 Axes>"
            ],
            "image/png": "[encoded data removed]"
          },
          "metadata": {}
        }
      ]
    }
  ],
  "metadata": {
    "kernelspec": {
      "display_name": "Python 3 (ipykernel)",
      "language": "python",
      "name": "python3"
    },
    "language_info": {
      "codemirror_mode": {
        "name": "ipython",
        "version": 3
      },
      "file_extension": ".py",
      "mimetype": "text/x-python",
      "name": "python",
      "nbconvert_exporter": "python",
      "pygments_lexer": "ipython3",
      "version": "3.11.4"
    },
    "colab": {
      "provenance": [],
      "include_colab_link": true
    }
  },
  "nbformat": 4,
  "nbformat_minor": 5
}