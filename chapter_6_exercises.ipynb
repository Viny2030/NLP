{
  "cells": [
    {
      "cell_type": "markdown",
      "metadata": {
        "id": "view-in-github",
        "colab_type": "text"
      },
      "source": [
        "<a href=\"https://colab.research.google.com/github/Viny2030/NLP/blob/main/chapter_6_exercises.ipynb\" target=\"_parent\"><img src=\"https://colab.research.google.com/assets/colab-badge.svg\" alt=\"Open In Colab\"/></a>"
      ]
    },
    {
      "cell_type": "markdown",
      "metadata": {
        "deletable": true,
        "editable": true,
        "id": "HbO8x-h641Qt"
      },
      "source": [
        "__Exercise 1__"
      ]
    },
    {
      "cell_type": "markdown",
      "source": [
        " http://www.aclweb.org/anthology/R11-1077\n",
        ""
      ],
      "metadata": {
        "id": "kRXSB7Y6m0gW"
      }
    },
    {
      "cell_type": "markdown",
      "source": [
        "https://nlp.stanford.edu/courses/cs224n/2010/reports/bipins.pdf\n"
      ],
      "metadata": {
        "id": "67PUb50km8H9"
      }
    },
    {
      "cell_type": "code",
      "execution_count": null,
      "metadata": {
        "collapsed": true,
        "deletable": true,
        "editable": true,
        "scrolled": true,
        "id": "bHO029XA41Qv"
      },
      "outputs": [],
      "source": [
        "# MACHINE TRANSLATION:\n",
        "# see e.g. http://www.aclweb.org/anthology/R11-1077, https://nlp.stanford.edu/courses/cs224n/2010/reports/bipins.pdf\n",
        "# data: parallel corpora, aligned at sentence level (automatically or manually)\n",
        "# size: usually assumed the larger the better, 2nd paper: 100,00 documents\n",
        "# reasons for large amount: probability that a word or combination of words has been seen during training increases"
      ]
    },
    {
      "cell_type": "markdown",
      "metadata": {
        "deletable": true,
        "editable": true,
        "id": "e3Zu-s_s41Qw"
      },
      "source": [
        "__Exercise 2__"
      ]
    },
    {
      "cell_type": "code",
      "source": [
        "import nltk\n",
        "nltk.download('names')"
      ],
      "metadata": {
        "colab": {
          "base_uri": "https://localhost:8080/"
        },
        "id": "8dRPGyXW5BhT",
        "outputId": "868120d6-237b-46ef-b751-1ba3720229e3"
      },
      "execution_count": 1,
      "outputs": [
        {
          "output_type": "stream",
          "name": "stderr",
          "text": [
            "[nltk_data] Downloading package names to /root/nltk_data...\n",
            "[nltk_data]   Unzipping corpora/names.zip.\n"
          ]
        },
        {
          "output_type": "execute_result",
          "data": {
            "text/plain": [
              "True"
            ]
          },
          "metadata": {},
          "execution_count": 1
        }
      ]
    },
    {
      "cell_type": "code",
      "execution_count": 2,
      "metadata": {
        "deletable": true,
        "editable": true,
        "id": "iRCUg8Sm41Qw",
        "outputId": "14deb92d-5a58-46f9-e653-f7f24b98f722",
        "colab": {
          "base_uri": "https://localhost:8080/"
        }
      },
      "outputs": [
        {
          "output_type": "stream",
          "name": "stdout",
          "text": [
            "0.828\n"
          ]
        }
      ],
      "source": [
        "import nltk\n",
        "from nltk.corpus import names\n",
        "import random\n",
        "names = ([(name, 'male') for name in names.words('male.txt')] + [(name, 'female') for name in names.words('female.txt')])\n",
        "random.shuffle(names)\n",
        "test, devtest, training = names[:500], names[500:1000], names[1000:]\n",
        "\n",
        "def gender_features1(name):\n",
        "    features = {}\n",
        "    features[\"firstletter\"] = name[0].lower()\n",
        "    features[\"lastletter\"] = name[-1].lower()\n",
        "    for letter in 'abcdefghijklmnopqrstuvwxyz':\n",
        "        features[\"count(%s)\" % letter] = name.lower().count(letter)\n",
        "        features[\"has(%s)\" % letter] = (letter in name.lower())\n",
        "    features[\"suffix2\"] = name[-2:].lower()\n",
        "    return features\n",
        "\n",
        "train_set = [(gender_features1(n), g) for (n,g) in training]\n",
        "devtest_set = [(gender_features1(n), g) for (n,g) in devtest]\n",
        "classifier = nltk.NaiveBayesClassifier.train(train_set)\n",
        "print(nltk.classify.accuracy(classifier, devtest_set))"
      ]
    },
    {
      "cell_type": "code",
      "source": [
        "def error_analysis(gender_features):\n",
        "    errors = []\n",
        "    for (name, tag) in devtest:\n",
        "        guess = classifier.classify(gender_features(name))\n",
        "        if guess != tag:\n",
        "            errors.append((tag, guess, name))\n",
        "    print('no. of errors: ', len(errors))\n",
        "\n",
        "    for (tag, guess, name) in sorted(errors):  # doctest: +ELLIPSIS +NORMALIZE_WHITESPACE\n",
        "        print('correct=%-8s guess=%-8s name=%-30s' % (tag, guess, name))\n",
        "\n",
        "# Indent the following line one level more\n",
        "    print('no. of errors: ', len(errors))"
      ],
      "metadata": {
        "id": "SRGqvwOO5O3M"
      },
      "execution_count": 3,
      "outputs": []
    },
    {
      "cell_type": "code",
      "execution_count": 4,
      "metadata": {
        "deletable": true,
        "editable": true,
        "id": "H_K0RMR341Qy",
        "outputId": "9c0fae2f-1920-4cbd-9c20-72e9b56ee8fd",
        "colab": {
          "base_uri": "https://localhost:8080/"
        }
      },
      "outputs": [
        {
          "output_type": "stream",
          "name": "stdout",
          "text": [
            "0.838\n"
          ]
        }
      ],
      "source": [
        "def gender_features2(name):\n",
        "    features = {}\n",
        "    features[\"firstletter\"] = name[0].lower()\n",
        "    features[\"lastletter\"] = name[-1].lower()\n",
        "    for letter in 'abcdefghijklmnopqrstuvwxyz':\n",
        "        features[\"count(%s)\" % letter] = name.lower().count(letter)\n",
        "        features[\"has(%s)\" % letter] = (letter in name.lower())\n",
        "    features[\"suffix2\"] = name[-2:].lower()\n",
        "    features[\"suffix3\"] = name[-3:].lower()\n",
        "    return features\n",
        "\n",
        "train_set = [(gender_features2(n), g) for (n,g) in training]\n",
        "devtest_set = [(gender_features2(n), g) for (n,g) in devtest]\n",
        "classifier = nltk.NaiveBayesClassifier.train(train_set)\n",
        "print(nltk.classify.accuracy(classifier, devtest_set))"
      ]
    },
    {
      "cell_type": "code",
      "execution_count": 5,
      "metadata": {
        "deletable": true,
        "editable": true,
        "id": "MHqe1FgF41Qy",
        "outputId": "26103161-f1dd-4f08-8cf3-438c8a9cd909",
        "colab": {
          "base_uri": "https://localhost:8080/"
        }
      },
      "outputs": [
        {
          "output_type": "stream",
          "name": "stdout",
          "text": [
            "no. of errors:  81\n",
            "correct=female   guess=male     name=Angil                         \n",
            "correct=female   guess=male     name=Arden                         \n",
            "correct=female   guess=male     name=Beau                          \n",
            "correct=female   guess=male     name=Bren                          \n",
            "correct=female   guess=male     name=Charlott                      \n",
            "correct=female   guess=male     name=Charo                         \n",
            "correct=female   guess=male     name=Cherish                       \n",
            "correct=female   guess=male     name=Cherry                        \n",
            "correct=female   guess=male     name=Clio                          \n",
            "correct=female   guess=male     name=Clo                           \n",
            "correct=female   guess=male     name=Cortney                       \n",
            "correct=female   guess=male     name=Dorcas                        \n",
            "correct=female   guess=male     name=Eden                          \n",
            "correct=female   guess=male     name=Eran                          \n",
            "correct=female   guess=male     name=Esther                        \n",
            "correct=female   guess=male     name=Evy                           \n",
            "correct=female   guess=male     name=Florance                      \n",
            "correct=female   guess=male     name=Gertrud                       \n",
            "correct=female   guess=male     name=Haley                         \n",
            "correct=female   guess=male     name=Harmony                       \n",
            "correct=female   guess=male     name=Hester                        \n",
            "correct=female   guess=male     name=Hope                          \n",
            "correct=female   guess=male     name=Joyous                        \n",
            "correct=female   guess=male     name=Kipp                          \n",
            "correct=female   guess=male     name=Kirby                         \n",
            "correct=female   guess=male     name=Maegan                        \n",
            "correct=female   guess=male     name=Meg                           \n",
            "correct=female   guess=male     name=Megan                         \n",
            "correct=female   guess=male     name=Myriam                        \n",
            "correct=female   guess=male     name=Nitin                         \n",
            "correct=female   guess=male     name=Philis                        \n",
            "correct=female   guess=male     name=Pooh                          \n",
            "correct=female   guess=male     name=Shannon                       \n",
            "correct=female   guess=male     name=Stace                         \n",
            "correct=female   guess=male     name=Star                          \n",
            "correct=female   guess=male     name=Tamar                         \n",
            "correct=female   guess=male     name=Tiffie                        \n",
            "correct=female   guess=male     name=Tomiko                        \n",
            "correct=female   guess=male     name=Tony                          \n",
            "correct=female   guess=male     name=Trixy                         \n",
            "correct=female   guess=male     name=Wenonah                       \n",
            "correct=female   guess=male     name=Winonah                       \n",
            "correct=male     guess=female   name=Abby                          \n",
            "correct=male     guess=female   name=Abdullah                      \n",
            "correct=male     guess=female   name=Alan                          \n",
            "correct=male     guess=female   name=Aldis                         \n",
            "correct=male     guess=female   name=Angie                         \n",
            "correct=male     guess=female   name=Ansell                        \n",
            "correct=male     guess=female   name=Antoni                        \n",
            "correct=male     guess=female   name=Arie                          \n",
            "correct=male     guess=female   name=Bela                          \n",
            "correct=male     guess=female   name=Charlie                       \n",
            "correct=male     guess=female   name=Clayborne                     \n",
            "correct=male     guess=female   name=Clemmie                       \n",
            "correct=male     guess=female   name=Clyde                         \n",
            "correct=male     guess=female   name=Connolly                      \n",
            "correct=male     guess=female   name=Curtice                       \n",
            "correct=male     guess=female   name=Dabney                        \n",
            "correct=male     guess=female   name=Dana                          \n",
            "correct=male     guess=female   name=Davidde                       \n",
            "correct=male     guess=female   name=Del                           \n",
            "correct=male     guess=female   name=Emil                          \n",
            "correct=male     guess=female   name=Emmy                          \n",
            "correct=male     guess=female   name=Ezechiel                      \n",
            "correct=male     guess=female   name=Finley                        \n",
            "correct=male     guess=female   name=Hasty                         \n",
            "correct=male     guess=female   name=Hillary                       \n",
            "correct=male     guess=female   name=Izzy                          \n",
            "correct=male     guess=female   name=Kingsly                       \n",
            "correct=male     guess=female   name=Lennie                        \n",
            "correct=male     guess=female   name=Lynn                          \n",
            "correct=male     guess=female   name=Nat                           \n",
            "correct=male     guess=female   name=Reggie                        \n",
            "correct=male     guess=female   name=Sansone                       \n",
            "correct=male     guess=female   name=Sean                          \n",
            "correct=male     guess=female   name=Sebastian                     \n",
            "correct=male     guess=female   name=Shayne                        \n",
            "correct=male     guess=female   name=Tracie                        \n",
            "correct=male     guess=female   name=Vaclav                        \n",
            "correct=male     guess=female   name=Yance                         \n",
            "correct=male     guess=female   name=Zane                          \n",
            "no. of errors:  81\n"
          ]
        }
      ],
      "source": [
        "error_analysis(gender_features2)"
      ]
    },
    {
      "cell_type": "code",
      "execution_count": 6,
      "metadata": {
        "deletable": true,
        "editable": true,
        "id": "ZQxyL-ab41Qz",
        "outputId": "0b020504-a4ed-4d61-a677-26e936aceb2a",
        "colab": {
          "base_uri": "https://localhost:8080/"
        }
      },
      "outputs": [
        {
          "output_type": "stream",
          "name": "stdout",
          "text": [
            "0.85\n"
          ]
        }
      ],
      "source": [
        "def gender_features3(name):\n",
        "    features = {}\n",
        "    features[\"firstletter\"] = name[0].lower()\n",
        "    features[\"lastletter\"] = name[-1].lower()\n",
        "    for letter in 'abcdefghijklmnopqrstuvwxyz':\n",
        "        features[\"count(%s)\" % letter] = name.lower().count(letter)\n",
        "        features[\"has(%s)\" % letter] = (letter in name.lower())\n",
        "    features[\"suffix2\"] = name[-2:].lower()\n",
        "    features[\"suffix3\"] = name[-3:].lower()\n",
        "    features[\"prefix3\"] = name[:3].lower()\n",
        "    return features\n",
        "\n",
        "train_set = [(gender_features3(n), g) for (n,g) in training]\n",
        "devtest_set = [(gender_features3(n), g) for (n,g) in devtest]\n",
        "classifier = nltk.NaiveBayesClassifier.train(train_set)\n",
        "print(nltk.classify.accuracy(classifier, devtest_set))"
      ]
    },
    {
      "cell_type": "code",
      "execution_count": 7,
      "metadata": {
        "deletable": true,
        "editable": true,
        "id": "-cJ1HB_C41Qz",
        "outputId": "5a6b17b3-6656-4341-e925-6d99fe477977",
        "colab": {
          "base_uri": "https://localhost:8080/"
        }
      },
      "outputs": [
        {
          "output_type": "stream",
          "name": "stdout",
          "text": [
            "no. of errors:  75\n",
            "correct=female   guess=male     name=Arden                         \n",
            "correct=female   guess=male     name=Beau                          \n",
            "correct=female   guess=male     name=Bren                          \n",
            "correct=female   guess=male     name=Charlott                      \n",
            "correct=female   guess=male     name=Charo                         \n",
            "correct=female   guess=male     name=Cherish                       \n",
            "correct=female   guess=male     name=Cherry                        \n",
            "correct=female   guess=male     name=Clio                          \n",
            "correct=female   guess=male     name=Clo                           \n",
            "correct=female   guess=male     name=Dorcas                        \n",
            "correct=female   guess=male     name=Eden                          \n",
            "correct=female   guess=male     name=Eran                          \n",
            "correct=female   guess=male     name=Esther                        \n",
            "correct=female   guess=male     name=Evy                           \n",
            "correct=female   guess=male     name=Gertrud                       \n",
            "correct=female   guess=male     name=Grayce                        \n",
            "correct=female   guess=male     name=Haley                         \n",
            "correct=female   guess=male     name=Harmony                       \n",
            "correct=female   guess=male     name=Hester                        \n",
            "correct=female   guess=male     name=Hope                          \n",
            "correct=female   guess=male     name=Joyous                        \n",
            "correct=female   guess=male     name=Kipp                          \n",
            "correct=female   guess=male     name=Kirby                         \n",
            "correct=female   guess=male     name=Meg                           \n",
            "correct=female   guess=male     name=Myriam                        \n",
            "correct=female   guess=male     name=Norean                        \n",
            "correct=female   guess=male     name=Parwane                       \n",
            "correct=female   guess=male     name=Philis                        \n",
            "correct=female   guess=male     name=Pooh                          \n",
            "correct=female   guess=male     name=Shannon                       \n",
            "correct=female   guess=male     name=Stace                         \n",
            "correct=female   guess=male     name=Star                          \n",
            "correct=female   guess=male     name=Tamar                         \n",
            "correct=female   guess=male     name=Tomiko                        \n",
            "correct=female   guess=male     name=Tony                          \n",
            "correct=female   guess=male     name=Wenonah                       \n",
            "correct=female   guess=male     name=Willie                        \n",
            "correct=female   guess=male     name=Winonah                       \n",
            "correct=male     guess=female   name=Abby                          \n",
            "correct=male     guess=female   name=Alan                          \n",
            "correct=male     guess=female   name=Aldis                         \n",
            "correct=male     guess=female   name=Amery                         \n",
            "correct=male     guess=female   name=Angie                         \n",
            "correct=male     guess=female   name=Antoni                        \n",
            "correct=male     guess=female   name=Arie                          \n",
            "correct=male     guess=female   name=Bela                          \n",
            "correct=male     guess=female   name=Charlie                       \n",
            "correct=male     guess=female   name=Clayborne                     \n",
            "correct=male     guess=female   name=Clemmie                       \n",
            "correct=male     guess=female   name=Clyde                         \n",
            "correct=male     guess=female   name=Connolly                      \n",
            "correct=male     guess=female   name=Dabney                        \n",
            "correct=male     guess=female   name=Dana                          \n",
            "correct=male     guess=female   name=Davidde                       \n",
            "correct=male     guess=female   name=Del                           \n",
            "correct=male     guess=female   name=Emil                          \n",
            "correct=male     guess=female   name=Emmy                          \n",
            "correct=male     guess=female   name=Finley                        \n",
            "correct=male     guess=female   name=Hillary                       \n",
            "correct=male     guess=female   name=Izzy                          \n",
            "correct=male     guess=female   name=Kingsly                       \n",
            "correct=male     guess=female   name=Lennie                        \n",
            "correct=male     guess=female   name=Liam                          \n",
            "correct=male     guess=female   name=Lynn                          \n",
            "correct=male     guess=female   name=Marten                        \n",
            "correct=male     guess=female   name=Nat                           \n",
            "correct=male     guess=female   name=Reggie                        \n",
            "correct=male     guess=female   name=Sansone                       \n",
            "correct=male     guess=female   name=Sean                          \n",
            "correct=male     guess=female   name=Shayne                        \n",
            "correct=male     guess=female   name=Sunny                         \n",
            "correct=male     guess=female   name=Tracie                        \n",
            "correct=male     guess=female   name=Tristan                       \n",
            "correct=male     guess=female   name=Vaclav                        \n",
            "correct=male     guess=female   name=Zane                          \n",
            "no. of errors:  75\n"
          ]
        }
      ],
      "source": [
        "error_analysis(gender_features3)"
      ]
    },
    {
      "cell_type": "code",
      "execution_count": 8,
      "metadata": {
        "deletable": true,
        "editable": true,
        "id": "96CvkPb641Qz",
        "outputId": "918901f2-83b9-40bd-c182-8005bf53cbd1",
        "colab": {
          "base_uri": "https://localhost:8080/"
        }
      },
      "outputs": [
        {
          "output_type": "stream",
          "name": "stdout",
          "text": [
            "0.856\n"
          ]
        }
      ],
      "source": [
        "def gender_features4(name):\n",
        "    features = {}\n",
        "    features[\"firstletter\"] = name[0].lower()\n",
        "    features[\"lastletter\"] = name[-1].lower()\n",
        "    for letter in 'abcdefghijklmnopqrstuvwxyz':\n",
        "        features[\"count(%s)\" % letter] = name.lower().count(letter)\n",
        "        features[\"has(%s)\" % letter] = (letter in name.lower())\n",
        "    features[\"suffix2\"] = name[-2:].lower()\n",
        "    features[\"suffix3\"] = name[-3:].lower()\n",
        "    features[\"prefix3\"] = name[:3].lower()\n",
        "    features[\"num_vowels\"] = len([letter for letter in name if letter in 'aeiouy'])\n",
        "    return features\n",
        "\n",
        "train_set = [(gender_features4(n), g) for (n,g) in training]\n",
        "devtest_set = [(gender_features4(n), g) for (n,g) in devtest]\n",
        "classifier = nltk.NaiveBayesClassifier.train(train_set)\n",
        "print(nltk.classify.accuracy(classifier, devtest_set))"
      ]
    },
    {
      "cell_type": "code",
      "execution_count": 9,
      "metadata": {
        "deletable": true,
        "editable": true,
        "id": "8jwqMr6X41Qz",
        "outputId": "f8019e25-8fb8-47f5-bf8f-dcefcc5a48ff",
        "colab": {
          "base_uri": "https://localhost:8080/"
        }
      },
      "outputs": [
        {
          "output_type": "stream",
          "name": "stdout",
          "text": [
            "0.836\n"
          ]
        }
      ],
      "source": [
        "# final performance test:\n",
        "test_set = [(gender_features4(n), g) for (n,g) in test]\n",
        "print(nltk.classify.accuracy(classifier, test_set))"
      ]
    },
    {
      "cell_type": "code",
      "execution_count": 10,
      "metadata": {
        "collapsed": true,
        "deletable": true,
        "editable": true,
        "id": "iX0uKZVZ41Q0"
      },
      "outputs": [],
      "source": [
        "# performance slightly worse than in dev-test -> features reflect some idiosyncracies of dev-test"
      ]
    },
    {
      "cell_type": "markdown",
      "metadata": {
        "deletable": true,
        "editable": true,
        "id": "9E_Gbc5341Q0"
      },
      "source": [
        "__Exercise 3)__"
      ]
    },
    {
      "cell_type": "code",
      "source": [
        "import nltk\n",
        "nltk.download('senseval')"
      ],
      "metadata": {
        "colab": {
          "base_uri": "https://localhost:8080/"
        },
        "id": "rru7ijiz5g5-",
        "outputId": "1f720cc3-0b91-467e-dc8d-0cbdd5618c54"
      },
      "execution_count": 11,
      "outputs": [
        {
          "output_type": "stream",
          "name": "stderr",
          "text": [
            "[nltk_data] Downloading package senseval to /root/nltk_data...\n",
            "[nltk_data]   Unzipping corpora/senseval.zip.\n"
          ]
        },
        {
          "output_type": "execute_result",
          "data": {
            "text/plain": [
              "True"
            ]
          },
          "metadata": {},
          "execution_count": 11
        }
      ]
    },
    {
      "cell_type": "code",
      "execution_count": 12,
      "metadata": {
        "collapsed": true,
        "deletable": true,
        "editable": true,
        "id": "JE0GmM7M41Q0"
      },
      "outputs": [],
      "source": [
        "from nltk.corpus import senseval\n",
        "instances = senseval.instances('serve.pos')\n",
        "size = int(len(instances) * 0.1)\n",
        "training, test = instances[size:], instances[:size]"
      ]
    },
    {
      "cell_type": "code",
      "execution_count": 13,
      "metadata": {
        "deletable": true,
        "editable": true,
        "id": "gLVZEGFc41Q0",
        "outputId": "d248ba11-82da-438b-82db-6fc3926485b2",
        "colab": {
          "base_uri": "https://localhost:8080/"
        }
      },
      "outputs": [
        {
          "output_type": "execute_result",
          "data": {
            "text/plain": [
              "SensevalInstance(word='serve-v', position=11, context=[('oh', 'UH'), (',', ','), ('that', 'DT'), (\"'s\", 'VBZ'), ('no', 'DT'), ('good', 'NN'), ('.', '.'), ('that', 'DT'), (\"'s\", 'VBZ'), ('where', 'WRB'), ('they', 'PRP'), ('serve', 'VB'), ('cardboard', 'NN'), ('instead', 'RB'), ('of', 'IN'), ('meat', 'NN'), ('.', '.')], senses=('SERVE10',))"
            ]
          },
          "metadata": {},
          "execution_count": 13
        }
      ],
      "source": [
        "training[0]"
      ]
    },
    {
      "cell_type": "code",
      "execution_count": 14,
      "metadata": {
        "deletable": true,
        "editable": true,
        "id": "knYsyTEz41Q1",
        "outputId": "31f0407e-8885-4259-a4a5-65a681110b98",
        "colab": {
          "base_uri": "https://localhost:8080/"
        }
      },
      "outputs": [
        {
          "output_type": "stream",
          "name": "stdout",
          "text": [
            "0.8077803203661327\n"
          ]
        }
      ],
      "source": [
        "def sense_features(instance):\n",
        "    features = {}\n",
        "    features[\"word-type\"] = instance.word\n",
        "    features[\"word-tag\"] = instance.context[instance.position][1]\n",
        "    features[\"prev-word\"] = instance.context[instance.position-1][0]\n",
        "    features[\"prev-word-tag\"] = instance.context[instance.position-1][1]\n",
        "    features[\"next-word\"] = instance.context[instance.position+1][0]\n",
        "    features[\"next-word-tag\"] = instance.context[instance.position+1][1]\n",
        "    return features\n",
        "\n",
        "train_set = [(sense_features(instance), instance.senses) for instance in training]\n",
        "test_set = [(sense_features(instance), instance.senses) for instance in test]\n",
        "classifier = nltk.NaiveBayesClassifier.train(train_set)\n",
        "print(nltk.classify.accuracy(classifier, test_set))"
      ]
    },
    {
      "cell_type": "markdown",
      "metadata": {
        "deletable": true,
        "editable": true,
        "id": "NamxhX5R41Q1"
      },
      "source": [
        "__Exercise 4)__"
      ]
    },
    {
      "cell_type": "code",
      "source": [
        "import nltk\n",
        "nltk.download('movie_reviews')"
      ],
      "metadata": {
        "colab": {
          "base_uri": "https://localhost:8080/"
        },
        "id": "Th_T18-b5vLo",
        "outputId": "f24e2451-fd34-46a9-9a75-8aab72e4bbda"
      },
      "execution_count": 15,
      "outputs": [
        {
          "output_type": "stream",
          "name": "stderr",
          "text": [
            "[nltk_data] Downloading package movie_reviews to /root/nltk_data...\n",
            "[nltk_data]   Unzipping corpora/movie_reviews.zip.\n"
          ]
        },
        {
          "output_type": "execute_result",
          "data": {
            "text/plain": [
              "True"
            ]
          },
          "metadata": {},
          "execution_count": 15
        }
      ]
    },
    {
      "cell_type": "code",
      "source": [
        "import nltk\n",
        "from nltk.corpus import movie_reviews\n",
        "\n",
        "# Assuming you want to use movie_reviews corpus to get all words\n",
        "all_words = {}  # Initialize an empty dictionary\n",
        "for word in movie_reviews.words():\n",
        "    all_words[word] = all_words.get(word, 0) + 1\n",
        "\n",
        "# Now you can proceed with extracting the top 2000 words\n",
        "word_features = list(all_words.keys())[:2000]"
      ],
      "metadata": {
        "id": "8EaA62oYovAB"
      },
      "execution_count": 17,
      "outputs": []
    },
    {
      "cell_type": "code",
      "source": [
        "from nltk.corpus import movie_reviews\n",
        "import random\n",
        "import nltk\n",
        "\n",
        "documents = [(list(movie_reviews.words(fileid)), category)\n",
        "             for category in movie_reviews.categories()\n",
        "             for fileid in movie_reviews.fileids(category)]\n",
        "random.shuffle(documents)\n",
        "\n",
        "all_words = nltk.FreqDist(w.lower() for w in movie_reviews.words())\n",
        "# Convert the dict_keys object to a list before slicing\n",
        "word_features = list(all_words.keys())[:2000]\n",
        "def document_features(document):\n",
        "    document_words = set(document)\n",
        "    features = {}\n",
        "    for word in word_features:\n",
        "        features['contains(%s)' % word] = (word in document_words)\n",
        "    return features\n",
        "\n",
        "featuresets = [(document_features(d), c) for (d, c) in documents]\n",
        "train_set, test_set = featuresets[100:], featuresets[:100]\n",
        "classifier = nltk.NaiveBayesClassifier.train(train_set)\n",
        "print(nltk.classify.accuracy(classifier, test_set))\n",
        "classifier.show_most_informative_features(30)"
      ],
      "metadata": {
        "colab": {
          "base_uri": "https://localhost:8080/"
        },
        "id": "oVWu6FpFo8uV",
        "outputId": "ea47d0d5-223d-453f-b4ce-bfdccebd89b6"
      },
      "execution_count": 19,
      "outputs": [
        {
          "output_type": "stream",
          "name": "stdout",
          "text": [
            "0.81\n",
            "Most Informative Features\n",
            "     contains(atrocious) = True              neg : pos    =     11.0 : 1.0\n",
            "    contains(schumacher) = True              neg : pos    =      7.4 : 1.0\n",
            "          contains(mena) = True              neg : pos    =      7.0 : 1.0\n",
            "        contains(shoddy) = True              neg : pos    =      7.0 : 1.0\n",
            "        contains(suvari) = True              neg : pos    =      7.0 : 1.0\n",
            " contains(unimaginative) = True              neg : pos    =      7.0 : 1.0\n",
            "        contains(turkey) = True              neg : pos    =      6.6 : 1.0\n",
            "       contains(singers) = True              pos : neg    =      6.3 : 1.0\n",
            "        contains(poorly) = True              neg : pos    =      6.0 : 1.0\n",
            "       contains(miscast) = True              neg : pos    =      5.9 : 1.0\n",
            "           contains(ugh) = True              neg : pos    =      5.8 : 1.0\n",
            "        contains(wasted) = True              neg : pos    =      5.7 : 1.0\n",
            "       contains(bronson) = True              neg : pos    =      5.7 : 1.0\n",
            "       contains(unravel) = True              pos : neg    =      5.7 : 1.0\n",
            "         contains(awful) = True              neg : pos    =      5.6 : 1.0\n",
            "         contains(bland) = True              neg : pos    =      5.5 : 1.0\n",
            "      contains(everyday) = True              pos : neg    =      5.4 : 1.0\n",
            "    contains(ridiculous) = True              neg : pos    =      5.3 : 1.0\n",
            "         contains(waste) = True              neg : pos    =      5.0 : 1.0\n",
            "        contains(canyon) = True              neg : pos    =      5.0 : 1.0\n",
            "        contains(justin) = True              neg : pos    =      5.0 : 1.0\n",
            "   contains(marketplace) = True              neg : pos    =      5.0 : 1.0\n",
            "          contains(oops) = True              neg : pos    =      5.0 : 1.0\n",
            "        contains(sorrow) = True              pos : neg    =      5.0 : 1.0\n",
            "  contains(surveillance) = True              neg : pos    =      5.0 : 1.0\n",
            "     contains(underwood) = True              neg : pos    =      5.0 : 1.0\n",
            "        contains(welles) = True              neg : pos    =      5.0 : 1.0\n",
            "         contains(kudos) = True              pos : neg    =      4.7 : 1.0\n",
            "         contains(groan) = True              neg : pos    =      4.6 : 1.0\n",
            "      contains(illusion) = True              neg : pos    =      4.6 : 1.0\n"
          ]
        }
      ]
    },
    {
      "cell_type": "code",
      "execution_count": 20,
      "metadata": {
        "collapsed": true,
        "deletable": true,
        "editable": true,
        "id": "HO-eZNLU41Q2"
      },
      "outputs": [],
      "source": [
        "# most of them already indicate some judgment in themselves ('ugh', 'mediocrity') or belong to typical phrases that\n",
        "# indicate one direction of judgement ('understands' -> '... understands how to create atmosphere' or something like that)\n",
        "# some seem to be names of actors etc. which tend to be judged one direction or the other\n",
        "# surprising -> '33', 'wires'"
      ]
    },
    {
      "cell_type": "markdown",
      "metadata": {
        "deletable": true,
        "editable": true,
        "id": "GfXCmxJH41Q2"
      },
      "source": [
        "__Exercise 5)__"
      ]
    },
    {
      "cell_type": "code",
      "execution_count": null,
      "metadata": {
        "collapsed": true,
        "deletable": true,
        "editable": true,
        "id": "zXKzMxT241Q2"
      },
      "outputs": [],
      "source": []
    }
  ],
  "metadata": {
    "kernelspec": {
      "display_name": "Python 3",
      "name": "python3"
    },
    "language_info": {
      "name": "python"
    },
    "colab": {
      "provenance": [],
      "include_colab_link": true
    }
  },
  "nbformat": 4,
  "nbformat_minor": 0
}