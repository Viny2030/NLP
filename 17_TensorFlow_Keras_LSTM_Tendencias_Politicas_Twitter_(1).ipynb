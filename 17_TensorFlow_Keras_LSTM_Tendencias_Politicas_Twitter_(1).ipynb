{
  "cells": [
    {
      "cell_type": "markdown",
      "metadata": {
        "id": "view-in-github",
        "colab_type": "text"
      },
      "source": [
        "<a href=\"https://colab.research.google.com/github/Viny2030/NLP/blob/main/17_TensorFlow_Keras_LSTM_Tendencias_Politicas_Twitter_(1).ipynb\" target=\"_parent\"><img src=\"https://colab.research.google.com/assets/colab-badge.svg\" alt=\"Open In Colab\"/></a>"
      ]
    },
    {
      "cell_type": "markdown",
      "metadata": {
        "id": "jJQKzDcF8N-Q"
      },
      "source": [
        "# 17 - TensorFlow - Keras: Clasificación de tendencias politicas en tweets con LSTM (Long Short-Term Memory)\n",
        "\n",
        "* En este notebook vamos a clasificar una serie de tweets etiquetados por un partido político (psoe, pp, vox, podemos y ciudadanos) que corresponden a la tendencia politica de la cuenta que publicó ese tweet,\n",
        "\n",
        "\n",
        "* El ejercicio que vamos a realizar a continuación es muy similar al realizado en el notebook *13_PoC_Tendencias_Politicas_Twitter_Generacion_Exportacion_Modelos.ipynb* y *16_TensorFlow_Keras_MLP_Tendencias_Politicas_Twitter.ipynb* y se pueden comparar los resultados que vamos a obtener con este tipo de ***Redes Neuronales Recurrentes, las LSTM***\n",
        "\n",
        "\n",
        "* Los pasos que vamos a dar son los siguientes:\n",
        "\n",
        "    1. Cargar los datos\n",
        "    2. Normalizar los tweets (igual que en el notebooks anteriormente descritos)\n",
        "    3. Particionado de datos (Train y Test)\n",
        "    4. One-Hot Encoding y codificación del target\n",
        "    5. Creacción de las secuencias de palabras\n",
        "    5. Definición de la Red Neuronal\n",
        "    6. Entrenamiento de la Red Neuronal\n",
        "    7. Evaluación del modelo\n",
        "    \n",
        "    \n",
        "<hr>\n",
        "\n",
        "\n",
        "\n",
        "## Carga de Datos\n",
        "\n",
        "\n",
        "* El fichero que contiene los tweets lo podemos leer como un '*csv*' con pandas pasandole como separador '***::::***'.\n",
        "\n",
        "\n",
        "* Este fichero esta estructurado de la siguiente manera\n",
        "    - **Cuenta**: Cuenta de twitter\n",
        "    - **Partido**: Partido político al que pertenece (ciudadanos, podemos, pp, psoe)\n",
        "    - **Timestamp**: Instante en el que se publicó el tweet\n",
        "    - **Tweet**: Tweet.\n",
        "    \n",
        "    \n",
        "* Leemos los datos y filtramos los tweets; quedamos con los tweets a partir de una fecha dada."
      ]
    },
    {
      "cell_type": "code",
      "source": [
        "import pandas as pd\n",
        "import datetime\n",
        "import time\n",
        "import requests\n",
        "import io\n",
        "\n",
        "# Use raw.githubusercontent.com to get the direct download link for the zip file\n",
        "TWEETS_FILE = 'https://raw.githubusercontent.com/Viny2030/datasets/main/tweets_politica%20(1).zip'\n",
        "\n",
        "# Download the zip file content using requests\n",
        "response = requests.get(TWEETS_FILE)\n",
        "response.raise_for_status()  # Raise an exception if the download fails\n",
        "\n",
        "# Read the zip file content into a pandas DataFrame\n",
        "df = pd.read_csv(io.BytesIO(response.content), sep='::::', engine='python', compression='zip')"
      ],
      "metadata": {
        "id": "GSGeJq9i-akD"
      },
      "execution_count": 5,
      "outputs": []
    },
    {
      "cell_type": "code",
      "source": [
        "df"
      ],
      "metadata": {
        "colab": {
          "base_uri": "https://localhost:8080/",
          "height": 423
        },
        "id": "0j_c80bS-hIL",
        "outputId": "d5b97ca1-509f-4867-8354-bbaab68fadd9"
      },
      "execution_count": 6,
      "outputs": [
        {
          "output_type": "execute_result",
          "data": {
            "text/plain": [
              "               cuenta     partido        timestamp  \\\n",
              "0           populares          pp 1,556,863,179.00   \n",
              "1           populares          pp 1,556,856,000.00   \n",
              "2           populares          pp 1,556,818,535.00   \n",
              "3           populares          pp 1,556,812,915.00   \n",
              "4           populares          pp 1,556,803,731.00   \n",
              "...               ...         ...              ...   \n",
              "175337   Borja_AlvaCs  ciudadanos 1,648,709,590.00   \n",
              "175338   Borja_AlvaCs  ciudadanos 1,648,699,838.00   \n",
              "175339  DanielPerezCs  ciudadanos 1,648,698,902.00   \n",
              "175340  DanielPerezCs  ciudadanos 1,648,657,406.00   \n",
              "175341  DanielPerezCs  ciudadanos 1,648,651,787.00   \n",
              "\n",
              "                                                    tweet  \n",
              "0       El Partido Popular siempre con la libertad. Ta...  \n",
              "1       🌞 ¡Buenos días y #FelizViernes!Esta es nuestra...  \n",
              "2       📻 @IdiazAyuso: “Con @populares hemos convertid...  \n",
              "3       📻 @IdiazAyuso es entrevistada en @encasadeherr...  \n",
              "4       👉 Como prometimos, @populares acaba con el enc...  \n",
              "...                                                   ...  \n",
              "175337  El trabajo serio y valiente que está realizand...  \n",
              "175338  Luz de luna, Cita a ciegas, La jungla y mucho ...  \n",
              "175339  @InCicloVeritas @Fundeu Cervantes en este caso...  \n",
              "175340  @InCicloVeritas No es la app; es la @Fundeu. P...  \n",
              "175341  \"España ha cumplido; cumpla usted con España\"....  \n",
              "\n",
              "[175342 rows x 4 columns]"
            ],
            "text/html": [
              "\n",
              "  <div id=\"df-1d8657cf-895a-4438-bfd5-df5da0222098\" class=\"colab-df-container\">\n",
              "    <div>\n",
              "<style scoped>\n",
              "    .dataframe tbody tr th:only-of-type {\n",
              "        vertical-align: middle;\n",
              "    }\n",
              "\n",
              "    .dataframe tbody tr th {\n",
              "        vertical-align: top;\n",
              "    }\n",
              "\n",
              "    .dataframe thead th {\n",
              "        text-align: right;\n",
              "    }\n",
              "</style>\n",
              "<table border=\"1\" class=\"dataframe\">\n",
              "  <thead>\n",
              "    <tr style=\"text-align: right;\">\n",
              "      <th></th>\n",
              "      <th>cuenta</th>\n",
              "      <th>partido</th>\n",
              "      <th>timestamp</th>\n",
              "      <th>tweet</th>\n",
              "    </tr>\n",
              "  </thead>\n",
              "  <tbody>\n",
              "    <tr>\n",
              "      <th>0</th>\n",
              "      <td>populares</td>\n",
              "      <td>pp</td>\n",
              "      <td>1,556,863,179.00</td>\n",
              "      <td>El Partido Popular siempre con la libertad. Ta...</td>\n",
              "    </tr>\n",
              "    <tr>\n",
              "      <th>1</th>\n",
              "      <td>populares</td>\n",
              "      <td>pp</td>\n",
              "      <td>1,556,856,000.00</td>\n",
              "      <td>🌞 ¡Buenos días y #FelizViernes!Esta es nuestra...</td>\n",
              "    </tr>\n",
              "    <tr>\n",
              "      <th>2</th>\n",
              "      <td>populares</td>\n",
              "      <td>pp</td>\n",
              "      <td>1,556,818,535.00</td>\n",
              "      <td>📻 @IdiazAyuso: “Con @populares hemos convertid...</td>\n",
              "    </tr>\n",
              "    <tr>\n",
              "      <th>3</th>\n",
              "      <td>populares</td>\n",
              "      <td>pp</td>\n",
              "      <td>1,556,812,915.00</td>\n",
              "      <td>📻 @IdiazAyuso es entrevistada en @encasadeherr...</td>\n",
              "    </tr>\n",
              "    <tr>\n",
              "      <th>4</th>\n",
              "      <td>populares</td>\n",
              "      <td>pp</td>\n",
              "      <td>1,556,803,731.00</td>\n",
              "      <td>👉 Como prometimos, @populares acaba con el enc...</td>\n",
              "    </tr>\n",
              "    <tr>\n",
              "      <th>...</th>\n",
              "      <td>...</td>\n",
              "      <td>...</td>\n",
              "      <td>...</td>\n",
              "      <td>...</td>\n",
              "    </tr>\n",
              "    <tr>\n",
              "      <th>175337</th>\n",
              "      <td>Borja_AlvaCs</td>\n",
              "      <td>ciudadanos</td>\n",
              "      <td>1,648,709,590.00</td>\n",
              "      <td>El trabajo serio y valiente que está realizand...</td>\n",
              "    </tr>\n",
              "    <tr>\n",
              "      <th>175338</th>\n",
              "      <td>Borja_AlvaCs</td>\n",
              "      <td>ciudadanos</td>\n",
              "      <td>1,648,699,838.00</td>\n",
              "      <td>Luz de luna, Cita a ciegas, La jungla y mucho ...</td>\n",
              "    </tr>\n",
              "    <tr>\n",
              "      <th>175339</th>\n",
              "      <td>DanielPerezCs</td>\n",
              "      <td>ciudadanos</td>\n",
              "      <td>1,648,698,902.00</td>\n",
              "      <td>@InCicloVeritas @Fundeu Cervantes en este caso...</td>\n",
              "    </tr>\n",
              "    <tr>\n",
              "      <th>175340</th>\n",
              "      <td>DanielPerezCs</td>\n",
              "      <td>ciudadanos</td>\n",
              "      <td>1,648,657,406.00</td>\n",
              "      <td>@InCicloVeritas No es la app; es la @Fundeu. P...</td>\n",
              "    </tr>\n",
              "    <tr>\n",
              "      <th>175341</th>\n",
              "      <td>DanielPerezCs</td>\n",
              "      <td>ciudadanos</td>\n",
              "      <td>1,648,651,787.00</td>\n",
              "      <td>\"España ha cumplido; cumpla usted con España\"....</td>\n",
              "    </tr>\n",
              "  </tbody>\n",
              "</table>\n",
              "<p>175342 rows × 4 columns</p>\n",
              "</div>\n",
              "    <div class=\"colab-df-buttons\">\n",
              "\n",
              "  <div class=\"colab-df-container\">\n",
              "    <button class=\"colab-df-convert\" onclick=\"convertToInteractive('df-1d8657cf-895a-4438-bfd5-df5da0222098')\"\n",
              "            title=\"Convert this dataframe to an interactive table.\"\n",
              "            style=\"display:none;\">\n",
              "\n",
              "  <svg xmlns=\"http://www.w3.org/2000/svg\" height=\"24px\" viewBox=\"0 -960 960 960\">\n",
              "    <path d=\"M120-120v-720h720v720H120Zm60-500h600v-160H180v160Zm220 220h160v-160H400v160Zm0 220h160v-160H400v160ZM180-400h160v-160H180v160Zm440 0h160v-160H620v160ZM180-180h160v-160H180v160Zm440 0h160v-160H620v160Z\"/>\n",
              "  </svg>\n",
              "    </button>\n",
              "\n",
              "  <style>\n",
              "    .colab-df-container {\n",
              "      display:flex;\n",
              "      gap: 12px;\n",
              "    }\n",
              "\n",
              "    .colab-df-convert {\n",
              "      background-color: #E8F0FE;\n",
              "      border: none;\n",
              "      border-radius: 50%;\n",
              "      cursor: pointer;\n",
              "      display: none;\n",
              "      fill: #1967D2;\n",
              "      height: 32px;\n",
              "      padding: 0 0 0 0;\n",
              "      width: 32px;\n",
              "    }\n",
              "\n",
              "    .colab-df-convert:hover {\n",
              "      background-color: #E2EBFA;\n",
              "      box-shadow: 0px 1px 2px rgba(60, 64, 67, 0.3), 0px 1px 3px 1px rgba(60, 64, 67, 0.15);\n",
              "      fill: #174EA6;\n",
              "    }\n",
              "\n",
              "    .colab-df-buttons div {\n",
              "      margin-bottom: 4px;\n",
              "    }\n",
              "\n",
              "    [theme=dark] .colab-df-convert {\n",
              "      background-color: #3B4455;\n",
              "      fill: #D2E3FC;\n",
              "    }\n",
              "\n",
              "    [theme=dark] .colab-df-convert:hover {\n",
              "      background-color: #434B5C;\n",
              "      box-shadow: 0px 1px 3px 1px rgba(0, 0, 0, 0.15);\n",
              "      filter: drop-shadow(0px 1px 2px rgba(0, 0, 0, 0.3));\n",
              "      fill: #FFFFFF;\n",
              "    }\n",
              "  </style>\n",
              "\n",
              "    <script>\n",
              "      const buttonEl =\n",
              "        document.querySelector('#df-1d8657cf-895a-4438-bfd5-df5da0222098 button.colab-df-convert');\n",
              "      buttonEl.style.display =\n",
              "        google.colab.kernel.accessAllowed ? 'block' : 'none';\n",
              "\n",
              "      async function convertToInteractive(key) {\n",
              "        const element = document.querySelector('#df-1d8657cf-895a-4438-bfd5-df5da0222098');\n",
              "        const dataTable =\n",
              "          await google.colab.kernel.invokeFunction('convertToInteractive',\n",
              "                                                    [key], {});\n",
              "        if (!dataTable) return;\n",
              "\n",
              "        const docLinkHtml = 'Like what you see? Visit the ' +\n",
              "          '<a target=\"_blank\" href=https://colab.research.google.com/notebooks/data_table.ipynb>data table notebook</a>'\n",
              "          + ' to learn more about interactive tables.';\n",
              "        element.innerHTML = '';\n",
              "        dataTable['output_type'] = 'display_data';\n",
              "        await google.colab.output.renderOutput(dataTable, element);\n",
              "        const docLink = document.createElement('div');\n",
              "        docLink.innerHTML = docLinkHtml;\n",
              "        element.appendChild(docLink);\n",
              "      }\n",
              "    </script>\n",
              "  </div>\n",
              "\n",
              "\n",
              "<div id=\"df-d30e2340-76ea-4678-90aa-0a636d5de761\">\n",
              "  <button class=\"colab-df-quickchart\" onclick=\"quickchart('df-d30e2340-76ea-4678-90aa-0a636d5de761')\"\n",
              "            title=\"Suggest charts\"\n",
              "            style=\"display:none;\">\n",
              "\n",
              "<svg xmlns=\"http://www.w3.org/2000/svg\" height=\"24px\"viewBox=\"0 0 24 24\"\n",
              "     width=\"24px\">\n",
              "    <g>\n",
              "        <path d=\"M19 3H5c-1.1 0-2 .9-2 2v14c0 1.1.9 2 2 2h14c1.1 0 2-.9 2-2V5c0-1.1-.9-2-2-2zM9 17H7v-7h2v7zm4 0h-2V7h2v10zm4 0h-2v-4h2v4z\"/>\n",
              "    </g>\n",
              "</svg>\n",
              "  </button>\n",
              "\n",
              "<style>\n",
              "  .colab-df-quickchart {\n",
              "      --bg-color: #E8F0FE;\n",
              "      --fill-color: #1967D2;\n",
              "      --hover-bg-color: #E2EBFA;\n",
              "      --hover-fill-color: #174EA6;\n",
              "      --disabled-fill-color: #AAA;\n",
              "      --disabled-bg-color: #DDD;\n",
              "  }\n",
              "\n",
              "  [theme=dark] .colab-df-quickchart {\n",
              "      --bg-color: #3B4455;\n",
              "      --fill-color: #D2E3FC;\n",
              "      --hover-bg-color: #434B5C;\n",
              "      --hover-fill-color: #FFFFFF;\n",
              "      --disabled-bg-color: #3B4455;\n",
              "      --disabled-fill-color: #666;\n",
              "  }\n",
              "\n",
              "  .colab-df-quickchart {\n",
              "    background-color: var(--bg-color);\n",
              "    border: none;\n",
              "    border-radius: 50%;\n",
              "    cursor: pointer;\n",
              "    display: none;\n",
              "    fill: var(--fill-color);\n",
              "    height: 32px;\n",
              "    padding: 0;\n",
              "    width: 32px;\n",
              "  }\n",
              "\n",
              "  .colab-df-quickchart:hover {\n",
              "    background-color: var(--hover-bg-color);\n",
              "    box-shadow: 0 1px 2px rgba(60, 64, 67, 0.3), 0 1px 3px 1px rgba(60, 64, 67, 0.15);\n",
              "    fill: var(--button-hover-fill-color);\n",
              "  }\n",
              "\n",
              "  .colab-df-quickchart-complete:disabled,\n",
              "  .colab-df-quickchart-complete:disabled:hover {\n",
              "    background-color: var(--disabled-bg-color);\n",
              "    fill: var(--disabled-fill-color);\n",
              "    box-shadow: none;\n",
              "  }\n",
              "\n",
              "  .colab-df-spinner {\n",
              "    border: 2px solid var(--fill-color);\n",
              "    border-color: transparent;\n",
              "    border-bottom-color: var(--fill-color);\n",
              "    animation:\n",
              "      spin 1s steps(1) infinite;\n",
              "  }\n",
              "\n",
              "  @keyframes spin {\n",
              "    0% {\n",
              "      border-color: transparent;\n",
              "      border-bottom-color: var(--fill-color);\n",
              "      border-left-color: var(--fill-color);\n",
              "    }\n",
              "    20% {\n",
              "      border-color: transparent;\n",
              "      border-left-color: var(--fill-color);\n",
              "      border-top-color: var(--fill-color);\n",
              "    }\n",
              "    30% {\n",
              "      border-color: transparent;\n",
              "      border-left-color: var(--fill-color);\n",
              "      border-top-color: var(--fill-color);\n",
              "      border-right-color: var(--fill-color);\n",
              "    }\n",
              "    40% {\n",
              "      border-color: transparent;\n",
              "      border-right-color: var(--fill-color);\n",
              "      border-top-color: var(--fill-color);\n",
              "    }\n",
              "    60% {\n",
              "      border-color: transparent;\n",
              "      border-right-color: var(--fill-color);\n",
              "    }\n",
              "    80% {\n",
              "      border-color: transparent;\n",
              "      border-right-color: var(--fill-color);\n",
              "      border-bottom-color: var(--fill-color);\n",
              "    }\n",
              "    90% {\n",
              "      border-color: transparent;\n",
              "      border-bottom-color: var(--fill-color);\n",
              "    }\n",
              "  }\n",
              "</style>\n",
              "\n",
              "  <script>\n",
              "    async function quickchart(key) {\n",
              "      const quickchartButtonEl =\n",
              "        document.querySelector('#' + key + ' button');\n",
              "      quickchartButtonEl.disabled = true;  // To prevent multiple clicks.\n",
              "      quickchartButtonEl.classList.add('colab-df-spinner');\n",
              "      try {\n",
              "        const charts = await google.colab.kernel.invokeFunction(\n",
              "            'suggestCharts', [key], {});\n",
              "      } catch (error) {\n",
              "        console.error('Error during call to suggestCharts:', error);\n",
              "      }\n",
              "      quickchartButtonEl.classList.remove('colab-df-spinner');\n",
              "      quickchartButtonEl.classList.add('colab-df-quickchart-complete');\n",
              "    }\n",
              "    (() => {\n",
              "      let quickchartButtonEl =\n",
              "        document.querySelector('#df-d30e2340-76ea-4678-90aa-0a636d5de761 button');\n",
              "      quickchartButtonEl.style.display =\n",
              "        google.colab.kernel.accessAllowed ? 'block' : 'none';\n",
              "    })();\n",
              "  </script>\n",
              "</div>\n",
              "\n",
              "  <div id=\"id_733c9dbb-9c4d-48bf-9c43-e534f7fcdcb1\">\n",
              "    <style>\n",
              "      .colab-df-generate {\n",
              "        background-color: #E8F0FE;\n",
              "        border: none;\n",
              "        border-radius: 50%;\n",
              "        cursor: pointer;\n",
              "        display: none;\n",
              "        fill: #1967D2;\n",
              "        height: 32px;\n",
              "        padding: 0 0 0 0;\n",
              "        width: 32px;\n",
              "      }\n",
              "\n",
              "      .colab-df-generate:hover {\n",
              "        background-color: #E2EBFA;\n",
              "        box-shadow: 0px 1px 2px rgba(60, 64, 67, 0.3), 0px 1px 3px 1px rgba(60, 64, 67, 0.15);\n",
              "        fill: #174EA6;\n",
              "      }\n",
              "\n",
              "      [theme=dark] .colab-df-generate {\n",
              "        background-color: #3B4455;\n",
              "        fill: #D2E3FC;\n",
              "      }\n",
              "\n",
              "      [theme=dark] .colab-df-generate:hover {\n",
              "        background-color: #434B5C;\n",
              "        box-shadow: 0px 1px 3px 1px rgba(0, 0, 0, 0.15);\n",
              "        filter: drop-shadow(0px 1px 2px rgba(0, 0, 0, 0.3));\n",
              "        fill: #FFFFFF;\n",
              "      }\n",
              "    </style>\n",
              "    <button class=\"colab-df-generate\" onclick=\"generateWithVariable('df')\"\n",
              "            title=\"Generate code using this dataframe.\"\n",
              "            style=\"display:none;\">\n",
              "\n",
              "  <svg xmlns=\"http://www.w3.org/2000/svg\" height=\"24px\"viewBox=\"0 0 24 24\"\n",
              "       width=\"24px\">\n",
              "    <path d=\"M7,19H8.4L18.45,9,17,7.55,7,17.6ZM5,21V16.75L18.45,3.32a2,2,0,0,1,2.83,0l1.4,1.43a1.91,1.91,0,0,1,.58,1.4,1.91,1.91,0,0,1-.58,1.4L9.25,21ZM18.45,9,17,7.55Zm-12,3A5.31,5.31,0,0,0,4.9,8.1,5.31,5.31,0,0,0,1,6.5,5.31,5.31,0,0,0,4.9,4.9,5.31,5.31,0,0,0,6.5,1,5.31,5.31,0,0,0,8.1,4.9,5.31,5.31,0,0,0,12,6.5,5.46,5.46,0,0,0,6.5,12Z\"/>\n",
              "  </svg>\n",
              "    </button>\n",
              "    <script>\n",
              "      (() => {\n",
              "      const buttonEl =\n",
              "        document.querySelector('#id_733c9dbb-9c4d-48bf-9c43-e534f7fcdcb1 button.colab-df-generate');\n",
              "      buttonEl.style.display =\n",
              "        google.colab.kernel.accessAllowed ? 'block' : 'none';\n",
              "\n",
              "      buttonEl.onclick = () => {\n",
              "        google.colab.notebook.generateWithVariable('df');\n",
              "      }\n",
              "      })();\n",
              "    </script>\n",
              "  </div>\n",
              "\n",
              "    </div>\n",
              "  </div>\n"
            ],
            "application/vnd.google.colaboratory.intrinsic+json": {
              "type": "dataframe",
              "variable_name": "df"
            }
          },
          "metadata": {},
          "execution_count": 6
        }
      ]
    },
    {
      "cell_type": "code",
      "execution_count": 7,
      "metadata": {
        "colab": {
          "base_uri": "https://localhost:8080/",
          "height": 397
        },
        "id": "nA8BVOBM8N-X",
        "outputId": "a9988352-c3b2-4bed-918e-e15cbad1ec13"
      },
      "outputs": [
        {
          "output_type": "stream",
          "name": "stdout",
          "text": [
            "Número de Tweets Cargados: 175309\n",
            "Número de Tweets a procesar: 54296\n"
          ]
        },
        {
          "output_type": "execute_result",
          "data": {
            "text/plain": [
              "                 cuenta     partido        timestamp  \\\n",
              "166179      Jorgebuxade         vox 1,645,466,774.00   \n",
              "161104  carrizosacarlos  ciudadanos 1,643,555,072.00   \n",
              "151067      LopezMirasF          pp 1,640,114,155.00   \n",
              "150022  anapastorjulian          pp 1,639,820,366.00   \n",
              "156552        populares          pp 1,642,326,642.00   \n",
              "159302      Pam_Angela_     podemos 1,643,006,809.00   \n",
              "128650   hermanntertsch         vox 1,632,856,223.00   \n",
              "158636    oscar_puente_        psoe 1,643,183,366.00   \n",
              "136241   raquelsjimenez        psoe 1,635,159,725.00   \n",
              "142107     CiudadanosCs  ciudadanos 1,637,054,351.00   \n",
              "\n",
              "                                                    tweet  \n",
              "166179  Desprecio infinito a los que han permitido y p...  \n",
              "161104  Hoy ha quedado demostrado que ni alteramos el ...  \n",
              "151067  Recupérate rápido, Secretario General. Sé que ...  \n",
              "150022  🔴Una semana más sigue aumentando el número de ...  \n",
              "156552  \"Somos ese proyecto político que vertebra Espa...  \n",
              "159302                            Fotaza de @inmaFgarcia.  \n",
              "128650  El New York Times como la hez del periodismo p...  \n",
              "158636  @MiguelPinciano No hay que preocuparse por eso...  \n",
              "136241  Reunión con @GFVara para repasar el avance de ...  \n",
              "142107  La propuesta de Escrivá para las pensiones NO ...  "
            ],
            "text/html": [
              "\n",
              "  <div id=\"df-8347d795-85ea-4016-a77e-622bb889b358\" class=\"colab-df-container\">\n",
              "    <div>\n",
              "<style scoped>\n",
              "    .dataframe tbody tr th:only-of-type {\n",
              "        vertical-align: middle;\n",
              "    }\n",
              "\n",
              "    .dataframe tbody tr th {\n",
              "        vertical-align: top;\n",
              "    }\n",
              "\n",
              "    .dataframe thead th {\n",
              "        text-align: right;\n",
              "    }\n",
              "</style>\n",
              "<table border=\"1\" class=\"dataframe\">\n",
              "  <thead>\n",
              "    <tr style=\"text-align: right;\">\n",
              "      <th></th>\n",
              "      <th>cuenta</th>\n",
              "      <th>partido</th>\n",
              "      <th>timestamp</th>\n",
              "      <th>tweet</th>\n",
              "    </tr>\n",
              "  </thead>\n",
              "  <tbody>\n",
              "    <tr>\n",
              "      <th>166179</th>\n",
              "      <td>Jorgebuxade</td>\n",
              "      <td>vox</td>\n",
              "      <td>1,645,466,774.00</td>\n",
              "      <td>Desprecio infinito a los que han permitido y p...</td>\n",
              "    </tr>\n",
              "    <tr>\n",
              "      <th>161104</th>\n",
              "      <td>carrizosacarlos</td>\n",
              "      <td>ciudadanos</td>\n",
              "      <td>1,643,555,072.00</td>\n",
              "      <td>Hoy ha quedado demostrado que ni alteramos el ...</td>\n",
              "    </tr>\n",
              "    <tr>\n",
              "      <th>151067</th>\n",
              "      <td>LopezMirasF</td>\n",
              "      <td>pp</td>\n",
              "      <td>1,640,114,155.00</td>\n",
              "      <td>Recupérate rápido, Secretario General. Sé que ...</td>\n",
              "    </tr>\n",
              "    <tr>\n",
              "      <th>150022</th>\n",
              "      <td>anapastorjulian</td>\n",
              "      <td>pp</td>\n",
              "      <td>1,639,820,366.00</td>\n",
              "      <td>🔴Una semana más sigue aumentando el número de ...</td>\n",
              "    </tr>\n",
              "    <tr>\n",
              "      <th>156552</th>\n",
              "      <td>populares</td>\n",
              "      <td>pp</td>\n",
              "      <td>1,642,326,642.00</td>\n",
              "      <td>\"Somos ese proyecto político que vertebra Espa...</td>\n",
              "    </tr>\n",
              "    <tr>\n",
              "      <th>159302</th>\n",
              "      <td>Pam_Angela_</td>\n",
              "      <td>podemos</td>\n",
              "      <td>1,643,006,809.00</td>\n",
              "      <td>Fotaza de @inmaFgarcia.</td>\n",
              "    </tr>\n",
              "    <tr>\n",
              "      <th>128650</th>\n",
              "      <td>hermanntertsch</td>\n",
              "      <td>vox</td>\n",
              "      <td>1,632,856,223.00</td>\n",
              "      <td>El New York Times como la hez del periodismo p...</td>\n",
              "    </tr>\n",
              "    <tr>\n",
              "      <th>158636</th>\n",
              "      <td>oscar_puente_</td>\n",
              "      <td>psoe</td>\n",
              "      <td>1,643,183,366.00</td>\n",
              "      <td>@MiguelPinciano No hay que preocuparse por eso...</td>\n",
              "    </tr>\n",
              "    <tr>\n",
              "      <th>136241</th>\n",
              "      <td>raquelsjimenez</td>\n",
              "      <td>psoe</td>\n",
              "      <td>1,635,159,725.00</td>\n",
              "      <td>Reunión con @GFVara para repasar el avance de ...</td>\n",
              "    </tr>\n",
              "    <tr>\n",
              "      <th>142107</th>\n",
              "      <td>CiudadanosCs</td>\n",
              "      <td>ciudadanos</td>\n",
              "      <td>1,637,054,351.00</td>\n",
              "      <td>La propuesta de Escrivá para las pensiones NO ...</td>\n",
              "    </tr>\n",
              "  </tbody>\n",
              "</table>\n",
              "</div>\n",
              "    <div class=\"colab-df-buttons\">\n",
              "\n",
              "  <div class=\"colab-df-container\">\n",
              "    <button class=\"colab-df-convert\" onclick=\"convertToInteractive('df-8347d795-85ea-4016-a77e-622bb889b358')\"\n",
              "            title=\"Convert this dataframe to an interactive table.\"\n",
              "            style=\"display:none;\">\n",
              "\n",
              "  <svg xmlns=\"http://www.w3.org/2000/svg\" height=\"24px\" viewBox=\"0 -960 960 960\">\n",
              "    <path d=\"M120-120v-720h720v720H120Zm60-500h600v-160H180v160Zm220 220h160v-160H400v160Zm0 220h160v-160H400v160ZM180-400h160v-160H180v160Zm440 0h160v-160H620v160ZM180-180h160v-160H180v160Zm440 0h160v-160H620v160Z\"/>\n",
              "  </svg>\n",
              "    </button>\n",
              "\n",
              "  <style>\n",
              "    .colab-df-container {\n",
              "      display:flex;\n",
              "      gap: 12px;\n",
              "    }\n",
              "\n",
              "    .colab-df-convert {\n",
              "      background-color: #E8F0FE;\n",
              "      border: none;\n",
              "      border-radius: 50%;\n",
              "      cursor: pointer;\n",
              "      display: none;\n",
              "      fill: #1967D2;\n",
              "      height: 32px;\n",
              "      padding: 0 0 0 0;\n",
              "      width: 32px;\n",
              "    }\n",
              "\n",
              "    .colab-df-convert:hover {\n",
              "      background-color: #E2EBFA;\n",
              "      box-shadow: 0px 1px 2px rgba(60, 64, 67, 0.3), 0px 1px 3px 1px rgba(60, 64, 67, 0.15);\n",
              "      fill: #174EA6;\n",
              "    }\n",
              "\n",
              "    .colab-df-buttons div {\n",
              "      margin-bottom: 4px;\n",
              "    }\n",
              "\n",
              "    [theme=dark] .colab-df-convert {\n",
              "      background-color: #3B4455;\n",
              "      fill: #D2E3FC;\n",
              "    }\n",
              "\n",
              "    [theme=dark] .colab-df-convert:hover {\n",
              "      background-color: #434B5C;\n",
              "      box-shadow: 0px 1px 3px 1px rgba(0, 0, 0, 0.15);\n",
              "      filter: drop-shadow(0px 1px 2px rgba(0, 0, 0, 0.3));\n",
              "      fill: #FFFFFF;\n",
              "    }\n",
              "  </style>\n",
              "\n",
              "    <script>\n",
              "      const buttonEl =\n",
              "        document.querySelector('#df-8347d795-85ea-4016-a77e-622bb889b358 button.colab-df-convert');\n",
              "      buttonEl.style.display =\n",
              "        google.colab.kernel.accessAllowed ? 'block' : 'none';\n",
              "\n",
              "      async function convertToInteractive(key) {\n",
              "        const element = document.querySelector('#df-8347d795-85ea-4016-a77e-622bb889b358');\n",
              "        const dataTable =\n",
              "          await google.colab.kernel.invokeFunction('convertToInteractive',\n",
              "                                                    [key], {});\n",
              "        if (!dataTable) return;\n",
              "\n",
              "        const docLinkHtml = 'Like what you see? Visit the ' +\n",
              "          '<a target=\"_blank\" href=https://colab.research.google.com/notebooks/data_table.ipynb>data table notebook</a>'\n",
              "          + ' to learn more about interactive tables.';\n",
              "        element.innerHTML = '';\n",
              "        dataTable['output_type'] = 'display_data';\n",
              "        await google.colab.output.renderOutput(dataTable, element);\n",
              "        const docLink = document.createElement('div');\n",
              "        docLink.innerHTML = docLinkHtml;\n",
              "        element.appendChild(docLink);\n",
              "      }\n",
              "    </script>\n",
              "  </div>\n",
              "\n",
              "\n",
              "<div id=\"df-20131553-d9b3-45f6-805d-a8cadda73d47\">\n",
              "  <button class=\"colab-df-quickchart\" onclick=\"quickchart('df-20131553-d9b3-45f6-805d-a8cadda73d47')\"\n",
              "            title=\"Suggest charts\"\n",
              "            style=\"display:none;\">\n",
              "\n",
              "<svg xmlns=\"http://www.w3.org/2000/svg\" height=\"24px\"viewBox=\"0 0 24 24\"\n",
              "     width=\"24px\">\n",
              "    <g>\n",
              "        <path d=\"M19 3H5c-1.1 0-2 .9-2 2v14c0 1.1.9 2 2 2h14c1.1 0 2-.9 2-2V5c0-1.1-.9-2-2-2zM9 17H7v-7h2v7zm4 0h-2V7h2v10zm4 0h-2v-4h2v4z\"/>\n",
              "    </g>\n",
              "</svg>\n",
              "  </button>\n",
              "\n",
              "<style>\n",
              "  .colab-df-quickchart {\n",
              "      --bg-color: #E8F0FE;\n",
              "      --fill-color: #1967D2;\n",
              "      --hover-bg-color: #E2EBFA;\n",
              "      --hover-fill-color: #174EA6;\n",
              "      --disabled-fill-color: #AAA;\n",
              "      --disabled-bg-color: #DDD;\n",
              "  }\n",
              "\n",
              "  [theme=dark] .colab-df-quickchart {\n",
              "      --bg-color: #3B4455;\n",
              "      --fill-color: #D2E3FC;\n",
              "      --hover-bg-color: #434B5C;\n",
              "      --hover-fill-color: #FFFFFF;\n",
              "      --disabled-bg-color: #3B4455;\n",
              "      --disabled-fill-color: #666;\n",
              "  }\n",
              "\n",
              "  .colab-df-quickchart {\n",
              "    background-color: var(--bg-color);\n",
              "    border: none;\n",
              "    border-radius: 50%;\n",
              "    cursor: pointer;\n",
              "    display: none;\n",
              "    fill: var(--fill-color);\n",
              "    height: 32px;\n",
              "    padding: 0;\n",
              "    width: 32px;\n",
              "  }\n",
              "\n",
              "  .colab-df-quickchart:hover {\n",
              "    background-color: var(--hover-bg-color);\n",
              "    box-shadow: 0 1px 2px rgba(60, 64, 67, 0.3), 0 1px 3px 1px rgba(60, 64, 67, 0.15);\n",
              "    fill: var(--button-hover-fill-color);\n",
              "  }\n",
              "\n",
              "  .colab-df-quickchart-complete:disabled,\n",
              "  .colab-df-quickchart-complete:disabled:hover {\n",
              "    background-color: var(--disabled-bg-color);\n",
              "    fill: var(--disabled-fill-color);\n",
              "    box-shadow: none;\n",
              "  }\n",
              "\n",
              "  .colab-df-spinner {\n",
              "    border: 2px solid var(--fill-color);\n",
              "    border-color: transparent;\n",
              "    border-bottom-color: var(--fill-color);\n",
              "    animation:\n",
              "      spin 1s steps(1) infinite;\n",
              "  }\n",
              "\n",
              "  @keyframes spin {\n",
              "    0% {\n",
              "      border-color: transparent;\n",
              "      border-bottom-color: var(--fill-color);\n",
              "      border-left-color: var(--fill-color);\n",
              "    }\n",
              "    20% {\n",
              "      border-color: transparent;\n",
              "      border-left-color: var(--fill-color);\n",
              "      border-top-color: var(--fill-color);\n",
              "    }\n",
              "    30% {\n",
              "      border-color: transparent;\n",
              "      border-left-color: var(--fill-color);\n",
              "      border-top-color: var(--fill-color);\n",
              "      border-right-color: var(--fill-color);\n",
              "    }\n",
              "    40% {\n",
              "      border-color: transparent;\n",
              "      border-right-color: var(--fill-color);\n",
              "      border-top-color: var(--fill-color);\n",
              "    }\n",
              "    60% {\n",
              "      border-color: transparent;\n",
              "      border-right-color: var(--fill-color);\n",
              "    }\n",
              "    80% {\n",
              "      border-color: transparent;\n",
              "      border-right-color: var(--fill-color);\n",
              "      border-bottom-color: var(--fill-color);\n",
              "    }\n",
              "    90% {\n",
              "      border-color: transparent;\n",
              "      border-bottom-color: var(--fill-color);\n",
              "    }\n",
              "  }\n",
              "</style>\n",
              "\n",
              "  <script>\n",
              "    async function quickchart(key) {\n",
              "      const quickchartButtonEl =\n",
              "        document.querySelector('#' + key + ' button');\n",
              "      quickchartButtonEl.disabled = true;  // To prevent multiple clicks.\n",
              "      quickchartButtonEl.classList.add('colab-df-spinner');\n",
              "      try {\n",
              "        const charts = await google.colab.kernel.invokeFunction(\n",
              "            'suggestCharts', [key], {});\n",
              "      } catch (error) {\n",
              "        console.error('Error during call to suggestCharts:', error);\n",
              "      }\n",
              "      quickchartButtonEl.classList.remove('colab-df-spinner');\n",
              "      quickchartButtonEl.classList.add('colab-df-quickchart-complete');\n",
              "    }\n",
              "    (() => {\n",
              "      let quickchartButtonEl =\n",
              "        document.querySelector('#df-20131553-d9b3-45f6-805d-a8cadda73d47 button');\n",
              "      quickchartButtonEl.style.display =\n",
              "        google.colab.kernel.accessAllowed ? 'block' : 'none';\n",
              "    })();\n",
              "  </script>\n",
              "</div>\n",
              "\n",
              "    </div>\n",
              "  </div>\n"
            ],
            "application/vnd.google.colaboratory.intrinsic+json": {
              "type": "dataframe",
              "summary": "{\n  \"name\": \"df\",\n  \"rows\": 10,\n  \"fields\": [\n    {\n      \"column\": \"cuenta\",\n      \"properties\": {\n        \"dtype\": \"string\",\n        \"num_unique_values\": 10,\n        \"samples\": [\n          \"raquelsjimenez\",\n          \"carrizosacarlos\",\n          \"Pam_Angela_\"\n        ],\n        \"semantic_type\": \"\",\n        \"description\": \"\"\n      }\n    },\n    {\n      \"column\": \"partido\",\n      \"properties\": {\n        \"dtype\": \"string\",\n        \"num_unique_values\": 5,\n        \"samples\": [\n          \"ciudadanos\",\n          \"psoe\",\n          \"pp\"\n        ],\n        \"semantic_type\": \"\",\n        \"description\": \"\"\n      }\n    },\n    {\n      \"column\": \"timestamp\",\n      \"properties\": {\n        \"dtype\": \"number\",\n        \"std\": 4077705.869648168,\n        \"min\": 1632856223.0,\n        \"max\": 1645466774.0,\n        \"num_unique_values\": 10,\n        \"samples\": [\n          1635159725.0,\n          1643555072.0,\n          1643006809.0\n        ],\n        \"semantic_type\": \"\",\n        \"description\": \"\"\n      }\n    },\n    {\n      \"column\": \"tweet\",\n      \"properties\": {\n        \"dtype\": \"string\",\n        \"num_unique_values\": 10,\n        \"samples\": [\n          \"Reuni\\u00f3n con @GFVara para repasar el avance de la agenda de infraestructuras en Extremadura.El AVE entrar\\u00e1 en servicio antes de verano de 2022, avanzamos en las autov\\u00edas y mejoramos la integraci\\u00f3n de las traves\\u00edas en las ciudades extreme\\u00f1as. https://t.co/EksgOYwXFj\",\n          \"Hoy ha quedado demostrado que ni alteramos el orden p\\u00fablico ni vamos contra la moral ni las costumbres. Vic es una ciudad acogedora, pese a la intolerante de su alcaldesa, y as\\u00ed nos lo han demostrado todos los vecinos que se han acercado a nuestra carpa. https://t.co/evmWNQZECd\",\n          \"Fotaza de @inmaFgarcia.\"\n        ],\n        \"semantic_type\": \"\",\n        \"description\": \"\"\n      }\n    }\n  ]\n}"
            }
          },
          "metadata": {},
          "execution_count": 7
        }
      ],
      "source": [
        "\n",
        "\n",
        "# Eliminamos los tweets que tengan algún valor a nulo\n",
        "df = df.dropna()\n",
        "print('Número de Tweets Cargados: {num}'.format(num=df.shape[0]))\n",
        "\n",
        "# Los ordenamos por fecha\n",
        "df = df.sort_values(by='timestamp')\n",
        "\n",
        "# Filtramos los tweets a partir de una fecha\n",
        "DATE = \"01/09/2021\"\n",
        "timestamp = time.mktime(datetime.datetime.strptime(DATE, \"%d/%m/%Y\").timetuple())\n",
        "df = df[df.timestamp >= timestamp]\n",
        "\n",
        "# Mostramos un sample y el número de tweets a procesar\n",
        "print('Número de Tweets a procesar: {num}'.format(num=df.shape[0]))\n",
        "df.sample(10)"
      ]
    },
    {
      "cell_type": "markdown",
      "metadata": {
        "id": "TGJ-SSoM8N-b"
      },
      "source": [
        "* Tweets publicados por partido político"
      ]
    },
    {
      "cell_type": "code",
      "execution_count": 8,
      "metadata": {
        "colab": {
          "base_uri": "https://localhost:8080/",
          "height": 206
        },
        "id": "-Oc_AaF-8N-b",
        "outputId": "077277af-85c6-4e56-8752-4ce65a2aaaa0"
      },
      "outputs": [
        {
          "output_type": "execute_result",
          "data": {
            "text/plain": [
              "      partido  tweet   PCT\n",
              "3        psoe  14125 26.01\n",
              "4         vox  12595 23.20\n",
              "1     podemos  10289 18.95\n",
              "2          pp   9503 17.50\n",
              "0  ciudadanos   7784 14.34"
            ],
            "text/html": [
              "\n",
              "  <div id=\"df-8dcfe438-5f8d-4d42-885d-df6a7326b42c\" class=\"colab-df-container\">\n",
              "    <div>\n",
              "<style scoped>\n",
              "    .dataframe tbody tr th:only-of-type {\n",
              "        vertical-align: middle;\n",
              "    }\n",
              "\n",
              "    .dataframe tbody tr th {\n",
              "        vertical-align: top;\n",
              "    }\n",
              "\n",
              "    .dataframe thead th {\n",
              "        text-align: right;\n",
              "    }\n",
              "</style>\n",
              "<table border=\"1\" class=\"dataframe\">\n",
              "  <thead>\n",
              "    <tr style=\"text-align: right;\">\n",
              "      <th></th>\n",
              "      <th>partido</th>\n",
              "      <th>tweet</th>\n",
              "      <th>PCT</th>\n",
              "    </tr>\n",
              "  </thead>\n",
              "  <tbody>\n",
              "    <tr>\n",
              "      <th>3</th>\n",
              "      <td>psoe</td>\n",
              "      <td>14125</td>\n",
              "      <td>26.01</td>\n",
              "    </tr>\n",
              "    <tr>\n",
              "      <th>4</th>\n",
              "      <td>vox</td>\n",
              "      <td>12595</td>\n",
              "      <td>23.20</td>\n",
              "    </tr>\n",
              "    <tr>\n",
              "      <th>1</th>\n",
              "      <td>podemos</td>\n",
              "      <td>10289</td>\n",
              "      <td>18.95</td>\n",
              "    </tr>\n",
              "    <tr>\n",
              "      <th>2</th>\n",
              "      <td>pp</td>\n",
              "      <td>9503</td>\n",
              "      <td>17.50</td>\n",
              "    </tr>\n",
              "    <tr>\n",
              "      <th>0</th>\n",
              "      <td>ciudadanos</td>\n",
              "      <td>7784</td>\n",
              "      <td>14.34</td>\n",
              "    </tr>\n",
              "  </tbody>\n",
              "</table>\n",
              "</div>\n",
              "    <div class=\"colab-df-buttons\">\n",
              "\n",
              "  <div class=\"colab-df-container\">\n",
              "    <button class=\"colab-df-convert\" onclick=\"convertToInteractive('df-8dcfe438-5f8d-4d42-885d-df6a7326b42c')\"\n",
              "            title=\"Convert this dataframe to an interactive table.\"\n",
              "            style=\"display:none;\">\n",
              "\n",
              "  <svg xmlns=\"http://www.w3.org/2000/svg\" height=\"24px\" viewBox=\"0 -960 960 960\">\n",
              "    <path d=\"M120-120v-720h720v720H120Zm60-500h600v-160H180v160Zm220 220h160v-160H400v160Zm0 220h160v-160H400v160ZM180-400h160v-160H180v160Zm440 0h160v-160H620v160ZM180-180h160v-160H180v160Zm440 0h160v-160H620v160Z\"/>\n",
              "  </svg>\n",
              "    </button>\n",
              "\n",
              "  <style>\n",
              "    .colab-df-container {\n",
              "      display:flex;\n",
              "      gap: 12px;\n",
              "    }\n",
              "\n",
              "    .colab-df-convert {\n",
              "      background-color: #E8F0FE;\n",
              "      border: none;\n",
              "      border-radius: 50%;\n",
              "      cursor: pointer;\n",
              "      display: none;\n",
              "      fill: #1967D2;\n",
              "      height: 32px;\n",
              "      padding: 0 0 0 0;\n",
              "      width: 32px;\n",
              "    }\n",
              "\n",
              "    .colab-df-convert:hover {\n",
              "      background-color: #E2EBFA;\n",
              "      box-shadow: 0px 1px 2px rgba(60, 64, 67, 0.3), 0px 1px 3px 1px rgba(60, 64, 67, 0.15);\n",
              "      fill: #174EA6;\n",
              "    }\n",
              "\n",
              "    .colab-df-buttons div {\n",
              "      margin-bottom: 4px;\n",
              "    }\n",
              "\n",
              "    [theme=dark] .colab-df-convert {\n",
              "      background-color: #3B4455;\n",
              "      fill: #D2E3FC;\n",
              "    }\n",
              "\n",
              "    [theme=dark] .colab-df-convert:hover {\n",
              "      background-color: #434B5C;\n",
              "      box-shadow: 0px 1px 3px 1px rgba(0, 0, 0, 0.15);\n",
              "      filter: drop-shadow(0px 1px 2px rgba(0, 0, 0, 0.3));\n",
              "      fill: #FFFFFF;\n",
              "    }\n",
              "  </style>\n",
              "\n",
              "    <script>\n",
              "      const buttonEl =\n",
              "        document.querySelector('#df-8dcfe438-5f8d-4d42-885d-df6a7326b42c button.colab-df-convert');\n",
              "      buttonEl.style.display =\n",
              "        google.colab.kernel.accessAllowed ? 'block' : 'none';\n",
              "\n",
              "      async function convertToInteractive(key) {\n",
              "        const element = document.querySelector('#df-8dcfe438-5f8d-4d42-885d-df6a7326b42c');\n",
              "        const dataTable =\n",
              "          await google.colab.kernel.invokeFunction('convertToInteractive',\n",
              "                                                    [key], {});\n",
              "        if (!dataTable) return;\n",
              "\n",
              "        const docLinkHtml = 'Like what you see? Visit the ' +\n",
              "          '<a target=\"_blank\" href=https://colab.research.google.com/notebooks/data_table.ipynb>data table notebook</a>'\n",
              "          + ' to learn more about interactive tables.';\n",
              "        element.innerHTML = '';\n",
              "        dataTable['output_type'] = 'display_data';\n",
              "        await google.colab.output.renderOutput(dataTable, element);\n",
              "        const docLink = document.createElement('div');\n",
              "        docLink.innerHTML = docLinkHtml;\n",
              "        element.appendChild(docLink);\n",
              "      }\n",
              "    </script>\n",
              "  </div>\n",
              "\n",
              "\n",
              "<div id=\"df-7f9cc29c-9648-42b9-ab6b-bda91a8560d3\">\n",
              "  <button class=\"colab-df-quickchart\" onclick=\"quickchart('df-7f9cc29c-9648-42b9-ab6b-bda91a8560d3')\"\n",
              "            title=\"Suggest charts\"\n",
              "            style=\"display:none;\">\n",
              "\n",
              "<svg xmlns=\"http://www.w3.org/2000/svg\" height=\"24px\"viewBox=\"0 0 24 24\"\n",
              "     width=\"24px\">\n",
              "    <g>\n",
              "        <path d=\"M19 3H5c-1.1 0-2 .9-2 2v14c0 1.1.9 2 2 2h14c1.1 0 2-.9 2-2V5c0-1.1-.9-2-2-2zM9 17H7v-7h2v7zm4 0h-2V7h2v10zm4 0h-2v-4h2v4z\"/>\n",
              "    </g>\n",
              "</svg>\n",
              "  </button>\n",
              "\n",
              "<style>\n",
              "  .colab-df-quickchart {\n",
              "      --bg-color: #E8F0FE;\n",
              "      --fill-color: #1967D2;\n",
              "      --hover-bg-color: #E2EBFA;\n",
              "      --hover-fill-color: #174EA6;\n",
              "      --disabled-fill-color: #AAA;\n",
              "      --disabled-bg-color: #DDD;\n",
              "  }\n",
              "\n",
              "  [theme=dark] .colab-df-quickchart {\n",
              "      --bg-color: #3B4455;\n",
              "      --fill-color: #D2E3FC;\n",
              "      --hover-bg-color: #434B5C;\n",
              "      --hover-fill-color: #FFFFFF;\n",
              "      --disabled-bg-color: #3B4455;\n",
              "      --disabled-fill-color: #666;\n",
              "  }\n",
              "\n",
              "  .colab-df-quickchart {\n",
              "    background-color: var(--bg-color);\n",
              "    border: none;\n",
              "    border-radius: 50%;\n",
              "    cursor: pointer;\n",
              "    display: none;\n",
              "    fill: var(--fill-color);\n",
              "    height: 32px;\n",
              "    padding: 0;\n",
              "    width: 32px;\n",
              "  }\n",
              "\n",
              "  .colab-df-quickchart:hover {\n",
              "    background-color: var(--hover-bg-color);\n",
              "    box-shadow: 0 1px 2px rgba(60, 64, 67, 0.3), 0 1px 3px 1px rgba(60, 64, 67, 0.15);\n",
              "    fill: var(--button-hover-fill-color);\n",
              "  }\n",
              "\n",
              "  .colab-df-quickchart-complete:disabled,\n",
              "  .colab-df-quickchart-complete:disabled:hover {\n",
              "    background-color: var(--disabled-bg-color);\n",
              "    fill: var(--disabled-fill-color);\n",
              "    box-shadow: none;\n",
              "  }\n",
              "\n",
              "  .colab-df-spinner {\n",
              "    border: 2px solid var(--fill-color);\n",
              "    border-color: transparent;\n",
              "    border-bottom-color: var(--fill-color);\n",
              "    animation:\n",
              "      spin 1s steps(1) infinite;\n",
              "  }\n",
              "\n",
              "  @keyframes spin {\n",
              "    0% {\n",
              "      border-color: transparent;\n",
              "      border-bottom-color: var(--fill-color);\n",
              "      border-left-color: var(--fill-color);\n",
              "    }\n",
              "    20% {\n",
              "      border-color: transparent;\n",
              "      border-left-color: var(--fill-color);\n",
              "      border-top-color: var(--fill-color);\n",
              "    }\n",
              "    30% {\n",
              "      border-color: transparent;\n",
              "      border-left-color: var(--fill-color);\n",
              "      border-top-color: var(--fill-color);\n",
              "      border-right-color: var(--fill-color);\n",
              "    }\n",
              "    40% {\n",
              "      border-color: transparent;\n",
              "      border-right-color: var(--fill-color);\n",
              "      border-top-color: var(--fill-color);\n",
              "    }\n",
              "    60% {\n",
              "      border-color: transparent;\n",
              "      border-right-color: var(--fill-color);\n",
              "    }\n",
              "    80% {\n",
              "      border-color: transparent;\n",
              "      border-right-color: var(--fill-color);\n",
              "      border-bottom-color: var(--fill-color);\n",
              "    }\n",
              "    90% {\n",
              "      border-color: transparent;\n",
              "      border-bottom-color: var(--fill-color);\n",
              "    }\n",
              "  }\n",
              "</style>\n",
              "\n",
              "  <script>\n",
              "    async function quickchart(key) {\n",
              "      const quickchartButtonEl =\n",
              "        document.querySelector('#' + key + ' button');\n",
              "      quickchartButtonEl.disabled = true;  // To prevent multiple clicks.\n",
              "      quickchartButtonEl.classList.add('colab-df-spinner');\n",
              "      try {\n",
              "        const charts = await google.colab.kernel.invokeFunction(\n",
              "            'suggestCharts', [key], {});\n",
              "      } catch (error) {\n",
              "        console.error('Error during call to suggestCharts:', error);\n",
              "      }\n",
              "      quickchartButtonEl.classList.remove('colab-df-spinner');\n",
              "      quickchartButtonEl.classList.add('colab-df-quickchart-complete');\n",
              "    }\n",
              "    (() => {\n",
              "      let quickchartButtonEl =\n",
              "        document.querySelector('#df-7f9cc29c-9648-42b9-ab6b-bda91a8560d3 button');\n",
              "      quickchartButtonEl.style.display =\n",
              "        google.colab.kernel.accessAllowed ? 'block' : 'none';\n",
              "    })();\n",
              "  </script>\n",
              "</div>\n",
              "\n",
              "  <div id=\"id_e910cd47-32d7-4f7c-b6e9-07ade7254202\">\n",
              "    <style>\n",
              "      .colab-df-generate {\n",
              "        background-color: #E8F0FE;\n",
              "        border: none;\n",
              "        border-radius: 50%;\n",
              "        cursor: pointer;\n",
              "        display: none;\n",
              "        fill: #1967D2;\n",
              "        height: 32px;\n",
              "        padding: 0 0 0 0;\n",
              "        width: 32px;\n",
              "      }\n",
              "\n",
              "      .colab-df-generate:hover {\n",
              "        background-color: #E2EBFA;\n",
              "        box-shadow: 0px 1px 2px rgba(60, 64, 67, 0.3), 0px 1px 3px 1px rgba(60, 64, 67, 0.15);\n",
              "        fill: #174EA6;\n",
              "      }\n",
              "\n",
              "      [theme=dark] .colab-df-generate {\n",
              "        background-color: #3B4455;\n",
              "        fill: #D2E3FC;\n",
              "      }\n",
              "\n",
              "      [theme=dark] .colab-df-generate:hover {\n",
              "        background-color: #434B5C;\n",
              "        box-shadow: 0px 1px 3px 1px rgba(0, 0, 0, 0.15);\n",
              "        filter: drop-shadow(0px 1px 2px rgba(0, 0, 0, 0.3));\n",
              "        fill: #FFFFFF;\n",
              "      }\n",
              "    </style>\n",
              "    <button class=\"colab-df-generate\" onclick=\"generateWithVariable('df_count')\"\n",
              "            title=\"Generate code using this dataframe.\"\n",
              "            style=\"display:none;\">\n",
              "\n",
              "  <svg xmlns=\"http://www.w3.org/2000/svg\" height=\"24px\"viewBox=\"0 0 24 24\"\n",
              "       width=\"24px\">\n",
              "    <path d=\"M7,19H8.4L18.45,9,17,7.55,7,17.6ZM5,21V16.75L18.45,3.32a2,2,0,0,1,2.83,0l1.4,1.43a1.91,1.91,0,0,1,.58,1.4,1.91,1.91,0,0,1-.58,1.4L9.25,21ZM18.45,9,17,7.55Zm-12,3A5.31,5.31,0,0,0,4.9,8.1,5.31,5.31,0,0,0,1,6.5,5.31,5.31,0,0,0,4.9,4.9,5.31,5.31,0,0,0,6.5,1,5.31,5.31,0,0,0,8.1,4.9,5.31,5.31,0,0,0,12,6.5,5.46,5.46,0,0,0,6.5,12Z\"/>\n",
              "  </svg>\n",
              "    </button>\n",
              "    <script>\n",
              "      (() => {\n",
              "      const buttonEl =\n",
              "        document.querySelector('#id_e910cd47-32d7-4f7c-b6e9-07ade7254202 button.colab-df-generate');\n",
              "      buttonEl.style.display =\n",
              "        google.colab.kernel.accessAllowed ? 'block' : 'none';\n",
              "\n",
              "      buttonEl.onclick = () => {\n",
              "        google.colab.notebook.generateWithVariable('df_count');\n",
              "      }\n",
              "      })();\n",
              "    </script>\n",
              "  </div>\n",
              "\n",
              "    </div>\n",
              "  </div>\n"
            ],
            "application/vnd.google.colaboratory.intrinsic+json": {
              "type": "dataframe",
              "variable_name": "df_count",
              "summary": "{\n  \"name\": \"df_count\",\n  \"rows\": 5,\n  \"fields\": [\n    {\n      \"column\": \"partido\",\n      \"properties\": {\n        \"dtype\": \"string\",\n        \"num_unique_values\": 5,\n        \"samples\": [\n          \"vox\",\n          \"ciudadanos\",\n          \"podemos\"\n        ],\n        \"semantic_type\": \"\",\n        \"description\": \"\"\n      }\n    },\n    {\n      \"column\": \"tweet\",\n      \"properties\": {\n        \"dtype\": \"number\",\n        \"std\": 2514,\n        \"min\": 7784,\n        \"max\": 14125,\n        \"num_unique_values\": 5,\n        \"samples\": [\n          12595,\n          7784,\n          10289\n        ],\n        \"semantic_type\": \"\",\n        \"description\": \"\"\n      }\n    },\n    {\n      \"column\": \"PCT\",\n      \"properties\": {\n        \"dtype\": \"number\",\n        \"std\": 4.63190841561732,\n        \"min\": 14.336231029910124,\n        \"max\": 26.014807720642402,\n        \"num_unique_values\": 5,\n        \"samples\": [\n          23.196920583468394,\n          14.336231029910124,\n          18.949830558420512\n        ],\n        \"semantic_type\": \"\",\n        \"description\": \"\"\n      }\n    }\n  ]\n}"
            }
          },
          "metadata": {},
          "execution_count": 8
        }
      ],
      "source": [
        "df_count = df.groupby('partido')['tweet'].count().reset_index().sort_values(by='tweet', ascending=False)\n",
        "df_count['PCT'] = (df_count['tweet'] / df_count['tweet'].sum())*100\n",
        "df_count"
      ]
    },
    {
      "cell_type": "markdown",
      "metadata": {
        "id": "pcQPUdTz8N-c"
      },
      "source": [
        "* Nos quedamos solo con el nombre del partido y el tweet"
      ]
    },
    {
      "cell_type": "code",
      "execution_count": 9,
      "metadata": {
        "colab": {
          "base_uri": "https://localhost:8080/"
        },
        "id": "dc0JCiKi8N-c",
        "outputId": "2a7f03c0-bcbc-4640-b6c2-8d35fadb10aa"
      },
      "outputs": [
        {
          "output_type": "stream",
          "name": "stdout",
          "text": [
            "Número de Tweets Cargados: 54296\n"
          ]
        }
      ],
      "source": [
        "tweets = [list(x) for x in df[['tweet', 'partido']].values]\n",
        "print('Número de Tweets Cargados: {num}'.format(num=len(tweets)))"
      ]
    },
    {
      "cell_type": "markdown",
      "metadata": {
        "id": "VwxeOFQs8N-d"
      },
      "source": [
        "<hr>\n",
        "\n",
        "\n",
        "## Normalización\n",
        "\n",
        "\n",
        "* Utilizamos ***spaCy*** para la tokenización y normalización.\n",
        "\n",
        "\n",
        "* Tras realizar un análisis del contenido de los tweets pasamos a realizar las siguientes acciones para ***normalizar*** los tweets:\n",
        "    1. Pasamos las frases a minúsculas.\n",
        "    2. Sustituimos los puntos por espacios ya que hay muchas palabras unidas por un punto\n",
        "    3. Quitamos la almuhadilla de los hashtags para considerarlos como palabras.\n",
        "    4. Eliminamos los signos de puntuación.\n",
        "    5. Eliminamos los enlaces(http) y las menciones (@)\n",
        "    6. Pasamos la palabra a su lema\n",
        "\n",
        "\n",
        "* Todos estos pasos los vamos a realizar en una misma función.\n",
        "\n",
        "* Descartaremos aquellos tweets que tras ser normalizados no tengan por lo menos 3 palabras.\n",
        "\n",
        "\n",
        "* ***NOTA***: Cuando trabajamos con Redes Neuronales Recurrentes y en especial con las LSTM aplicado al Procesamiento del Lenguaje Natural, no solo nos interesa saber las palabras que componen un tweet (o documento), si no tambien la secuencia de esas palabras dentro de la frase, por ese motivo ***vamos a tratar los tweets como secuencias de palabras y no como bolsas de palabras*** (como haciamos en los ejemplos anteriores). Por tanto no vamos a eliminar las palabras con menos de 3 caracteres ni las stop-words.\n",
        "\n",
        "\n",
        "#### CUIDADO - IMPORTANTE:\n",
        "\n",
        "* Dado que los procesos de normalización de textos son muy pesados y tardan mucho, se ha implementado despues de la normalización de los tweets, un proceso de guardado de los tweets ya normalizados. Por tanto:\n",
        "    - Si es la primera vez que se ejecuta este notebook, se puede ejecutar completo sabiendo que se guardarán en un fichero binario los tweets normalizados. Este guardado se realiza [AQUI](#Escritura).\n",
        "    - En caso de haberse ejecutado el proceso de normalización de tweets y haberse guardado este en un fichero binario, no será necesario ejecutar las dos siguientes celdas de código y bastaría con ejecutar la celda de código que lee el fichero binario con los tweets normalizados. Esto se hace en la siguiente [CELDA](#Lectura)."
      ]
    },
    {
      "cell_type": "code",
      "source": [
        "!python -m spacy download es_core_news_sm"
      ],
      "metadata": {
        "colab": {
          "base_uri": "https://localhost:8080/"
        },
        "id": "5WaKOM2x_PjE",
        "outputId": "adef2b25-974f-49fd-f1f0-6937977e4f61"
      },
      "execution_count": 11,
      "outputs": [
        {
          "output_type": "stream",
          "name": "stdout",
          "text": [
            "Collecting es-core-news-sm==3.7.0\n",
            "  Downloading https://github.com/explosion/spacy-models/releases/download/es_core_news_sm-3.7.0/es_core_news_sm-3.7.0-py3-none-any.whl (12.9 MB)\n",
            "\u001b[2K     \u001b[90m━━━━━━━━━━━━━━━━━━━━━━━━━━━━━━━━━━━━━━━━\u001b[0m \u001b[32m12.9/12.9 MB\u001b[0m \u001b[31m49.6 MB/s\u001b[0m eta \u001b[36m0:00:00\u001b[0m\n",
            "\u001b[?25hRequirement already satisfied: spacy<3.8.0,>=3.7.0 in /usr/local/lib/python3.10/dist-packages (from es-core-news-sm==3.7.0) (3.7.5)\n",
            "Requirement already satisfied: spacy-legacy<3.1.0,>=3.0.11 in /usr/local/lib/python3.10/dist-packages (from spacy<3.8.0,>=3.7.0->es-core-news-sm==3.7.0) (3.0.12)\n",
            "Requirement already satisfied: spacy-loggers<2.0.0,>=1.0.0 in /usr/local/lib/python3.10/dist-packages (from spacy<3.8.0,>=3.7.0->es-core-news-sm==3.7.0) (1.0.5)\n",
            "Requirement already satisfied: murmurhash<1.1.0,>=0.28.0 in /usr/local/lib/python3.10/dist-packages (from spacy<3.8.0,>=3.7.0->es-core-news-sm==3.7.0) (1.0.11)\n",
            "Requirement already satisfied: cymem<2.1.0,>=2.0.2 in /usr/local/lib/python3.10/dist-packages (from spacy<3.8.0,>=3.7.0->es-core-news-sm==3.7.0) (2.0.10)\n",
            "Requirement already satisfied: preshed<3.1.0,>=3.0.2 in /usr/local/lib/python3.10/dist-packages (from spacy<3.8.0,>=3.7.0->es-core-news-sm==3.7.0) (3.0.9)\n",
            "Requirement already satisfied: thinc<8.3.0,>=8.2.2 in /usr/local/lib/python3.10/dist-packages (from spacy<3.8.0,>=3.7.0->es-core-news-sm==3.7.0) (8.2.5)\n",
            "Requirement already satisfied: wasabi<1.2.0,>=0.9.1 in /usr/local/lib/python3.10/dist-packages (from spacy<3.8.0,>=3.7.0->es-core-news-sm==3.7.0) (1.1.3)\n",
            "Requirement already satisfied: srsly<3.0.0,>=2.4.3 in /usr/local/lib/python3.10/dist-packages (from spacy<3.8.0,>=3.7.0->es-core-news-sm==3.7.0) (2.4.8)\n",
            "Requirement already satisfied: catalogue<2.1.0,>=2.0.6 in /usr/local/lib/python3.10/dist-packages (from spacy<3.8.0,>=3.7.0->es-core-news-sm==3.7.0) (2.0.10)\n",
            "Requirement already satisfied: weasel<0.5.0,>=0.1.0 in /usr/local/lib/python3.10/dist-packages (from spacy<3.8.0,>=3.7.0->es-core-news-sm==3.7.0) (0.4.1)\n",
            "Requirement already satisfied: typer<1.0.0,>=0.3.0 in /usr/local/lib/python3.10/dist-packages (from spacy<3.8.0,>=3.7.0->es-core-news-sm==3.7.0) (0.15.0)\n",
            "Requirement already satisfied: tqdm<5.0.0,>=4.38.0 in /usr/local/lib/python3.10/dist-packages (from spacy<3.8.0,>=3.7.0->es-core-news-sm==3.7.0) (4.66.6)\n",
            "Requirement already satisfied: requests<3.0.0,>=2.13.0 in /usr/local/lib/python3.10/dist-packages (from spacy<3.8.0,>=3.7.0->es-core-news-sm==3.7.0) (2.32.3)\n",
            "Requirement already satisfied: pydantic!=1.8,!=1.8.1,<3.0.0,>=1.7.4 in /usr/local/lib/python3.10/dist-packages (from spacy<3.8.0,>=3.7.0->es-core-news-sm==3.7.0) (2.10.3)\n",
            "Requirement already satisfied: jinja2 in /usr/local/lib/python3.10/dist-packages (from spacy<3.8.0,>=3.7.0->es-core-news-sm==3.7.0) (3.1.4)\n",
            "Requirement already satisfied: setuptools in /usr/local/lib/python3.10/dist-packages (from spacy<3.8.0,>=3.7.0->es-core-news-sm==3.7.0) (75.1.0)\n",
            "Requirement already satisfied: packaging>=20.0 in /usr/local/lib/python3.10/dist-packages (from spacy<3.8.0,>=3.7.0->es-core-news-sm==3.7.0) (24.2)\n",
            "Requirement already satisfied: langcodes<4.0.0,>=3.2.0 in /usr/local/lib/python3.10/dist-packages (from spacy<3.8.0,>=3.7.0->es-core-news-sm==3.7.0) (3.5.0)\n",
            "Requirement already satisfied: numpy>=1.19.0 in /usr/local/lib/python3.10/dist-packages (from spacy<3.8.0,>=3.7.0->es-core-news-sm==3.7.0) (1.26.4)\n",
            "Requirement already satisfied: language-data>=1.2 in /usr/local/lib/python3.10/dist-packages (from langcodes<4.0.0,>=3.2.0->spacy<3.8.0,>=3.7.0->es-core-news-sm==3.7.0) (1.3.0)\n",
            "Requirement already satisfied: annotated-types>=0.6.0 in /usr/local/lib/python3.10/dist-packages (from pydantic!=1.8,!=1.8.1,<3.0.0,>=1.7.4->spacy<3.8.0,>=3.7.0->es-core-news-sm==3.7.0) (0.7.0)\n",
            "Requirement already satisfied: pydantic-core==2.27.1 in /usr/local/lib/python3.10/dist-packages (from pydantic!=1.8,!=1.8.1,<3.0.0,>=1.7.4->spacy<3.8.0,>=3.7.0->es-core-news-sm==3.7.0) (2.27.1)\n",
            "Requirement already satisfied: typing-extensions>=4.12.2 in /usr/local/lib/python3.10/dist-packages (from pydantic!=1.8,!=1.8.1,<3.0.0,>=1.7.4->spacy<3.8.0,>=3.7.0->es-core-news-sm==3.7.0) (4.12.2)\n",
            "Requirement already satisfied: charset-normalizer<4,>=2 in /usr/local/lib/python3.10/dist-packages (from requests<3.0.0,>=2.13.0->spacy<3.8.0,>=3.7.0->es-core-news-sm==3.7.0) (3.4.0)\n",
            "Requirement already satisfied: idna<4,>=2.5 in /usr/local/lib/python3.10/dist-packages (from requests<3.0.0,>=2.13.0->spacy<3.8.0,>=3.7.0->es-core-news-sm==3.7.0) (3.10)\n",
            "Requirement already satisfied: urllib3<3,>=1.21.1 in /usr/local/lib/python3.10/dist-packages (from requests<3.0.0,>=2.13.0->spacy<3.8.0,>=3.7.0->es-core-news-sm==3.7.0) (2.2.3)\n",
            "Requirement already satisfied: certifi>=2017.4.17 in /usr/local/lib/python3.10/dist-packages (from requests<3.0.0,>=2.13.0->spacy<3.8.0,>=3.7.0->es-core-news-sm==3.7.0) (2024.8.30)\n",
            "Requirement already satisfied: blis<0.8.0,>=0.7.8 in /usr/local/lib/python3.10/dist-packages (from thinc<8.3.0,>=8.2.2->spacy<3.8.0,>=3.7.0->es-core-news-sm==3.7.0) (0.7.11)\n",
            "Requirement already satisfied: confection<1.0.0,>=0.0.1 in /usr/local/lib/python3.10/dist-packages (from thinc<8.3.0,>=8.2.2->spacy<3.8.0,>=3.7.0->es-core-news-sm==3.7.0) (0.1.5)\n",
            "Requirement already satisfied: click>=8.0.0 in /usr/local/lib/python3.10/dist-packages (from typer<1.0.0,>=0.3.0->spacy<3.8.0,>=3.7.0->es-core-news-sm==3.7.0) (8.1.7)\n",
            "Requirement already satisfied: shellingham>=1.3.0 in /usr/local/lib/python3.10/dist-packages (from typer<1.0.0,>=0.3.0->spacy<3.8.0,>=3.7.0->es-core-news-sm==3.7.0) (1.5.4)\n",
            "Requirement already satisfied: rich>=10.11.0 in /usr/local/lib/python3.10/dist-packages (from typer<1.0.0,>=0.3.0->spacy<3.8.0,>=3.7.0->es-core-news-sm==3.7.0) (13.9.4)\n",
            "Requirement already satisfied: cloudpathlib<1.0.0,>=0.7.0 in /usr/local/lib/python3.10/dist-packages (from weasel<0.5.0,>=0.1.0->spacy<3.8.0,>=3.7.0->es-core-news-sm==3.7.0) (0.20.0)\n",
            "Requirement already satisfied: smart-open<8.0.0,>=5.2.1 in /usr/local/lib/python3.10/dist-packages (from weasel<0.5.0,>=0.1.0->spacy<3.8.0,>=3.7.0->es-core-news-sm==3.7.0) (7.0.5)\n",
            "Requirement already satisfied: MarkupSafe>=2.0 in /usr/local/lib/python3.10/dist-packages (from jinja2->spacy<3.8.0,>=3.7.0->es-core-news-sm==3.7.0) (3.0.2)\n",
            "Requirement already satisfied: marisa-trie>=1.1.0 in /usr/local/lib/python3.10/dist-packages (from language-data>=1.2->langcodes<4.0.0,>=3.2.0->spacy<3.8.0,>=3.7.0->es-core-news-sm==3.7.0) (1.2.1)\n",
            "Requirement already satisfied: markdown-it-py>=2.2.0 in /usr/local/lib/python3.10/dist-packages (from rich>=10.11.0->typer<1.0.0,>=0.3.0->spacy<3.8.0,>=3.7.0->es-core-news-sm==3.7.0) (3.0.0)\n",
            "Requirement already satisfied: pygments<3.0.0,>=2.13.0 in /usr/local/lib/python3.10/dist-packages (from rich>=10.11.0->typer<1.0.0,>=0.3.0->spacy<3.8.0,>=3.7.0->es-core-news-sm==3.7.0) (2.18.0)\n",
            "Requirement already satisfied: wrapt in /usr/local/lib/python3.10/dist-packages (from smart-open<8.0.0,>=5.2.1->weasel<0.5.0,>=0.1.0->spacy<3.8.0,>=3.7.0->es-core-news-sm==3.7.0) (1.17.0)\n",
            "Requirement already satisfied: mdurl~=0.1 in /usr/local/lib/python3.10/dist-packages (from markdown-it-py>=2.2.0->rich>=10.11.0->typer<1.0.0,>=0.3.0->spacy<3.8.0,>=3.7.0->es-core-news-sm==3.7.0) (0.1.2)\n",
            "Installing collected packages: es-core-news-sm\n",
            "Successfully installed es-core-news-sm-3.7.0\n",
            "\u001b[38;5;2m✔ Download and installation successful\u001b[0m\n",
            "You can now load the package via spacy.load('es_core_news_sm')\n",
            "\u001b[38;5;3m⚠ Restart to reload dependencies\u001b[0m\n",
            "If you are in a Jupyter or Colab notebook, you may need to restart Python in\n",
            "order to load all the package's dependencies. You can do this by selecting the\n",
            "'Restart kernel' or 'Restart runtime' option.\n"
          ]
        }
      ]
    },
    {
      "cell_type": "code",
      "execution_count": 12,
      "metadata": {
        "colab": {
          "base_uri": "https://localhost:8080/"
        },
        "id": "khBqYIow8N-d",
        "outputId": "2856a66f-0e9a-4dbf-8b60-660f55602bce"
      },
      "outputs": [
        {
          "output_type": "stream",
          "name": "stderr",
          "text": [
            "100%|██████████| 54296/54296 [12:34<00:00, 71.95it/s]\n"
          ]
        }
      ],
      "source": [
        "import spacy\n",
        "\n",
        "from tqdm import tqdm\n",
        "\n",
        "nlp = spacy.load('es_core_news_sm')\n",
        "\n",
        "def normalize(tweets, min_words=5):\n",
        "    \"\"\"\n",
        "    Función que dada una lista de tweets ([tweet, clase]), normaliza los tweets y devuelve una lista\n",
        "    con los tweets normalizados, descartando aquellos tweets que tras la normalización tengan menos de\n",
        "    \"min_words\" palabras en el tweet.\n",
        "\n",
        "    :param tweets:       Lista de Tweets ([tweet, clase]) con el tweet y la clase a la que pertenece\n",
        "    :param min_words:    Número minimo de palabras que tiene que tener un tweet tras la normalización\n",
        "    :return:             Lista de Tweets ([tweet, clase]) normalizados\n",
        "    \"\"\"\n",
        "    tweets_list = []\n",
        "    for tweet in tqdm(tweets):\n",
        "        # Tokenizamos el tweets realizando los puntos 1,2 y 3.\n",
        "        tw = nlp(tweet[0].lower().replace('.', ' ').replace('#', ' ').strip())\n",
        "\n",
        "        # Normalizamos Puntos 4,5y 6\n",
        "        tw = ([word.lemma_ for word in tw if (not word.is_punct)\n",
        "               and (not word.text.startswith('@'))\n",
        "               and (not word.text.startswith('http'))\n",
        "               and (not ':' in word.text)])\n",
        "\n",
        "        # Eliminamos los tweets que tras la normalización tengan menos de \"min_words\" palabras\n",
        "        if len(tw) >= min_words:\n",
        "            tweets_list.append([' '.join(tw), tweet[1]])\n",
        "    return tweets_list\n",
        "\n",
        "# Normalizamos las frases\n",
        "X_norm = normalize(tweets)"
      ]
    },
    {
      "cell_type": "markdown",
      "metadata": {
        "id": "nx2leqqV8N-e"
      },
      "source": [
        "#### <a name=\"Escritura\">Guardado de los tweets normalizados en un fichero binario</a>\n",
        "\n",
        "* Se guarda una lista de listas, donde en cada una de las listas se tiene:\n",
        "    - [0]: El Tweet normalizado\n",
        "    - [1]: La clase a la que pertenece el Tweet"
      ]
    },
    {
      "cell_type": "code",
      "source": [
        "import pickle\n",
        "import os\n",
        "\n",
        "# Create the 'models' directory if it doesn't exist\n",
        "os.makedirs('./models', exist_ok=True)\n",
        "\n",
        "filename = './models/17_normalized_tweets_LSTM.pickle'\n",
        "save_list = open(filename,\"wb\")\n",
        "pickle.dump(X_norm, save_list)\n",
        "save_list.close()"
      ],
      "metadata": {
        "id": "id4lj3A4Do6S"
      },
      "execution_count": 14,
      "outputs": []
    },
    {
      "cell_type": "markdown",
      "metadata": {
        "id": "IGG-TL5J8N-f"
      },
      "source": [
        "#### <a name=\"Lectura\">Lectura de los tweets normalizados de un fichero binario</a>\n",
        "\n",
        "* Lectura de una lista con la siguiente estructura:\n",
        "    - [0]: El Tweet normalizado\n",
        "    - [1]: La clase a la que pertenece el Tweet"
      ]
    },
    {
      "cell_type": "code",
      "execution_count": 15,
      "metadata": {
        "id": "hHGu2UgL8N-f"
      },
      "outputs": [],
      "source": [
        "import pickle\n",
        "\n",
        "filename = './models/17_normalized_tweets_LSTM.pickle'\n",
        "X_norm = pickle.load(open(filename, 'rb'))\n"
      ]
    },
    {
      "cell_type": "markdown",
      "metadata": {
        "id": "9H1TFhXk8N-f"
      },
      "source": [
        "<hr>\n",
        "\n",
        "\n",
        "## Particionado de Datos (Train y Test)\n",
        "\n",
        "* Dado que las temáticas de los tweets varian en función del tiempo (tienen caracter temporal), vamos a particionar los datos temporalmente.\n",
        "\n",
        "\n",
        "* Seleccionaremos como tweets de entrenamiento aquellos que se han escrito hasta una determinada fecha y como tweets de test los últimos tweets escritos.\n",
        "\n",
        "\n",
        "* Seleccionaremos un 2% de tweets de test, siendo estos los últimos tweets registrados en el dataset (los tweets están escritos de manera cronológica).\n",
        "\n",
        "\n",
        "* Por tanto nos vamos a quedar con:\n",
        "    - 98% de datos de entrenamiento\n",
        "    - 2% de datos de test"
      ]
    },
    {
      "cell_type": "code",
      "execution_count": 16,
      "metadata": {
        "colab": {
          "base_uri": "https://localhost:8080/"
        },
        "id": "wOgFRCoR8N-g",
        "outputId": "0dae39ee-e4e2-43b0-a2b4-ece6d60d0532"
      },
      "outputs": [
        {
          "output_type": "stream",
          "name": "stdout",
          "text": [
            "Corte en el tweet número 50762 de los 51797 tweets del Dataset.\n",
            "Tweets de entrenamiento: 50762\n",
            "Tweets de Test: 1035\n"
          ]
        }
      ],
      "source": [
        "# Divido los datos en dos listas\n",
        "#     X: los tweets\n",
        "#     y: target (polaridad)\n",
        "\n",
        "X = [doc[0] for doc in X_norm]\n",
        "y = np.array([doc[1] for doc in X_norm])\n",
        "\n",
        "# Particionamos los datos en Entrenamiento y Test\n",
        "\n",
        "PCT_TEST = 0.02\n",
        "n_tail = len(X) - int(len(X) * PCT_TEST)\n",
        "print('Corte en el tweet número {} de los {} tweets del Dataset.'.format(n_tail, len(X)))\n",
        "\n",
        "X_train = X[:n_tail]\n",
        "y_train = y[:n_tail]\n",
        "X_test = X[n_tail:]\n",
        "y_test = y[n_tail:]\n",
        "\n",
        "print('Tweets de entrenamiento: {}'.format(len(X_train)))\n",
        "print('Tweets de Test: {}'.format(len(X_test)))\n"
      ]
    },
    {
      "cell_type": "markdown",
      "metadata": {
        "id": "YajYlol18N-g"
      },
      "source": [
        "<hr>\n",
        "\n",
        "\n",
        "## One-Hot Encoding y codificación del target\n",
        "\n",
        "\n",
        "* Con las Redes Neuronales Recurrentes vamos a tratar los tweets como secuencias de palabras y por tanto tenemos que realizar una codificación de todas palabras que aparecen en los tweets.\n",
        "\n",
        "\n",
        "* Para ello TensorFlow nos proporciona una función llamada \"one_hot\" que dado un texto y el tamaño que tendrá nuestro vocabulario, nos codifica el texto por palabras. En el siguiente enlace esta la documentación de esta función:<br>\n",
        "https://www.tensorflow.org/api_docs/python/tf/keras/preprocessing/text/one_hot\n",
        "\n",
        "\n",
        "* Veamos a continuación un ejemplo de como codificamos los textos:\n",
        "\n",
        "\n",
        "```python\n",
        "one_hot(\"Esto es un ejemplo de onehot encoding\", 100)\n",
        "```\n",
        "\n",
        "```ssh\n",
        ">> [6, 88, 30, 81, 31, 52, 22]\n",
        "```\n",
        "\n",
        "* Si realizamos una codificación de un string que continene palabras identicas, nos lo codifica con el mismo identificador como es de esperar:\n",
        "\n",
        "```python\n",
        "one_hot(\"Esto es otro ejemplo\", 100)\n",
        "```\n",
        "\n",
        "```ssh\n",
        ">> [6, 88, 79, 81]\n",
        "```\n",
        "\n",
        "\n",
        "* Por tanto vemos como utiliza identificadores numéricos del 1 al 100 para codificar las palabras de los strings:\n",
        "\n",
        "    + \"Esto\" = 6\n",
        "    + \"es\" = 88\n",
        "    + \"un\" = 30\n",
        "    + \"ejemplo\" = 81\n",
        "    + \"de\" = 31\n",
        "    + \"onehot\" = 52\n",
        "    + \"encoding\" = 22\n",
        "    + \"otro\" = 79\n",
        "    \n",
        "    \n",
        "* Los identificadores que asigna a las palabras los obtiene aplicando una función \"*hash*\" a las palabras, de ahí que no sea necesario crear un \"modelo\" de \"one-hot Encode\" (como en scikit) para codificar otros strings (strings a predecir).\n",
        "\n",
        "\n",
        "* Lo único que hay que respetar para que nos codifique una misma palabra con el mismo identificador es el ***tamaño del vocabulario 'n'*** que se le pasa a la función \"*one_hot(text, n)*\" que en el ejemplo puesto anteriormente tiene valor *100*.\n",
        "\n",
        "\n",
        "* Este valor '*n*' del vocabulario debe de tener (a priori) un valor lo suficientemente grande como para poder codificar todas las posibles palabras que podamos utilizar en una lengua (Español, Inglés, Alemán, etc.).\n",
        "\n",
        "\n",
        "* El último paso que vamos a realizar es la codificación del nombre del partido político utilizando la clase \"LabelEncoder()\" de scikit.\n",
        "    "
      ]
    },
    {
      "cell_type": "code",
      "execution_count": 17,
      "metadata": {
        "id": "P-zIKDO98N-g"
      },
      "outputs": [],
      "source": [
        "from sklearn.preprocessing import LabelEncoder\n",
        "from tensorflow.keras.preprocessing.text import one_hot\n",
        "\n",
        "# Hacemos un one-hot encoder del texto\n",
        "VOCAB_SIZE = 100000 # Poner un valor muy alto\n",
        "X_train = [one_hot(doc, VOCAB_SIZE) for doc in X_train]\n",
        "X_test = [one_hot(doc, VOCAB_SIZE) for doc in X_test]\n",
        "\n",
        "# Codificación del Target\n",
        "encoder = LabelEncoder()\n",
        "encoder.fit(y_train)\n",
        "y_train = encoder.transform(y_train)\n",
        "y_test = encoder.transform(y_test)"
      ]
    },
    {
      "cell_type": "markdown",
      "metadata": {
        "id": "HEd0IndD8N-h"
      },
      "source": [
        "<hr>\n",
        "\n",
        "\n",
        "## Creacción de las secuencias de palabras\n",
        "\n",
        "\n",
        "* Las Redes Neuronales necesitan un tamaño fijo de entrada y los tweets tienen un número variable de palabras, por lo que hay que hay que transformar los tweets a secuencias de palabras de tamaño fijo.\n",
        "\n",
        "\n",
        "* Para realizar esta labor, TensorFlow nos proporciona la función \"*pad_sequences(sequences, maxlen)*\" que dada una lista de secuencias nos devuelve esa secuencia con el tapaño que le hayamos indicado como parámetro, rellenando en caso de que la secuencia sea de mayor tamaño con algún valor por defecto (en principio a cero). En el siguiente enlace esta la documentación de esta función:<br>\n",
        "https://www.tensorflow.org/api_docs/python/tf/keras/preprocessing/sequence/pad_sequences\n",
        "\n",
        "\n",
        "* Un ejemplo de esta función sería la siguiente, en el que indicamos que nos devuelva las secuencias que le pasamos como parámetro con un tamaño de '10' posiciones y rellenando las posiciones faltantes con ceros (value=0) añadiendolos al final de la secuencia (padding='post'):\n",
        "\n",
        "```python\n",
        "sequences = [[6, 88, 30, 81, 31, 52, 22], [6, 88, 79, 81]]\n",
        "pad_sequences(sequences=sequences, maxlen=10, padding='post', value=0)\n",
        "```\n",
        "\n",
        "\n",
        "```ssh\n",
        "array([[ 6, 88, 30, 81, 31, 52, 22,  0,  0,  0],\n",
        "       [ 6, 88, 79, 81,  0,  0,  0,  0,  0,  0]], dtype=int32)\n",
        "```\n",
        "\n",
        "\n",
        "* A continuación pasamos a crear las secuencias de los tweets (50 elementos) tanto de entrenamiento como de test:\n"
      ]
    },
    {
      "cell_type": "code",
      "execution_count": 18,
      "metadata": {
        "id": "bKVDmTj-8N-h"
      },
      "outputs": [],
      "source": [
        "from tensorflow.keras.preprocessing.sequence import pad_sequences\n",
        "\n",
        "MAX_WORDS_TWEET = 50\n",
        "pad_corpus_train = pad_sequences(X_train, maxlen=MAX_WORDS_TWEET, padding='post')\n",
        "pad_corpus_test = pad_sequences(X_test, maxlen=MAX_WORDS_TWEET, padding='post')"
      ]
    },
    {
      "cell_type": "markdown",
      "metadata": {
        "id": "KcKbMFfA8N-k"
      },
      "source": [
        "<hr>\n",
        "\n",
        "\n",
        "# Definición de la Red Neuronal\n",
        "\n",
        "\n",
        "* La arquitectura de la red para la clasificación de las tendencias políticas es la siguiente:\n",
        "<span></span><br><br>\n",
        "    - ***Capa Embedding***: Capa de Embedding que soportará un tamaño de 100.000 palabras (VOCAB_SIZE) y cada palabra estará representada por 32 características (EMBEDDING_SIZE). -*ver Bonus Track II*-\n",
        "<span></span><br><br>\n",
        "    - ***Capa LSTM***: Capa LSTM con 32 celdas de memoria. Son 32 por el tamaño de representación de la palabra (EMBEDDING_SIZE).\n",
        "<span></span><br><br>\n",
        "    - ***Capa 4***: Capa de salida con 5 neurona (una por tendencia política) y una función de activación 'softmax' para que nos \"normalice la salida\"\n",
        "    \n",
        "    \n",
        "* Para la capa de salida aplicamos un dropout del 20% para que nuestra red no se sobreajuste y generalize mejor\n",
        "\n",
        "\n",
        "* Por último vamos a compilar la red:\n",
        "<span></span><br><br>\n",
        "    - ***Función de perdida: 'categorical_crossentropy'*** (Funciones de Perdida: https://www.tensorflow.org/api_docs/python/tf/keras/losses). En realidad usaremos la '*sparse_categorical_crossentropy*' ya que la salida no la hemos codificado con un one-hot encoding \\[\\[1,0,0,0,0\\], \\[0,1,0,0,0\\], ..., \\[0,0,0,0,1\\],\\] si no con un label encode \\[0,1,2,3,4\\].\n",
        "<span></span><br><br>\n",
        "    - ***Optimizador: 'adam'*** (Optimizadores: https://www.tensorflow.org/api_docs/python/tf/keras/optimizers)\n",
        "<span></span><br><br>\n",
        "    - Metricas: en cada epoch pediremos que nos muestre el accuracy."
      ]
    },
    {
      "cell_type": "code",
      "execution_count": 19,
      "metadata": {
        "colab": {
          "base_uri": "https://localhost:8080/",
          "height": 268
        },
        "id": "Z4Ex-N8g8N-l",
        "outputId": "e27e4cc4-7f4b-4dc5-bbb6-05888bbd73e3"
      },
      "outputs": [
        {
          "output_type": "display_data",
          "data": {
            "text/plain": [
              "\u001b[1mModel: \"sequential\"\u001b[0m\n"
            ],
            "text/html": [
              "<pre style=\"white-space:pre;overflow-x:auto;line-height:normal;font-family:Menlo,'DejaVu Sans Mono',consolas,'Courier New',monospace\"><span style=\"font-weight: bold\">Model: \"sequential\"</span>\n",
              "</pre>\n"
            ]
          },
          "metadata": {}
        },
        {
          "output_type": "display_data",
          "data": {
            "text/plain": [
              "┏━━━━━━━━━━━━━━━━━━━━━━━━━━━━━━━━━━━━━━┳━━━━━━━━━━━━━━━━━━━━━━━━━━━━━┳━━━━━━━━━━━━━━━━━┓\n",
              "┃\u001b[1m \u001b[0m\u001b[1mLayer (type)                        \u001b[0m\u001b[1m \u001b[0m┃\u001b[1m \u001b[0m\u001b[1mOutput Shape               \u001b[0m\u001b[1m \u001b[0m┃\u001b[1m \u001b[0m\u001b[1m        Param #\u001b[0m\u001b[1m \u001b[0m┃\n",
              "┡━━━━━━━━━━━━━━━━━━━━━━━━━━━━━━━━━━━━━━╇━━━━━━━━━━━━━━━━━━━━━━━━━━━━━╇━━━━━━━━━━━━━━━━━┩\n",
              "│ embedding (\u001b[38;5;33mEmbedding\u001b[0m)                │ ?                           │     \u001b[38;5;34m0\u001b[0m (unbuilt) │\n",
              "├──────────────────────────────────────┼─────────────────────────────┼─────────────────┤\n",
              "│ lstm (\u001b[38;5;33mLSTM\u001b[0m)                          │ ?                           │     \u001b[38;5;34m0\u001b[0m (unbuilt) │\n",
              "├──────────────────────────────────────┼─────────────────────────────┼─────────────────┤\n",
              "│ dropout (\u001b[38;5;33mDropout\u001b[0m)                    │ ?                           │     \u001b[38;5;34m0\u001b[0m (unbuilt) │\n",
              "├──────────────────────────────────────┼─────────────────────────────┼─────────────────┤\n",
              "│ dense (\u001b[38;5;33mDense\u001b[0m)                        │ ?                           │     \u001b[38;5;34m0\u001b[0m (unbuilt) │\n",
              "└──────────────────────────────────────┴─────────────────────────────┴─────────────────┘\n"
            ],
            "text/html": [
              "<pre style=\"white-space:pre;overflow-x:auto;line-height:normal;font-family:Menlo,'DejaVu Sans Mono',consolas,'Courier New',monospace\">┏━━━━━━━━━━━━━━━━━━━━━━━━━━━━━━━━━━━━━━┳━━━━━━━━━━━━━━━━━━━━━━━━━━━━━┳━━━━━━━━━━━━━━━━━┓\n",
              "┃<span style=\"font-weight: bold\"> Layer (type)                         </span>┃<span style=\"font-weight: bold\"> Output Shape                </span>┃<span style=\"font-weight: bold\">         Param # </span>┃\n",
              "┡━━━━━━━━━━━━━━━━━━━━━━━━━━━━━━━━━━━━━━╇━━━━━━━━━━━━━━━━━━━━━━━━━━━━━╇━━━━━━━━━━━━━━━━━┩\n",
              "│ embedding (<span style=\"color: #0087ff; text-decoration-color: #0087ff\">Embedding</span>)                │ ?                           │     <span style=\"color: #00af00; text-decoration-color: #00af00\">0</span> (unbuilt) │\n",
              "├──────────────────────────────────────┼─────────────────────────────┼─────────────────┤\n",
              "│ lstm (<span style=\"color: #0087ff; text-decoration-color: #0087ff\">LSTM</span>)                          │ ?                           │     <span style=\"color: #00af00; text-decoration-color: #00af00\">0</span> (unbuilt) │\n",
              "├──────────────────────────────────────┼─────────────────────────────┼─────────────────┤\n",
              "│ dropout (<span style=\"color: #0087ff; text-decoration-color: #0087ff\">Dropout</span>)                    │ ?                           │     <span style=\"color: #00af00; text-decoration-color: #00af00\">0</span> (unbuilt) │\n",
              "├──────────────────────────────────────┼─────────────────────────────┼─────────────────┤\n",
              "│ dense (<span style=\"color: #0087ff; text-decoration-color: #0087ff\">Dense</span>)                        │ ?                           │     <span style=\"color: #00af00; text-decoration-color: #00af00\">0</span> (unbuilt) │\n",
              "└──────────────────────────────────────┴─────────────────────────────┴─────────────────┘\n",
              "</pre>\n"
            ]
          },
          "metadata": {}
        },
        {
          "output_type": "display_data",
          "data": {
            "text/plain": [
              "\u001b[1m Total params: \u001b[0m\u001b[38;5;34m0\u001b[0m (0.00 B)\n"
            ],
            "text/html": [
              "<pre style=\"white-space:pre;overflow-x:auto;line-height:normal;font-family:Menlo,'DejaVu Sans Mono',consolas,'Courier New',monospace\"><span style=\"font-weight: bold\"> Total params: </span><span style=\"color: #00af00; text-decoration-color: #00af00\">0</span> (0.00 B)\n",
              "</pre>\n"
            ]
          },
          "metadata": {}
        },
        {
          "output_type": "display_data",
          "data": {
            "text/plain": [
              "\u001b[1m Trainable params: \u001b[0m\u001b[38;5;34m0\u001b[0m (0.00 B)\n"
            ],
            "text/html": [
              "<pre style=\"white-space:pre;overflow-x:auto;line-height:normal;font-family:Menlo,'DejaVu Sans Mono',consolas,'Courier New',monospace\"><span style=\"font-weight: bold\"> Trainable params: </span><span style=\"color: #00af00; text-decoration-color: #00af00\">0</span> (0.00 B)\n",
              "</pre>\n"
            ]
          },
          "metadata": {}
        },
        {
          "output_type": "display_data",
          "data": {
            "text/plain": [
              "\u001b[1m Non-trainable params: \u001b[0m\u001b[38;5;34m0\u001b[0m (0.00 B)\n"
            ],
            "text/html": [
              "<pre style=\"white-space:pre;overflow-x:auto;line-height:normal;font-family:Menlo,'DejaVu Sans Mono',consolas,'Courier New',monospace\"><span style=\"font-weight: bold\"> Non-trainable params: </span><span style=\"color: #00af00; text-decoration-color: #00af00\">0</span> (0.00 B)\n",
              "</pre>\n"
            ]
          },
          "metadata": {}
        }
      ],
      "source": [
        "from tensorflow.keras.layers import Dense, Dropout, Flatten, Input, LSTM\n",
        "from tensorflow.keras.layers import Embedding\n",
        "from tensorflow.keras.models import Sequential\n",
        "\n",
        "EMBEDDING_SIZE = 32\n",
        "\n",
        "model = Sequential()\n",
        "model.add(Embedding(VOCAB_SIZE, EMBEDDING_SIZE))\n",
        "model.add(LSTM(EMBEDDING_SIZE))\n",
        "model.add(Dropout(0.1))\n",
        "model.add(Dense(5, activation='softmax'))\n",
        "model.compile(loss='sparse_categorical_crossentropy', optimizer='adam', metrics=['accuracy'])\n",
        "\n",
        "# Imprimimos la arquitectura de la red\n",
        "model.summary()"
      ]
    },
    {
      "cell_type": "markdown",
      "metadata": {
        "id": "-uvJ0slN8N-m"
      },
      "source": [
        "* Parámetros a calcular en la red:\n",
        "    - Capa de Embedding: -> 100000 palabras * 32 caracterísiticas = 3200000\n",
        "    - Capa LSTM: 4*(32 * 32 + 32<sup>2</sup> + 32) = 8320\n",
        "    - Conexiones \"LSTM -> Capa salida\" = (32 * 5) + 5 = 165\n",
        "    \n",
        "    \n",
        "<hr>\n",
        "\n",
        "\n",
        "# Entrenamiento de la Red Neuronal\n",
        "\n",
        "\n",
        "* Vamos a entrenar la red con los siguientes parámetros:\n",
        "<span></span><br><br>\n",
        "    - *batch_size = 128* : Cada 128 tweets se calculan los nuevos pesos de la red\n",
        "<span></span><br><br>\n",
        "    - *epochs = 10*\n",
        "<span></span><br><br>\n",
        "    - *validation_split = datos de test*\n",
        "    \n",
        "\n",
        "* Dado que puede ser un entrenamiento muy pesado y que puede tardar varios minútos, vamos a utilizar la herramienta del \"Tensorboard\" para monitorizar la evolución de la función de perdida y el Accuracy.\n",
        "\n",
        "\n",
        "* Para más información sobre esta herramienta ver el siguiente enlace:<br>https://www.tensorflow.org/tensorboard\n",
        "\n",
        "\n",
        "* Básicamente lo que hacer Tensorboard es leer una serie de logs y representar esos logs por medio de una interfaz web.\n",
        "\n",
        "\n",
        "* Para representar la evolución de la función de perdida y el Accuracy, tenemos que escribir estos valores en un log que debemos guardarlos en una ruta conocida ('tensorboard_logs/FECHA_EJECUCION') y que generaremos  en el siguiente código.\n",
        "\n",
        "\n",
        "* Para instanciar el Tensorboard lo hacemos de la siguiente manera por consola, pasandole como parámetro la ruta donde se encuentran los logs:\n",
        "```ssh\n",
        ">> tensorboard --logdir ./tensorboard_logs/\n",
        "```\n",
        "\n",
        "* Una vez instanciado el Tensorboard nos indicará que abramos en el navegador el siguiente enlace:<br> http://localhost:6006/"
      ]
    },
    {
      "cell_type": "code",
      "execution_count": 20,
      "metadata": {
        "id": "3fB-MPd-8N-m"
      },
      "outputs": [],
      "source": [
        "# Se fuerza a usar la CPU y no la GPU en caso de tener GPU en el ordenador\n",
        "import os\n",
        "os.environ['CUDA_VISIBLE_DEVICES'] = '-1'"
      ]
    },
    {
      "cell_type": "code",
      "source": [
        "import absl.logging\n",
        "absl.logging.set_verbosity(absl.logging.ERROR)\n",
        "\n",
        "from tensorflow.keras.callbacks import ModelCheckpoint, TensorBoard\n",
        "\n",
        "# Configuramos TensorBoard\n",
        "now = datetime.datetime.now().strftime(\"%Y%m%d-%H%M%S\")\n",
        "os.makedirs('tensorboard_logs/{}'.format(now))\n",
        "tensorboard_path = os.path.join('tensorboard_logs', now)\n",
        "tensorboard = TensorBoard(log_dir=tensorboard_path,\n",
        "                          histogram_freq=2,\n",
        "                          write_graph=True,\n",
        "                          write_images=True)"
      ],
      "metadata": {
        "id": "DjAa6T6IFnm6"
      },
      "execution_count": 22,
      "outputs": []
    },
    {
      "cell_type": "code",
      "execution_count": 24,
      "metadata": {
        "scrolled": false,
        "colab": {
          "base_uri": "https://localhost:8080/"
        },
        "id": "rKroVYcp8N-n",
        "outputId": "a087c53c-95f2-4b9b-a8fe-92b3dc651b6e"
      },
      "outputs": [
        {
          "output_type": "stream",
          "name": "stdout",
          "text": [
            "Epoch 1/15\n",
            "397/397 - 31s - 77ms/step - accuracy: 0.4869 - loss: 1.2250 - val_accuracy: 0.6068 - val_loss: 1.0007\n",
            "Epoch 2/15\n",
            "397/397 - 37s - 94ms/step - accuracy: 0.7311 - loss: 0.7458 - val_accuracy: 0.6860 - val_loss: 0.8798\n",
            "Epoch 3/15\n",
            "397/397 - 43s - 108ms/step - accuracy: 0.8310 - loss: 0.4922 - val_accuracy: 0.6628 - val_loss: 0.9399\n",
            "Epoch 4/15\n",
            "397/397 - 25s - 64ms/step - accuracy: 0.8889 - loss: 0.3362 - val_accuracy: 0.6841 - val_loss: 0.9735\n",
            "Epoch 5/15\n",
            "397/397 - 42s - 106ms/step - accuracy: 0.9303 - loss: 0.2237 - val_accuracy: 0.6879 - val_loss: 1.1231\n",
            "Epoch 6/15\n",
            "397/397 - 39s - 98ms/step - accuracy: 0.9517 - loss: 0.1636 - val_accuracy: 0.6841 - val_loss: 1.2648\n",
            "Epoch 7/15\n",
            "397/397 - 43s - 107ms/step - accuracy: 0.9630 - loss: 0.1251 - val_accuracy: 0.6618 - val_loss: 1.3442\n",
            "Epoch 8/15\n",
            "397/397 - 40s - 102ms/step - accuracy: 0.9726 - loss: 0.0966 - val_accuracy: 0.6483 - val_loss: 1.4862\n",
            "Epoch 9/15\n",
            "397/397 - 42s - 106ms/step - accuracy: 0.9762 - loss: 0.0819 - val_accuracy: 0.6444 - val_loss: 1.5236\n",
            "Epoch 10/15\n",
            "397/397 - 39s - 98ms/step - accuracy: 0.9804 - loss: 0.0679 - val_accuracy: 0.6609 - val_loss: 1.5624\n",
            "Epoch 11/15\n",
            "397/397 - 44s - 111ms/step - accuracy: 0.9840 - loss: 0.0552 - val_accuracy: 0.6522 - val_loss: 1.6628\n",
            "Epoch 12/15\n",
            "397/397 - 39s - 97ms/step - accuracy: 0.9875 - loss: 0.0454 - val_accuracy: 0.6609 - val_loss: 1.8605\n",
            "Epoch 13/15\n",
            "397/397 - 27s - 68ms/step - accuracy: 0.9869 - loss: 0.0445 - val_accuracy: 0.6589 - val_loss: 1.7653\n",
            "Epoch 14/15\n",
            "397/397 - 25s - 63ms/step - accuracy: 0.9877 - loss: 0.0425 - val_accuracy: 0.6589 - val_loss: 1.7863\n",
            "Epoch 15/15\n",
            "397/397 - 43s - 109ms/step - accuracy: 0.9889 - loss: 0.0401 - val_accuracy: 0.6502 - val_loss: 1.7754\n"
          ]
        }
      ],
      "source": [
        "# Creamos el checkpoint para exportar el modelo que mejor accuracy tiene con los datos de test\n",
        "model_path ='./models/LSTM_Best_Model.keras' # Added .keras extension\n",
        "checkpoint = ModelCheckpoint(model_path,\n",
        "                             monitor='val_accuracy',\n",
        "                             save_best_only = True,\n",
        "                             save_weights_only = False,\n",
        "                             mode='max',\n",
        "                             verbose=0)\n",
        "\n",
        "history=model.fit(pad_corpus_train,\n",
        "                  y_train,\n",
        "                  batch_size=128,\n",
        "                  epochs=15,\n",
        "                  validation_data=(pad_corpus_test, y_test),\n",
        "                  verbose=2,\n",
        "                  callbacks=[tensorboard, checkpoint])\n",
        "\n"
      ]
    },
    {
      "cell_type": "markdown",
      "metadata": {
        "id": "4YGNGxu28N-o"
      },
      "source": [
        "* Pintamos como evoluciona la función de perdida y el Accuracy por epoch tanto en entrenamiento como en test."
      ]
    },
    {
      "cell_type": "code",
      "execution_count": 25,
      "metadata": {
        "id": "3U4sVqGd8N-o"
      },
      "outputs": [],
      "source": [
        "import matplotlib.pyplot as plt\n",
        "%matplotlib inline\n",
        "\n",
        "# Pintamos las métricas por epoch\n",
        "def plot_metric(history, name, remove_first=0):\n",
        "    metric_train = np.array(history.history[name])[remove_first:]\n",
        "    metric_test = np.array(history.history['val_{}'.format(name)])[remove_first:]\n",
        "    acum_avg_metric_train = (np.cumsum(metric_train) / (np.arange(metric_train.shape[-1]) + 1))[remove_first:]\n",
        "    acum_avg_metric_test = (np.cumsum(metric_test) / (np.arange(metric_test.shape[-1]) + 1))[remove_first:]\n",
        "    plt.figure(figsize=(20, 8))\n",
        "    plt.subplot(1, 2, 1)\n",
        "    plt.title('{} - Epochs'.format(name))\n",
        "    plt.plot(metric_train, label='{} Train'.format(name))\n",
        "    plt.plot(metric_test, label='{} Test'.format(name))\n",
        "    plt.grid()\n",
        "    plt.legend(loc='upper center')\n",
        "    plt.subplot(1, 2, 2)\n",
        "    plt.title('AVG ACCUMULATIVE {} - Epochs'.format(name))\n",
        "    plt.plot(acum_avg_metric_train, label='{} Train'.format(name))\n",
        "    plt.plot(acum_avg_metric_test, label='{} Test'.format(name))\n",
        "    plt.grid()\n",
        "    plt.legend(loc='upper center')\n",
        "    plt.show()"
      ]
    },
    {
      "cell_type": "code",
      "execution_count": 26,
      "metadata": {
        "colab": {
          "base_uri": "https://localhost:8080/",
          "height": 556
        },
        "id": "cCAbOioE8N-o",
        "outputId": "e7df717e-6bce-434d-ac1a-cbcbcfe67a4f"
      },
      "outputs": [
        {
          "output_type": "display_data",
          "data": {
            "text/plain": [
              "<Figure size 2000x800 with 2 Axes>"
            ],
            "image/png": "[encoded data removed]"
          },
          "metadata": {}
        }
      ],
      "source": [
        "# Función de perdida\n",
        "plot_metric(history=history, name='loss')"
      ]
    },
    {
      "cell_type": "code",
      "execution_count": 27,
      "metadata": {
        "colab": {
          "base_uri": "https://localhost:8080/",
          "height": 560
        },
        "id": "l04cewc08N-p",
        "outputId": "5d13b7e4-bad4-4b60-f2a6-92594356e43c"
      },
      "outputs": [
        {
          "output_type": "display_data",
          "data": {
            "text/plain": [
              "<Figure size 2000x800 with 2 Axes>"
            ],
            "image/png": "[encoded data removed]"
          },
          "metadata": {}
        }
      ],
      "source": [
        "# Accuracy\n",
        "plot_metric(history=history, name='accuracy')"
      ]
    },
    {
      "cell_type": "markdown",
      "metadata": {
        "id": "H9QzeABZ8N-p"
      },
      "source": [
        "<hr>\n",
        "\n",
        "\n",
        "## Evaluamos el (mejor) modelo\n",
        "\n",
        "* Pasamos a evaluar el modelo con los datos de test, calculando las siguientes métricas de evaluación:\n",
        "\n",
        "    1. **Accuracy**\n",
        "    2. **Precision**\n",
        "    3. **Recall**\n",
        "    4. **F1**"
      ]
    },
    {
      "cell_type": "markdown",
      "metadata": {
        "id": "uYLYonUS8N-p"
      },
      "source": [
        "* Importamos el mejor modelo creado"
      ]
    },
    {
      "cell_type": "code",
      "execution_count": 28,
      "metadata": {
        "id": "WovttNqN8N-q"
      },
      "outputs": [],
      "source": [
        "from tensorflow.keras.models import load_model\n",
        "\n",
        "model = load_model(model_path)"
      ]
    },
    {
      "cell_type": "markdown",
      "metadata": {
        "id": "EhPFJPBy8N-q"
      },
      "source": [
        "* Obtenemos las métricas"
      ]
    },
    {
      "cell_type": "code",
      "execution_count": 29,
      "metadata": {
        "colab": {
          "base_uri": "https://localhost:8080/"
        },
        "id": "8viBrnKP8N-q",
        "outputId": "79adcf88-d0de-4087-a8af-ec15dfc8116d"
      },
      "outputs": [
        {
          "output_type": "stream",
          "name": "stdout",
          "text": [
            "\u001b[1m33/33\u001b[0m \u001b[32m━━━━━━━━━━━━━━━━━━━━\u001b[0m\u001b[37m\u001b[0m \u001b[1m1s\u001b[0m 14ms/step\n",
            "Accuracy: 0.6879\n",
            "F1: 0.6864\n",
            "Precision: 0.6867\n",
            "Recall: 0.6879\n",
            "              precision    recall  f1-score   support\n",
            "\n",
            "  ciudadanos       0.64      0.52      0.57       127\n",
            "     podemos       0.71      0.73      0.72       227\n",
            "          pp       0.57      0.58      0.57       148\n",
            "        psoe       0.76      0.78      0.77       320\n",
            "         vox       0.66      0.68      0.67       213\n",
            "\n",
            "    accuracy                           0.69      1035\n",
            "   macro avg       0.67      0.66      0.66      1035\n",
            "weighted avg       0.69      0.69      0.69      1035\n",
            "\n",
            "\u001b[1m1587/1587\u001b[0m \u001b[32m━━━━━━━━━━━━━━━━━━━━\u001b[0m\u001b[37m\u001b[0m \u001b[1m12s\u001b[0m 8ms/step\n"
          ]
        }
      ],
      "source": [
        "from sklearn.metrics import accuracy_score, f1_score, precision_score, recall_score, confusion_matrix, classification_report\n",
        "\n",
        "y_true = encoder.inverse_transform(y_test.reshape(-1))\n",
        "y_pred = np.argmax(model.predict(pad_corpus_test), axis=-1)\n",
        "y_pred = encoder.inverse_transform(y_pred.reshape(-1))\n",
        "\n",
        "print('Accuracy: {acc:0.4f}'.format(acc=accuracy_score(y_true=y_true, y_pred=y_pred)))\n",
        "print('F1: {f1:0.4f}'.format(f1=f1_score(y_true=y_true, y_pred=y_pred, average='weighted')))\n",
        "print('Precision: {pre:0.4f}'.format(pre=precision_score(y_true=y_true, y_pred=y_pred, average='weighted')))\n",
        "print('Recall: {rec:0.4f}'.format(rec=recall_score(y_true=y_true, y_pred=y_pred, average='weighted')))\n",
        "print(classification_report(y_true=y_true, y_pred=y_pred))\n",
        "labels = ['psoe', 'pp', 'vox', 'podemos', 'ciudadanos']\n",
        "confusion_matrix_test = confusion_matrix(y_true=y_true,\n",
        "                                         y_pred=y_pred,\n",
        "                                         labels=labels)\n",
        "confusion_matrix_train = confusion_matrix(y_true=encoder.inverse_transform(y_train.reshape(-1)),\n",
        "                                          y_pred=encoder.inverse_transform(np.argmax(model.predict(pad_corpus_train), axis=-1)),\n",
        "                                          labels=labels)\n"
      ]
    },
    {
      "cell_type": "markdown",
      "metadata": {
        "id": "sZjsiZiL8N-r"
      },
      "source": [
        "* Pintamos la matriz de confusión"
      ]
    },
    {
      "cell_type": "code",
      "execution_count": 30,
      "metadata": {
        "colab": {
          "base_uri": "https://localhost:8080/",
          "height": 536
        },
        "id": "ywH5nkc38N-s",
        "outputId": "4c9bd308-f256-490e-c0c1-769be3f70015"
      },
      "outputs": [
        {
          "output_type": "display_data",
          "data": {
            "text/plain": [
              "<Figure size 1600x600 with 4 Axes>"
            ],
            "image/png": "[encoded data removed]"
          },
          "metadata": {}
        }
      ],
      "source": [
        "import numpy as np\n",
        "import matplotlib.pyplot as plt\n",
        "import itertools\n",
        "%matplotlib inline\n",
        "\n",
        "def plot_confusion_matrix(cm, classes, title, cmap=plt.cm.Blues):\n",
        "    \"\"\"\n",
        "    This function prints and plots the confusion matrix.\n",
        "    \"\"\"\n",
        "    plt.imshow(cm, interpolation='nearest', cmap=cmap)\n",
        "    plt.title(title)\n",
        "    plt.colorbar()\n",
        "    tick_marks = np.arange(len(classes))\n",
        "    plt.xticks(tick_marks, classes, rotation=45)\n",
        "    plt.yticks(tick_marks, classes)\n",
        "\n",
        "    thresh = cm.max() / 2.\n",
        "    for i, j in itertools.product(range(cm.shape[0]), range(cm.shape[1])):\n",
        "        plt.text(j, i, format(cm[i, j], 'd'), horizontalalignment=\"center\",\n",
        "                 color=\"white\" if cm[i, j] > thresh else \"black\")\n",
        "\n",
        "    plt.tight_layout()\n",
        "    plt.ylabel('True label')\n",
        "    plt.xlabel('Predicted label')\n",
        "\n",
        "\n",
        "# Pintamos las matrices de confusión\n",
        "plt.figure(figsize=(16, 6))\n",
        "plt.subplot(1, 2, 1)\n",
        "plot_confusion_matrix(confusion_matrix_train, classes=labels, title='Matriz de Confusión Datos Entrenamiento')\n",
        "plt.subplot(1, 2, 2)\n",
        "plot_confusion_matrix(confusion_matrix_test, classes=labels, title='Matriz de Confusión  Datos Test')\n",
        "plt.show()"
      ]
    },
    {
      "cell_type": "markdown",
      "metadata": {
        "id": "puFzggTp8N-s"
      },
      "source": [
        "<hr>\n",
        "\n",
        "\n",
        "# Bonus Track I - LSTM -\n",
        "\n",
        "\n",
        "* Las ***Redes Neuronales Recurrentes*** (RNN) constituyen una herramienta muy apropiada para ***modelar series temporales y para el Procesamiento del Lenguaje Natural***.\n",
        "\n",
        "\n",
        "* Las RNN son, en principio, un modelo computacional más potente que las clásicas redes neuronales (Perceptrón).\n",
        "\n",
        "\n",
        "* Esta mayor potencia proviene del hecho de que las RNN son capaces de procesar secuencias temporales gracias a la posibilidad de ***recordar parcialmente la historia relevante*** de la secuencia por medio de una representación en forma de estado (***implementa una cierta memoria***).\n",
        "\n",
        "\n",
        "* Esta memoria no existe de manera natural en las redes no recurrentes, utilizadas principalmente para el procesamiento de datos estáticos.\n",
        "\n",
        "\n",
        "* Las LSTM (Long Short-Term Memory) son un tipo especial de unidades de memoria que conforman una red neuronal y que tienen la capacidad de recordar aquella información relevante que va aprendiendo durante el proceso de entrenamiento y olvidar aquella información que no considera relevante.\n",
        "\n",
        "\n",
        "* La arquitectura de una unidad LSTM es la siguiente:\n",
        "\n",
        "\n",
        "<img src=\"./imgs/028_lstm.png\" style=\"width: 400px;\"/>\n",
        "\n",
        "\n",
        "* Las LSTM está formadas por los siguientes elementos:\n",
        "<span></span><br><br>\n",
        "    + ***$f_t$ -> forget gate*** (Puerta de Olvido): Que parte de la información del pasado no es importante.\n",
        "<span></span><br><br>\n",
        "    + ***$i_t$ -> input gate*** (Puerta de Entrada): De la información actual, hay algo que sea importante para recordar.\n",
        "<span></span><br><br>\n",
        "    + ***$\\widetilde{C}_t$ -> candidate gate*** (Puerta Candidata): Si hay algo importante que recordar, cómo lo combinamos con la información del pasado.\n",
        "<span></span><br><br>\n",
        "    + ***$o_t$ -> output gate*** (Puerta de Salida): Que información es importante a corto plazo.\n",
        "<span></span><br><br>    \n",
        "    + ***$C_t$ -> state cell*** (Estado de la Celda): Guarda el estado de la celda actual.\n",
        "    \n",
        "    \n",
        "<img src=\"./imgs/029_lstm.png\" style=\"width: 600px;\"/>\n",
        "    \n",
        "    \n",
        "* Siendo:\n",
        "    \n",
        "$$f_t = sigmoid(W_f \\cdot [h_{t-1}, X_t])$$\n",
        "\n",
        "$$i_t = sigmoid(W_i \\cdot [h_{t-1}, X_t])$$\n",
        "\n",
        "$$\\widetilde{C}_t = tanh(W_c \\cdot [h_{t-1}, X_t])$$\n",
        "\n",
        "$$o_t = sigmoid(W_o \\cdot [h_{t-1}, X_t])$$\n",
        "\n",
        "$$C_t = f_t * C_{t-1} + i_t * \\widetilde{C}_t$$\n",
        "\n",
        "$$h_t = o_t * tanh(C_t)$$\n",
        "\n",
        "\n",
        "* Una capa con celdas LSTM estaría formada por cerlda LSTM conectadas en serie unas con otras de la siguiente manera:\n",
        "\n",
        "\n",
        "<img src=\"./imgs/030_lstm.png\" style=\"width: 700px;\"/>\n",
        "\n"
      ]
    },
    {
      "cell_type": "markdown",
      "metadata": {
        "id": "fDUp_gQ98N-t"
      },
      "source": [
        "<hr>\n",
        "\n",
        "# Bonus Track II - Embedding Layers -\n",
        "\n",
        "\n",
        "* Las \"Embedding Layes\" (capas de incrustación) son un tipo de técnicas que nos permiten representar las palabras y los documentos como un vector de características latentes.\n",
        "\n",
        "\n",
        "* Para el caso particular de las palabras de un corpus, los vectores de características latentes que representan las palabras, son calculadas basándose en la ***hipótesis distribucional de Zellig Harris*** que dice: \"*elementos lingüísticos con distribuciones similares tienen significados similares*\"; es decir que ***las palabras que tienen un contexto similar, tendrán significados similares***.\n",
        "\n",
        "\n",
        "* Por tanto con las técnicas que nos permiten representar a las palabras con vectores, tendremos que la similaridad entre pares de vectores que representen a pares de palabras con significado similar, tendran una similaridad alta y no así entre pares de palabras con significados distintos que tendrán una similaridad baja.\n",
        "\n",
        "\n",
        "* Si por ejemplo esta similaridad la definimos como la distacia euclidea, tendremos que dos vectores que representan palabras con significados similares les separará una distancia pequeña frente a pares de palabras con significados dispares que les separará una distancia muy grande.\n",
        "\n",
        "\n",
        "* Dos técnicas que se suelen utilizar para realizar este tipo de cálculo de características latentes de las palabras son:\n",
        "\n",
        "    + Word2Vec\n",
        "    + GloVe\n",
        "    \n",
        "    \n",
        "* Este tipo de representación de las palabras viene muy bien para las RNN y en particular para las LSTM ya que cada palabra representada como un vector denso (y con sentido contextual frente a palabras similares entre sí) puede ser tomada como una entrada en una secuencia (que lo es) dentro de un documento.\n",
        "\n",
        "\n",
        "* Veamos a continuación un sencillo ejemplo a partir del siguiente corpus"
      ]
    },
    {
      "cell_type": "code",
      "execution_count": 31,
      "metadata": {
        "id": "fW_zd77_8N-u"
      },
      "outputs": [],
      "source": [
        "corpus = ['Hola me llamo Ricardo',\n",
        "          'Hola me dicen Ricardo',\n",
        "          'Saludos desde este Notebook llamado LSTM']"
      ]
    },
    {
      "cell_type": "markdown",
      "metadata": {
        "id": "bk6hllxV8N-u"
      },
      "source": [
        "* Codificamos las palabras"
      ]
    },
    {
      "cell_type": "code",
      "execution_count": 32,
      "metadata": {
        "colab": {
          "base_uri": "https://localhost:8080/"
        },
        "id": "yCPk3xn78N-u",
        "outputId": "dcf7438f-c4eb-4fb3-8ba4-88c11ef86ebb"
      },
      "outputs": [
        {
          "output_type": "stream",
          "name": "stdout",
          "text": [
            "[29, 49, 20, 39]\n",
            "[29, 49, 30, 39]\n",
            "[8, 44, 26, 69, 80, 14]\n"
          ]
        }
      ],
      "source": [
        "from tensorflow.keras.preprocessing.text import one_hot\n",
        "\n",
        "VOCAB_SIZE = 100\n",
        "corpus_ohe = [one_hot(doc, VOCAB_SIZE) for doc in corpus]\n",
        "for i in corpus_ohe:\n",
        "    print(i)"
      ]
    },
    {
      "cell_type": "markdown",
      "metadata": {
        "id": "Qh2LdHnX8N-z"
      },
      "source": [
        "* Las pasamos a secuncias de tamaó fijo"
      ]
    },
    {
      "cell_type": "code",
      "execution_count": 33,
      "metadata": {
        "colab": {
          "base_uri": "https://localhost:8080/"
        },
        "id": "hLYzY7OB8N-0",
        "outputId": "09bcfea0-1764-4e0e-b061-af91082616ca"
      },
      "outputs": [
        {
          "output_type": "execute_result",
          "data": {
            "text/plain": [
              "array([[29, 49, 20, 39,  0,  0],\n",
              "       [29, 49, 30, 39,  0,  0],\n",
              "       [ 8, 44, 26, 69, 80, 14]], dtype=int32)"
            ]
          },
          "metadata": {},
          "execution_count": 33
        }
      ],
      "source": [
        "from tensorflow.keras.preprocessing.sequence import pad_sequences\n",
        "\n",
        "MAX_WORDS_DOC = 6\n",
        "pad_corpus = pad_sequences(corpus_ohe, maxlen=MAX_WORDS_DOC, padding='post')\n",
        "pad_corpus"
      ]
    },
    {
      "cell_type": "markdown",
      "metadata": {
        "id": "CwxLAwfj8N-0"
      },
      "source": [
        "### Resultados del Embedding\n",
        "\n",
        "* Para realizar esta representación, TensorFlow nos proporciona la clase \"Embedding()\" que tiene como importantes los siguientes parámetros:\n",
        "\n",
        "    + ***input_dim***: Número de codificaciones distintas que pueden tener las palabras de nuestro corpus.\n",
        "    + ***output_dim***: Número de características que queremos que tenga el vector que represente a las palabras.\n",
        "    + ***input_length***: Máximo número de palabras en un documento.\n",
        "    \n",
        "    \n",
        "* Para más información ver la documentación en el siguiente enlace:<br>https://www.tensorflow.org/api_docs/python/tf/keras/layers/Embedding"
      ]
    },
    {
      "cell_type": "code",
      "execution_count": 34,
      "metadata": {
        "colab": {
          "base_uri": "https://localhost:8080/",
          "height": 269
        },
        "id": "jpj1On_28N-1",
        "outputId": "d7291022-b103-40df-875a-9423341d217c"
      },
      "outputs": [
        {
          "output_type": "stream",
          "name": "stderr",
          "text": [
            "/usr/local/lib/python3.10/dist-packages/keras/src/layers/core/embedding.py:90: UserWarning: Argument `input_length` is deprecated. Just remove it.\n",
            "  warnings.warn(\n"
          ]
        },
        {
          "output_type": "display_data",
          "data": {
            "text/plain": [
              "\u001b[1mModel: \"functional_5\"\u001b[0m\n"
            ],
            "text/html": [
              "<pre style=\"white-space:pre;overflow-x:auto;line-height:normal;font-family:Menlo,'DejaVu Sans Mono',consolas,'Courier New',monospace\"><span style=\"font-weight: bold\">Model: \"functional_5\"</span>\n",
              "</pre>\n"
            ]
          },
          "metadata": {}
        },
        {
          "output_type": "display_data",
          "data": {
            "text/plain": [
              "┏━━━━━━━━━━━━━━━━━━━━━━━━━━━━━━━━━━━━━━┳━━━━━━━━━━━━━━━━━━━━━━━━━━━━━┳━━━━━━━━━━━━━━━━━┓\n",
              "┃\u001b[1m \u001b[0m\u001b[1mLayer (type)                        \u001b[0m\u001b[1m \u001b[0m┃\u001b[1m \u001b[0m\u001b[1mOutput Shape               \u001b[0m\u001b[1m \u001b[0m┃\u001b[1m \u001b[0m\u001b[1m        Param #\u001b[0m\u001b[1m \u001b[0m┃\n",
              "┡━━━━━━━━━━━━━━━━━━━━━━━━━━━━━━━━━━━━━━╇━━━━━━━━━━━━━━━━━━━━━━━━━━━━━╇━━━━━━━━━━━━━━━━━┩\n",
              "│ input_layer_1 (\u001b[38;5;33mInputLayer\u001b[0m)           │ (\u001b[38;5;45mNone\u001b[0m, \u001b[38;5;34m6\u001b[0m)                   │               \u001b[38;5;34m0\u001b[0m │\n",
              "├──────────────────────────────────────┼─────────────────────────────┼─────────────────┤\n",
              "│ embedding_1 (\u001b[38;5;33mEmbedding\u001b[0m)              │ (\u001b[38;5;45mNone\u001b[0m, \u001b[38;5;34m6\u001b[0m, \u001b[38;5;34m2\u001b[0m)                │             \u001b[38;5;34m200\u001b[0m │\n",
              "├──────────────────────────────────────┼─────────────────────────────┼─────────────────┤\n",
              "│ flatten (\u001b[38;5;33mFlatten\u001b[0m)                    │ (\u001b[38;5;45mNone\u001b[0m, \u001b[38;5;34m12\u001b[0m)                  │               \u001b[38;5;34m0\u001b[0m │\n",
              "└──────────────────────────────────────┴─────────────────────────────┴─────────────────┘\n"
            ],
            "text/html": [
              "<pre style=\"white-space:pre;overflow-x:auto;line-height:normal;font-family:Menlo,'DejaVu Sans Mono',consolas,'Courier New',monospace\">┏━━━━━━━━━━━━━━━━━━━━━━━━━━━━━━━━━━━━━━┳━━━━━━━━━━━━━━━━━━━━━━━━━━━━━┳━━━━━━━━━━━━━━━━━┓\n",
              "┃<span style=\"font-weight: bold\"> Layer (type)                         </span>┃<span style=\"font-weight: bold\"> Output Shape                </span>┃<span style=\"font-weight: bold\">         Param # </span>┃\n",
              "┡━━━━━━━━━━━━━━━━━━━━━━━━━━━━━━━━━━━━━━╇━━━━━━━━━━━━━━━━━━━━━━━━━━━━━╇━━━━━━━━━━━━━━━━━┩\n",
              "│ input_layer_1 (<span style=\"color: #0087ff; text-decoration-color: #0087ff\">InputLayer</span>)           │ (<span style=\"color: #00d7ff; text-decoration-color: #00d7ff\">None</span>, <span style=\"color: #00af00; text-decoration-color: #00af00\">6</span>)                   │               <span style=\"color: #00af00; text-decoration-color: #00af00\">0</span> │\n",
              "├──────────────────────────────────────┼─────────────────────────────┼─────────────────┤\n",
              "│ embedding_1 (<span style=\"color: #0087ff; text-decoration-color: #0087ff\">Embedding</span>)              │ (<span style=\"color: #00d7ff; text-decoration-color: #00d7ff\">None</span>, <span style=\"color: #00af00; text-decoration-color: #00af00\">6</span>, <span style=\"color: #00af00; text-decoration-color: #00af00\">2</span>)                │             <span style=\"color: #00af00; text-decoration-color: #00af00\">200</span> │\n",
              "├──────────────────────────────────────┼─────────────────────────────┼─────────────────┤\n",
              "│ flatten (<span style=\"color: #0087ff; text-decoration-color: #0087ff\">Flatten</span>)                    │ (<span style=\"color: #00d7ff; text-decoration-color: #00d7ff\">None</span>, <span style=\"color: #00af00; text-decoration-color: #00af00\">12</span>)                  │               <span style=\"color: #00af00; text-decoration-color: #00af00\">0</span> │\n",
              "└──────────────────────────────────────┴─────────────────────────────┴─────────────────┘\n",
              "</pre>\n"
            ]
          },
          "metadata": {}
        },
        {
          "output_type": "display_data",
          "data": {
            "text/plain": [
              "\u001b[1m Total params: \u001b[0m\u001b[38;5;34m200\u001b[0m (800.00 B)\n"
            ],
            "text/html": [
              "<pre style=\"white-space:pre;overflow-x:auto;line-height:normal;font-family:Menlo,'DejaVu Sans Mono',consolas,'Courier New',monospace\"><span style=\"font-weight: bold\"> Total params: </span><span style=\"color: #00af00; text-decoration-color: #00af00\">200</span> (800.00 B)\n",
              "</pre>\n"
            ]
          },
          "metadata": {}
        },
        {
          "output_type": "display_data",
          "data": {
            "text/plain": [
              "\u001b[1m Trainable params: \u001b[0m\u001b[38;5;34m200\u001b[0m (800.00 B)\n"
            ],
            "text/html": [
              "<pre style=\"white-space:pre;overflow-x:auto;line-height:normal;font-family:Menlo,'DejaVu Sans Mono',consolas,'Courier New',monospace\"><span style=\"font-weight: bold\"> Trainable params: </span><span style=\"color: #00af00; text-decoration-color: #00af00\">200</span> (800.00 B)\n",
              "</pre>\n"
            ]
          },
          "metadata": {}
        },
        {
          "output_type": "display_data",
          "data": {
            "text/plain": [
              "\u001b[1m Non-trainable params: \u001b[0m\u001b[38;5;34m0\u001b[0m (0.00 B)\n"
            ],
            "text/html": [
              "<pre style=\"white-space:pre;overflow-x:auto;line-height:normal;font-family:Menlo,'DejaVu Sans Mono',consolas,'Courier New',monospace\"><span style=\"font-weight: bold\"> Non-trainable params: </span><span style=\"color: #00af00; text-decoration-color: #00af00\">0</span> (0.00 B)\n",
              "</pre>\n"
            ]
          },
          "metadata": {}
        }
      ],
      "source": [
        "from tensorflow.keras.layers import Input, Embedding, Flatten\n",
        "from tensorflow.keras.models import Model\n",
        "\n",
        "WORD_VECTOR_DIMENSION = 2\n",
        "\n",
        "words_input=Input(shape=(MAX_WORDS_DOC,),dtype='float64')\n",
        "\n",
        "# Creamos el Embedding\n",
        "word_embedding=Embedding(input_dim=VOCAB_SIZE,\n",
        "                         output_dim=WORD_VECTOR_DIMENSION,\n",
        "                         input_length=MAX_WORDS_DOC)(words_input)\n",
        "\n",
        "word_vec=Flatten()(word_embedding)\n",
        "\n",
        "model = Model(inputs=[words_input],\n",
        "              outputs=word_vec)\n",
        "\n",
        "# Imprimimos el modelo\n",
        "model.summary()"
      ]
    },
    {
      "cell_type": "markdown",
      "metadata": {
        "id": "2vQB1vWz8N-1"
      },
      "source": [
        "* Compilamos el modelo ya que estamos ejecutando una Red Neuronal"
      ]
    },
    {
      "cell_type": "code",
      "execution_count": 35,
      "metadata": {
        "id": "bs3TvlQ28N-1"
      },
      "outputs": [],
      "source": [
        "model.compile(optimizer='adam', loss='binary_crossentropy', metrics=['acc'])"
      ]
    },
    {
      "cell_type": "markdown",
      "metadata": {
        "id": "EWkqcN238N-2"
      },
      "source": [
        "* Obtenemos los vectores de características haciendo un \"*predict()*\" sobre el corpus con el modelo generado."
      ]
    },
    {
      "cell_type": "code",
      "execution_count": 36,
      "metadata": {
        "colab": {
          "base_uri": "https://localhost:8080/"
        },
        "id": "xOv3QSt98N-2",
        "outputId": "b8ed4a9d-f7b0-44c3-de16-ed56dddcee2d"
      },
      "outputs": [
        {
          "output_type": "stream",
          "name": "stdout",
          "text": [
            "\u001b[1m1/1\u001b[0m \u001b[32m━━━━━━━━━━━━━━━━━━━━\u001b[0m\u001b[37m\u001b[0m \u001b[1m0s\u001b[0m 72ms/step\n"
          ]
        }
      ],
      "source": [
        "doc_embeddings=model.predict(pad_corpus)"
      ]
    },
    {
      "cell_type": "markdown",
      "metadata": {
        "id": "uK36dZ-L8N-2"
      },
      "source": [
        "* Vamos a obtener los vectores de las palabras de los documentos del corpus, cuyos documentos tienen un tamaño fijo de 6 palabras:"
      ]
    },
    {
      "cell_type": "code",
      "execution_count": null,
      "metadata": {
        "id": "2FYssq_u8N-3",
        "outputId": "fb603165-fc94-46d8-d280-78ee3d11877a"
      },
      "outputs": [
        {
          "name": "stdout",
          "output_type": "stream",
          "text": [
            "\n",
            "Codificación de las 6 palabras del documento 1\n",
            "[[-0.02140704  0.03718336]\n",
            " [ 0.01496066 -0.04785068]\n",
            " [-0.01302377 -0.01080942]\n",
            " [ 0.00899512  0.01884394]\n",
            " [-0.04109632  0.04379017]\n",
            " [-0.04109632  0.04379017]]\n",
            "\n",
            "Codificación de las 6 palabras del documento 2\n",
            "[[-0.02140704  0.03718336]\n",
            " [ 0.01496066 -0.04785068]\n",
            " [-0.04369183  0.02071175]\n",
            " [ 0.00899512  0.01884394]\n",
            " [-0.04109632  0.04379017]\n",
            " [-0.04109632  0.04379017]]\n",
            "\n",
            "Codificación de las 6 palabras del documento 3\n",
            "[[ 0.04401072 -0.01403987]\n",
            " [-0.01878685 -0.04087279]\n",
            " [-0.03066066 -0.04682974]\n",
            " [ 0.03196997  0.02682967]\n",
            " [ 0.01063003 -0.03640258]\n",
            " [ 0.0340489  -0.04343636]]\n"
          ]
        }
      ],
      "source": [
        "word_embeddings=doc_embeddings.reshape(-1, MAX_WORDS_DOC, WORD_VECTOR_DIMENSION)\n",
        "for i, doc in enumerate(word_embeddings):\n",
        "    print(\"\\nCodificación de las 6 palabras del documento {}\".format(i+1))\n",
        "    print(doc)"
      ]
    },
    {
      "cell_type": "markdown",
      "metadata": {
        "id": "eDT17Raf8N-3"
      },
      "source": [
        "* A continuación obtenemos la codificación de los documentos que no es más que la concatenación de los valores de las características de las palabras que forman el documento:"
      ]
    },
    {
      "cell_type": "code",
      "execution_count": 37,
      "metadata": {
        "colab": {
          "base_uri": "https://localhost:8080/"
        },
        "id": "QhR_WZyv8N-3",
        "outputId": "6da5896e-fded-4943-f3c1-8877abd4c96e"
      },
      "outputs": [
        {
          "output_type": "stream",
          "name": "stdout",
          "text": [
            "\n",
            "Codificación del documento 1\n",
            "[ 0.00829596 -0.01377627  0.04759074  0.02090127  0.02018005 -0.01615394\n",
            "  0.01858736 -0.0127434   0.04827494  0.00216969  0.04827494  0.00216969]\n",
            "\n",
            "Codificación del documento 2\n",
            "[ 0.00829596 -0.01377627  0.04759074  0.02090127 -0.03246825 -0.04708054\n",
            "  0.01858736 -0.0127434   0.04827494  0.00216969  0.04827494  0.00216969]\n",
            "\n",
            "Codificación del documento 3\n",
            "[-0.00690305  0.01172236 -0.00310774  0.03334265  0.02452016  0.04109989\n",
            " -0.01708505 -0.00558452 -0.00232694  0.01633393  0.00719844 -0.0331968 ]\n"
          ]
        }
      ],
      "source": [
        "for i, doc in enumerate(doc_embeddings):\n",
        "    print(\"\\nCodificación del documento {}\".format(i+1))\n",
        "    print(doc)"
      ]
    }
  ],
  "metadata": {
    "kernelspec": {
      "display_name": "Python 3 (ipykernel)",
      "language": "python",
      "name": "python3"
    },
    "language_info": {
      "codemirror_mode": {
        "name": "ipython",
        "version": 3
      },
      "file_extension": ".py",
      "mimetype": "text/x-python",
      "name": "python",
      "nbconvert_exporter": "python",
      "pygments_lexer": "ipython3",
      "version": "3.7.11"
    },
    "colab": {
      "provenance": [],
      "include_colab_link": true
    }
  },
  "nbformat": 4,
  "nbformat_minor": 0
}