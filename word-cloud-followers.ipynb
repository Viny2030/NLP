{
 "metadata": {
  "language_info": {
   "codemirror_mode": {
    "name": "ipython",
    "version": 3
   },
   "file_extension": ".py",
   "mimetype": "text/x-python",
   "name": "python",
   "nbconvert_exporter": "python",
   "pygments_lexer": "ipython3",
   "version": "3.8.6-final"
  },
  "orig_nbformat": 2,
  "kernelspec": {
   "name": "Python 3.8.6 64-bit ('venv')",
   "display_name": "Python 3.8.6 64-bit ('venv')",
   "metadata": {
    "interpreter": {
     "hash": "c132718106747b91adb9aa1e3379084f8d7e606ec3ae3b1a523bf092f2e2b88a"
    }
   }
  }
 },
 "nbformat": 4,
 "nbformat_minor": 2,
 "cells": [
  {
   "source": [
    "# Word cloud de seguidores de Instagram"
   ],
   "cell_type": "markdown",
   "metadata": {}
  },
  {
   "source": [
    "Para este proyecto debemos instalar los modulo:\n",
    "* wordcloud: modulo para generar de nubes de palabras \n",
    "* pillow: modulo para tratamiento de imagenes\n",
    "* pandas: modulo cool para tratamiendo de datos\n",
    "* matplotlib: modulo para desplegar graficos\n",
    "Una vez tenemos intalados estos modulos los importamos en nuestro proyecto"
   ],
   "cell_type": "markdown",
   "metadata": {}
  },
  {
   "cell_type": "code",
   "execution_count": 33,
   "metadata": {},
   "outputs": [],
   "source": [
    "import json\n",
    "import numpy as np\n",
    "import pandas as pd\n",
    "from os import path\n",
    "from PIL import Image\n",
    "from wordcloud import WordCloud, ImageColorGenerator\n",
    "import matplotlib.pyplot as plt\n",
    "from  datetime import datetime\n"
   ]
  },
  {
   "source": [
    "Cargamos el archivo **connections.json**"
   ],
   "cell_type": "markdown",
   "metadata": {}
  },
  {
   "cell_type": "code",
   "execution_count": 35,
   "metadata": {},
   "outputs": [],
   "source": [
    "file = open('connections.json',) \n",
    "connections_data = json.load(file)\n"
   ]
  },
  {
   "source": [
    "Como resultado de la anterior ejecución tendremos un diccionario sobre el cual vamos a iterar para convertirlo en una lista"
   ],
   "cell_type": "markdown",
   "metadata": {}
  },
  {
   "cell_type": "code",
   "execution_count": 37,
   "metadata": {},
   "outputs": [],
   "source": [
    "followers_data= [[k,v] for k,v in connections_data['followers'].items()]"
   ]
  },
  {
   "source": [
    "Cargamos la lista **followers_data** en el DataFrame **df_followers** y definimos las columnas **user_name** y **date_follow**"
   ],
   "cell_type": "markdown",
   "metadata": {}
  },
  {
   "cell_type": "code",
   "execution_count": 39,
   "metadata": {},
   "outputs": [],
   "source": [
    "df_followers=pd.DataFrame(followers_data, columns=['user_name','date_follow'])"
   ]
  },
  {
   "source": [
    "Como resultado tenemos la siguiente estructura a la cual aplicaremos algunas transformaciones"
   ],
   "cell_type": "markdown",
   "metadata": {}
  },
  {
   "cell_type": "code",
   "execution_count": 40,
   "metadata": {},
   "outputs": [
    {
     "output_type": "execute_result",
     "data": {
      "text/plain": [
       "                user_name                date_follow\n",
       "0         vianca_aparicio  2020-11-04T02:17:25+00:00\n",
       "1                a.beto.a  2020-11-04T01:07:41+00:00\n",
       "2          alejandrosejas  2020-11-04T01:03:21+00:00\n",
       "3    calcetinsinrombosman  2020-11-04T00:34:48+00:00\n",
       "4       luis_fernando.cr7  2020-11-03T21:07:00+00:00\n",
       "..                    ...                        ...\n",
       "499            datavriksh  2020-05-16T03:49:42+00:00\n",
       "500        franko.barrera  2020-05-16T01:58:37+00:00\n",
       "501            d_oswaldo_  2020-05-16T00:46:29+00:00\n",
       "502            keniametap  2020-05-15T20:12:35+00:00\n",
       "503              zencode_  2020-05-15T19:16:50+00:00\n",
       "\n",
       "[504 rows x 2 columns]"
      ],
      "text/html": "<div>\n<style scoped>\n    .dataframe tbody tr th:only-of-type {\n        vertical-align: middle;\n    }\n\n    .dataframe tbody tr th {\n        vertical-align: top;\n    }\n\n    .dataframe thead th {\n        text-align: right;\n    }\n</style>\n<table border=\"1\" class=\"dataframe\">\n  <thead>\n    <tr style=\"text-align: right;\">\n      <th></th>\n      <th>user_name</th>\n      <th>date_follow</th>\n    </tr>\n  </thead>\n  <tbody>\n    <tr>\n      <th>0</th>\n      <td>vianca_aparicio</td>\n      <td>2020-11-04T02:17:25+00:00</td>\n    </tr>\n    <tr>\n      <th>1</th>\n      <td>a.beto.a</td>\n      <td>2020-11-04T01:07:41+00:00</td>\n    </tr>\n    <tr>\n      <th>2</th>\n      <td>alejandrosejas</td>\n      <td>2020-11-04T01:03:21+00:00</td>\n    </tr>\n    <tr>\n      <th>3</th>\n      <td>calcetinsinrombosman</td>\n      <td>2020-11-04T00:34:48+00:00</td>\n    </tr>\n    <tr>\n      <th>4</th>\n      <td>luis_fernando.cr7</td>\n      <td>2020-11-03T21:07:00+00:00</td>\n    </tr>\n    <tr>\n      <th>...</th>\n      <td>...</td>\n      <td>...</td>\n    </tr>\n    <tr>\n      <th>499</th>\n      <td>datavriksh</td>\n      <td>2020-05-16T03:49:42+00:00</td>\n    </tr>\n    <tr>\n      <th>500</th>\n      <td>franko.barrera</td>\n      <td>2020-05-16T01:58:37+00:00</td>\n    </tr>\n    <tr>\n      <th>501</th>\n      <td>d_oswaldo_</td>\n      <td>2020-05-16T00:46:29+00:00</td>\n    </tr>\n    <tr>\n      <th>502</th>\n      <td>keniametap</td>\n      <td>2020-05-15T20:12:35+00:00</td>\n    </tr>\n    <tr>\n      <th>503</th>\n      <td>zencode_</td>\n      <td>2020-05-15T19:16:50+00:00</td>\n    </tr>\n  </tbody>\n</table>\n<p>504 rows × 2 columns</p>\n</div>"
     },
     "metadata": {},
     "execution_count": 40
    }
   ],
   "source": [
    "df_followers"
   ]
  },
  {
   "source": [
    "## Preparando los datos"
   ],
   "cell_type": "markdown",
   "metadata": {}
  },
  {
   "source": [
    "Primero vamos a eliminar todas las filas que tengan algun atribubo en NAN y aplicamos el resultado de esta limpieza en nuestro **df_followers** con **inplace=True**"
   ],
   "cell_type": "markdown",
   "metadata": {}
  },
  {
   "cell_type": "code",
   "execution_count": 41,
   "metadata": {},
   "outputs": [],
   "source": [
    "df_followers.dropna(inplace=True)"
   ]
  },
  {
   "source": [
    "Creamos una función **word_size** que nos devolverá el numero de días que han pasado desde que un usuario nos empezó a seguir y este valos nos servira para asignar un tamaño al nombre de cada usuario en nuestra nube de palabras"
   ],
   "cell_type": "markdown",
   "metadata": {}
  },
  {
   "cell_type": "code",
   "execution_count": 42,
   "metadata": {},
   "outputs": [],
   "source": [
    "def word_size(date):\n",
    "    d1 = datetime.now()\n",
    "    d2 = datetime.strptime(date, \"%Y-%m-%d\")\n",
    "    difference = abs((d2 - d1).days)\n",
    "    return difference if difference >0 else 1"
   ]
  },
  {
   "source": [
    "Cambiamos el formato de la columna **date_follow** para tomar solamente la el día, mes y año de la fecha."
   ],
   "cell_type": "markdown",
   "metadata": {}
  },
  {
   "cell_type": "code",
   "execution_count": 43,
   "metadata": {},
   "outputs": [],
   "source": [
    "df_followers['date_follow']=df_followers['date_follow'].str[:10]"
   ]
  },
  {
   "source": [
    "Aplicamos la función **word_size** sobre la columna **date_follow** y lo almacenamos en una nueva columna **size**"
   ],
   "cell_type": "markdown",
   "metadata": {}
  },
  {
   "cell_type": "code",
   "execution_count": 44,
   "metadata": {},
   "outputs": [],
   "source": [
    "df_followers['size']=df_followers['date_follow'].apply(word_size)"
   ]
  },
  {
   "source": [
    "Convertimos el resultado en un diccionario que tenga las columnas **user_name** como key y **size** como value, que son el nombre del usuario y el tamaño de la palabra respectivamente."
   ],
   "cell_type": "markdown",
   "metadata": {}
  },
  {
   "cell_type": "code",
   "execution_count": 45,
   "metadata": {},
   "outputs": [],
   "source": [
    "followers_size={}"
   ]
  },
  {
   "cell_type": "code",
   "execution_count": 46,
   "metadata": {},
   "outputs": [],
   "source": [
    "for index, row in df_followers.iterrows():\n",
    "    followers_size[row['user_name']]=row['size']"
   ]
  },
  {
   "source": [
    "## Visualizando el Word cloud\n",
    "Para visualizar los nombres de mis seguidores en esta especial ocasión decidí crear una imagen para usarla de base en el word cloud puedes encontrar la imagen es este repositorio como **500_gracias.png**"
   ],
   "cell_type": "markdown",
   "metadata": {}
  },
  {
   "source": [
    "\n",
    "Cargamos la imagen de base"
   ],
   "cell_type": "markdown",
   "metadata": {}
  },
  {
   "cell_type": "code",
   "execution_count": 47,
   "metadata": {},
   "outputs": [],
   "source": [
    "mask = np.array(Image.open(f\"500_gracias.png\"))"
   ]
  },
  {
   "source": [
    "Usaremos la fuente **phagspab** para darle estilo a las palabras de mi grafico"
   ],
   "cell_type": "markdown",
   "metadata": {}
  },
  {
   "cell_type": "code",
   "execution_count": 48,
   "metadata": {},
   "outputs": [],
   "source": [
    "font_path = 'C:/Windows/Fonts/%s'%'phagspab.ttf'"
   ]
  },
  {
   "source": [
    "Definimos los parámetros de nuestro world cloud   \n",
    "* **max_font_size:** tamaño máximo de palabra en la imagen\n",
    "* **max_words:** número máximo de palabras a graficar\n",
    "* **width:** ancho de la imagen\n",
    "* **height:** alto de la imagen\n",
    "* **background_color:** color de fondo de la imagen\n",
    "* **mask:** mascara de la imagen"
   ],
   "cell_type": "markdown",
   "metadata": {}
  },
  {
   "cell_type": "code",
   "execution_count": 49,
   "metadata": {},
   "outputs": [],
   "source": [
    "param_wordcloud = {'max_font_size':256, \n",
    "                   'max_words':1000, \n",
    "                   'width':1500, \n",
    "                   'height':1500,\n",
    "                   'background_color':\"white\", \n",
    "                   'font_path':font_path,\n",
    "                   'mask': mask}"
   ]
  },
  {
   "source": [
    "Definimos nuestro word cloud en **wc** y con la función **fit_words** le asignamos el diccionario de palabras y los respectivos tamaños de las mismas."
   ],
   "cell_type": "markdown",
   "metadata": {}
  },
  {
   "cell_type": "code",
   "execution_count": 50,
   "metadata": {},
   "outputs": [
    {
     "output_type": "execute_result",
     "data": {
      "text/plain": [
       "<wordcloud.wordcloud.WordCloud at 0x26229ef8700>"
      ]
     },
     "metadata": {},
     "execution_count": 50
    }
   ],
   "source": [
    "wc = WordCloud(**param_wordcloud)\n",
    "wc.fit_words(followers_size)"
   ]
  },
  {
   "source": [
    "Adaptamos los colores de la imagen a los colores de nuestra imagen base, desactivamos axis del grafico y mostramos el grafico"
   ],
   "cell_type": "markdown",
   "metadata": {}
  },
  {
   "cell_type": "code",
   "execution_count": 54,
   "metadata": {},
   "outputs": [
    {
     "output_type": "display_data",
     "data": {
      "text/plain": "<Figure size 432x288 with 1 Axes>",
      "image/svg+xml": "<?xml version=\"1.0\" encoding=\"utf-8\" standalone=\"no\"?>\r\n<!DOCTYPE svg PUBLIC \"-//W3C//DTD SVG 1.1//EN\"\r\n  \"http://www.w3.org/Graphics/SVG/1.1/DTD/svg11.dtd\">\r\n<!-- Created with matplotlib (https://matplotlib.org/) -->\r\n<svg height=\"231.84pt\" version=\"1.1\" viewBox=\"0 0 231.84 231.84\" width=\"231.84pt\" xmlns=\"http://www.w3.org/2000/svg\" xmlns:xlink=\"http://www.w3.org/1999/xlink\">\r\n <metadata>\r\n  <rdf:RDF xmlns:cc=\"http://creativecommons.org/ns#\" xmlns:dc=\"http://purl.org/dc/elements/1.1/\" xmlns:rdf=\"http://www.w3.org/1999/02/22-rdf-syntax-ns#\">\r\n   <cc:Work>\r\n    <dc:type rdf:resource=\"http://purl.org/dc/dcmitype/StillImage\"/>\r\n    <dc:date>2020-11-09T00:25:42.514597</dc:date>\r\n    <dc:format>image/svg+xml</dc:format>\r\n    <dc:creator>\r\n     <cc:Agent>\r\n      <dc:title>Matplotlib v3.3.2, https://matplotlib.org/</dc:title>\r\n     </cc:Agent>\r\n    </dc:creator>\r\n   </cc:Work>\r\n  </rdf:RDF>\r\n </metadata>\r\n <defs>\r\n  <style type=\"text/css\">*{stroke-linecap:butt;stroke-linejoin:round;}</style>\r\n </defs>\r\n <g id=\"figure_1\">\r\n  <g id=\"patch_1\">\r\n   <path d=\"M 0 231.84 \r\nL 231.84 231.84 \r\nL 231.84 0 \r\nL 0 0 \r\nz\r\n\" style=\"fill:none;\"/>\r\n  </g>\r\n  <g id=\"axes_1\">\r\n   <g clip-path=\"url(#pc49dbea5f7)\">\r\n    <image height=\"218\" id=\"image216cc826c5\" transform=\"scale(1 -1)translate(0 -218)\" width=\"218\" x=\"7.2\" xlink:href=\"data:image/png;base64,\r\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\" y=\"-6.64\"/>\r\n   </g>\r\n  </g>\r\n </g>\r\n <defs>\r\n  <clipPath id=\"pc49dbea5f7\">\r\n   <rect height=\"217.44\" width=\"217.44\" x=\"7.2\" y=\"7.2\"/>\r\n  </clipPath>\r\n </defs>\r\n</svg>\r\n",
      "image/png": "[encoded data removed]"
     },
     "metadata": {
      "needs_background": "light"
     }
    }
   ],
   "source": [
    "image_colors = ImageColorGenerator(mask)\n",
    "plt.figure()\n",
    "plt.imshow(wc.recolor(color_func=image_colors), interpolation='bilinear')\n",
    "plt.axis(\"off\")\n",
    "plt.show()"
   ]
  },
  {
   "source": [
    "Si queremos guardar nuestro word cloud en una imagen lo podemos hacer con la siguiente línea"
   ],
   "cell_type": "markdown",
   "metadata": {}
  },
  {
   "cell_type": "code",
   "execution_count": 53,
   "metadata": {},
   "outputs": [
    {
     "output_type": "execute_result",
     "data": {
      "text/plain": [
       "<wordcloud.wordcloud.WordCloud at 0x26229ef8700>"
      ]
     },
     "metadata": {},
     "execution_count": 53
    }
   ],
   "source": [
    "wc.to_file('gracias.png')"
   ]
  }
 ]
}