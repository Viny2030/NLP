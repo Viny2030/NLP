{
  "cells": [
    {
      "cell_type": "markdown",
      "metadata": {
        "id": "view-in-github",
        "colab_type": "text"
      },
      "source": [
        "<a href=\"https://colab.research.google.com/github/Viny2030/NLP/blob/main/08_NLTK_Clasificacion_Textos_Naive_Bayes_(1).ipynb\" target=\"_parent\"><img src=\"https://colab.research.google.com/assets/colab-badge.svg\" alt=\"Open In Colab\"/></a>"
      ]
    },
    {
      "cell_type": "markdown",
      "metadata": {
        "id": "S2l-2XZ7pci_"
      },
      "source": [
        "# 08 - NLTK: Clasificación de textos con Naive Bayes\n",
        "\n",
        "* En este notebook vamos a ver como crear un modelo que clasifique las frases según su polaridad (Positiva o Negativa).\n",
        "\n",
        "\n",
        "* Para ello tenemos 3 conjuntos de frases que son:\n",
        "    1. **Positivas**: Conjunto de frases clasificadas con polaridad positiva\n",
        "    2. **Negativas**: Conjunto de frases clasificadas con polaridad negativa\n",
        "    3. **Test**: Conjunto de frases de test a predecir.\n",
        "    \n",
        "\n",
        "* El framework para la clasificación de texto (y para la clasificación en general) es el siguiente:\n",
        "\n",
        "    - ***Entrenamiento***:\n",
        "    \n",
        "        1. Limpieza y ***normalización*** del texto\n",
        "        2. ***Extracción de características***: esto consiste en crear la estructura de datos necesaria para que la utilice el algoritmo de aprendizaje a usar\n",
        "        3. ***Algoritmo de Aprendizaje***: Dado el conjunto de características de los texto y la etiqueta (label) de los textos, el algoritmo de aprendizaje dará como resultado un **modelo**.\n",
        "<br><br>     \n",
        "    - ***Predicción***:\n",
        "    \n",
        "        1. Limpieza y ***normalización*** del texto a clasificar.\n",
        "        2. ***Extracción de características*** del texto a clasificar. Tanto este punto 2 como el anterior (1) deben de realizarse de la misma manera que en la fase de entrenamiento.\n",
        "        3. ***Predicción***: Dado el conjunto de características de los ***texto a predecir*** y el **modelo**, este devolverá la ***clasificación*** (o predicción) del texto.\n",
        "        \n",
        "        \n",
        "* Este framework lo podemos ver en la siguiente imagen:\n",
        "\n",
        "<img src=\"./imgs/009_Clasificacion_framework.png\" style=\"width: 500px;\"/>\n",
        "\n",
        "\n",
        "<hr>\n",
        "\n",
        "\n",
        "## Ejemplo con NLTK:\n"
      ]
    },
    {
      "cell_type": "code",
      "execution_count": 1,
      "metadata": {
        "id": "xcPySIG5pcjD"
      },
      "outputs": [],
      "source": [
        "import re\n",
        "import nltk\n",
        "import nltk.classify\n",
        "from nltk.corpus import stopwords\n",
        "\n",
        "positive = [('I love this car', 'positive'),\n",
        "            ('This view is amazing', 'positive'),\n",
        "            ('I feel great this morning', 'positive'),\n",
        "            ('I am so excited about the concert', 'positive'),\n",
        "            ('He is my best friend', 'positive'),\n",
        "            ('Going well', 'positive'),\n",
        "            ('Thank you', 'positive'),\n",
        "            ('Hope you are doing well', 'positive'),\n",
        "            ('I am very happy', 'positive'),\n",
        "            ('Good for you', 'positive'),\n",
        "            ('It is all good. I know about it and I accept it.', 'positive'),\n",
        "            ('This is really good!', 'positive'),\n",
        "            ('Tomorrow is going to be fun.', 'positive'),\n",
        "            ('These are great apples today.', 'positive'),\n",
        "            ('How about them apples? Thomas is a happy boy.', 'positive'),\n",
        "            ('I love this sandwich.', 'positive'),\n",
        "            ('This is an amazing place!', 'positive'),\n",
        "            ('I feel very good about these beers.', 'positive'),\n",
        "            ('This is my best work.', 'positive'),\n",
        "            ('What an awesome view', 'positive')]\n",
        "\n",
        "negative = [('I do not like this car', 'negative'),\n",
        "            ('This view is horrible', 'negative'),\n",
        "            ('I feel tired this morning', 'negative'),\n",
        "            ('I am not looking forward to the concert', 'negative'),\n",
        "            ('He is my enemy', 'negative'),\n",
        "            ('I am a bad boy', 'negative'),\n",
        "            ('This is not good', 'negative'),\n",
        "            ('I am bothered by this', 'negative'),\n",
        "            ('I am not connected with this', 'negative'),\n",
        "            ('Sadistic creep you ass. Die.', 'negative'),\n",
        "            ('All sorts of crazy and scary as hell.', 'negative'),\n",
        "            ('Not his emails, no.', 'negative'),\n",
        "            ('His father is dead. Returned obviously.', 'negative'),\n",
        "            ('He has a bomb.', 'negative'),\n",
        "            ('Too fast to be on foot. We cannot catch them.', 'negative'),\n",
        "            ('I do not like this restaurant', 'negative'),\n",
        "            ('I am tired of this stuff.', 'negative'),\n",
        "            (\"I can't deal with this\", 'negative'),\n",
        "            ('He is my sworn enemy!', 'negative'),\n",
        "            ('My boss is horrible.', 'negative')]\n",
        "\n",
        "test = [('I feel happy this morning', 'positive'),\n",
        "        ('Larry is my friend', 'positive'),\n",
        "        ('I do not like that man', 'negative'),\n",
        "        ('My house is not great', 'negative'),\n",
        "        ('Your song is annoying', 'negative'),\n",
        "        ('The beer was good.', 'positive'),\n",
        "        ('I do not enjoy my job', 'negative'),\n",
        "        (\"I feel amazing!\", 'positive'),\n",
        "        ('Gary is a friend of mine.', 'positive'),\n",
        "        (\"I can't believe I'm doing this.\", 'negative')]"
      ]
    },
    {
      "cell_type": "markdown",
      "metadata": {
        "id": "BzRfDXOepcjE"
      },
      "source": [
        "<hr>\n",
        "\n",
        "\n",
        "## Normalización\n",
        "\n",
        "* En primer lugar vamos a pasar a normalizar las frases. Para ello realizaremos lo siguiente:\n",
        "\n",
        "    - Eliminamos los signos de puntuación\n",
        "    - Eliminamos las Stop-Words\n",
        "    - Pasamos el texto a minúsculas\n",
        "    \n",
        "* Nos creamos una función que realice este procesamiento para las frases dadas.\n",
        "\n",
        "\n",
        "***NOTA***: *Para este ejemplo en particular se hace una normalización muy básica pero suficiente para realizar este ejemplo con caracter didáctico*."
      ]
    },
    {
      "cell_type": "code",
      "execution_count": 2,
      "metadata": {
        "id": "69nRneIlpcjE"
      },
      "outputs": [],
      "source": [
        "def normalize(sentenses):\n",
        "    \"\"\"normalizamos la lista de frases\"\"\"\n",
        "    sen = []\n",
        "    for (words, sentiment) in sentenses:\n",
        "        words_filtered = []\n",
        "        for word in words.split():\n",
        "            word = re.sub(r'[^\\w\\s]', '', word).lower() # Eliminamos signos de puntuación y lo pasamos a minúsculas\n",
        "            if len(word) > 2 and word not in stopwords.words(): # Filtramos stop words y las palabras con menos de 3 caracteres\n",
        "                words_filtered.append(word)\n",
        "        sen.append((words_filtered, sentiment))\n",
        "    return sen"
      ]
    },
    {
      "cell_type": "markdown",
      "metadata": {
        "id": "7tfCdEOqpcjF"
      },
      "source": [
        "<hr>\n",
        "\n",
        "\n",
        "## Extracción de características\n",
        "\n",
        "* El algoritmo de aprendizaje (Naive Bayes) necesita una determina estructura de datos de entrada para generar el modelo. Para ello necesitamos crear:\n",
        "\n",
        "    - Un Diccionario (CUIDADO no es un diccionario python) con todas las palabras del corpus.\n",
        "    \n",
        "    - Una tupla que contenga en la primera posición un Booleano si por cada palabra del diccionario aparece o no la palabra de la frase. El segundo elemento de la tupla es la etiqueta de la frase.\n",
        "    \n",
        "\n",
        "* Para ello creamos las siguientes 2 funciones:"
      ]
    },
    {
      "cell_type": "code",
      "execution_count": 3,
      "metadata": {
        "id": "31MFRkQipcjF"
      },
      "outputs": [],
      "source": [
        "def get_unique_words(sentenses):\n",
        "    \"\"\"Función que devuelve una lista con todas las palabras únicas que aparecen en las frases\"\"\"\n",
        "    all_words = []\n",
        "    for (words, sentiment) in sentenses:\n",
        "        all_words.extend(words)\n",
        "    return list(set(all_words))\n",
        "\n",
        "def extract_features(document):\n",
        "    \"\"\"Función que crea el conjunto de entrenamiento del clasificador\n",
        "       1: Toma todos los documentos del corpus\n",
        "       2: Toma todas las palabras del corpus\n",
        "       3: Escribre (True|False) si aparece cada palabra del corpus en la frase\n",
        "    \"\"\"\n",
        "    document_words = set(document)\n",
        "    features = {}\n",
        "    for word in unique_words:\n",
        "        features['contains(%s)' % word] = (word in document_words)\n",
        "    return features"
      ]
    },
    {
      "cell_type": "markdown",
      "metadata": {
        "id": "UknYMvyapcjG"
      },
      "source": [
        "* A continuación pasamos a crear el conjunto de entrenamiento:"
      ]
    },
    {
      "cell_type": "code",
      "source": [
        "import nltk\n",
        "nltk.download('stopwords')"
      ],
      "metadata": {
        "colab": {
          "base_uri": "https://localhost:8080/"
        },
        "id": "IvgEls_yprYv",
        "outputId": "2d85bd29-f01d-4142-b705-37fbe112a5fa"
      },
      "execution_count": 4,
      "outputs": [
        {
          "output_type": "stream",
          "name": "stderr",
          "text": [
            "[nltk_data] Downloading package stopwords to /root/nltk_data...\n",
            "[nltk_data]   Unzipping corpora/stopwords.zip.\n"
          ]
        },
        {
          "output_type": "execute_result",
          "data": {
            "text/plain": [
              "True"
            ]
          },
          "metadata": {},
          "execution_count": 4
        }
      ]
    },
    {
      "cell_type": "code",
      "execution_count": 5,
      "metadata": {
        "colab": {
          "base_uri": "https://localhost:8080/"
        },
        "id": "QcC0wH-1pcjG",
        "outputId": "41da866b-9a58-4695-8e30-d11ac94c3688"
      },
      "outputs": [
        {
          "output_type": "stream",
          "name": "stdout",
          "text": [
            "({'contains(bomb)': False, 'contains(returned)': False, 'contains(car)': True, 'contains(restaurant)': False, 'contains(foot)': False, 'contains(work)': False, 'contains(sadistic)': False, 'contains(hell)': False, 'contains(view)': False, 'contains(apples)': False, 'contains(fast)': False, 'contains(tomorrow)': False, 'contains(ass)': False, 'contains(excited)': False, 'contains(forward)': False, 'contains(creep)': False, 'contains(tired)': False, 'contains(emails)': False, 'contains(deal)': False, 'contains(fun)': False, 'contains(crazy)': False, 'contains(sworn)': False, 'contains(stuff)': False, 'contains(father)': False, 'contains(boy)': False, 'contains(love)': True, 'contains(sandwich)': False, 'contains(concert)': False, 'contains(thomas)': False, 'contains(awesome)': False, 'contains(feel)': False, 'contains(friend)': False, 'contains(happy)': False, 'contains(hope)': False, 'contains(beers)': False, 'contains(accept)': False, 'contains(amazing)': False, 'contains(enemy)': False, 'contains(connected)': False, 'contains(scary)': False, 'contains(catch)': False, 'contains(bothered)': False, 'contains(place)': False, 'contains(morning)': False, 'contains(horrible)': False, 'contains(sorts)': False, 'contains(dead)': False, 'contains(great)': False, 'contains(boss)': False, 'contains(today)': False}, 'positive')\n"
          ]
        },
        {
          "output_type": "execute_result",
          "data": {
            "text/plain": [
              "(['love', 'car'], 'positive')"
            ]
          },
          "metadata": {},
          "execution_count": 5
        }
      ],
      "source": [
        "# Normalizamos las frases\n",
        "sentenses = normalize(positive+negative)\n",
        "\n",
        "# Obtenemos las palabras del corpus (diccionario del corpus)\n",
        "unique_words = get_unique_words(sentenses)\n",
        "\n",
        "# Construimos el conjunto de entrenamiento\n",
        "training_set = nltk.classify.apply_features(extract_features, sentenses)\n",
        "\n",
        "print(training_set[0])\n",
        "sentenses[0]"
      ]
    },
    {
      "cell_type": "markdown",
      "metadata": {
        "id": "ZaQQhwr-pcjI"
      },
      "source": [
        "<hr>\n",
        "\n",
        "\n",
        "## Algoritmo de Aprendizaje\n",
        "\n",
        "* Creamos un objeto de la clase NaiveBayesClassifier y llamamos al método train pasándole los datos de entrenamiento.\n",
        "\n",
        "\n",
        "* De esta manera ya tenemos el modelo creado para su uso asi como información relativa al modelo."
      ]
    },
    {
      "cell_type": "code",
      "execution_count": 6,
      "metadata": {
        "id": "DS7YipIWpcjI"
      },
      "outputs": [],
      "source": [
        "classifier = nltk.NaiveBayesClassifier.train(training_set)"
      ]
    },
    {
      "cell_type": "markdown",
      "metadata": {
        "id": "gPoA3fyRpcjJ"
      },
      "source": [
        "<hr>\n",
        "\n",
        "\n",
        "## Predicción\n",
        "\n",
        "* Para la predicción vamos a utilizar el modelo creado para ello vamos a:\n",
        "    1. Normalizar las frases\n",
        "    2. Extracción de características de la frase\n",
        "    3. Predicción\n",
        "\n",
        "* Veamos a continuación como hacerlo y como clasificamos:"
      ]
    },
    {
      "cell_type": "code",
      "execution_count": 7,
      "metadata": {
        "colab": {
          "base_uri": "https://localhost:8080/"
        },
        "id": "hB3X5JAfpcjJ",
        "outputId": "9015d924-524c-4370-ffba-e2e03fba398d"
      },
      "outputs": [
        {
          "output_type": "stream",
          "name": "stdout",
          "text": [
            "Frase: ['feel', 'happy', 'morning']\n",
            "\tPolaridad: positive - Predicción: positive -> BIEN\n",
            "Frase: ['larry', 'friend']\n",
            "\tPolaridad: positive - Predicción: positive -> BIEN\n",
            "Frase: []\n",
            "\tPolaridad: negative - Predicción: positive -> MAL\n",
            "Frase: ['house', 'great']\n",
            "\tPolaridad: negative - Predicción: positive -> MAL\n",
            "Frase: ['song', 'annoying']\n",
            "\tPolaridad: negative - Predicción: positive -> MAL\n",
            "Frase: ['beer']\n",
            "\tPolaridad: positive - Predicción: positive -> BIEN\n",
            "Frase: ['enjoy', 'job']\n",
            "\tPolaridad: negative - Predicción: positive -> MAL\n",
            "Frase: ['feel', 'amazing']\n",
            "\tPolaridad: positive - Predicción: positive -> BIEN\n",
            "Frase: ['gary', 'friend']\n",
            "\tPolaridad: positive - Predicción: positive -> BIEN\n",
            "Frase: ['believe']\n",
            "\tPolaridad: negative - Predicción: positive -> MAL\n"
          ]
        }
      ],
      "source": [
        "test = normalize(test)   # Normalizamos\n",
        "for sen in test:\n",
        "    sentense_features = extract_features(sen[0])   # Extracción de características\n",
        "    polarity = classifier.classify(sentense_features)   # Clasificación\n",
        "    print('Frase: ' + str(sen[0]))\n",
        "    print('\\tPolaridad: ' + sen[1] + ' - Predicción: ' + polarity + ' -> ' + ('BIEN' if polarity==sen[1] else 'MAL'))"
      ]
    },
    {
      "cell_type": "markdown",
      "metadata": {
        "id": "u2p0zYarpcjJ"
      },
      "source": [
        "<hr>\n",
        "\n",
        "\n",
        "# Modelo\n",
        "\n",
        "* Veamos a continuación algunas características del modelo:\n",
        "\n",
        "\n",
        "* Podemo ver por ejemplo la probabilidad de que una frase pertenezca a una etiqueta (label):"
      ]
    },
    {
      "cell_type": "code",
      "execution_count": 8,
      "metadata": {
        "colab": {
          "base_uri": "https://localhost:8080/"
        },
        "id": "p_fWsGjZpcjK",
        "outputId": "5429d4cd-51cf-43d7-80ec-d78f5a17d6c0"
      },
      "outputs": [
        {
          "output_type": "stream",
          "name": "stdout",
          "text": [
            "-> P(positivo) = 0.5\n",
            "-> P(negativo) = 0.5\n"
          ]
        }
      ],
      "source": [
        "prob_positive = classifier._label_probdist.prob('positive')\n",
        "prob_negative =  classifier._label_probdist.prob('negative')\n",
        "print ('-> P(positivo) = ' + str(prob_positive))\n",
        "print ('-> P(negativo) = ' + str(prob_negative))"
      ]
    },
    {
      "cell_type": "markdown",
      "metadata": {
        "id": "wYh15nIypcjK"
      },
      "source": [
        "* Otra cosa que podemos ver es como de relevante son las palabras que se han utilizado para construir el modelo en función de la etiqueta.\n",
        "\n",
        "\n",
        "* Vemos por ejemplo que si la palabra \"good\" aparece en una frase (*contains(good) = True*), esta frase tiene 3 veces más probabilidades de clasificarse como positiva que como negativa. Esta cálculo (según el código) lo hacen de la siguiente manera:\n",
        "\n",
        "\n",
        "$$positi : negati = \\frac{P(good|positivo)}{P(good|negativo)}$$\n",
        "\n",
        "$$negati : positi = \\frac{P(good|negativo)}{P(good|positivo)}$$"
      ]
    },
    {
      "cell_type": "code",
      "execution_count": 9,
      "metadata": {
        "colab": {
          "base_uri": "https://localhost:8080/"
        },
        "id": "72pFwzeApcjM",
        "outputId": "47edfd03-2e2a-47e6-efa3-96ea950f19b1"
      },
      "outputs": [
        {
          "output_type": "stream",
          "name": "stdout",
          "text": [
            "Most Informative Features\n",
            "          contains(feel) = True           positi : negati =      1.7 : 1.0\n",
            "          contains(view) = True           positi : negati =      1.7 : 1.0\n",
            "       contains(amazing) = False          negati : positi =      1.1 : 1.0\n",
            "        contains(apples) = False          negati : positi =      1.1 : 1.0\n",
            "         contains(enemy) = False          positi : negati =      1.1 : 1.0\n"
          ]
        }
      ],
      "source": [
        "classifier.show_most_informative_features(5)"
      ]
    },
    {
      "cell_type": "markdown",
      "metadata": {
        "id": "sScaDCz8pcjM"
      },
      "source": [
        "* Podemos ver tambien como calcula el peso para determinar si una frase es positiva o negativa:"
      ]
    },
    {
      "cell_type": "code",
      "execution_count": 10,
      "metadata": {
        "colab": {
          "base_uri": "https://localhost:8080/"
        },
        "id": "Elby2a0SpcjN",
        "outputId": "4b8f0bba-0bc5-4986-d0a2-1880a986d0ab"
      },
      "outputs": [
        {
          "output_type": "stream",
          "name": "stdout",
          "text": [
            "Predicción: positive\n",
            "{'positive': -0.11769890448306342, 'negative': -3.6740429588725583}\n"
          ]
        }
      ],
      "source": [
        "# Ejemplo POSITIVO\n",
        "t = \"I feel happy this morning\"\n",
        "print ('Predicción: ' + classifier.classify(extract_features(t.split())))\n",
        "print (classifier.prob_classify(extract_features(t.split()))._prob_dict)"
      ]
    },
    {
      "cell_type": "code",
      "execution_count": 11,
      "metadata": {
        "colab": {
          "base_uri": "https://localhost:8080/"
        },
        "id": "AHlvJgFLpcjN",
        "outputId": "169516d0-d067-4da2-b984-4f87c615e761"
      },
      "outputs": [
        {
          "output_type": "stream",
          "name": "stdout",
          "text": [
            "Predicción: positive\n",
            "{'positive': -0.8697654138404438, 'negative': -1.1431682869539301}\n"
          ]
        }
      ],
      "source": [
        "# Ejemplo NEGATIVO\n",
        "t = \"I do not like that man\"\n",
        "print ('Predicción: ' + classifier.classify(extract_features(t.split())))\n",
        "print (classifier.prob_classify(extract_features(t.split()))._prob_dict)"
      ]
    },
    {
      "cell_type": "markdown",
      "metadata": {
        "id": "zv5lZ0gWpcjN"
      },
      "source": [
        "* Por último podemos ver la probabilidad de que una frase se clasifique como positiva o negativa en función de que aparezca o no una determinada palabra:"
      ]
    },
    {
      "cell_type": "code",
      "source": [
        "import re\n",
        "import nltk\n",
        "import nltk.classify\n",
        "from nltk.corpus import stopwords\n",
        "\n",
        "# ... (rest of your code) ...\n",
        "\n",
        "def normalize(sentenses):\n",
        "    \"\"\"normalizamos la lista de frases\"\"\"\n",
        "    sen = []\n",
        "    for (words, sentiment) in sentenses:\n",
        "        words_filtered = []\n",
        "        for word in words.split():\n",
        "            word = re.sub(r'[^\\w\\s]', '', word).lower()  # Eliminamos signos de puntuación y lo pasamos a minúsculas\n",
        "            #  We are removing the length filter to allow words like \"good\" through.\n",
        "            #  And adding it to a custom stopwords list to prevent its removal\n",
        "            custom_stopwords = set(stopwords.words()) - {'good'}\n",
        "            # if len(word) > 2 and word not in stopwords.words():\n",
        "            if word not in custom_stopwords:  # Only filter out our custom stopwords now\n",
        "                words_filtered.append(word)\n",
        "        sen.append((words_filtered, sentiment))\n",
        "    return sen\n",
        "# ... (rest of your code) ..."
      ],
      "metadata": {
        "id": "lOWly2Dvp8T-"
      },
      "execution_count": 12,
      "outputs": []
    },
    {
      "cell_type": "code",
      "source": [
        "import re\n",
        "import nltk\n",
        "import nltk.classify\n",
        "from nltk.corpus import stopwords\n",
        "\n",
        "# ... (rest of your code) ...\n",
        "\n",
        "def normalize(sentenses):\n",
        "    \"\"\"normalizamos la lista de frases\"\"\"\n",
        "    sen = []\n",
        "    for (words, sentiment) in sentenses:\n",
        "        words_filtered = []\n",
        "        for word in words.split():\n",
        "            word = re.sub(r'[^\\w\\s]', '', word).lower()  # Eliminamos signos de puntuación y lo pasamos a minúsculas\n",
        "            #  We are removing the length filter to allow words like \"good\" through.\n",
        "            #  And adding it to a custom stopwords list to prevent its removal\n",
        "            custom_stopwords = set(stopwords.words()) - {'good'}\n",
        "            # if len(word) > 2 and word not in stopwords.words():\n",
        "            if word not in custom_stopwords:  # Only filter out our custom stopwords now\n",
        "                words_filtered.append(word)\n",
        "        sen.append((words_filtered, sentiment))\n",
        "    return sen\n",
        "# ... (rest of your code) ..."
      ],
      "metadata": {
        "id": "U7-7HPgYW_iY"
      },
      "execution_count": 16,
      "outputs": []
    },
    {
      "cell_type": "code",
      "source": [
        "sentenses = normalize(positive+negative)\n",
        "unique_words = get_unique_words(sentenses)\n",
        "training_set = nltk.classify.apply_features(extract_features, sentenses)\n",
        "classifier = nltk.NaiveBayesClassifier.train(training_set)"
      ],
      "metadata": {
        "id": "Jy4zff9eXIQn"
      },
      "execution_count": 18,
      "outputs": []
    },
    {
      "cell_type": "code",
      "execution_count": 19,
      "metadata": {
        "colab": {
          "base_uri": "https://localhost:8080/"
        },
        "id": "tR0SkRFKpcjO",
        "outputId": "f766bcf6-1e6c-4847-9408-02919ba46d41"
      },
      "outputs": [
        {
          "output_type": "stream",
          "name": "stdout",
          "text": [
            "Probabilidad de que la frase sea NEGATIVA si APARECE la palabra 'good':\n",
            "0.07142857142857142\n",
            "\n",
            "Probabilidad de que la frase sea POSITIVA si APARECE la palabra 'good':\n",
            "0.21428571428571427\n",
            "\n",
            "Probabilidad de que la frase sea NEGATIVA si NO APARECE la palabra 'good':\n",
            "0.9285714285714286\n",
            "\n",
            "Probabilidad de que la frase sea POSITIVA si NO APARECE la palabra 'good':\n",
            "0.7857142857142857\n"
          ]
        }
      ],
      "source": [
        "print(\"Probabilidad de que la frase sea NEGATIVA si APARECE la palabra 'good':\")\n",
        "print (classifier._feature_probdist[('negative', 'contains(good)')].prob(True))\n",
        "\n",
        "print(\"\\nProbabilidad de que la frase sea POSITIVA si APARECE la palabra 'good':\")\n",
        "print (classifier._feature_probdist[('positive', 'contains(good)')].prob(True))\n",
        "\n",
        "print(\"\\nProbabilidad de que la frase sea NEGATIVA si NO APARECE la palabra 'good':\")\n",
        "print (classifier._feature_probdist[('negative', 'contains(good)')].prob(False))\n",
        "\n",
        "print(\"\\nProbabilidad de que la frase sea POSITIVA si NO APARECE la palabra 'good':\")\n",
        "print (classifier._feature_probdist[('positive', 'contains(good)')].prob(False))"
      ]
    }
  ],
  "metadata": {
    "kernelspec": {
      "display_name": "Python 3 (ipykernel)",
      "language": "python",
      "name": "python3"
    },
    "language_info": {
      "codemirror_mode": {
        "name": "ipython",
        "version": 3
      },
      "file_extension": ".py",
      "mimetype": "text/x-python",
      "name": "python",
      "nbconvert_exporter": "python",
      "pygments_lexer": "ipython3",
      "version": "3.7.11"
    },
    "colab": {
      "provenance": [],
      "include_colab_link": true
    }
  },
  "nbformat": 4,
  "nbformat_minor": 0
}