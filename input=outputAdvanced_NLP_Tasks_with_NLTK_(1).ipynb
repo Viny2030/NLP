{
  "cells": [
    {
      "cell_type": "markdown",
      "metadata": {
        "id": "view-in-github",
        "colab_type": "text"
      },
      "source": [
        "<a href=\"https://colab.research.google.com/github/Viny2030/NLP/blob/main/input%3DoutputAdvanced_NLP_Tasks_with_NLTK_(1).ipynb\" target=\"_parent\"><img src=\"https://colab.research.google.com/assets/colab-badge.svg\" alt=\"Open In Colab\"/></a>"
      ]
    },
    {
      "cell_type": "code",
      "source": [
        "import nltk\n",
        "nltk.download('tagsets_json')"
      ],
      "metadata": {
        "colab": {
          "base_uri": "https://localhost:8080/"
        },
        "id": "MPf0QhlFq7XZ",
        "outputId": "23bc9790-6b2b-45c9-cbb3-046ea2b29bb4"
      },
      "execution_count": 2,
      "outputs": [
        {
          "output_type": "stream",
          "name": "stderr",
          "text": [
            "[nltk_data] Downloading package tagsets_json to /root/nltk_data...\n",
            "[nltk_data]   Unzipping help/tagsets_json.zip.\n"
          ]
        },
        {
          "output_type": "execute_result",
          "data": {
            "text/plain": [
              "True"
            ]
          },
          "metadata": {},
          "execution_count": 2
        }
      ]
    },
    {
      "cell_type": "code",
      "execution_count": 3,
      "metadata": {
        "id": "ECWzd56VqpQI",
        "outputId": "41f5279e-6b0f-4951-843d-d9504e03158c",
        "colab": {
          "base_uri": "https://localhost:8080/"
        }
      },
      "outputs": [
        {
          "output_type": "stream",
          "name": "stdout",
          "text": [
            "MD: modal auxiliary\n",
            "    can cannot could couldn't dare may might must need ought shall should\n",
            "    shouldn't will would\n"
          ]
        }
      ],
      "source": [
        "import nltk\n",
        "nltk.help.upenn_tagset('MD')"
      ]
    },
    {
      "cell_type": "code",
      "source": [
        "import nltk\n",
        "nltk.download('punkt_tab')"
      ],
      "metadata": {
        "colab": {
          "base_uri": "https://localhost:8080/"
        },
        "id": "0NPLfmJkrB09",
        "outputId": "e321f722-a462-40f3-f298-a7d06e830a3e"
      },
      "execution_count": 5,
      "outputs": [
        {
          "output_type": "stream",
          "name": "stderr",
          "text": [
            "[nltk_data] Downloading package punkt_tab to /root/nltk_data...\n",
            "[nltk_data]   Unzipping tokenizers/punkt_tab.zip.\n"
          ]
        },
        {
          "output_type": "execute_result",
          "data": {
            "text/plain": [
              "True"
            ]
          },
          "metadata": {},
          "execution_count": 5
        }
      ]
    },
    {
      "cell_type": "code",
      "source": [
        "import nltk\n",
        "nltk.download('averaged_perceptron_tagger_eng')"
      ],
      "metadata": {
        "colab": {
          "base_uri": "https://localhost:8080/"
        },
        "id": "AyfzKC0UrIak",
        "outputId": "9ab003fe-4232-4ade-8126-c2b3d5739c18"
      },
      "execution_count": 7,
      "outputs": [
        {
          "output_type": "stream",
          "name": "stderr",
          "text": [
            "[nltk_data] Downloading package averaged_perceptron_tagger_eng to\n",
            "[nltk_data]     /root/nltk_data...\n",
            "[nltk_data]   Unzipping taggers/averaged_perceptron_tagger_eng.zip.\n"
          ]
        },
        {
          "output_type": "execute_result",
          "data": {
            "text/plain": [
              "True"
            ]
          },
          "metadata": {},
          "execution_count": 7
        }
      ]
    },
    {
      "cell_type": "code",
      "execution_count": 8,
      "metadata": {
        "id": "TR6KZ-mFqpQL",
        "outputId": "440b5363-be87-4666-8670-ff51077e83fa",
        "colab": {
          "base_uri": "https://localhost:8080/"
        }
      },
      "outputs": [
        {
          "output_type": "execute_result",
          "data": {
            "text/plain": [
              "[('Children', 'NNP'),\n",
              " (\"should't\", 'VBZ'),\n",
              " ('drink', 'VB'),\n",
              " ('a', 'DT'),\n",
              " ('sugary', 'JJ'),\n",
              " ('drink', 'NN'),\n",
              " ('before', 'IN'),\n",
              " ('bed', 'NN'),\n",
              " ('.', '.')]"
            ]
          },
          "metadata": {},
          "execution_count": 8
        }
      ],
      "source": [
        "# POS tagging with NLTK\n",
        "text11 = \"Children should't drink a sugary drink before bed.\"\n",
        "text13 = nltk.word_tokenize(text11)\n",
        "nltk.pos_tag(text13)"
      ]
    },
    {
      "cell_type": "code",
      "source": [
        "nltk.download('punkt')\n",
        "nltk.download('averaged_perceptron_tagger')"
      ],
      "metadata": {
        "colab": {
          "base_uri": "https://localhost:8080/"
        },
        "id": "YmvH3rmQrkso",
        "outputId": "4357f37f-ab3b-4f40-bd74-4d8460400c8e"
      },
      "execution_count": 12,
      "outputs": [
        {
          "output_type": "stream",
          "name": "stderr",
          "text": [
            "[nltk_data] Downloading package punkt to /root/nltk_data...\n",
            "[nltk_data]   Package punkt is already up-to-date!\n",
            "[nltk_data] Downloading package averaged_perceptron_tagger to\n",
            "[nltk_data]     /root/nltk_data...\n",
            "[nltk_data]   Package averaged_perceptron_tagger is already up-to-\n",
            "[nltk_data]       date!\n"
          ]
        },
        {
          "output_type": "execute_result",
          "data": {
            "text/plain": [
              "True"
            ]
          },
          "metadata": {},
          "execution_count": 12
        }
      ]
    },
    {
      "cell_type": "code",
      "execution_count": 13,
      "metadata": {
        "collapsed": true,
        "id": "T5IpEO3WqpQM",
        "colab": {
          "base_uri": "https://localhost:8080/"
        },
        "outputId": "3d0928a5-1751-491c-c6ab-b1b870e90903"
      },
      "outputs": [
        {
          "output_type": "execute_result",
          "data": {
            "text/plain": [
              "[('Jane', 'NNP'),\n",
              " ('bought', 'VBD'),\n",
              " ('me', 'PRP'),\n",
              " ('these', 'DT'),\n",
              " ('books', 'NNS'),\n",
              " ('.', '.'),\n",
              " ('Jane', 'NNP'),\n",
              " ('bought', 'VBD'),\n",
              " ('a', 'DT'),\n",
              " ('book', 'NN'),\n",
              " ('for', 'IN'),\n",
              " ('me', 'PRP'),\n",
              " ('.', '.'),\n",
              " ('She', 'PRP'),\n",
              " ('dropped', 'VBD'),\n",
              " ('a', 'DT'),\n",
              " ('line', 'NN'),\n",
              " ('to', 'TO'),\n",
              " ('him', 'PRP'),\n",
              " ('.', '.'),\n",
              " ('Thank', 'NNP'),\n",
              " ('you', 'PRP'),\n",
              " ('.', '.'),\n",
              " ('She', 'PRP'),\n",
              " ('sleeps', 'VBZ'),\n",
              " ('.', '.'),\n",
              " ('I', 'PRP'),\n",
              " ('sleep', 'VBP'),\n",
              " ('a', 'DT'),\n",
              " ('lot', 'NN'),\n",
              " ('.', '.'),\n",
              " ('I', 'PRP'),\n",
              " ('was', 'VBD'),\n",
              " ('born', 'VBN'),\n",
              " ('in', 'IN'),\n",
              " ('Madrid', 'NNP'),\n",
              " ('.', '.'),\n",
              " ('the', 'DT'),\n",
              " ('cat', 'NN'),\n",
              " ('was', 'VBD'),\n",
              " ('chased', 'VBN'),\n",
              " ('by', 'IN'),\n",
              " ('the', 'DT'),\n",
              " ('dog', 'NN'),\n",
              " ('.', '.'),\n",
              " ('I', 'PRP'),\n",
              " ('was', 'VBD'),\n",
              " ('born', 'VBN'),\n",
              " ('in', 'IN'),\n",
              " ('Madrid', 'NNP'),\n",
              " ('during', 'IN'),\n",
              " ('1995', 'CD'),\n",
              " ('.', '.'),\n",
              " ('Out', 'IN'),\n",
              " ('of', 'IN'),\n",
              " ('all', 'PDT'),\n",
              " ('this', 'DT'),\n",
              " (',', ','),\n",
              " ('something', 'NN'),\n",
              " ('good', 'JJ'),\n",
              " ('will', 'MD'),\n",
              " ('come', 'VB'),\n",
              " ('.', '.'),\n",
              " ('Susan', 'NNP'),\n",
              " ('left', 'VBD'),\n",
              " ('after', 'IN'),\n",
              " ('the', 'DT'),\n",
              " ('rehearsal', 'NN'),\n",
              " ('.', '.'),\n",
              " ('She', 'PRP'),\n",
              " ('did', 'VBD'),\n",
              " ('it', 'PRP'),\n",
              " ('well', 'RB'),\n",
              " ('.', '.'),\n",
              " ('She', 'PRP'),\n",
              " ('sleeps', 'VBZ'),\n",
              " ('during', 'IN'),\n",
              " ('the', 'DT'),\n",
              " ('morning', 'NN'),\n",
              " (',', ','),\n",
              " ('but', 'CC'),\n",
              " ('she', 'PRP'),\n",
              " ('sleeps', 'VBZ'),\n",
              " ('.', '.')]"
            ]
          },
          "metadata": {},
          "execution_count": 13
        }
      ],
      "source": [
        "# POS tagging with NLTK\n",
        "import nltk\n",
        "text = \" Jane bought me these books. Jane bought a book for me. She dropped a line to him. Thank you. She sleeps. I sleep a lot. I was born in Madrid. the cat was chased by the dog. I was born in Madrid during 1995. Out of all this , something good will come. Susan left after the rehearsal. She did it well. She sleeps during the morning, but she sleeps.\"\n",
        "text1 = nltk.word_tokenize(text)\n",
        "nltk.pos_tag(text1)"
      ]
    },
    {
      "cell_type": "code",
      "source": [
        "import nltk\n",
        "nltk.download('tagset')"
      ],
      "metadata": {
        "colab": {
          "base_uri": "https://localhost:8080/"
        },
        "id": "FImXGvDQsFSV",
        "outputId": "9d459a75-fa95-4c69-fc7d-a8a2d4353d09"
      },
      "execution_count": 16,
      "outputs": [
        {
          "output_type": "stream",
          "name": "stderr",
          "text": [
            "[nltk_data] Error loading tagset: Package 'tagset' not found in index\n"
          ]
        },
        {
          "output_type": "execute_result",
          "data": {
            "text/plain": [
              "False"
            ]
          },
          "metadata": {},
          "execution_count": 16
        }
      ]
    },
    {
      "cell_type": "code",
      "source": [
        "import pandas as pd"
      ],
      "metadata": {
        "id": "Jl5z8Ro3sWLM"
      },
      "execution_count": 18,
      "outputs": []
    },
    {
      "cell_type": "code",
      "source": [
        "text2 = pd.read_json(\"https://raw.githubusercontent.com/Viny2030/datasets/refs/heads/main/output.json\")\n",
        "text2.T"
      ],
      "metadata": {
        "colab": {
          "base_uri": "https://localhost:8080/",
          "height": 425
        },
        "id": "TeVkbkSBrsjI",
        "outputId": "f74ab14c-bf70-4c80-d991-cd7bad255431"
      },
      "execution_count": 21,
      "outputs": [
        {
          "output_type": "execute_result",
          "data": {
            "text/plain": [
              "                                                                         sentences  \\\n",
              "I, bear, in, CITY                [I was born in Madrid., I was born in Madrid d...   \n",
              "she, sleep                       [She sleeps., She sleeps during the morning, b...   \n",
              "she, drop, line, to, he                               [She dropped a line to him.]   \n",
              "cat, chase, by, dog                               [the cat was chased by the dog.]   \n",
              "she, sleep, during, TIME          [She sleeps during the morning, but she sleeps.]   \n",
              "something, come, out, this           [Out of all this , something good will come.]   \n",
              "PERSON, leave, after, rehearsal                  [Susan left after the rehearsal.]   \n",
              "I, bear, during, DATE                          [I was born in Madrid during 1995.]   \n",
              "I, sleep, lot                                                     [I sleep a lot.]   \n",
              "she, do, it                                                     [She did it well.]   \n",
              "PERSON, buy, book                                    [Jane bought me these books.]   \n",
              "PERSON, buy, book, for, I                             [Jane bought a book for me.]   \n",
              "\n",
              "                                  type count        sbj    vrb   obj     cas  \\\n",
              "I, bear, in, CITY                 NVPN     2          I   bear  None      in   \n",
              "she, sleep                          NV     2        she  sleep  None    None   \n",
              "she, drop, line, to, he          NVNPN     1        she   drop  line      to   \n",
              "cat, chase, by, dog               NVPN     1        cat  chase  None      by   \n",
              "she, sleep, during, TIME          NVPN     1        she  sleep  None  during   \n",
              "something, come, out, this        NVPN     1  something   come  None     out   \n",
              "PERSON, leave, after, rehearsal   NVPN     1     PERSON  leave  None   after   \n",
              "I, bear, during, DATE             NVPN     1          I   bear  None  during   \n",
              "I, sleep, lot                      NVN     1          I  sleep   lot    None   \n",
              "she, do, it                        NVN     1        she     do    it    None   \n",
              "PERSON, buy, book                  NVN     1     PERSON    buy  book    None   \n",
              "PERSON, buy, book, for, I        NVNPN     1     PERSON    buy  book     for   \n",
              "\n",
              "                                       com  \n",
              "I, bear, in, CITY                     CITY  \n",
              "she, sleep                            None  \n",
              "she, drop, line, to, he                 he  \n",
              "cat, chase, by, dog                    dog  \n",
              "she, sleep, during, TIME              TIME  \n",
              "something, come, out, this            this  \n",
              "PERSON, leave, after, rehearsal  rehearsal  \n",
              "I, bear, during, DATE                 DATE  \n",
              "I, sleep, lot                         None  \n",
              "she, do, it                           None  \n",
              "PERSON, buy, book                     None  \n",
              "PERSON, buy, book, for, I                I  "
            ],
            "text/html": [
              "\n",
              "  <div id=\"df-8ff344fc-6619-4bd6-af6d-6147a3f8ad3f\" class=\"colab-df-container\">\n",
              "    <div>\n",
              "<style scoped>\n",
              "    .dataframe tbody tr th:only-of-type {\n",
              "        vertical-align: middle;\n",
              "    }\n",
              "\n",
              "    .dataframe tbody tr th {\n",
              "        vertical-align: top;\n",
              "    }\n",
              "\n",
              "    .dataframe thead th {\n",
              "        text-align: right;\n",
              "    }\n",
              "</style>\n",
              "<table border=\"1\" class=\"dataframe\">\n",
              "  <thead>\n",
              "    <tr style=\"text-align: right;\">\n",
              "      <th></th>\n",
              "      <th>sentences</th>\n",
              "      <th>type</th>\n",
              "      <th>count</th>\n",
              "      <th>sbj</th>\n",
              "      <th>vrb</th>\n",
              "      <th>obj</th>\n",
              "      <th>cas</th>\n",
              "      <th>com</th>\n",
              "    </tr>\n",
              "  </thead>\n",
              "  <tbody>\n",
              "    <tr>\n",
              "      <th>I, bear, in, CITY</th>\n",
              "      <td>[I was born in Madrid., I was born in Madrid d...</td>\n",
              "      <td>NVPN</td>\n",
              "      <td>2</td>\n",
              "      <td>I</td>\n",
              "      <td>bear</td>\n",
              "      <td>None</td>\n",
              "      <td>in</td>\n",
              "      <td>CITY</td>\n",
              "    </tr>\n",
              "    <tr>\n",
              "      <th>she, sleep</th>\n",
              "      <td>[She sleeps., She sleeps during the morning, b...</td>\n",
              "      <td>NV</td>\n",
              "      <td>2</td>\n",
              "      <td>she</td>\n",
              "      <td>sleep</td>\n",
              "      <td>None</td>\n",
              "      <td>None</td>\n",
              "      <td>None</td>\n",
              "    </tr>\n",
              "    <tr>\n",
              "      <th>she, drop, line, to, he</th>\n",
              "      <td>[She dropped a line to him.]</td>\n",
              "      <td>NVNPN</td>\n",
              "      <td>1</td>\n",
              "      <td>she</td>\n",
              "      <td>drop</td>\n",
              "      <td>line</td>\n",
              "      <td>to</td>\n",
              "      <td>he</td>\n",
              "    </tr>\n",
              "    <tr>\n",
              "      <th>cat, chase, by, dog</th>\n",
              "      <td>[the cat was chased by the dog.]</td>\n",
              "      <td>NVPN</td>\n",
              "      <td>1</td>\n",
              "      <td>cat</td>\n",
              "      <td>chase</td>\n",
              "      <td>None</td>\n",
              "      <td>by</td>\n",
              "      <td>dog</td>\n",
              "    </tr>\n",
              "    <tr>\n",
              "      <th>she, sleep, during, TIME</th>\n",
              "      <td>[She sleeps during the morning, but she sleeps.]</td>\n",
              "      <td>NVPN</td>\n",
              "      <td>1</td>\n",
              "      <td>she</td>\n",
              "      <td>sleep</td>\n",
              "      <td>None</td>\n",
              "      <td>during</td>\n",
              "      <td>TIME</td>\n",
              "    </tr>\n",
              "    <tr>\n",
              "      <th>something, come, out, this</th>\n",
              "      <td>[Out of all this , something good will come.]</td>\n",
              "      <td>NVPN</td>\n",
              "      <td>1</td>\n",
              "      <td>something</td>\n",
              "      <td>come</td>\n",
              "      <td>None</td>\n",
              "      <td>out</td>\n",
              "      <td>this</td>\n",
              "    </tr>\n",
              "    <tr>\n",
              "      <th>PERSON, leave, after, rehearsal</th>\n",
              "      <td>[Susan left after the rehearsal.]</td>\n",
              "      <td>NVPN</td>\n",
              "      <td>1</td>\n",
              "      <td>PERSON</td>\n",
              "      <td>leave</td>\n",
              "      <td>None</td>\n",
              "      <td>after</td>\n",
              "      <td>rehearsal</td>\n",
              "    </tr>\n",
              "    <tr>\n",
              "      <th>I, bear, during, DATE</th>\n",
              "      <td>[I was born in Madrid during 1995.]</td>\n",
              "      <td>NVPN</td>\n",
              "      <td>1</td>\n",
              "      <td>I</td>\n",
              "      <td>bear</td>\n",
              "      <td>None</td>\n",
              "      <td>during</td>\n",
              "      <td>DATE</td>\n",
              "    </tr>\n",
              "    <tr>\n",
              "      <th>I, sleep, lot</th>\n",
              "      <td>[I sleep a lot.]</td>\n",
              "      <td>NVN</td>\n",
              "      <td>1</td>\n",
              "      <td>I</td>\n",
              "      <td>sleep</td>\n",
              "      <td>lot</td>\n",
              "      <td>None</td>\n",
              "      <td>None</td>\n",
              "    </tr>\n",
              "    <tr>\n",
              "      <th>she, do, it</th>\n",
              "      <td>[She did it well.]</td>\n",
              "      <td>NVN</td>\n",
              "      <td>1</td>\n",
              "      <td>she</td>\n",
              "      <td>do</td>\n",
              "      <td>it</td>\n",
              "      <td>None</td>\n",
              "      <td>None</td>\n",
              "    </tr>\n",
              "    <tr>\n",
              "      <th>PERSON, buy, book</th>\n",
              "      <td>[Jane bought me these books.]</td>\n",
              "      <td>NVN</td>\n",
              "      <td>1</td>\n",
              "      <td>PERSON</td>\n",
              "      <td>buy</td>\n",
              "      <td>book</td>\n",
              "      <td>None</td>\n",
              "      <td>None</td>\n",
              "    </tr>\n",
              "    <tr>\n",
              "      <th>PERSON, buy, book, for, I</th>\n",
              "      <td>[Jane bought a book for me.]</td>\n",
              "      <td>NVNPN</td>\n",
              "      <td>1</td>\n",
              "      <td>PERSON</td>\n",
              "      <td>buy</td>\n",
              "      <td>book</td>\n",
              "      <td>for</td>\n",
              "      <td>I</td>\n",
              "    </tr>\n",
              "  </tbody>\n",
              "</table>\n",
              "</div>\n",
              "    <div class=\"colab-df-buttons\">\n",
              "\n",
              "  <div class=\"colab-df-container\">\n",
              "    <button class=\"colab-df-convert\" onclick=\"convertToInteractive('df-8ff344fc-6619-4bd6-af6d-6147a3f8ad3f')\"\n",
              "            title=\"Convert this dataframe to an interactive table.\"\n",
              "            style=\"display:none;\">\n",
              "\n",
              "  <svg xmlns=\"http://www.w3.org/2000/svg\" height=\"24px\" viewBox=\"0 -960 960 960\">\n",
              "    <path d=\"M120-120v-720h720v720H120Zm60-500h600v-160H180v160Zm220 220h160v-160H400v160Zm0 220h160v-160H400v160ZM180-400h160v-160H180v160Zm440 0h160v-160H620v160ZM180-180h160v-160H180v160Zm440 0h160v-160H620v160Z\"/>\n",
              "  </svg>\n",
              "    </button>\n",
              "\n",
              "  <style>\n",
              "    .colab-df-container {\n",
              "      display:flex;\n",
              "      gap: 12px;\n",
              "    }\n",
              "\n",
              "    .colab-df-convert {\n",
              "      background-color: #E8F0FE;\n",
              "      border: none;\n",
              "      border-radius: 50%;\n",
              "      cursor: pointer;\n",
              "      display: none;\n",
              "      fill: #1967D2;\n",
              "      height: 32px;\n",
              "      padding: 0 0 0 0;\n",
              "      width: 32px;\n",
              "    }\n",
              "\n",
              "    .colab-df-convert:hover {\n",
              "      background-color: #E2EBFA;\n",
              "      box-shadow: 0px 1px 2px rgba(60, 64, 67, 0.3), 0px 1px 3px 1px rgba(60, 64, 67, 0.15);\n",
              "      fill: #174EA6;\n",
              "    }\n",
              "\n",
              "    .colab-df-buttons div {\n",
              "      margin-bottom: 4px;\n",
              "    }\n",
              "\n",
              "    [theme=dark] .colab-df-convert {\n",
              "      background-color: #3B4455;\n",
              "      fill: #D2E3FC;\n",
              "    }\n",
              "\n",
              "    [theme=dark] .colab-df-convert:hover {\n",
              "      background-color: #434B5C;\n",
              "      box-shadow: 0px 1px 3px 1px rgba(0, 0, 0, 0.15);\n",
              "      filter: drop-shadow(0px 1px 2px rgba(0, 0, 0, 0.3));\n",
              "      fill: #FFFFFF;\n",
              "    }\n",
              "  </style>\n",
              "\n",
              "    <script>\n",
              "      const buttonEl =\n",
              "        document.querySelector('#df-8ff344fc-6619-4bd6-af6d-6147a3f8ad3f button.colab-df-convert');\n",
              "      buttonEl.style.display =\n",
              "        google.colab.kernel.accessAllowed ? 'block' : 'none';\n",
              "\n",
              "      async function convertToInteractive(key) {\n",
              "        const element = document.querySelector('#df-8ff344fc-6619-4bd6-af6d-6147a3f8ad3f');\n",
              "        const dataTable =\n",
              "          await google.colab.kernel.invokeFunction('convertToInteractive',\n",
              "                                                    [key], {});\n",
              "        if (!dataTable) return;\n",
              "\n",
              "        const docLinkHtml = 'Like what you see? Visit the ' +\n",
              "          '<a target=\"_blank\" href=https://colab.research.google.com/notebooks/data_table.ipynb>data table notebook</a>'\n",
              "          + ' to learn more about interactive tables.';\n",
              "        element.innerHTML = '';\n",
              "        dataTable['output_type'] = 'display_data';\n",
              "        await google.colab.output.renderOutput(dataTable, element);\n",
              "        const docLink = document.createElement('div');\n",
              "        docLink.innerHTML = docLinkHtml;\n",
              "        element.appendChild(docLink);\n",
              "      }\n",
              "    </script>\n",
              "  </div>\n",
              "\n",
              "\n",
              "<div id=\"df-0b150da7-5c86-4943-8aeb-d1919482f913\">\n",
              "  <button class=\"colab-df-quickchart\" onclick=\"quickchart('df-0b150da7-5c86-4943-8aeb-d1919482f913')\"\n",
              "            title=\"Suggest charts\"\n",
              "            style=\"display:none;\">\n",
              "\n",
              "<svg xmlns=\"http://www.w3.org/2000/svg\" height=\"24px\"viewBox=\"0 0 24 24\"\n",
              "     width=\"24px\">\n",
              "    <g>\n",
              "        <path d=\"M19 3H5c-1.1 0-2 .9-2 2v14c0 1.1.9 2 2 2h14c1.1 0 2-.9 2-2V5c0-1.1-.9-2-2-2zM9 17H7v-7h2v7zm4 0h-2V7h2v10zm4 0h-2v-4h2v4z\"/>\n",
              "    </g>\n",
              "</svg>\n",
              "  </button>\n",
              "\n",
              "<style>\n",
              "  .colab-df-quickchart {\n",
              "      --bg-color: #E8F0FE;\n",
              "      --fill-color: #1967D2;\n",
              "      --hover-bg-color: #E2EBFA;\n",
              "      --hover-fill-color: #174EA6;\n",
              "      --disabled-fill-color: #AAA;\n",
              "      --disabled-bg-color: #DDD;\n",
              "  }\n",
              "\n",
              "  [theme=dark] .colab-df-quickchart {\n",
              "      --bg-color: #3B4455;\n",
              "      --fill-color: #D2E3FC;\n",
              "      --hover-bg-color: #434B5C;\n",
              "      --hover-fill-color: #FFFFFF;\n",
              "      --disabled-bg-color: #3B4455;\n",
              "      --disabled-fill-color: #666;\n",
              "  }\n",
              "\n",
              "  .colab-df-quickchart {\n",
              "    background-color: var(--bg-color);\n",
              "    border: none;\n",
              "    border-radius: 50%;\n",
              "    cursor: pointer;\n",
              "    display: none;\n",
              "    fill: var(--fill-color);\n",
              "    height: 32px;\n",
              "    padding: 0;\n",
              "    width: 32px;\n",
              "  }\n",
              "\n",
              "  .colab-df-quickchart:hover {\n",
              "    background-color: var(--hover-bg-color);\n",
              "    box-shadow: 0 1px 2px rgba(60, 64, 67, 0.3), 0 1px 3px 1px rgba(60, 64, 67, 0.15);\n",
              "    fill: var(--button-hover-fill-color);\n",
              "  }\n",
              "\n",
              "  .colab-df-quickchart-complete:disabled,\n",
              "  .colab-df-quickchart-complete:disabled:hover {\n",
              "    background-color: var(--disabled-bg-color);\n",
              "    fill: var(--disabled-fill-color);\n",
              "    box-shadow: none;\n",
              "  }\n",
              "\n",
              "  .colab-df-spinner {\n",
              "    border: 2px solid var(--fill-color);\n",
              "    border-color: transparent;\n",
              "    border-bottom-color: var(--fill-color);\n",
              "    animation:\n",
              "      spin 1s steps(1) infinite;\n",
              "  }\n",
              "\n",
              "  @keyframes spin {\n",
              "    0% {\n",
              "      border-color: transparent;\n",
              "      border-bottom-color: var(--fill-color);\n",
              "      border-left-color: var(--fill-color);\n",
              "    }\n",
              "    20% {\n",
              "      border-color: transparent;\n",
              "      border-left-color: var(--fill-color);\n",
              "      border-top-color: var(--fill-color);\n",
              "    }\n",
              "    30% {\n",
              "      border-color: transparent;\n",
              "      border-left-color: var(--fill-color);\n",
              "      border-top-color: var(--fill-color);\n",
              "      border-right-color: var(--fill-color);\n",
              "    }\n",
              "    40% {\n",
              "      border-color: transparent;\n",
              "      border-right-color: var(--fill-color);\n",
              "      border-top-color: var(--fill-color);\n",
              "    }\n",
              "    60% {\n",
              "      border-color: transparent;\n",
              "      border-right-color: var(--fill-color);\n",
              "    }\n",
              "    80% {\n",
              "      border-color: transparent;\n",
              "      border-right-color: var(--fill-color);\n",
              "      border-bottom-color: var(--fill-color);\n",
              "    }\n",
              "    90% {\n",
              "      border-color: transparent;\n",
              "      border-bottom-color: var(--fill-color);\n",
              "    }\n",
              "  }\n",
              "</style>\n",
              "\n",
              "  <script>\n",
              "    async function quickchart(key) {\n",
              "      const quickchartButtonEl =\n",
              "        document.querySelector('#' + key + ' button');\n",
              "      quickchartButtonEl.disabled = true;  // To prevent multiple clicks.\n",
              "      quickchartButtonEl.classList.add('colab-df-spinner');\n",
              "      try {\n",
              "        const charts = await google.colab.kernel.invokeFunction(\n",
              "            'suggestCharts', [key], {});\n",
              "      } catch (error) {\n",
              "        console.error('Error during call to suggestCharts:', error);\n",
              "      }\n",
              "      quickchartButtonEl.classList.remove('colab-df-spinner');\n",
              "      quickchartButtonEl.classList.add('colab-df-quickchart-complete');\n",
              "    }\n",
              "    (() => {\n",
              "      let quickchartButtonEl =\n",
              "        document.querySelector('#df-0b150da7-5c86-4943-8aeb-d1919482f913 button');\n",
              "      quickchartButtonEl.style.display =\n",
              "        google.colab.kernel.accessAllowed ? 'block' : 'none';\n",
              "    })();\n",
              "  </script>\n",
              "</div>\n",
              "\n",
              "    </div>\n",
              "  </div>\n"
            ],
            "application/vnd.google.colaboratory.intrinsic+json": {
              "type": "dataframe",
              "summary": "{\n  \"name\": \"text2\",\n  \"rows\": 12,\n  \"fields\": [\n    {\n      \"column\": \"sentences\",\n      \"properties\": {\n        \"dtype\": \"object\",\n        \"semantic_type\": \"\",\n        \"description\": \"\"\n      }\n    },\n    {\n      \"column\": \"type\",\n      \"properties\": {\n        \"dtype\": \"category\",\n        \"num_unique_values\": 4,\n        \"samples\": [\n          \"NV\",\n          \"NVN\",\n          \"NVPN\"\n        ],\n        \"semantic_type\": \"\",\n        \"description\": \"\"\n      }\n    },\n    {\n      \"column\": \"count\",\n      \"properties\": {\n        \"dtype\": \"date\",\n        \"min\": 1,\n        \"max\": 2,\n        \"num_unique_values\": 2,\n        \"samples\": [\n          1,\n          2\n        ],\n        \"semantic_type\": \"\",\n        \"description\": \"\"\n      }\n    },\n    {\n      \"column\": \"sbj\",\n      \"properties\": {\n        \"dtype\": \"category\",\n        \"num_unique_values\": 5,\n        \"samples\": [\n          \"she\",\n          \"PERSON\"\n        ],\n        \"semantic_type\": \"\",\n        \"description\": \"\"\n      }\n    },\n    {\n      \"column\": \"vrb\",\n      \"properties\": {\n        \"dtype\": \"string\",\n        \"num_unique_values\": 8,\n        \"samples\": [\n          \"sleep\",\n          \"leave\"\n        ],\n        \"semantic_type\": \"\",\n        \"description\": \"\"\n      }\n    },\n    {\n      \"column\": \"obj\",\n      \"properties\": {\n        \"dtype\": \"category\",\n        \"num_unique_values\": 4,\n        \"samples\": [\n          \"lot\",\n          \"book\"\n        ],\n        \"semantic_type\": \"\",\n        \"description\": \"\"\n      }\n    },\n    {\n      \"column\": \"cas\",\n      \"properties\": {\n        \"dtype\": \"string\",\n        \"num_unique_values\": 7,\n        \"samples\": [\n          \"in\",\n          \"to\"\n        ],\n        \"semantic_type\": \"\",\n        \"description\": \"\"\n      }\n    },\n    {\n      \"column\": \"com\",\n      \"properties\": {\n        \"dtype\": \"string\",\n        \"num_unique_values\": 8,\n        \"samples\": [\n          \"he\",\n          \"rehearsal\"\n        ],\n        \"semantic_type\": \"\",\n        \"description\": \"\"\n      }\n    }\n  ]\n}"
            }
          },
          "metadata": {},
          "execution_count": 21
        }
      ]
    }
  ],
  "metadata": {
    "kernelspec": {
      "display_name": "Python 3",
      "language": "python",
      "name": "python3"
    },
    "language_info": {
      "codemirror_mode": {
        "name": "ipython",
        "version": 3
      },
      "file_extension": ".py",
      "mimetype": "text/x-python",
      "name": "python",
      "nbconvert_exporter": "python",
      "pygments_lexer": "ipython3",
      "version": "3.6.1"
    },
    "colab": {
      "provenance": [],
      "include_colab_link": true
    }
  },
  "nbformat": 4,
  "nbformat_minor": 0
}