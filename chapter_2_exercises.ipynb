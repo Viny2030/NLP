{
  "cells": [
    {
      "cell_type": "markdown",
      "metadata": {
        "id": "view-in-github",
        "colab_type": "text"
      },
      "source": [
        "<a href=\"https://colab.research.google.com/github/Viny2030/NLP/blob/main/chapter_2_exercises.ipynb\" target=\"_parent\"><img src=\"https://colab.research.google.com/assets/colab-badge.svg\" alt=\"Open In Colab\"/></a>"
      ]
    },
    {
      "cell_type": "markdown",
      "metadata": {
        "id": "5fN_owfLa7b4"
      },
      "source": [
        "**Exercise 1)**"
      ]
    },
    {
      "cell_type": "code",
      "execution_count": null,
      "metadata": {
        "collapsed": true,
        "id": "mubswR3Za7b6"
      },
      "outputs": [],
      "source": [
        "phrase = ['My', 'very', 'unimaginative', 'phrase', '.']"
      ]
    },
    {
      "cell_type": "code",
      "execution_count": null,
      "metadata": {
        "id": "iv5WzdEBa7b7",
        "outputId": "ab35de34-2c43-4fa1-f16e-eba95103f461",
        "colab": {
          "base_uri": "https://localhost:8080/"
        }
      },
      "outputs": [
        {
          "output_type": "execute_result",
          "data": {
            "text/plain": [
              "['My',\n",
              " 'very',\n",
              " 'unimaginative',\n",
              " 'phrase',\n",
              " '.',\n",
              " 'My',\n",
              " 'very',\n",
              " 'unimaginative',\n",
              " 'phrase',\n",
              " '.']"
            ]
          },
          "metadata": {},
          "execution_count": 2
        }
      ],
      "source": [
        "phrase + phrase"
      ]
    },
    {
      "cell_type": "code",
      "execution_count": null,
      "metadata": {
        "id": "_1ED4AoQa7b8",
        "outputId": "be0a9d81-27e7-4ae7-dd3a-22807f7a3c37",
        "colab": {
          "base_uri": "https://localhost:8080/"
        }
      },
      "outputs": [
        {
          "output_type": "execute_result",
          "data": {
            "text/plain": [
              "['.']"
            ]
          },
          "metadata": {},
          "execution_count": 3
        }
      ],
      "source": [
        "phrase[-1:]"
      ]
    },
    {
      "cell_type": "code",
      "execution_count": null,
      "metadata": {
        "id": "ebz2NabLa7b9",
        "outputId": "ec78ea26-082c-4b0d-99db-0a2465b20798",
        "colab": {
          "base_uri": "https://localhost:8080/"
        }
      },
      "outputs": [
        {
          "output_type": "execute_result",
          "data": {
            "text/plain": [
              "['My',\n",
              " 'very',\n",
              " 'unimaginative',\n",
              " 'phrase',\n",
              " '.',\n",
              " 'My',\n",
              " 'very',\n",
              " 'unimaginative',\n",
              " 'phrase',\n",
              " '.',\n",
              " 'My',\n",
              " 'very',\n",
              " 'unimaginative',\n",
              " 'phrase',\n",
              " '.']"
            ]
          },
          "metadata": {},
          "execution_count": 4
        }
      ],
      "source": [
        "phrase * 3"
      ]
    },
    {
      "cell_type": "code",
      "execution_count": null,
      "metadata": {
        "id": "Ct1D8myPa7b9",
        "outputId": "4298f735-269e-40c2-97a8-762c155eb102",
        "colab": {
          "base_uri": "https://localhost:8080/"
        }
      },
      "outputs": [
        {
          "output_type": "execute_result",
          "data": {
            "text/plain": [
              "['.', 'My', 'phrase', 'unimaginative', 'very']"
            ]
          },
          "metadata": {},
          "execution_count": 5
        }
      ],
      "source": [
        "phrase.sort()\n",
        "phrase"
      ]
    },
    {
      "cell_type": "markdown",
      "metadata": {
        "id": "fkljPMQaa7b9"
      },
      "source": [
        "**Exercise 2)**"
      ]
    },
    {
      "cell_type": "code",
      "source": [
        "import nltk\n",
        "nltk.download('gutenberg')"
      ],
      "metadata": {
        "colab": {
          "base_uri": "https://localhost:8080/"
        },
        "id": "cmW9bgC56xfh",
        "outputId": "727b884e-88d4-44ec-d395-023eaed31804"
      },
      "execution_count": null,
      "outputs": [
        {
          "output_type": "stream",
          "name": "stderr",
          "text": [
            "[nltk_data] Downloading package gutenberg to /root/nltk_data...\n",
            "[nltk_data]   Unzipping corpora/gutenberg.zip.\n"
          ]
        },
        {
          "output_type": "execute_result",
          "data": {
            "text/plain": [
              "True"
            ]
          },
          "metadata": {},
          "execution_count": 7
        }
      ]
    },
    {
      "cell_type": "code",
      "execution_count": null,
      "metadata": {
        "id": "NVNd20ypa7b9",
        "outputId": "10e7f1a0-20ca-4b15-8485-9f1b310b0f69",
        "colab": {
          "base_uri": "https://localhost:8080/"
        }
      },
      "outputs": [
        {
          "output_type": "execute_result",
          "data": {
            "text/plain": [
              "98171"
            ]
          },
          "metadata": {},
          "execution_count": 8
        }
      ],
      "source": [
        "import nltk\n",
        "persuasion = nltk.corpus.gutenberg.words('austen-persuasion.txt')\n",
        "len(persuasion)"
      ]
    },
    {
      "cell_type": "code",
      "execution_count": null,
      "metadata": {
        "id": "z9-ccPAZa7b-",
        "outputId": "73686242-6bf4-4515-da88-9f830570026c",
        "colab": {
          "base_uri": "https://localhost:8080/"
        }
      },
      "outputs": [
        {
          "output_type": "execute_result",
          "data": {
            "text/plain": [
              "6132"
            ]
          },
          "metadata": {},
          "execution_count": 9
        }
      ],
      "source": [
        "len(set(persuasion))"
      ]
    },
    {
      "cell_type": "markdown",
      "metadata": {
        "id": "5tFqSQvIa7b-"
      },
      "source": [
        "**Exercise 3)**"
      ]
    },
    {
      "cell_type": "code",
      "source": [
        "import nltk\n",
        "nltk.download('brown')"
      ],
      "metadata": {
        "colab": {
          "base_uri": "https://localhost:8080/"
        },
        "id": "Ap-8bNWf7G-0",
        "outputId": "d733f8b8-c61e-44fd-b862-8e5de143b456"
      },
      "execution_count": null,
      "outputs": [
        {
          "output_type": "stream",
          "name": "stderr",
          "text": [
            "[nltk_data] Downloading package brown to /root/nltk_data...\n",
            "[nltk_data]   Unzipping corpora/brown.zip.\n"
          ]
        },
        {
          "output_type": "execute_result",
          "data": {
            "text/plain": [
              "True"
            ]
          },
          "metadata": {},
          "execution_count": 11
        }
      ]
    },
    {
      "cell_type": "code",
      "execution_count": null,
      "metadata": {
        "id": "Xtrj-XRua7b-",
        "outputId": "4f950cf3-1cbb-4f23-c973-cf7396b938dc",
        "colab": {
          "base_uri": "https://localhost:8080/"
        }
      },
      "outputs": [
        {
          "output_type": "execute_result",
          "data": {
            "text/plain": [
              "['As', 'a', 'result', ',', 'although', 'we', 'still', ...]"
            ]
          },
          "metadata": {},
          "execution_count": 12
        }
      ],
      "source": [
        "from nltk.corpus import brown\n",
        "brown.words(categories=['religion', 'lore'])"
      ]
    },
    {
      "cell_type": "markdown",
      "metadata": {
        "id": "7EN7tj7da7b_"
      },
      "source": [
        "**Exercise 4)**"
      ]
    },
    {
      "cell_type": "code",
      "source": [
        "import nltk\n",
        "nltk.download('state_union')"
      ],
      "metadata": {
        "colab": {
          "base_uri": "https://localhost:8080/"
        },
        "id": "SgugPJrv7VMz",
        "outputId": "371ff319-fcd9-4d8b-d37e-cc38b30a1670"
      },
      "execution_count": null,
      "outputs": [
        {
          "output_type": "stream",
          "name": "stderr",
          "text": [
            "[nltk_data] Downloading package state_union to /root/nltk_data...\n",
            "[nltk_data]   Unzipping corpora/state_union.zip.\n"
          ]
        },
        {
          "output_type": "execute_result",
          "data": {
            "text/plain": [
              "True"
            ]
          },
          "metadata": {},
          "execution_count": 14
        }
      ]
    },
    {
      "cell_type": "code",
      "execution_count": null,
      "metadata": {
        "id": "mx_x_UDza7b_",
        "outputId": "3570eaba-f30b-43f6-f7a5-3db2d680ad5a",
        "colab": {
          "base_uri": "https://localhost:8080/",
          "height": 489
        }
      },
      "outputs": [
        {
          "output_type": "display_data",
          "data": {
            "text/plain": [
              "<Figure size 640x480 with 1 Axes>"
            ],
            "image/png": "[encoded data removed]"
          },
          "metadata": {}
        },
        {
          "output_type": "execute_result",
          "data": {
            "text/plain": [
              "<Axes: xlabel='Samples', ylabel='Counts'>"
            ]
          },
          "metadata": {},
          "execution_count": 15
        }
      ],
      "source": [
        "from nltk.corpus import state_union\n",
        "cfd = nltk.ConditionalFreqDist(\n",
        "    (target, fileid[:4])\n",
        "    for fileid in state_union.fileids()\n",
        "    for w in state_union.words(fileid)\n",
        "    for target in ['men', 'women', 'people']\n",
        "    if w.lower() == target)\n",
        "cfd.plot()"
      ]
    },
    {
      "cell_type": "markdown",
      "metadata": {
        "id": "j8CTdaaja7b_"
      },
      "source": [
        "**Exercise 5)**"
      ]
    },
    {
      "cell_type": "code",
      "source": [
        "import nltk\n",
        "nltk.download('wordnet')"
      ],
      "metadata": {
        "colab": {
          "base_uri": "https://localhost:8080/"
        },
        "id": "sLDUwZQs7s23",
        "outputId": "fd992c97-263b-4cde-ce78-56f53e43702c"
      },
      "execution_count": null,
      "outputs": [
        {
          "output_type": "stream",
          "name": "stderr",
          "text": [
            "[nltk_data] Downloading package wordnet to /root/nltk_data...\n"
          ]
        },
        {
          "output_type": "execute_result",
          "data": {
            "text/plain": [
              "True"
            ]
          },
          "metadata": {},
          "execution_count": 19
        }
      ]
    },
    {
      "cell_type": "code",
      "source": [
        "from nltk.corpus import wordnet as wn\n",
        "\n",
        "def relations(noun):\n",
        "    # Get synsets for the noun\n",
        "    synsets = wn.synsets(noun)\n",
        "    # Check if any synsets were found before accessing the first one\n",
        "    if synsets:\n",
        "        noun_synset = synsets[0]\n",
        "        print('Member Meronyms:\\n ')\n",
        "        print(noun_synset.member_meronyms())\n",
        "        print('\\nPart Meronyms:\\n')\n",
        "        print(noun_synset.part_meronyms())\n",
        "        print('\\nSubstance Meronyms:\\n')\n",
        "        print(noun_synset.substance_meronyms())\n",
        "        print('\\nMember Holonyms:\\n')\n",
        "        print(noun_synset.member_holonyms())\n",
        "        print('\\nPart Holonyms:\\n')\n",
        "        print(noun_synset.part_holonyms())\n",
        "        print('\\nSubstance Holonyms:\\n')\n",
        "        print(noun_synset.substance_holonyms())\n",
        "    else:\n",
        "        print(f\"No synsets found for '{noun}'\")\n",
        "\n",
        "# Use 'tree' instead of 'tree.n.01' to find synsets for the word \"tree\"\n",
        "relations('tree')"
      ],
      "metadata": {
        "colab": {
          "base_uri": "https://localhost:8080/"
        },
        "id": "ZQ9GPoon777W",
        "outputId": "eee62c9f-b335-4b78-d96d-68be2627b4f0"
      },
      "execution_count": null,
      "outputs": [
        {
          "output_type": "stream",
          "name": "stdout",
          "text": [
            "Member Meronyms:\n",
            " \n",
            "[]\n",
            "\n",
            "Part Meronyms:\n",
            "\n",
            "[Synset('burl.n.02'), Synset('crown.n.07'), Synset('limb.n.02'), Synset('stump.n.01'), Synset('trunk.n.01')]\n",
            "\n",
            "Substance Meronyms:\n",
            "\n",
            "[Synset('heartwood.n.01'), Synset('sapwood.n.01')]\n",
            "\n",
            "Member Holonyms:\n",
            "\n",
            "[Synset('forest.n.01')]\n",
            "\n",
            "Part Holonyms:\n",
            "\n",
            "[]\n",
            "\n",
            "Substance Holonyms:\n",
            "\n",
            "[]\n"
          ]
        }
      ]
    },
    {
      "cell_type": "code",
      "execution_count": null,
      "metadata": {
        "id": "yaZYbhPja7cA",
        "outputId": "b6b213fb-88af-431f-bd27-a189a0e38ea4",
        "colab": {
          "base_uri": "https://localhost:8080/"
        }
      },
      "outputs": [
        {
          "output_type": "stream",
          "name": "stdout",
          "text": [
            "No synsets found for 'honey.n.01'\n"
          ]
        }
      ],
      "source": [
        "relations('honey.n.01')"
      ]
    },
    {
      "cell_type": "code",
      "execution_count": null,
      "metadata": {
        "id": "oXl9dNsKa7cA",
        "outputId": "b80f95c9-d4d1-446a-b4df-68972fd465f8",
        "colab": {
          "base_uri": "https://localhost:8080/"
        }
      },
      "outputs": [
        {
          "output_type": "stream",
          "name": "stdout",
          "text": [
            "No synsets found for 'wood.n.01'\n"
          ]
        }
      ],
      "source": [
        "relations('wood.n.01')"
      ]
    },
    {
      "cell_type": "markdown",
      "metadata": {
        "collapsed": true,
        "id": "SmcZSMAua7cB"
      },
      "source": [
        "**Exercise 6)**"
      ]
    },
    {
      "cell_type": "markdown",
      "metadata": {
        "id": "KcS0TaZza7cB"
      },
      "source": [
        "Words could be spelled the same in two languages, but have different translations. With the means given so far: e.g. tag the words with the language ID."
      ]
    },
    {
      "cell_type": "markdown",
      "source": [
        "Las palabras podrían deletrear igual en dos idiomas, pero tienen traducciones diferentes. Con los medios dados hasta ahora: p. Etiquete las palabras con la identificación del idioma."
      ],
      "metadata": {
        "id": "zAWhzLhv8FCP"
      }
    },
    {
      "cell_type": "code",
      "source": [
        "import nltk\n",
        "nltk.download('swadesh')"
      ],
      "metadata": {
        "colab": {
          "base_uri": "https://localhost:8080/"
        },
        "id": "Sqo1c0Ix8KLh",
        "outputId": "54f719b4-9b8b-40ec-923a-c3f5c013fbec"
      },
      "execution_count": null,
      "outputs": [
        {
          "output_type": "stream",
          "name": "stderr",
          "text": [
            "[nltk_data] Downloading package swadesh to /root/nltk_data...\n",
            "[nltk_data]   Unzipping corpora/swadesh.zip.\n"
          ]
        },
        {
          "output_type": "execute_result",
          "data": {
            "text/plain": [
              "True"
            ]
          },
          "metadata": {},
          "execution_count": 27
        }
      ]
    },
    {
      "cell_type": "code",
      "execution_count": null,
      "metadata": {
        "id": "rKyoiHb6a7cB"
      },
      "outputs": [],
      "source": [
        "from nltk.corpus import swadesh\n",
        "it2en = [(i + '-it', e) for (i, e) in swadesh.entries(['it', 'en'])]"
      ]
    },
    {
      "cell_type": "code",
      "execution_count": null,
      "metadata": {
        "id": "cLPDP1Uka7cB",
        "outputId": "9758a3d9-5d24-447b-89bf-6725641b9400",
        "colab": {
          "base_uri": "https://localhost:8080/",
          "height": 36
        }
      },
      "outputs": [
        {
          "output_type": "execute_result",
          "data": {
            "text/plain": [
              "'mother'"
            ],
            "application/vnd.google.colaboratory.intrinsic+json": {
              "type": "string"
            }
          },
          "metadata": {},
          "execution_count": 29
        }
      ],
      "source": [
        "translate = dict(it2en)\n",
        "translate['madre-it']"
      ]
    },
    {
      "cell_type": "code",
      "execution_count": null,
      "metadata": {
        "id": "y9NB3j51a7cB",
        "outputId": "f2df4fb5-4299-4b09-af16-a3d9495ecefa",
        "colab": {
          "base_uri": "https://localhost:8080/",
          "height": 36
        }
      },
      "outputs": [
        {
          "output_type": "execute_result",
          "data": {
            "text/plain": [
              "'dog'"
            ],
            "application/vnd.google.colaboratory.intrinsic+json": {
              "type": "string"
            }
          },
          "metadata": {},
          "execution_count": 30
        }
      ],
      "source": [
        "de2en = [(d + '-de', e) for (d, e) in swadesh.entries(['de', 'en'])]\n",
        "translate.update(dict(de2en))\n",
        "translate['Hund-de']"
      ]
    },
    {
      "cell_type": "markdown",
      "metadata": {
        "id": "fUyx5-18a7cC"
      },
      "source": [
        "**Exercise 7)**"
      ]
    },
    {
      "cell_type": "code",
      "execution_count": null,
      "metadata": {
        "id": "MUAJZehaa7cC",
        "outputId": "f37511b7-f6ed-45ba-8cfa-d0c9c8ee46ce",
        "colab": {
          "base_uri": "https://localhost:8080/"
        }
      },
      "outputs": [
        {
          "output_type": "stream",
          "name": "stdout",
          "text": [
            "Displaying 25 of 131 matches:\n",
            " her many enjoyments . The danger , however , was at present so unperceived , t\n",
            "ion would offend . Miss Churchill , however , being of age , and with the full \n",
            "n . From the expense of the child , however , he was soon relieved . The boy ha\n",
            " -- and been very well brought up . However , I do not mean to set up my opinio\n",
            "f and predict . It was not likely , however , that any body should have equalle\n",
            "to be borne . We will not despair , however . Weston may grow cross from the wa\n",
            "is so very handsome and agreeable . However , I do really think Mr . Martin a v\n",
            " accepted after all . This letter , however , was written , and sealed , and se\n",
            "e him .\" \" And if I did , ( which , however , I am far from allowing ) I should\n",
            " slightingly . Waiving that point , however , and supposing her to be , as you \n",
            "e was not so materially cast down , however , but that a little time and the re\n",
            "ld inspire him .\" The very next day however produced some proof of inspiration \n",
            "and staid to look through herself ; however , she called me back presently , an\n",
            "t turn up . His ostensible reason , however , was to ask whether Mr . Woodhouse\n",
            "l and cross . This does not apply , however , to Miss Bates ; she is only too g\n",
            "and sufferings of the poor family , however , were the first subject on meeting\n",
            "ting for her . She gained on them , however , involuntarily : the child ' s pac\n",
            "ould close it . It was not closed , however , it still remained ajar ; but by e\n",
            " believes himself secure .\" Still , however , though every thing had not been a\n",
            "ght advance rapidly if they would , however ; they must advance somehow or othe\n",
            " offence came not . The beginning , however , of every visit displayed none but\n",
            "eed !-- and my memory is very bad . However , it was an exceeding good , pretty\n",
            "first day . Emma ' s sense of right however had decided it ; and besides the co\n",
            "le fatigued . I could have wished , however , as you know , that you had seen M\n",
            "\" Our little friend Harriet Smith , however , is just such another pretty kind \n"
          ]
        }
      ],
      "source": [
        "emma = nltk.Text(nltk.corpus.gutenberg.words('austen-emma.txt'))\n",
        "emma.concordance('however')"
      ]
    },
    {
      "cell_type": "code",
      "source": [
        "  import nltk\n",
        "  nltk.download('inaugural')"
      ],
      "metadata": {
        "colab": {
          "base_uri": "https://localhost:8080/"
        },
        "id": "lwj0s90O8UgK",
        "outputId": "a83d6f0b-4c9b-4007-a159-6f20019f29a8"
      },
      "execution_count": null,
      "outputs": [
        {
          "output_type": "stream",
          "name": "stderr",
          "text": [
            "[nltk_data] Downloading package inaugural to /root/nltk_data...\n",
            "[nltk_data]   Unzipping corpora/inaugural.zip.\n"
          ]
        },
        {
          "output_type": "execute_result",
          "data": {
            "text/plain": [
              "True"
            ]
          },
          "metadata": {},
          "execution_count": 34
        }
      ]
    },
    {
      "cell_type": "code",
      "execution_count": null,
      "metadata": {
        "id": "4ZK9MHu2a7cC",
        "outputId": "c905e9c9-da2e-45b4-95a4-ff3176959db6",
        "colab": {
          "base_uri": "https://localhost:8080/"
        }
      },
      "outputs": [
        {
          "output_type": "stream",
          "name": "stdout",
          "text": [
            "2013-Obama.txt\n",
            "no matches\n"
          ]
        }
      ],
      "source": [
        "from nltk.corpus import inaugural\n",
        "last = inaugural.fileids()[-3]\n",
        "print(last)\n",
        "from nltk.text import Text\n",
        "inaugural = Text(inaugural.words(last))\n",
        "inaugural.concordance('however')"
      ]
    },
    {
      "cell_type": "markdown",
      "metadata": {
        "collapsed": true,
        "id": "6O6EgR5ea7cC"
      },
      "source": [
        "**Exercise 8)**"
      ]
    },
    {
      "cell_type": "code",
      "source": [
        "import nltk\n",
        "nltk.download('names')"
      ],
      "metadata": {
        "colab": {
          "base_uri": "https://localhost:8080/"
        },
        "id": "3PF1j8Eq8i0d",
        "outputId": "ba0dd869-8a70-4d6c-b143-555b64ea0a5e"
      },
      "execution_count": null,
      "outputs": [
        {
          "output_type": "stream",
          "name": "stderr",
          "text": [
            "[nltk_data] Downloading package names to /root/nltk_data...\n",
            "[nltk_data]   Unzipping corpora/names.zip.\n"
          ]
        },
        {
          "output_type": "execute_result",
          "data": {
            "text/plain": [
              "True"
            ]
          },
          "metadata": {},
          "execution_count": 37
        }
      ]
    },
    {
      "cell_type": "code",
      "execution_count": null,
      "metadata": {
        "id": "B7uHRyBBa7cC",
        "outputId": "e60becbe-8a20-4729-ac38-4607ac704e38",
        "colab": {
          "base_uri": "https://localhost:8080/",
          "height": 467
        }
      },
      "outputs": [
        {
          "output_type": "display_data",
          "data": {
            "text/plain": [
              "<Figure size 640x480 with 1 Axes>"
            ],
            "image/png": "[encoded data removed]"
          },
          "metadata": {}
        },
        {
          "output_type": "execute_result",
          "data": {
            "text/plain": [
              "<Axes: xlabel='Samples', ylabel='Counts'>"
            ]
          },
          "metadata": {},
          "execution_count": 38
        }
      ],
      "source": [
        "names = nltk.corpus.names\n",
        "cfd = nltk.ConditionalFreqDist(\n",
        "    (fileid, name[0])\n",
        "    for fileid in names.fileids()\n",
        "    for name in names.words(fileid))\n",
        "cfd.plot()"
      ]
    },
    {
      "cell_type": "code",
      "execution_count": null,
      "metadata": {
        "id": "fO0uAysya7cD",
        "outputId": "095aed24-419f-4cb9-ba79-02f2eb0521d8",
        "colab": {
          "base_uri": "https://localhost:8080/"
        }
      },
      "outputs": [
        {
          "output_type": "execute_result",
          "data": {
            "text/plain": [
              "5001"
            ]
          },
          "metadata": {},
          "execution_count": 39
        }
      ],
      "source": [
        "len(names.words('female.txt'))"
      ]
    },
    {
      "cell_type": "code",
      "execution_count": null,
      "metadata": {
        "id": "VDnoDZbda7cD",
        "outputId": "f5799912-0832-4c72-cdb8-144f66b35be1",
        "colab": {
          "base_uri": "https://localhost:8080/"
        }
      },
      "outputs": [
        {
          "output_type": "execute_result",
          "data": {
            "text/plain": [
              "2943"
            ]
          },
          "metadata": {},
          "execution_count": 40
        }
      ],
      "source": [
        "len(names.words('male.txt'))"
      ]
    },
    {
      "cell_type": "markdown",
      "metadata": {
        "id": "99cWk9Fza7cD"
      },
      "source": [
        "**Exercise 9)**"
      ]
    },
    {
      "cell_type": "code",
      "execution_count": null,
      "metadata": {
        "id": "6Gh_uella7cD",
        "outputId": "03670320-03e3-46ee-fdc6-fe7ef78f09df",
        "colab": {
          "base_uri": "https://localhost:8080/"
        }
      },
      "outputs": [
        {
          "output_type": "stream",
          "name": "stdout",
          "text": [
            "849\n"
          ]
        }
      ],
      "source": [
        "religion = brown.words(fileids='cd12')\n",
        "\n",
        "## Vocabulary:\n",
        "print (len(set(religion)))"
      ]
    },
    {
      "cell_type": "code",
      "source": [
        "import nltk\n",
        "nltk.download('webtext')"
      ],
      "metadata": {
        "colab": {
          "base_uri": "https://localhost:8080/"
        },
        "id": "OuAPrpzR9apj",
        "outputId": "1808562f-b53c-49d5-da8a-0d0655fe7a3a"
      },
      "execution_count": null,
      "outputs": [
        {
          "output_type": "stream",
          "name": "stderr",
          "text": [
            "[nltk_data] Downloading package webtext to /root/nltk_data...\n",
            "[nltk_data]   Unzipping corpora/webtext.zip.\n"
          ]
        },
        {
          "output_type": "execute_result",
          "data": {
            "text/plain": [
              "True"
            ]
          },
          "metadata": {},
          "execution_count": 44
        }
      ]
    },
    {
      "cell_type": "code",
      "execution_count": null,
      "metadata": {
        "id": "VtK-Wy8Ca7cD",
        "outputId": "827b633d-3178-41e3-d6c6-f309a956f0f2",
        "colab": {
          "base_uri": "https://localhost:8080/"
        }
      },
      "outputs": [
        {
          "output_type": "stream",
          "name": "stdout",
          "text": [
            "3129\n"
          ]
        }
      ],
      "source": [
        "from nltk.corpus import webtext\n",
        "movie = webtext.words(fileids='pirates.txt')\n",
        "print (len(set(movie)))"
      ]
    },
    {
      "cell_type": "code",
      "execution_count": null,
      "metadata": {
        "id": "-sh8UEEra7cE",
        "outputId": "ebb4e46c-8b6a-4561-99eb-7bb43ebb02de",
        "colab": {
          "base_uri": "https://localhost:8080/"
        }
      },
      "outputs": [
        {
          "output_type": "stream",
          "name": "stdout",
          "text": [
            "0.3680104031209363\n"
          ]
        }
      ],
      "source": [
        "from __future__ import division\n",
        "\n",
        "## Vocabulary richness:\n",
        "print (len(set(religion)) / len(religion))"
      ]
    },
    {
      "cell_type": "code",
      "execution_count": null,
      "metadata": {
        "id": "DQtlIEala7cE",
        "outputId": "b33a5053-6064-473f-b6b3-b24f14e903d4",
        "colab": {
          "base_uri": "https://localhost:8080/"
        }
      },
      "outputs": [
        {
          "output_type": "stream",
          "name": "stdout",
          "text": [
            "0.13796904625424403\n"
          ]
        }
      ],
      "source": [
        "print (len(set(movie)) / len(movie))"
      ]
    },
    {
      "cell_type": "code",
      "execution_count": null,
      "metadata": {
        "id": "Y-OCp4ifa7cE",
        "outputId": "a9d51a78-f4d2-466a-dfc3-d7476f2322ad",
        "colab": {
          "base_uri": "https://localhost:8080/"
        }
      },
      "outputs": [
        {
          "output_type": "stream",
          "name": "stdout",
          "text": [
            "Displaying 12 of 12 matches:\n",
            "ACK SPARROW : Shhh ! GIBBS : For the love of mother and child , Jack , what ' \n",
            "IA DALMA : A wo -* man *. He fell in love . GIBBS : No - no - no - no , I hear\n",
            " heard it was the * sea * he fell in love with . TIA DALMA : Same story , diff\n",
            "id I happen to mention ... he ' s in love . With a girl . Due to be married . \n",
            "SWANN : I ' m here to find the man I love . JACK SPARROW : I ' m deeply flatte\n",
            "ttered , son , but my first and only love is the sea . [ Norrington vomits ove\n",
            " truth ? JACK SPARROW : Every word , love . And what you want most in this wor\n",
            "ROW : A truly discomforting notion , love . GIBBS : And bad . Bad for every mo\n",
            "ry certain . JACK SPARROW : One word love : curiosity . You long for freedom .\n",
            "the right thing . JACK SPARROW : I * love * those moments . I like to wave at \n",
            "RROW : Pretty much . Time and tide , love . [ Will stoops down with the key to\n",
            "ACK SPARROW : We ' re not free yet , love . ELIZABETH SWANN : You came back . \n"
          ]
        }
      ],
      "source": [
        "movie_text = nltk.Text(movie)\n",
        "religion_text = nltk.Text(religion)\n",
        "\n",
        "## Word use:\n",
        "movie_text.concordance('love')"
      ]
    },
    {
      "cell_type": "code",
      "execution_count": null,
      "metadata": {
        "id": "gOyvaiG7a7cF",
        "outputId": "6658442e-6a99-40fa-d97b-2af4e50c35dc",
        "colab": {
          "base_uri": "https://localhost:8080/"
        }
      },
      "outputs": [
        {
          "output_type": "stream",
          "name": "stdout",
          "text": [
            "no matches\n"
          ]
        }
      ],
      "source": [
        "religion_text.concordance('love')"
      ]
    },
    {
      "cell_type": "code",
      "execution_count": null,
      "metadata": {
        "id": "UWWJuC4ga7cF",
        "outputId": "b1a2f7a3-af33-4c6f-fe05-7de22e788d20",
        "colab": {
          "base_uri": "https://localhost:8080/"
        }
      },
      "outputs": [
        {
          "output_type": "stream",
          "name": "stdout",
          "text": [
            "Displaying 1 of 1 matches:\n",
            ", and they ' re not valid until they bear my signature and my seal . ELIZABETH\n"
          ]
        }
      ],
      "source": [
        "movie_text.concordance('bear')"
      ]
    },
    {
      "cell_type": "code",
      "execution_count": null,
      "metadata": {
        "id": "9NDY5aO1a7cF",
        "outputId": "6d73f3b4-4668-4518-c39c-a8a23581edcc",
        "colab": {
          "base_uri": "https://localhost:8080/"
        }
      },
      "outputs": [
        {
          "output_type": "stream",
          "name": "stdout",
          "text": [
            "Displaying 2 of 2 matches:\n",
            "rch and university help him bring to bear upon his situation ? ? Recently , a \n",
            " to bring his particular insights to bear upon the question of discrimination \n"
          ]
        }
      ],
      "source": [
        "religion_text.concordance('bear')"
      ]
    },
    {
      "cell_type": "markdown",
      "metadata": {
        "id": "-mXYd4ssa7cF"
      },
      "source": [
        "**Exercise 10)**"
      ]
    },
    {
      "cell_type": "code",
      "source": [
        "from __future__ import division\n",
        "\n",
        "import nltk # Import the nltk library\n",
        "\n",
        "\n",
        "def third_of_tokens(text):\n",
        "    words_in_text = [w for w in text if any(c.isalpha() for c in w)]\n",
        "\n",
        "    fd = nltk.FreqDist(words_in_text)\n",
        "    most = fd.most_common(1000)\n",
        "    count = 0\n",
        "    third_words = []\n",
        "\n",
        "    for word, num in most:\n",
        "        # This line was missing from the initial code, causing the error.\n",
        "        # It's now indented to be part of the 'for' loop.\n",
        "        if ((count < (len(words_in_text) / 3)) and any(c.isalpha() for c in word)):\n",
        "            third_words.append(word)\n",
        "            count += num\n",
        "    return third_words"
      ],
      "metadata": {
        "id": "kLleTL9U-M89"
      },
      "execution_count": null,
      "outputs": []
    },
    {
      "cell_type": "code",
      "execution_count": null,
      "metadata": {
        "id": "2cFXU6ana7cK",
        "outputId": "24332a06-f835-4b8b-fa9f-1ffc3e66b18e",
        "colab": {
          "base_uri": "https://localhost:8080/"
        }
      },
      "outputs": [
        {
          "output_type": "execute_result",
          "data": {
            "text/plain": [
              "['the',\n",
              " 'of',\n",
              " 'and',\n",
              " 'in',\n",
              " 'a',\n",
              " 'to',\n",
              " 'as',\n",
              " 'that',\n",
              " 'or',\n",
              " 'is',\n",
              " 'for',\n",
              " 'their',\n",
              " 'realtors',\n",
              " 'by',\n",
              " 'social',\n",
              " 'housing',\n",
              " 'have',\n",
              " 'this',\n",
              " 'be',\n",
              " 'they']"
            ]
          },
          "metadata": {},
          "execution_count": 61
        }
      ],
      "source": [
        "third_of_tokens(religion)"
      ]
    },
    {
      "cell_type": "code",
      "execution_count": null,
      "metadata": {
        "id": "IZQZL--ga7cK",
        "outputId": "ee080fb2-3097-46a2-8c87-2036e3dc1251",
        "colab": {
          "base_uri": "https://localhost:8080/"
        }
      },
      "outputs": [
        {
          "output_type": "execute_result",
          "data": {
            "text/plain": [
              "['to',\n",
              " 'the',\n",
              " 'and',\n",
              " 'of',\n",
              " 'I',\n",
              " 'a',\n",
              " 'was',\n",
              " 'her',\n",
              " 'it',\n",
              " 'in',\n",
              " 'not',\n",
              " 'be',\n",
              " 'she',\n",
              " 'that',\n",
              " 'you',\n",
              " 'had',\n",
              " 'as',\n",
              " 'he',\n",
              " 'for',\n",
              " 'have',\n",
              " 'is',\n",
              " 'with',\n",
              " 'Mr',\n",
              " 'very']"
            ]
          },
          "metadata": {},
          "execution_count": 62
        }
      ],
      "source": [
        "third_of_tokens(emma)"
      ]
    },
    {
      "cell_type": "code",
      "execution_count": null,
      "metadata": {
        "id": "pPiJfqKda7cL",
        "outputId": "edea0008-ba7b-42f2-fef2-36913d04113b",
        "colab": {
          "base_uri": "https://localhost:8080/"
        }
      },
      "outputs": [
        {
          "output_type": "execute_result",
          "data": {
            "text/plain": [
              "['the',\n",
              " 'and',\n",
              " 'of',\n",
              " 'our',\n",
              " 'to',\n",
              " 'that',\n",
              " 'we',\n",
              " 'a',\n",
              " 'is',\n",
              " 'We',\n",
              " 'not',\n",
              " 'for',\n",
              " 'us',\n",
              " 'in',\n",
              " 'are',\n",
              " 'will',\n",
              " 'must']"
            ]
          },
          "metadata": {},
          "execution_count": 63
        }
      ],
      "source": [
        "third_of_tokens(inaugural)"
      ]
    },
    {
      "cell_type": "markdown",
      "metadata": {
        "id": "7ugz3cq0a7cL"
      },
      "source": [
        "**Exercise 11)**"
      ]
    },
    {
      "cell_type": "code",
      "execution_count": null,
      "metadata": {
        "id": "iZaMj6QMa7cL",
        "outputId": "aa4e6d88-c0c2-42df-f945-8e9569e80c48",
        "colab": {
          "base_uri": "https://localhost:8080/"
        }
      },
      "outputs": [
        {
          "output_type": "stream",
          "name": "stdout",
          "text": [
            "                   I  you   he  she   it   we they \n",
            "           news  179   55  451   42  363   77  205 \n",
            "       religion  155  100  137   10  264  176  115 \n",
            "        hobbies  154  383  155   21  476  100  177 \n",
            "science_fiction   98   81  139   36  129   30   53 \n",
            "        romance  951  456  702  496  573   78  168 \n",
            "          humor  239  131  146   58  162   32   70 \n",
            "      editorial  201   83  268   41  386  167  148 \n",
            " belles_lettres  845  188 1174  178 1059  398  488 \n",
            "     government   97   74  120    0  218  112   92 \n"
          ]
        }
      ],
      "source": [
        "pronouns = ['I', 'you', 'he', 'she', 'it', 'we', 'they']\n",
        "cfd = nltk.ConditionalFreqDist(\n",
        "    (genre, word)\n",
        "    for genre in brown.categories()\n",
        "    for word in brown.words(categories=genre))\n",
        "genres = ['news', 'religion', 'hobbies', 'science_fiction', 'romance', 'humor', 'editorial', 'belles_lettres', 'government']\n",
        "cfd.tabulate(conditions=genres, samples=pronouns)"
      ]
    },
    {
      "cell_type": "code",
      "execution_count": null,
      "metadata": {
        "id": "9DIbgzQma7cL",
        "outputId": "f0ba90c9-0999-45c1-8188-fd7ce49220d2",
        "colab": {
          "base_uri": "https://localhost:8080/"
        }
      },
      "outputs": [
        {
          "output_type": "stream",
          "name": "stdout",
          "text": [
            "                 what  when   who   why where \n",
            "           news    76   128   268     9    58 \n",
            "       religion    64    53   100    14    20 \n",
            "        hobbies    78   119   103    10    72 \n",
            "science_fiction    27    21    13     4    10 \n",
            "        romance   121   126    89    34    54 \n",
            "          humor    36    52    48     9    15 \n",
            "      editorial    84   103   172    10    40 \n",
            " belles_lettres   244   252   452    36   107 \n",
            "     government    43    56    74     6    46 \n"
          ]
        }
      ],
      "source": [
        "wh = ['what', 'when', 'who', 'why', 'where']\n",
        "cfd.tabulate(conditions=genres, samples=wh)"
      ]
    },
    {
      "cell_type": "markdown",
      "metadata": {
        "id": "tk-r-qz5a7cL"
      },
      "source": [
        "**Exercise 12)**"
      ]
    },
    {
      "cell_type": "code",
      "source": [
        "import nltk\n",
        "nltk.download('cmudict')"
      ],
      "metadata": {
        "colab": {
          "base_uri": "https://localhost:8080/"
        },
        "id": "xntkF-us-gh0",
        "outputId": "8b5921e9-2643-4b96-d577-4728c9d9ee67"
      },
      "execution_count": null,
      "outputs": [
        {
          "output_type": "stream",
          "name": "stderr",
          "text": [
            "[nltk_data] Downloading package cmudict to /root/nltk_data...\n",
            "[nltk_data]   Unzipping corpora/cmudict.zip.\n"
          ]
        },
        {
          "output_type": "execute_result",
          "data": {
            "text/plain": [
              "True"
            ]
          },
          "metadata": {},
          "execution_count": 69
        }
      ]
    },
    {
      "cell_type": "code",
      "execution_count": null,
      "metadata": {
        "id": "_KXx8vGta7cM",
        "outputId": "2ef4d5cf-4baf-49e4-8524-357d85e744d2",
        "colab": {
          "base_uri": "https://localhost:8080/"
        }
      },
      "outputs": [
        {
          "output_type": "stream",
          "name": "stdout",
          "text": [
            "125033\n",
            "6.961362200379099\n"
          ]
        }
      ],
      "source": [
        "count_distinct = 0\n",
        "dublettes = []\n",
        "prev = ''\n",
        "for entry in nltk.corpus.cmudict.entries():\n",
        "    if ((entry[0] == prev) and (entry[0] not in dublettes)):\n",
        "        dublettes.append(entry[0])\n",
        "    else:\n",
        "        count_distinct = count_distinct + 1\n",
        "        prev = entry[0]\n",
        "print (count_distinct)\n",
        "print ((len(dublettes) / count_distinct) * 100)"
      ]
    },
    {
      "cell_type": "markdown",
      "metadata": {
        "id": "LsriYMIla7cM"
      },
      "source": [
        "**Exercise 13)**"
      ]
    },
    {
      "cell_type": "code",
      "execution_count": null,
      "metadata": {
        "id": "-fawlIeGa7cM",
        "outputId": "cdfad323-3f10-4dd2-f763-8bf6d23fee99",
        "colab": {
          "base_uri": "https://localhost:8080/"
        }
      },
      "outputs": [
        {
          "output_type": "stream",
          "name": "stdout",
          "text": [
            "79.67119283931072\n"
          ]
        }
      ],
      "source": [
        "all_syns = list(wn.all_synsets('n'))\n",
        "no_hyponyms = [s for s in all_syns if len(s.hyponyms()) == 0]\n",
        "print((len(no_hyponyms) / len(all_syns)) * 100)"
      ]
    },
    {
      "cell_type": "markdown",
      "metadata": {
        "id": "VEjBW12Ma7cM"
      },
      "source": [
        "**Exercise 14)**"
      ]
    },
    {
      "cell_type": "code",
      "execution_count": null,
      "metadata": {
        "collapsed": true,
        "id": "13_rRRVaa7cM"
      },
      "outputs": [],
      "source": [
        "def supergloss(s):\n",
        "    gloss = 'definition: ' + s.definition() + '\\n\\n'\n",
        "    gloss = gloss + 'Hypernyms:\\n'\n",
        "    for hypernym in s.hypernyms():\n",
        "        gloss = gloss + hypernym.name() + ': ' + hypernym.definition() + '\\n'\n",
        "    gloss = gloss + '\\nHyponyms:\\n'\n",
        "    for hyponym in s.hyponyms():\n",
        "        gloss = gloss + hyponym.name() + ': ' + hyponym.definition() + '\\n'\n",
        "    return gloss"
      ]
    },
    {
      "cell_type": "code",
      "execution_count": null,
      "metadata": {
        "id": "HxYbVNJta7cN",
        "outputId": "49eb013a-fc98-4227-884e-f9037b045ba3",
        "colab": {
          "base_uri": "https://localhost:8080/"
        }
      },
      "outputs": [
        {
          "output_type": "stream",
          "name": "stdout",
          "text": [
            "definition: a wheeled vehicle that has two wheels and is moved by foot pedals\n",
            "\n",
            "Hypernyms:\n",
            "wheeled_vehicle.n.01: a vehicle that moves on wheels and usually has a container for transporting things or people\n",
            "\n",
            "Hyponyms:\n",
            "bicycle-built-for-two.n.01: a bicycle with two sets of pedals and two seats\n",
            "mountain_bike.n.01: a bicycle with a sturdy frame and fat tires; originally designed for riding in mountainous country\n",
            "ordinary.n.04: an early bicycle with a very large front wheel and small back wheel\n",
            "push-bike.n.01: a bicycle that must be pedaled\n",
            "safety_bicycle.n.01: bicycle that has two wheels of equal size; pedals are connected to the rear wheel by a multiplying gear\n",
            "velocipede.n.01: any of several early bicycles with pedals on the front wheel\n",
            "\n"
          ]
        }
      ],
      "source": [
        "print (supergloss(wn.synset('bicycle.n.01')))"
      ]
    },
    {
      "cell_type": "code",
      "execution_count": null,
      "metadata": {
        "id": "AeZeSqjga7cN",
        "outputId": "cce1c240-f476-45c8-c25a-9af3c4d2b781",
        "colab": {
          "base_uri": "https://localhost:8080/"
        }
      },
      "outputs": [
        {
          "output_type": "stream",
          "name": "stdout",
          "text": [
            "definition: accept as true; take to be true\n",
            "\n",
            "Hypernyms:\n",
            "accept.v.01: consider or hold as true\n",
            "\n",
            "Hyponyms:\n",
            "believe.v.04: follow a credo; have a faith; be a believer\n",
            "believe_in.v.01: have a firm conviction as to the goodness of something\n",
            "buy.v.05: accept as true\n",
            "swallow.v.08: believe or accept without questioning or challenge\n",
            "trust.v.01: have confidence or faith in\n",
            "understand.v.04: believe to be the case\n",
            "\n"
          ]
        }
      ],
      "source": [
        "print (supergloss(wn.synset('believe.v.01')))"
      ]
    },
    {
      "cell_type": "markdown",
      "metadata": {
        "id": "wi2Fx-VDa7cN"
      },
      "source": [
        "**Exercise 15)**"
      ]
    },
    {
      "cell_type": "code",
      "execution_count": null,
      "metadata": {
        "id": "0iUlOyuxa7cN"
      },
      "outputs": [],
      "source": [
        "fd = nltk.FreqDist(brown.words())"
      ]
    },
    {
      "cell_type": "code",
      "execution_count": null,
      "metadata": {
        "id": "H7dTIad_a7cO",
        "outputId": "9e8e1360-1267-4ed1-fb92-2553ca5452e3",
        "colab": {
          "base_uri": "https://localhost:8080/"
        }
      },
      "outputs": [
        {
          "output_type": "stream",
          "name": "stdout",
          "text": [
            "1161192\n",
            "22339\n"
          ]
        }
      ],
      "source": [
        "triple_words = [w for w in fd.keys() if fd[w] > 2]\n",
        "print (len(brown.words()))\n",
        "print (len(triple_words))"
      ]
    },
    {
      "cell_type": "markdown",
      "metadata": {
        "id": "ao3bxB4aa7cO"
      },
      "source": [
        "**Exercise 16)**"
      ]
    },
    {
      "cell_type": "code",
      "execution_count": null,
      "metadata": {
        "id": "E5cT4Oxva7cO",
        "outputId": "4ded0435-0adb-4b7e-bcd5-eb9a93a0d2c0",
        "colab": {
          "base_uri": "https://localhost:8080/"
        }
      },
      "outputs": [
        {
          "output_type": "stream",
          "name": "stdout",
          "text": [
            "adventure: 7.814063556457065\n",
            "belles_lettres: 9.396666847619565\n",
            "editorial: 6.22891809908999\n",
            "fiction: 7.362717695119329\n",
            "government: 8.570712626818237\n",
            "hobbies: 6.899455383326351\n",
            "humor: 4.324297388877816\n",
            "learned: 10.788777507562726\n",
            "lore: 7.60525408536165\n",
            "mystery: 8.188054998567745\n",
            "news: 6.98582742809504\n",
            "religion: 6.182174799937235\n",
            "reviews: 4.718757245536749\n",
            "romance: 8.284666351159489\n",
            "science_fiction: 4.475719146303742\n"
          ]
        }
      ],
      "source": [
        "def lexical_diversity(text):\n",
        "    return len(text) / len(set(text))\n",
        "for genre in nltk.corpus.brown.categories():\n",
        "    print (genre + ': ' + str(lexical_diversity(brown.words(categories=genre))))"
      ]
    },
    {
      "cell_type": "markdown",
      "metadata": {
        "id": "zUWWeUNha7cP"
      },
      "source": [
        "**Exercise 17)**"
      ]
    },
    {
      "cell_type": "code",
      "source": [
        "import nltk\n",
        "nltk.download('stopwords')"
      ],
      "metadata": {
        "colab": {
          "base_uri": "https://localhost:8080/"
        },
        "id": "jl5G1TEaAO4y",
        "outputId": "be694c9c-d067-43bb-cc17-faa268d0210d"
      },
      "execution_count": null,
      "outputs": [
        {
          "output_type": "stream",
          "name": "stderr",
          "text": [
            "[nltk_data] Downloading package stopwords to /root/nltk_data...\n",
            "[nltk_data]   Unzipping corpora/stopwords.zip.\n"
          ]
        },
        {
          "output_type": "execute_result",
          "data": {
            "text/plain": [
              "True"
            ]
          },
          "metadata": {},
          "execution_count": 83
        }
      ]
    },
    {
      "cell_type": "code",
      "execution_count": null,
      "metadata": {
        "id": "3N_npAdFa7cP",
        "outputId": "fa877044-4510-456f-fcf1-8ad00388fb61",
        "colab": {
          "base_uri": "https://localhost:8080/"
        }
      },
      "outputs": [
        {
          "output_type": "stream",
          "name": "stdout",
          "text": [
            "['mr', 'emma', 'could', 'would', 'mrs', 'miss', 'must', 'harriet', 'much', 'said', 'one', 'weston', 'every', 'well', 'thing', 'knightley', 'elton', 'think', 'little', 'never', 'good', 'know', 'might', 'woodhouse', 'say', 'jane', 'quite', 'time', 'great', 'nothing', 'dear', 'fairfax', 'always', 'man', 'thought', 'soon', 'churchill', 'see', 'may', 'shall', 'without', 'first', 'frank', 'father', 'sure', 'indeed', 'like', 'made', 'body', 'ever']\n"
          ]
        }
      ],
      "source": [
        "def most_frequent_content_words(text):\n",
        "    stopwords = nltk.corpus.stopwords.words('english')\n",
        "    content_words = [w.lower() for w in text if w.lower() not in stopwords and any(c.isalpha() for c in w)]\n",
        "    fd = nltk.FreqDist(content_words)\n",
        "    return [w for w, num in fd.most_common(50)]\n",
        "print (most_frequent_content_words(emma))"
      ]
    },
    {
      "cell_type": "code",
      "execution_count": null,
      "metadata": {
        "id": "z7QgiqM8a7cP",
        "outputId": "9f83e3f3-bbe4-4445-b8c3-268d5a0b8c52",
        "colab": {
          "base_uri": "https://localhost:8080/"
        }
      },
      "outputs": [
        {
          "output_type": "stream",
          "name": "stdout",
          "text": [
            "['jack', 'sparrow', 'elizabeth', 'turner', 'gibbs', 'swann', 'jones', 'norrington', 'pintel', 'ragetti', 'back', 'davy', 'one', 'beckett', 'ship', 'chest', 'ha', 'black', 'pearl', 'crew', 'deck', 'tia', 'man', 'scene', 'flying', 'cannibal', 'lord', 'key', 'dutchman', 'captain', 'know', 'cutler', 'us', 'come', 'men', 'want', 'find', 'dalma', 'sword', 'oh', 'hand', 'compass', 'behind', 'see', 'beach', 'look', 'bottle', 'cage', 'kraken', 'like']\n"
          ]
        }
      ],
      "source": [
        "print (most_frequent_content_words(movie))"
      ]
    },
    {
      "cell_type": "markdown",
      "metadata": {
        "id": "WPhnwUIAa7cP"
      },
      "source": [
        "**Exercise 18)**"
      ]
    },
    {
      "cell_type": "code",
      "execution_count": null,
      "metadata": {
        "id": "BwPo6eHTa7cQ",
        "outputId": "948fcc31-e86d-4c3d-d789-7707dfd725cd",
        "colab": {
          "base_uri": "https://localhost:8080/"
        }
      },
      "outputs": [
        {
          "output_type": "stream",
          "name": "stdout",
          "text": [
            "[('Miss', 'Woodhouse'), ('Frank', 'Churchill'), ('Miss', 'Fairfax'), ('I', 'shall'), ('every', 'thing'), ('Miss', 'Bates'), ('Jane', 'Fairfax'), ('I', 'think'), ('every', 'body'), ('I', 'hope'), ('I', 'could'), ('I', 'must'), ('young', 'man'), ('I', 'cannot'), ('great', 'deal'), ('I', 'would'), ('Emma', 'could'), ('said', 'Emma'), ('I', 'know'), ('Miss', 'Smith'), ('John', 'Knightley'), ('I', 'never'), ('I', 'dare'), ('dare', 'say'), ('Miss', 'Taylor'), ('I', 'assure'), ('I', 'believe'), ('But', 'I'), ('My', 'dear'), ('said', 'Mr'), ('I', 'thought'), ('I', 'suppose'), ('She', 'could'), ('I', 'wish'), ('dear', 'Emma'), ('Harriet', 'Smith'), ('Robert', 'Martin'), ('Maple', 'Grove'), ('It', 'would'), ('Colonel', 'Campbell'), ('cried', 'Emma'), ('She', 'would'), ('And', 'I'), ('young', 'woman'), ('young', 'lady'), ('body', 'else'), ('If', 'I'), ('She', 'must'), ('I', 'always'), ('good', 'deal')]\n"
          ]
        }
      ],
      "source": [
        "def most_frequent_bigrams(text):\n",
        "    stopwords = nltk.corpus.stopwords.words('english')\n",
        "    bigrams = [b for b in nltk.bigrams(text) if b[0] not in stopwords and b[1] not in stopwords and any(c.isalpha() for c in b[0]) and any(c.isalpha() for c in b[1])]\n",
        "    fd = nltk.FreqDist(bigrams)\n",
        "    return [b for b, num in fd.most_common(50)]\n",
        "\n",
        "print (most_frequent_bigrams(emma))"
      ]
    },
    {
      "cell_type": "code",
      "execution_count": null,
      "metadata": {
        "id": "dkuXq_Mva7cQ",
        "outputId": "c10e0da0-c9d2-4a2a-90b7-82ed2744466e",
        "colab": {
          "base_uri": "https://localhost:8080/"
        }
      },
      "outputs": [
        {
          "output_type": "stream",
          "name": "stdout",
          "text": [
            "[('JACK', 'SPARROW'), ('WILL', 'TURNER'), ('ELIZABETH', 'SWANN'), ('DAVY', 'JONES'), ('LORD', 'CUTLER'), ('CUTLER', 'BECKETT'), ('Black', 'Pearl'), ('Jack', 'Sparrow'), ('Flying', 'Dutchman'), ('TIA', 'DALMA'), ('CANNIBAL', 'ISLAND'), ('Davy', 'Jones'), ('bamboo', 'pole'), ('FLYING', 'DUTCHMAN'), ('I', 'want'), ('Jack', 'grabs'), ('I', 'think'), ('And', 'I'), ('Port', 'Royal'), ('S', 'PARROT'), ('Mister', 'Turner'), ('left', 'hand'), ('Jack', 'looks'), ('CANNIBAL', 'CROWD'), ('You', 'know'), ('Edinburgh', 'Trader'), ('Ha', 'ha'), ('PORT', 'ROYAL'), ('BLACK', 'PEARL'), ('East', 'India'), ('India', 'Trading'), ('Trading', 'Company'), ('I', 'would'), ('Jack', 'picks'), ('Jack', 'walks'), ('black', 'spot'), ('aerial', 'view'), ('music', 'stops'), ('turns', 'around'), ('scuttled', 'ship'), ('I', 'know'), ('slow', 'motion'), ('motion', 'scene'), ('small', 'chest'), ('William', 'Turner'), ('Captain', 'Jack'), ('I', 'thought'), ('Jack', 'spots'), ('hermit', 'crab'), ('look', 'like')]\n"
          ]
        }
      ],
      "source": [
        "print (most_frequent_bigrams(movie))"
      ]
    },
    {
      "cell_type": "markdown",
      "metadata": {
        "id": "lrJJjdyRa7cQ"
      },
      "source": [
        "**Exercise 19)**"
      ]
    },
    {
      "cell_type": "code",
      "execution_count": null,
      "metadata": {
        "id": "ppd0R6xxa7cQ",
        "outputId": "5206d881-a4fe-4b08-8f1f-fce134478b84",
        "colab": {
          "base_uri": "https://localhost:8080/"
        }
      },
      "outputs": [
        {
          "output_type": "stream",
          "name": "stdout",
          "text": [
            "              perhaps      maybe   possibly     surely  certainly absolutely \n",
            "      news         11          1          3          2          6          1 \n",
            "  religion          5          0          7          3          6          1 \n",
            "government          4          1          2          0          2          0 \n",
            "   learned         30          2          7          1         19          4 \n",
            "   fiction         11          7          3          3          8          2 \n",
            "   romance         15         15          4          3          4          2 \n",
            "     humor          6          1          1          0          3          0 \n"
          ]
        }
      ],
      "source": [
        "def table(words, genres):\n",
        "    cfd = nltk.ConditionalFreqDist(\n",
        "        (genre, word)\n",
        "        for genre in brown.categories()\n",
        "        for word in brown.words(categories=genre))\n",
        "    cfd.tabulate(conditions=genres, samples=words)\n",
        "\n",
        "table(['perhaps', 'maybe', 'possibly', 'surely', 'certainly', 'absolutely'], ['news', 'religion', 'government', 'learned', 'fiction', 'romance', 'humor'])"
      ]
    },
    {
      "cell_type": "markdown",
      "metadata": {
        "id": "JVe8xFPka7cR"
      },
      "source": [
        "**Exercise 20)**"
      ]
    },
    {
      "cell_type": "code",
      "execution_count": null,
      "metadata": {
        "id": "3Umi8qSwa7cR",
        "outputId": "8401da53-0698-4ddd-a3a8-0daddac5ebdc",
        "colab": {
          "base_uri": "https://localhost:8080/"
        }
      },
      "outputs": [
        {
          "output_type": "execute_result",
          "data": {
            "text/plain": [
              "131"
            ]
          },
          "metadata": {},
          "execution_count": 89
        }
      ],
      "source": [
        "def word_freq(word, genre):\n",
        "    fd = nltk.FreqDist(brown.words(categories=genre))\n",
        "    return fd[word]\n",
        "\n",
        "word_freq('God', 'religion')"
      ]
    },
    {
      "cell_type": "code",
      "execution_count": null,
      "metadata": {
        "id": "rlJexfKpa7cR",
        "outputId": "1783c114-396b-47bc-e649-09f89af3cef2",
        "colab": {
          "base_uri": "https://localhost:8080/"
        }
      },
      "outputs": [
        {
          "output_type": "execute_result",
          "data": {
            "text/plain": [
              "3"
            ]
          },
          "metadata": {},
          "execution_count": 90
        }
      ],
      "source": [
        "word_freq('God', 'government')"
      ]
    },
    {
      "cell_type": "markdown",
      "metadata": {
        "id": "GcvxRO9Ua7cR"
      },
      "source": [
        "**Exercise 21)**"
      ]
    },
    {
      "cell_type": "code",
      "execution_count": null,
      "metadata": {
        "id": "3I0047nNa7cS",
        "outputId": "8154e1dc-709b-498f-f71f-af4b4e0a5644",
        "colab": {
          "base_uri": "https://localhost:8080/"
        }
      },
      "outputs": [
        {
          "output_type": "execute_result",
          "data": {
            "text/plain": [
              "8"
            ]
          },
          "metadata": {},
          "execution_count": 92
        }
      ],
      "source": [
        "prondict = nltk.corpus.cmudict.dict()\n",
        "\n",
        "def guess_syllables(text):\n",
        "    count_syllables = 0;\n",
        "    for word in text:\n",
        "        if any(c.isalpha() for c in word):\n",
        "            try:\n",
        "                pron = prondict[word.lower()][0]\n",
        "            except KeyError:\n",
        "                print ('\"' + word.lower() + '\" does not exist in CMU!')\n",
        "                continue\n",
        "            else:\n",
        "                for syllable in pron:\n",
        "                    if any(c.isnumeric() for c in syllable):\n",
        "                        count_syllables = count_syllables + 1;\n",
        "    return count_syllables\n",
        "\n",
        "guess_syllables(['She', 'sells', 'seashells', 'by', 'the', 'seashore'])"
      ]
    },
    {
      "cell_type": "code",
      "execution_count": null,
      "metadata": {
        "id": "psWZ6vi-a7cS",
        "outputId": "7d737ae8-6962-4384-bc70-1ae5b065a2b2",
        "colab": {
          "base_uri": "https://localhost:8080/"
        }
      },
      "outputs": [
        {
          "output_type": "stream",
          "name": "stdout",
          "text": [
            "\"pythonic\" does not exist in CMU!\n"
          ]
        },
        {
          "output_type": "execute_result",
          "data": {
            "text/plain": [
              "12"
            ]
          },
          "metadata": {},
          "execution_count": 93
        }
      ],
      "source": [
        "guess_syllables(['This', 'is', 'an', 'absolutely', 'fantastic', 'pythonic', 'program', '.'])"
      ]
    },
    {
      "cell_type": "code",
      "execution_count": null,
      "metadata": {
        "id": "ugnAeHaba7cS",
        "outputId": "f3a9b911-0eff-4ea0-e8c7-ab8ad9639cee",
        "colab": {
          "base_uri": "https://localhost:8080/"
        }
      },
      "outputs": [
        {
          "output_type": "stream",
          "name": "stdout",
          "text": [
            "\"well-being\" does not exist in CMU!\n",
            "\"one-sixth\" does not exist in CMU!\n",
            "\"self-evident\" does not exist in CMU!\n",
            "\"re-evaluation\" does not exist in CMU!\n",
            "\"nareb\" does not exist in CMU!\n",
            "\"self-images\" does not exist in CMU!\n",
            "\"nareb's\" does not exist in CMU!\n",
            "\"non-white\" does not exist in CMU!\n",
            "\"all-white\" does not exist in CMU!\n",
            "\"client-service\" does not exist in CMU!\n",
            "\"etc.\" does not exist in CMU!\n",
            "\"pervasively\" does not exist in CMU!\n",
            "\"nareb\" does not exist in CMU!\n",
            "\"illumine\" does not exist in CMU!\n",
            "\"residentially\" does not exist in CMU!\n",
            "\"negroes'\" does not exist in CMU!\n",
            "\"well-kept\" does not exist in CMU!\n",
            "\"etc.\" does not exist in CMU!\n",
            "\"anti-discriminatory\" does not exist in CMU!\n",
            "\"anti-discrimination\" does not exist in CMU!\n",
            "\"unenforcible\" does not exist in CMU!\n",
            "\"reformism\" does not exist in CMU!\n",
            "\"permissibility\" does not exist in CMU!\n",
            "\"all-white\" does not exist in CMU!\n",
            "\"all-inclusive\" does not exist in CMU!\n",
            "\"skillfulness\" does not exist in CMU!\n"
          ]
        },
        {
          "output_type": "execute_result",
          "data": {
            "text/plain": [
              "3595"
            ]
          },
          "metadata": {},
          "execution_count": 94
        }
      ],
      "source": [
        "guess_syllables(religion_text)"
      ]
    },
    {
      "cell_type": "markdown",
      "metadata": {
        "id": "eOukYKtza7cS"
      },
      "source": [
        "**Exercise 22)**"
      ]
    },
    {
      "cell_type": "code",
      "execution_count": null,
      "metadata": {
        "id": "4R5JWDAba7cS",
        "outputId": "15b3f603-1bc2-41df-efaa-e73b6c85d65c",
        "colab": {
          "base_uri": "https://localhost:8080/"
        }
      },
      "outputs": [
        {
          "output_type": "execute_result",
          "data": {
            "text/plain": [
              "['She',\n",
              " 'sells',\n",
              " 'seashells',\n",
              " 'like',\n",
              " 'by',\n",
              " 'the',\n",
              " 'seashore',\n",
              " 'like',\n",
              " 'the',\n",
              " 'shells',\n",
              " 'she',\n",
              " 'like',\n",
              " 'sells',\n",
              " 'are',\n",
              " 'seashells',\n",
              " 'like']"
            ]
          },
          "metadata": {},
          "execution_count": 95
        }
      ],
      "source": [
        "def hedge(text):\n",
        "    text_hedged = []\n",
        "    count = 0\n",
        "    for word in text:\n",
        "        text_hedged.append(word)\n",
        "        count = count + 1\n",
        "        if count == 3:\n",
        "            text_hedged.append('like')\n",
        "            count = 0\n",
        "    return text_hedged\n",
        "\n",
        "hedge(['She', 'sells', 'seashells', 'by', 'the', 'seashore', 'the', 'shells', 'she', 'sells', 'are', 'seashells'])"
      ]
    },
    {
      "cell_type": "markdown",
      "metadata": {
        "id": "Gjgxe6nEa7cT"
      },
      "source": [
        "**Exercise 23)**"
      ]
    },
    {
      "cell_type": "code",
      "execution_count": null,
      "metadata": {
        "id": "C-OHGgy-a7cT",
        "outputId": "d2ebb8d2-bed3-4e01-c665-e8c8907e41b3",
        "colab": {
          "base_uri": "https://localhost:8080/"
        }
      },
      "outputs": [
        {
          "output_type": "stream",
          "name": "stdout",
          "text": [
            "Populating the interactive namespace from numpy and matplotlib\n"
          ]
        },
        {
          "output_type": "stream",
          "name": "stderr",
          "text": [
            "/usr/local/lib/python3.10/dist-packages/IPython/core/magics/pylab.py:159: UserWarning: pylab import has clobbered these variables: ['Text', 'table', 'pylab']\n",
            "`%matplotlib` prevents importing * from pylab and numpy\n",
            "  warn(\"pylab import has clobbered these variables: %s\"  % clobbered +\n"
          ]
        }
      ],
      "source": [
        "# a\n",
        "import pylab\n",
        "%pylab inline\n",
        "def zipf(text):\n",
        "    fd = nltk.FreqDist(text)\n",
        "    rank = 1\n",
        "    freqs = []\n",
        "    ranks = []\n",
        "    for sample, count in fd.most_common(200):\n",
        "        if any(c.isalpha() for c in sample):\n",
        "            freqs.append(fd.freq(sample))\n",
        "            ranks.append(rank)\n",
        "            rank = rank + 1\n",
        "    pylab.plot(ranks, freqs)"
      ]
    },
    {
      "cell_type": "code",
      "execution_count": null,
      "metadata": {
        "id": "imwn9kgma7cT",
        "outputId": "4329c003-ca9c-4a8b-b53f-f11f6c9bfeb8"
      },
      "outputs": [
        {
          "data": {
            "image/png": "[encoded data removed]",
            "text/plain": [
              "<matplotlib.figure.Figure at 0x219efef0>"
            ]
          },
          "metadata": {},
          "output_type": "display_data"
        }
      ],
      "source": [
        "zipf(emma)"
      ]
    },
    {
      "cell_type": "code",
      "execution_count": null,
      "metadata": {
        "id": "QTXBudLYa7cU",
        "outputId": "0618298f-48e9-4b90-ee27-b5e6a55e1971",
        "colab": {
          "base_uri": "https://localhost:8080/",
          "height": 430
        }
      },
      "outputs": [
        {
          "output_type": "display_data",
          "data": {
            "text/plain": [
              "<Figure size 640x480 with 1 Axes>"
            ],
            "image/png": "[encoded data removed]"
          },
          "metadata": {}
        }
      ],
      "source": [
        "zipf(religion_text)"
      ]
    },
    {
      "cell_type": "code",
      "execution_count": null,
      "metadata": {
        "id": "gHWN0vB-a7cU",
        "outputId": "bb5fd26d-7662-4c20-9304-fc16c1599679",
        "colab": {
          "base_uri": "https://localhost:8080/",
          "height": 430
        }
      },
      "outputs": [
        {
          "output_type": "display_data",
          "data": {
            "text/plain": [
              "<Figure size 640x480 with 1 Axes>"
            ],
            "image/png": "[encoded data removed]"
          },
          "metadata": {}
        }
      ],
      "source": [
        "# b\n",
        "import random\n",
        "import nltk\n",
        "random_text = ''\n",
        "count = 0\n",
        "while count < 100001:\n",
        "    random_text = random_text + random.choice('abcdefg ')\n",
        "    count = count + 1\n",
        "text_split = random_text.split()\n",
        "zipf(random_text.split())"
      ]
    },
    {
      "cell_type": "markdown",
      "metadata": {
        "id": "z_j7zY5za7cU"
      },
      "source": [
        "**Exercise 24)**"
      ]
    },
    {
      "cell_type": "code",
      "source": [
        "import nltk\n",
        "nltk.download('genesis')"
      ],
      "metadata": {
        "colab": {
          "base_uri": "https://localhost:8080/"
        },
        "id": "xOIgq5-bAvZH",
        "outputId": "47c0ca7d-0d85-4703-b1f4-893e94cd1a1a"
      },
      "execution_count": null,
      "outputs": [
        {
          "output_type": "stream",
          "name": "stderr",
          "text": [
            "[nltk_data] Downloading package genesis to /root/nltk_data...\n",
            "[nltk_data]   Unzipping corpora/genesis.zip.\n"
          ]
        },
        {
          "output_type": "execute_result",
          "data": {
            "text/plain": [
              "True"
            ]
          },
          "metadata": {},
          "execution_count": 101
        }
      ]
    },
    {
      "cell_type": "code",
      "execution_count": null,
      "metadata": {
        "id": "uC6g9TDEa7cU",
        "outputId": "dcfc2ea7-8d4c-4923-fb81-803206a962e2",
        "colab": {
          "base_uri": "https://localhost:8080/"
        }
      },
      "outputs": [
        {
          "output_type": "stream",
          "name": "stdout",
          "text": [
            "thou\n",
            "shalt\n",
            "thou\n",
            "shalt\n",
            "thou\n",
            "shalt\n",
            "thou\n",
            "shalt\n",
            "thou\n",
            "shalt\n",
            "thou\n",
            "shalt\n",
            "thou\n",
            "shalt\n",
            "thou\n"
          ]
        }
      ],
      "source": [
        "# a\n",
        "def generate_model(text, num=15, n=50):\n",
        "    words = [w for w, count in nltk.FreqDist(text).most_common(n)]\n",
        "    bigrams = nltk.bigrams(text)\n",
        "    cfd = nltk.ConditionalFreqDist(bigrams)\n",
        "    word = random.choice(words)\n",
        "    for i in range(num):\n",
        "        print (word)\n",
        "        word = cfd[word].max()\n",
        "\n",
        "generate_model(nltk.corpus.genesis.words('english-kjv.txt'))"
      ]
    },
    {
      "cell_type": "code",
      "execution_count": null,
      "metadata": {
        "id": "SN0Oge2Ca7cV",
        "outputId": "ac1e7341-5742-4a47-f684-9a4d19c30ae5",
        "colab": {
          "base_uri": "https://localhost:8080/"
        }
      },
      "outputs": [
        {
          "output_type": "stream",
          "name": "stdout",
          "text": [
            "'\n",
            "s\n",
            ",\n",
            "and\n",
            "the\n",
            "same\n",
            "time\n",
            ",\n",
            "and\n",
            "the\n",
            "same\n",
            "time\n",
            ",\n",
            "and\n",
            "the\n"
          ]
        }
      ],
      "source": [
        "generate_model(emma)"
      ]
    },
    {
      "cell_type": "code",
      "execution_count": null,
      "metadata": {
        "id": "6Z6Me-x0a7cV",
        "outputId": "3548b7df-dfe7-4842-f959-e30b5b7ab7b7",
        "colab": {
          "base_uri": "https://localhost:8080/"
        }
      },
      "outputs": [
        {
          "output_type": "stream",
          "name": "stdout",
          "text": [
            "of\n",
            "the\n",
            "key\n",
            ",\n",
            "and\n",
            "Ragetti\n",
            "'\n",
            "s\n",
            "a\n",
            "man\n",
            "'\n",
            "s\n",
            "a\n",
            "man\n",
            "'\n"
          ]
        }
      ],
      "source": [
        "generate_model(movie)"
      ]
    },
    {
      "cell_type": "code",
      "execution_count": null,
      "metadata": {
        "id": "vI1Ktd36a7cV",
        "outputId": "632ae8f6-82da-4fff-ad86-b22cdc9108b8",
        "colab": {
          "base_uri": "https://localhost:8080/"
        }
      },
      "outputs": [
        {
          "output_type": "stream",
          "name": "stdout",
          "text": [
            "Emma\n",
            "no\n",
            "\"\n",
            ".\"\n",
            "for\n",
            "I\n",
            "--\n",
            "to\n",
            "very\n",
            "with\n",
            "have\n",
            "of\n",
            "he\n",
            "it\n",
            ".\"\n"
          ]
        }
      ],
      "source": [
        "def generate_model_random(text, num=15, n=50):\n",
        "    words = [w for w, count in nltk.FreqDist(text).most_common(n)]\n",
        "    word = random.choice(words)\n",
        "    for i in range(num):\n",
        "        print (word)\n",
        "        word = random.choice(words)\n",
        "generate_model_random(emma)"
      ]
    },
    {
      "cell_type": "code",
      "execution_count": null,
      "metadata": {
        "id": "a6poQKfda7cW",
        "outputId": "57a6dbd3-f067-461e-fe8f-52fcc965dfdd",
        "colab": {
          "base_uri": "https://localhost:8080/"
        }
      },
      "outputs": [
        {
          "output_type": "stream",
          "name": "stdout",
          "text": [
            "Tia\n",
            "off\n",
            "inside\n",
            "but\n",
            "JONES\n",
            "sword\n",
            "will\n",
            "have\n",
            "Turner\n",
            "The\n",
            "CUTLER\n",
            "...\n",
            ":\n",
            "up\n",
            "to\n",
            "Jack\n",
            "it\n",
            "at\n",
            "don\n",
            "Sparrow\n",
            "while\n",
            "in\n",
            "NORRINGTON\n",
            "-\n",
            "so\n"
          ]
        }
      ],
      "source": [
        "generate_model_random(movie, 25, 200)"
      ]
    },
    {
      "cell_type": "code",
      "execution_count": null,
      "metadata": {
        "id": "ydR3ycvMa7cW",
        "outputId": "ecf8bc5a-f994-42b9-fae5-ec5d1093cd19",
        "colab": {
          "base_uri": "https://localhost:8080/"
        }
      },
      "outputs": [
        {
          "output_type": "stream",
          "name": "stdout",
          "text": [
            "the\n",
            "first\n",
            "time\n",
            ".\n",
            "The\n",
            "President\n",
            "Kennedy\n",
            ",\n",
            "and\n",
            "the\n",
            "first\n",
            "time\n",
            ".\n",
            "The\n",
            "President\n"
          ]
        }
      ],
      "source": [
        "# b\n",
        "from nltk.corpus import brown\n",
        "generate_model(brown.words(categories='news'))"
      ]
    },
    {
      "cell_type": "code",
      "execution_count": null,
      "metadata": {
        "id": "xGB-SEOia7cW",
        "outputId": "a4417790-863a-47fe-fe33-633eb7254359",
        "colab": {
          "base_uri": "https://localhost:8080/"
        }
      },
      "outputs": [
        {
          "output_type": "stream",
          "name": "stdout",
          "text": [
            "``\n",
            "but\n",
            "he\n",
            "this\n",
            "his\n",
            "are\n",
            "to\n",
            "was\n",
            "in\n",
            "he\n",
            "not\n",
            "--\n",
            "be\n",
            "I\n",
            "of\n"
          ]
        }
      ],
      "source": [
        "generate_model_random(brown.words(categories='news'))"
      ]
    },
    {
      "cell_type": "code",
      "execution_count": null,
      "metadata": {
        "id": "ZrzN6r4ea7cW",
        "outputId": "8cfaeb12-9975-441a-d348-d05eef85fb65",
        "colab": {
          "base_uri": "https://localhost:8080/"
        }
      },
      "outputs": [
        {
          "output_type": "stream",
          "name": "stdout",
          "text": [
            "?\n",
            "?\n",
            "?\n",
            "?\n",
            "?\n",
            "?\n",
            "?\n",
            "?\n",
            "?\n",
            "?\n",
            "?\n",
            "?\n",
            "?\n",
            "?\n",
            "?\n"
          ]
        }
      ],
      "source": [
        "# c\n",
        "generate_model(brown.words(categories=['news', 'romance']))"
      ]
    },
    {
      "cell_type": "code",
      "execution_count": null,
      "metadata": {
        "id": "AL8ZpuIMa7cX",
        "outputId": "8dd3293a-e9ff-4339-ca4e-bc2ba45fa13a",
        "colab": {
          "base_uri": "https://localhost:8080/"
        }
      },
      "outputs": [
        {
          "output_type": "stream",
          "name": "stdout",
          "text": [
            "her\n",
            "have\n",
            "you\n",
            "had\n",
            "you\n",
            "it\n",
            "on\n",
            "of\n",
            "out\n",
            "would\n",
            "?\n",
            "The\n",
            "?\n",
            "The\n",
            "and\n"
          ]
        }
      ],
      "source": [
        "generate_model_random(brown.words(categories=['news', 'romance']))"
      ]
    },
    {
      "cell_type": "code",
      "execution_count": null,
      "metadata": {
        "id": "UrVjT5Ska7cX",
        "outputId": "0d1e3d2c-1bdd-481f-9f12-9c9c46e76cff",
        "colab": {
          "base_uri": "https://localhost:8080/"
        }
      },
      "outputs": [
        {
          "output_type": "stream",
          "name": "stdout",
          "text": [
            "by\n",
            "the\n",
            "``\n",
            "I\n",
            "have\n",
            "been\n",
            "a\n",
            "few\n",
            "days\n",
            ",\n",
            "and\n",
            "the\n",
            "``\n",
            "I\n",
            "have\n"
          ]
        }
      ],
      "source": [
        "generate_model(brown.words(categories=['belles_lettres', 'science_fiction']))"
      ]
    },
    {
      "cell_type": "code",
      "execution_count": null,
      "metadata": {
        "id": "fQj99Ev_a7cY",
        "outputId": "94feb52c-0697-422c-8141-ddb291a61c9d",
        "colab": {
          "base_uri": "https://localhost:8080/"
        }
      },
      "outputs": [
        {
          "output_type": "stream",
          "name": "stdout",
          "text": [
            "I\n",
            "was\n",
            "a\n",
            "little\n",
            "more\n",
            "than\n",
            "the\n",
            "first\n",
            "time\n",
            ",\n",
            "and\n",
            "the\n",
            "first\n",
            "time\n",
            ",\n",
            "and\n",
            "the\n",
            "first\n",
            "time\n",
            ",\n",
            "and\n",
            "the\n",
            "first\n",
            "time\n",
            ",\n",
            "and\n",
            "the\n",
            "first\n",
            "time\n",
            ",\n",
            "and\n",
            "the\n",
            "first\n",
            "time\n",
            ",\n",
            "and\n",
            "the\n",
            "first\n",
            "time\n",
            ",\n",
            "and\n",
            "the\n",
            "first\n",
            "time\n",
            ",\n",
            "and\n",
            "the\n",
            "first\n",
            "time\n",
            ",\n",
            "and\n",
            "the\n",
            "first\n",
            "time\n",
            ",\n",
            "and\n",
            "the\n",
            "first\n",
            "time\n",
            ",\n",
            "and\n",
            "the\n",
            "first\n",
            "time\n",
            ",\n",
            "and\n",
            "the\n",
            "first\n",
            "time\n",
            ",\n",
            "and\n",
            "the\n",
            "first\n",
            "time\n",
            ",\n",
            "and\n",
            "the\n",
            "first\n",
            "time\n",
            ",\n",
            "and\n",
            "the\n",
            "first\n",
            "time\n",
            ",\n",
            "and\n",
            "the\n",
            "first\n",
            "time\n",
            ",\n",
            "and\n",
            "the\n",
            "first\n",
            "time\n",
            ",\n",
            "and\n",
            "the\n",
            "first\n",
            "time\n",
            ",\n"
          ]
        }
      ],
      "source": [
        "generate_model(brown.words(categories=['news', 'romance']), 100, 100)"
      ]
    },
    {
      "cell_type": "markdown",
      "metadata": {
        "collapsed": true,
        "id": "BdHuhOKRa7cY"
      },
      "source": [
        "**Exercise 25)**"
      ]
    },
    {
      "cell_type": "code",
      "source": [
        "import nltk\n",
        "nltk.download('udhr')"
      ],
      "metadata": {
        "colab": {
          "base_uri": "https://localhost:8080/"
        },
        "id": "O5qdhZDGBAyQ",
        "outputId": "e192b691-6e10-482e-b066-73ffc8fedb08"
      },
      "execution_count": null,
      "outputs": [
        {
          "output_type": "stream",
          "name": "stderr",
          "text": [
            "[nltk_data] Downloading package udhr to /root/nltk_data...\n",
            "[nltk_data]   Unzipping corpora/udhr.zip.\n"
          ]
        },
        {
          "output_type": "execute_result",
          "data": {
            "text/plain": [
              "True"
            ]
          },
          "metadata": {},
          "execution_count": 114
        }
      ]
    },
    {
      "cell_type": "code",
      "execution_count": null,
      "metadata": {
        "id": "eCS1Dtcka7cY",
        "outputId": "c452fec9-6c0c-4e7f-8cb8-bd14c88663b8",
        "colab": {
          "base_uri": "https://localhost:8080/"
        }
      },
      "outputs": [
        {
          "output_type": "stream",
          "name": "stdout",
          "text": [
            "['Albanian_Shqip', 'Bemba', 'Cebuano', 'English', 'NigerianPidginEnglish', 'Romani']\n"
          ]
        }
      ],
      "source": [
        "from nltk.corpus import udhr\n",
        "def find_language(word):\n",
        "    languages = []\n",
        "    for fileid in udhr.fileids():\n",
        "        if fileid.endswith('-Latin1') and word in udhr.words(fileid):\n",
        "            languages.append(fileid[:-7])\n",
        "    return languages\n",
        "\n",
        "print (find_language('and'))"
      ]
    },
    {
      "cell_type": "code",
      "execution_count": null,
      "metadata": {
        "id": "MG8qtb0ca7cZ",
        "outputId": "72704283-37d6-4f24-f6f7-3f4050fd1cba",
        "colab": {
          "base_uri": "https://localhost:8080/"
        }
      },
      "outputs": [
        {
          "output_type": "stream",
          "name": "stdout",
          "text": [
            "['Afaan_Oromo_Oromiffa', 'Afrikaans', 'Aguaruna', 'Amarakaeri', 'Cakchiquel', 'Chayahuita', 'Corsican', 'Dutch_Nederlands', 'English', 'Frisian', 'Friulian_Friulano', 'German_Deutsch', 'Hausa_Haoussa', 'Huasteco', 'Interlingua', 'IrishGaelic_Gaeilge', 'Italian', 'Italian_Italiano', 'Kapampangan', 'Latin_Latina', 'Latin_Latina-v2', 'Marshallese', 'Mazateco', 'Mikmaq_Micmac-Mikmaq', 'Mixteco', 'Oromiffa_AfaanOromo', 'Paez', 'Picard', 'Qechi_Kekchi', 'Rhaeto-Romance_Rumantsch', 'Sammarinese', 'Sardinian', 'Somali', 'Tenek_Huasteco', 'Tojol-abal', 'Totonaco', 'Tzeltal', 'Tzotzil', 'Uzbek', 'Walloon_Wallon', 'Waray', 'Wayuu']\n"
          ]
        }
      ],
      "source": [
        "print (find_language('in'))"
      ]
    },
    {
      "cell_type": "markdown",
      "metadata": {
        "id": "rc_um7VWa7cZ"
      },
      "source": [
        "**Exercise 26)**"
      ]
    },
    {
      "cell_type": "code",
      "execution_count": null,
      "metadata": {
        "id": "9WzSb-9Pa7cZ",
        "outputId": "ecc70027-4d85-4e81-ea31-96e78a4ab946",
        "colab": {
          "base_uri": "https://localhost:8080/"
        }
      },
      "outputs": [
        {
          "output_type": "stream",
          "name": "stdout",
          "text": [
            "4.543820763194153\n"
          ]
        }
      ],
      "source": [
        "num_hyponyms = 0\n",
        "sum_hyponyms = 0\n",
        "for synset in wn.all_synsets('n'):\n",
        "    hyponyms = synset.hyponyms()\n",
        "    if len(hyponyms) > 0:\n",
        "        num_hyponyms = num_hyponyms + 1\n",
        "        sum_hyponyms = sum_hyponyms + len(hyponyms)\n",
        "\n",
        "print (sum_hyponyms / num_hyponyms)"
      ]
    },
    {
      "cell_type": "markdown",
      "metadata": {
        "id": "a7GUCuVma7ca"
      },
      "source": [
        "**Exercise 27)**"
      ]
    },
    {
      "cell_type": "code",
      "execution_count": null,
      "metadata": {
        "id": "Qbsq4YH0a7ca",
        "outputId": "6193237d-480b-4353-d4c7-121c1f833a97",
        "colab": {
          "base_uri": "https://localhost:8080/"
        }
      },
      "outputs": [
        {
          "output_type": "execute_result",
          "data": {
            "text/plain": [
              "1.5455227238638067"
            ]
          },
          "metadata": {},
          "execution_count": 118
        }
      ],
      "source": [
        "def average_polysemy(category):\n",
        "    seen_words = []\n",
        "    num_poly = 0\n",
        "    sum_poly = 0\n",
        "    for synset in wn.all_synsets(category):\n",
        "        if num_poly > 20000:\n",
        "            break;\n",
        "        for lemma in synset.lemmas():\n",
        "            lemma_name = lemma.name()\n",
        "            if lemma_name not in seen_words:\n",
        "                seen_words.append(lemma_name)\n",
        "                num_poly = num_poly + 1\n",
        "                sum_poly = sum_poly + len(wn.synsets(lemma_name, category))\n",
        "    return sum_poly / num_poly\n",
        "\n",
        "average_polysemy('n')"
      ]
    },
    {
      "cell_type": "code",
      "execution_count": null,
      "metadata": {
        "id": "m1PCRUc_a7cb",
        "outputId": "173f590f-48d3-42e4-85e6-aafb0433d413",
        "colab": {
          "base_uri": "https://localhost:8080/"
        }
      },
      "outputs": [
        {
          "output_type": "execute_result",
          "data": {
            "text/plain": [
              "2.1866273523545225"
            ]
          },
          "metadata": {},
          "execution_count": 119
        }
      ],
      "source": [
        "average_polysemy('v')"
      ]
    },
    {
      "cell_type": "code",
      "execution_count": null,
      "metadata": {
        "id": "gLo1-eBLa7cb",
        "outputId": "e7ce6aae-ee51-4b03-ddd2-0d29e34ef3b6",
        "colab": {
          "base_uri": "https://localhost:8080/"
        }
      },
      "outputs": [
        {
          "output_type": "execute_result",
          "data": {
            "text/plain": [
              "1.4336283185840708"
            ]
          },
          "metadata": {},
          "execution_count": 120
        }
      ],
      "source": [
        "average_polysemy('a')"
      ]
    },
    {
      "cell_type": "code",
      "execution_count": null,
      "metadata": {
        "id": "3NRC8v_7a7cf",
        "outputId": "b3f3f672-7d07-4341-fea4-95afa5cbe514",
        "colab": {
          "base_uri": "https://localhost:8080/"
        }
      },
      "outputs": [
        {
          "output_type": "execute_result",
          "data": {
            "text/plain": [
              "1.2532916759651864"
            ]
          },
          "metadata": {},
          "execution_count": 121
        }
      ],
      "source": [
        "average_polysemy('r')"
      ]
    },
    {
      "cell_type": "markdown",
      "metadata": {
        "id": "FJGUhUXoa7cf"
      },
      "source": [
        "**Exercise 28)**"
      ]
    },
    {
      "cell_type": "code",
      "execution_count": null,
      "metadata": {
        "id": "go4oL76Wa7dO",
        "outputId": "e5c96422-14c4-4950-c2a5-befb52365174",
        "colab": {
          "base_uri": "https://localhost:8080/"
        }
      },
      "outputs": [
        {
          "output_type": "execute_result",
          "data": {
            "text/plain": [
              "[('car', 'automobile', 3.6375861597263857),\n",
              " ('midday', 'noon', 3.6375861597263857),\n",
              " ('coast', 'shore', 2.9444389791664407),\n",
              " ('tool', 'implement', 2.9444389791664407),\n",
              " ('boy', 'lad', 2.538973871058276),\n",
              " ('journey', 'voyage', 2.2512917986064953),\n",
              " ('coast', 'hill', 2.0281482472922856),\n",
              " ('shore', 'woodland', 2.0281482472922856),\n",
              " ('monk', 'slave', 2.0281482472922856),\n",
              " ('lad', 'wizard', 2.0281482472922856),\n",
              " ('magician', 'wizard', 1.845826690498331),\n",
              " ('lad', 'brother', 1.6916760106710724),\n",
              " ('gem', 'jewel', 1.55814461804655),\n",
              " ('asylum', 'madhouse', 1.55814461804655),\n",
              " ('brother', 'monk', 1.55814461804655),\n",
              " ('monk', 'oracle', 1.55814461804655),\n",
              " ('bird', 'crane', 1.4403615823901665),\n",
              " ('cemetery', 'woodland', 1.4403615823901665),\n",
              " ('glass', 'magician', 1.4403615823901665),\n",
              " ('crane', 'implement', 1.3350010667323402),\n",
              " ('food', 'fruit', 1.2396908869280152),\n",
              " ('coast', 'forest', 1.2396908869280152),\n",
              " ('chord', 'smile', 1.2396908869280152),\n",
              " ('furnace', 'stove', 1.072636802264849),\n",
              " ('forest', 'graveyard', 0.9985288301111273),\n",
              " ('bird', 'cock', 0.8649974374866046),\n",
              " ('food', 'rooster', 0.8649974374866046),\n",
              " ('noon', 'string', 0.8043728156701697),\n",
              " ('journey', 'car', 0.6418538861723948),\n",
              " ('rooster', 'voyage', 0.4595323293784402)]"
            ]
          },
          "metadata": {},
          "execution_count": 122
        }
      ],
      "source": [
        "pairs = [('car', 'automobile'), ('gem', 'jewel'), ('journey', 'voyage'), ('boy', 'lad'), ('coast', 'shore'),\n",
        "         ('asylum', 'madhouse'), ('magician', 'wizard'), ('midday', 'noon'), ('furnace', 'stove'), ('food', 'fruit'),\n",
        "         ('bird', 'cock'), ('bird', 'crane'), ('tool', 'implement'), ('brother', 'monk'), ('lad', 'brother'),\n",
        "         ('crane', 'implement'), ('journey', 'car'), ('monk', 'oracle'), ('cemetery', 'woodland'), ('food', 'rooster'),\n",
        "         ('coast', 'hill'), ('forest', 'graveyard'), ('shore', 'woodland'), ('monk', 'slave'), ('coast', 'forest'),\n",
        "         ('lad', 'wizard'), ('chord', 'smile'), ('glass', 'magician'), ('rooster', 'voyage'), ('noon', 'string')]\n",
        "lch = []\n",
        "for word1, word2 in pairs:\n",
        "    lch.append((word1, word2, wn.lch_similarity(wn.synsets(word1)[0], wn.synsets(word2)[0])))\n",
        "from operator import itemgetter\n",
        "sorted(lch,key=itemgetter(2),reverse=True)"
      ]
    },
    {
      "cell_type": "code",
      "execution_count": null,
      "metadata": {
        "id": "ECHxanSha7dO",
        "outputId": "1c2995b4-5709-4425-ac58-b6d785d1b2eb",
        "colab": {
          "base_uri": "https://localhost:8080/"
        }
      },
      "outputs": [
        {
          "output_type": "execute_result",
          "data": {
            "text/plain": [
              "[('car', 'automobile', 1.0),\n",
              " ('midday', 'noon', 1.0),\n",
              " ('coast', 'shore', 0.5),\n",
              " ('tool', 'implement', 0.5),\n",
              " ('boy', 'lad', 0.3333333333333333),\n",
              " ('journey', 'voyage', 0.25),\n",
              " ('coast', 'hill', 0.2),\n",
              " ('shore', 'woodland', 0.2),\n",
              " ('monk', 'slave', 0.2),\n",
              " ('lad', 'wizard', 0.2),\n",
              " ('magician', 'wizard', 0.16666666666666666),\n",
              " ('lad', 'brother', 0.14285714285714285),\n",
              " ('gem', 'jewel', 0.125),\n",
              " ('asylum', 'madhouse', 0.125),\n",
              " ('brother', 'monk', 0.125),\n",
              " ('monk', 'oracle', 0.125),\n",
              " ('bird', 'crane', 0.1111111111111111),\n",
              " ('cemetery', 'woodland', 0.1111111111111111),\n",
              " ('glass', 'magician', 0.1111111111111111),\n",
              " ('crane', 'implement', 0.1),\n",
              " ('food', 'fruit', 0.09090909090909091),\n",
              " ('coast', 'forest', 0.09090909090909091),\n",
              " ('chord', 'smile', 0.09090909090909091),\n",
              " ('furnace', 'stove', 0.07692307692307693),\n",
              " ('forest', 'graveyard', 0.07142857142857142),\n",
              " ('bird', 'cock', 0.0625),\n",
              " ('food', 'rooster', 0.0625),\n",
              " ('noon', 'string', 0.058823529411764705),\n",
              " ('journey', 'car', 0.05),\n",
              " ('rooster', 'voyage', 0.041666666666666664)]"
            ]
          },
          "metadata": {},
          "execution_count": 123
        }
      ],
      "source": [
        "path = []\n",
        "for word1, word2 in pairs:\n",
        "    path.append((word1, word2, wn.path_similarity(wn.synsets(word1)[0], wn.synsets(word2)[0])))\n",
        "sorted(path,key=itemgetter(2),reverse=True)"
      ]
    }
  ],
  "metadata": {
    "kernelspec": {
      "display_name": "Python 2",
      "language": "python",
      "name": "python2"
    },
    "language_info": {
      "codemirror_mode": {
        "name": "ipython",
        "version": 2
      },
      "file_extension": ".py",
      "mimetype": "text/x-python",
      "name": "python",
      "nbconvert_exporter": "python",
      "pygments_lexer": "ipython2",
      "version": "2.7.12"
    },
    "colab": {
      "provenance": [],
      "include_colab_link": true
    }
  },
  "nbformat": 4,
  "nbformat_minor": 0
}