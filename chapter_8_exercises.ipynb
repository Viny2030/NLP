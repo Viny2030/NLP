{
  "cells": [
    {
      "cell_type": "markdown",
      "metadata": {
        "id": "view-in-github",
        "colab_type": "text"
      },
      "source": [
        "<a href=\"https://colab.research.google.com/github/Viny2030/NLP/blob/main/chapter_8_exercises.ipynb\" target=\"_parent\"><img src=\"https://colab.research.google.com/assets/colab-badge.svg\" alt=\"Open In Colab\"/></a>"
      ]
    },
    {
      "cell_type": "markdown",
      "metadata": {
        "id": "2YHcXBzx9mJn"
      },
      "source": [
        "__Exercise 1__"
      ]
    },
    {
      "cell_type": "code",
      "execution_count": 1,
      "metadata": {
        "collapsed": true,
        "id": "_SZRAc7a9mJp"
      },
      "outputs": [],
      "source": [
        "# Today is Saturday, the 5th of May 2018 and my name is Julia, living in [address],\n",
        "# and I'm currently fullfilling an nltk book assignment."
      ]
    },
    {
      "cell_type": "markdown",
      "metadata": {
        "id": "orm1sqzH9mJr"
      },
      "source": [
        "__Exercise 2__"
      ]
    },
    {
      "cell_type": "code",
      "execution_count": 2,
      "metadata": {
        "collapsed": true,
        "id": "bYupvLQ_9mJr"
      },
      "outputs": [],
      "source": [
        "# used in sense of 'no matter how':\n",
        "#    “However beautiful the strategy, you should occasionally look at the results.”\n",
        "#    “However bad you think you’re going to be in that room, not being there is worse.”\n",
        "# used as connector:\n",
        "#    \"However, they kept on, with unabated perseverance.\""
      ]
    },
    {
      "cell_type": "markdown",
      "metadata": {
        "id": "V1VrlIrq9mJs"
      },
      "source": [
        "__Exercise 3__"
      ]
    },
    {
      "cell_type": "code",
      "source": [
        "# (Kim arrived) or (Dana left and everyone cheered).\n",
        "# (Kim arrived or Dana left) and everyone cheered.\n",
        "\n",
        "import nltk, pprint, re\n",
        "grammar = nltk.CFG.fromstring(\"\"\"\n",
        "S -> NP VP\n",
        "S -> S Conj S\n",
        "VP -> \"arrived\" | \"left\" | \"cheered\"\n",
        "NP -> \"Kim\" | \"Dana\" | \"everyone\"\n",
        "Conj -> \"and\" | \"or\"\n",
        "\"\"\")\n",
        "\n",
        "sr_parse = nltk.ShiftReduceParser(grammar, trace=2)\n",
        "sent = 'Kim arrived or Dana left and everyone cheered'.split()\n",
        "for tree in sr_parse.parse(sent):\n",
        "    print(tree)"
      ],
      "metadata": {
        "colab": {
          "base_uri": "https://localhost:8080/"
        },
        "id": "YtIFkZff-hmf",
        "outputId": "11543733-26bf-42a1-c354-cb3ddace79d3"
      },
      "execution_count": 3,
      "outputs": [
        {
          "output_type": "stream",
          "name": "stdout",
          "text": [
            "Parsing 'Kim arrived or Dana left and everyone cheered'\n",
            "    [ * Kim arrived or Dana left and everyone cheered]\n",
            "  S [ 'Kim' * arrived or Dana left and everyone cheered]\n",
            "  R [ NP * arrived or Dana left and everyone cheered]\n",
            "  S [ NP 'arrived' * or Dana left and everyone cheered]\n",
            "  R [ NP VP * or Dana left and everyone cheered]\n",
            "  R [ S * or Dana left and everyone cheered]\n",
            "  S [ S 'or' * Dana left and everyone cheered]\n",
            "  R [ S Conj * Dana left and everyone cheered]\n",
            "  S [ S Conj 'Dana' * left and everyone cheered]\n",
            "  R [ S Conj NP * left and everyone cheered]\n",
            "  S [ S Conj NP 'left' * and everyone cheered]\n",
            "  R [ S Conj NP VP * and everyone cheered]\n",
            "  R [ S Conj S * and everyone cheered]\n",
            "  R [ S * and everyone cheered]\n",
            "  S [ S 'and' * everyone cheered]\n",
            "  R [ S Conj * everyone cheered]\n",
            "  S [ S Conj 'everyone' * cheered]\n",
            "  R [ S Conj NP * cheered]\n",
            "  S [ S Conj NP 'cheered' * ]\n",
            "  R [ S Conj NP VP * ]\n",
            "  R [ S Conj S * ]\n",
            "  R [ S * ]\n",
            "(S\n",
            "  (S (S (NP Kim) (VP arrived)) (Conj or) (S (NP Dana) (VP left)))\n",
            "  (Conj and)\n",
            "  (S (NP everyone) (VP cheered)))\n"
          ]
        }
      ]
    },
    {
      "cell_type": "code",
      "execution_count": 4,
      "metadata": {
        "id": "mJ6-8Jxg9mJt",
        "outputId": "87b55401-1581-447d-bdb1-fddabf5d1510",
        "colab": {
          "base_uri": "https://localhost:8080/"
        }
      },
      "outputs": [
        {
          "output_type": "stream",
          "name": "stdout",
          "text": [
            "Inserting tokens into the most likely constituents table...\n",
            "   Insert: |=.......| Kim\n",
            "   Insert: |.=......| arrived\n",
            "   Insert: |..=.....| or\n",
            "   Insert: |...=....| Dana\n",
            "   Insert: |....=...| left\n",
            "   Insert: |.....=..| and\n",
            "   Insert: |......=.| everyone\n",
            "   Insert: |.......=| cheered\n",
            "Finding the most likely constituents spanning 1 text elements...\n",
            "   Insert: |=.......| NP -> 'Kim' [0]\n",
            "   Insert: |.=......| VP -> 'arrived' [0]\n",
            "   Insert: |..=.....| Conj -> 'or' [1.0]\n",
            "   Insert: |...=....| NP -> 'Dana' [0]\n",
            "   Insert: |....=...| VP -> 'left' [0]\n",
            "   Insert: |.....=..| Conj -> 'and' [0]\n",
            "   Insert: |......=.| NP -> 'everyone' [1.0]\n",
            "   Insert: |.......=| VP -> 'cheered' [1.0]\n",
            "Finding the most likely constituents spanning 2 text elements...\n",
            "   Insert: |==......| S -> NP VP [0.6]\n",
            "   Insert: |...==...| S -> NP VP [0.6]\n",
            "   Insert: |......==| S -> NP VP [0.6]\n",
            "Finding the most likely constituents spanning 3 text elements...\n",
            "Finding the most likely constituents spanning 4 text elements...\n",
            "Finding the most likely constituents spanning 5 text elements...\n",
            "   Insert: |=====...| S -> S Conj S [0.4]\n",
            "   Insert: |...=====| S -> S Conj S [0.4]\n",
            "Finding the most likely constituents spanning 6 text elements...\n",
            "Finding the most likely constituents spanning 7 text elements...\n",
            "Finding the most likely constituents spanning 8 text elements...\n",
            "   Insert: |========| S -> S Conj S [0.4]\n",
            "  Discard: |========| S -> S Conj S [0.4]\n",
            "  Discard: |========| S -> S Conj S [0.4]\n",
            "(S\n",
            "  (S (NP Kim) (VP arrived))\n",
            "  (Conj or)\n",
            "  (S\n",
            "    (S (NP Dana) (VP left))\n",
            "    (Conj and)\n",
            "    (S (NP everyone) (VP cheered)))) (p=0)\n"
          ]
        }
      ],
      "source": [
        "grammar = nltk.PCFG.fromstring(\"\"\"\n",
        "S -> NP VP [0.6]\n",
        "S -> S Conj S [0.4]\n",
        "VP -> \"arrived\" | \"left\" | \"cheered\" [1.0]\n",
        "NP -> \"Kim\" | \"Dana\" | \"everyone\" [1.0]\n",
        "Conj -> \"and\" | \"or\" [1.0]\n",
        "\"\"\")\n",
        "\n",
        "viterbi_parse = nltk.ViterbiParser(grammar, trace=2)\n",
        "sent = 'Kim arrived or Dana left and everyone cheered'.split()\n",
        "for tree in viterbi_parse.parse(sent):\n",
        "    print(tree)"
      ]
    },
    {
      "cell_type": "markdown",
      "metadata": {
        "id": "zzF5xQ-Y9mJu"
      },
      "source": [
        "__Exercise 4__"
      ]
    },
    {
      "cell_type": "code",
      "execution_count": 5,
      "metadata": {
        "id": "HAyeKjR59mJu",
        "outputId": "ed8dbcd7-ed8c-4226-85e4-674ce9385de3",
        "colab": {
          "base_uri": "https://localhost:8080/"
        }
      },
      "outputs": [
        {
          "output_type": "stream",
          "name": "stdout",
          "text": [
            "Help on class Tree in module nltk.tree.tree:\n",
            "\n",
            "class Tree(builtins.list)\n",
            " |  Tree(node, children=None)\n",
            " |  \n",
            " |  A Tree represents a hierarchical grouping of leaves and subtrees.\n",
            " |  For example, each constituent in a syntax tree is represented by a single Tree.\n",
            " |  \n",
            " |  A tree's children are encoded as a list of leaves and subtrees,\n",
            " |  where a leaf is a basic (non-tree) value; and a subtree is a\n",
            " |  nested Tree.\n",
            " |  \n",
            " |      >>> from nltk.tree import Tree\n",
            " |      >>> print(Tree(1, [2, Tree(3, [4]), 5]))\n",
            " |      (1 2 (3 4) 5)\n",
            " |      >>> vp = Tree('VP', [Tree('V', ['saw']),\n",
            " |      ...                  Tree('NP', ['him'])])\n",
            " |      >>> s = Tree('S', [Tree('NP', ['I']), vp])\n",
            " |      >>> print(s)\n",
            " |      (S (NP I) (VP (V saw) (NP him)))\n",
            " |      >>> print(s[1])\n",
            " |      (VP (V saw) (NP him))\n",
            " |      >>> print(s[1,1])\n",
            " |      (NP him)\n",
            " |      >>> t = Tree.fromstring(\"(S (NP I) (VP (V saw) (NP him)))\")\n",
            " |      >>> s == t\n",
            " |      True\n",
            " |      >>> t[1][1].set_label('X')\n",
            " |      >>> t[1][1].label()\n",
            " |      'X'\n",
            " |      >>> print(t)\n",
            " |      (S (NP I) (VP (V saw) (X him)))\n",
            " |      >>> t[0], t[1,1] = t[1,1], t[0]\n",
            " |      >>> print(t)\n",
            " |      (S (X him) (VP (V saw) (NP I)))\n",
            " |  \n",
            " |  The length of a tree is the number of children it has.\n",
            " |  \n",
            " |      >>> len(t)\n",
            " |      2\n",
            " |  \n",
            " |  The set_label() and label() methods allow individual constituents\n",
            " |  to be labeled.  For example, syntax trees use this label to specify\n",
            " |  phrase tags, such as \"NP\" and \"VP\".\n",
            " |  \n",
            " |  Several Tree methods use \"tree positions\" to specify\n",
            " |  children or descendants of a tree.  Tree positions are defined as\n",
            " |  follows:\n",
            " |  \n",
            " |    - The tree position *i* specifies a Tree's *i*\\ th child.\n",
            " |    - The tree position ``()`` specifies the Tree itself.\n",
            " |    - If *p* is the tree position of descendant *d*, then\n",
            " |      *p+i* specifies the *i*\\ th child of *d*.\n",
            " |  \n",
            " |  I.e., every tree position is either a single index *i*,\n",
            " |  specifying ``tree[i]``; or a sequence *i1, i2, ..., iN*,\n",
            " |  specifying ``tree[i1][i2]...[iN]``.\n",
            " |  \n",
            " |  Construct a new tree.  This constructor can be called in one\n",
            " |  of two ways:\n",
            " |  \n",
            " |  - ``Tree(label, children)`` constructs a new tree with the\n",
            " |      specified label and list of children.\n",
            " |  \n",
            " |  - ``Tree.fromstring(s)`` constructs a new tree by parsing the string ``s``.\n",
            " |  \n",
            " |  Method resolution order:\n",
            " |      Tree\n",
            " |      builtins.list\n",
            " |      builtins.object\n",
            " |  \n",
            " |  Methods defined here:\n",
            " |  \n",
            " |  __add__(self, v)\n",
            " |      Return self+value.\n",
            " |  \n",
            " |  __copy__(self)\n",
            " |  \n",
            " |  __deepcopy__(self, memo)\n",
            " |  \n",
            " |  __delitem__(self, index)\n",
            " |      Delete self[key].\n",
            " |  \n",
            " |  __eq__(self, other)\n",
            " |      Return self==value.\n",
            " |  \n",
            " |  __ge__ lambda self, other\n",
            " |  \n",
            " |  __getitem__(self, index)\n",
            " |      x.__getitem__(y) <==> x[y]\n",
            " |  \n",
            " |  __gt__ lambda self, other\n",
            " |  \n",
            " |  __init__(self, node, children=None)\n",
            " |      Initialize self.  See help(type(self)) for accurate signature.\n",
            " |  \n",
            " |  __le__ lambda self, other\n",
            " |  \n",
            " |  __lt__(self, other)\n",
            " |      Return self<value.\n",
            " |  \n",
            " |  __mul__(self, v)\n",
            " |      Return self*value.\n",
            " |  \n",
            " |  __ne__ lambda self, other\n",
            " |      # @total_ordering doesn't work here, since the class inherits from a builtin class\n",
            " |  \n",
            " |  __radd__(self, v)\n",
            " |  \n",
            " |  __repr__(self)\n",
            " |      Return repr(self).\n",
            " |  \n",
            " |  __rmul__(self, v)\n",
            " |      Return value*self.\n",
            " |  \n",
            " |  __setitem__(self, index, value)\n",
            " |      Set self[key] to value.\n",
            " |  \n",
            " |  __str__(self)\n",
            " |      Return str(self).\n",
            " |  \n",
            " |  chomsky_normal_form(self, factor='right', horzMarkov=None, vertMarkov=0, childChar='|', parentChar='^')\n",
            " |      This method can modify a tree in three ways:\n",
            " |      \n",
            " |        1. Convert a tree into its Chomsky Normal Form (CNF)\n",
            " |           equivalent -- Every subtree has either two non-terminals\n",
            " |           or one terminal as its children.  This process requires\n",
            " |           the creation of more\"artificial\" non-terminal nodes.\n",
            " |        2. Markov (vertical) smoothing of children in new artificial\n",
            " |           nodes\n",
            " |        3. Horizontal (parent) annotation of nodes\n",
            " |      \n",
            " |      :param factor: Right or left factoring method (default = \"right\")\n",
            " |      :type  factor: str = [left|right]\n",
            " |      :param horzMarkov: Markov order for sibling smoothing in artificial nodes (None (default) = include all siblings)\n",
            " |      :type  horzMarkov: int | None\n",
            " |      :param vertMarkov: Markov order for parent smoothing (0 (default) = no vertical annotation)\n",
            " |      :type  vertMarkov: int | None\n",
            " |      :param childChar: A string used in construction of the artificial nodes, separating the head of the\n",
            " |                        original subtree from the child nodes that have yet to be expanded (default = \"|\")\n",
            " |      :type  childChar: str\n",
            " |      :param parentChar: A string used to separate the node representation from its vertical annotation\n",
            " |      :type  parentChar: str\n",
            " |  \n",
            " |  collapse_unary(self, collapsePOS=False, collapseRoot=False, joinChar='+')\n",
            " |      Collapse subtrees with a single child (ie. unary productions)\n",
            " |      into a new non-terminal (Tree node) joined by 'joinChar'.\n",
            " |      This is useful when working with algorithms that do not allow\n",
            " |      unary productions, and completely removing the unary productions\n",
            " |      would require loss of useful information.  The Tree is modified\n",
            " |      directly (since it is passed by reference) and no value is returned.\n",
            " |      \n",
            " |      :param collapsePOS: 'False' (default) will not collapse the parent of leaf nodes (ie.\n",
            " |                          Part-of-Speech tags) since they are always unary productions\n",
            " |      :type  collapsePOS: bool\n",
            " |      :param collapseRoot: 'False' (default) will not modify the root production\n",
            " |                           if it is unary.  For the Penn WSJ treebank corpus, this corresponds\n",
            " |                           to the TOP -> productions.\n",
            " |      :type collapseRoot: bool\n",
            " |      :param joinChar: A string used to connect collapsed node values (default = \"+\")\n",
            " |      :type  joinChar: str\n",
            " |  \n",
            " |  copy(self, deep=False)\n",
            " |      Return a shallow copy of the list.\n",
            " |  \n",
            " |  draw(self)\n",
            " |      Open a new window containing a graphical diagram of this tree.\n",
            " |  \n",
            " |  flatten(self)\n",
            " |      Return a flat version of the tree, with all non-root non-terminals removed.\n",
            " |      \n",
            " |          >>> t = Tree.fromstring(\"(S (NP (D the) (N dog)) (VP (V chased) (NP (D the) (N cat))))\")\n",
            " |          >>> print(t.flatten())\n",
            " |          (S the dog chased the cat)\n",
            " |      \n",
            " |      :return: a tree consisting of this tree's root connected directly to\n",
            " |          its leaves, omitting all intervening non-terminal nodes.\n",
            " |      :rtype: Tree\n",
            " |  \n",
            " |  freeze(self, leaf_freezer=None)\n",
            " |  \n",
            " |  height(self)\n",
            " |      Return the height of the tree.\n",
            " |      \n",
            " |          >>> t = Tree.fromstring(\"(S (NP (D the) (N dog)) (VP (V chased) (NP (D the) (N cat))))\")\n",
            " |          >>> t.height()\n",
            " |          5\n",
            " |          >>> print(t[0,0])\n",
            " |          (D the)\n",
            " |          >>> t[0,0].height()\n",
            " |          2\n",
            " |      \n",
            " |      :return: The height of this tree.  The height of a tree\n",
            " |          containing no children is 1; the height of a tree\n",
            " |          containing only leaves is 2; and the height of any other\n",
            " |          tree is one plus the maximum of its children's\n",
            " |          heights.\n",
            " |      :rtype: int\n",
            " |  \n",
            " |  label(self)\n",
            " |      Return the node label of the tree.\n",
            " |      \n",
            " |          >>> t = Tree.fromstring('(S (NP (D the) (N dog)) (VP (V chased) (NP (D the) (N cat))))')\n",
            " |          >>> t.label()\n",
            " |          'S'\n",
            " |      \n",
            " |      :return: the node label (typically a string)\n",
            " |      :rtype: any\n",
            " |  \n",
            " |  leaf_treeposition(self, index)\n",
            " |      :return: The tree position of the ``index``-th leaf in this\n",
            " |          tree.  I.e., if ``tp=self.leaf_treeposition(i)``, then\n",
            " |          ``self[tp]==self.leaves()[i]``.\n",
            " |      \n",
            " |      :raise IndexError: If this tree contains fewer than ``index+1``\n",
            " |          leaves, or if ``index<0``.\n",
            " |  \n",
            " |  leaves(self)\n",
            " |      Return the leaves of the tree.\n",
            " |      \n",
            " |          >>> t = Tree.fromstring(\"(S (NP (D the) (N dog)) (VP (V chased) (NP (D the) (N cat))))\")\n",
            " |          >>> t.leaves()\n",
            " |          ['the', 'dog', 'chased', 'the', 'cat']\n",
            " |      \n",
            " |      :return: a list containing this tree's leaves.\n",
            " |          The order reflects the order of the\n",
            " |          leaves in the tree's hierarchical structure.\n",
            " |      :rtype: list\n",
            " |  \n",
            " |  pformat(self, margin=70, indent=0, nodesep='', parens='()', quotes=False)\n",
            " |      :return: A pretty-printed string representation of this tree.\n",
            " |      :rtype: str\n",
            " |      :param margin: The right margin at which to do line-wrapping.\n",
            " |      :type margin: int\n",
            " |      :param indent: The indentation level at which printing\n",
            " |          begins.  This number is used to decide how far to indent\n",
            " |          subsequent lines.\n",
            " |      :type indent: int\n",
            " |      :param nodesep: A string that is used to separate the node\n",
            " |          from the children.  E.g., the default value ``':'`` gives\n",
            " |          trees like ``(S: (NP: I) (VP: (V: saw) (NP: it)))``.\n",
            " |  \n",
            " |  pformat_latex_qtree(self)\n",
            " |      Returns a representation of the tree compatible with the\n",
            " |      LaTeX qtree package. This consists of the string ``\\Tree``\n",
            " |      followed by the tree represented in bracketed notation.\n",
            " |      \n",
            " |      For example, the following result was generated from a parse tree of\n",
            " |      the sentence ``The announcement astounded us``::\n",
            " |      \n",
            " |        \\Tree [.I'' [.N'' [.D The ] [.N' [.N announcement ] ] ]\n",
            " |            [.I' [.V'' [.V' [.V astounded ] [.N'' [.N' [.N us ] ] ] ] ] ] ]\n",
            " |      \n",
            " |      See https://www.ling.upenn.edu/advice/latex.html for the LaTeX\n",
            " |      style file for the qtree package.\n",
            " |      \n",
            " |      :return: A latex qtree representation of this tree.\n",
            " |      :rtype: str\n",
            " |  \n",
            " |  pos(self)\n",
            " |      Return a sequence of pos-tagged words extracted from the tree.\n",
            " |      \n",
            " |          >>> t = Tree.fromstring(\"(S (NP (D the) (N dog)) (VP (V chased) (NP (D the) (N cat))))\")\n",
            " |          >>> t.pos()\n",
            " |          [('the', 'D'), ('dog', 'N'), ('chased', 'V'), ('the', 'D'), ('cat', 'N')]\n",
            " |      \n",
            " |      :return: a list of tuples containing leaves and pre-terminals (part-of-speech tags).\n",
            " |          The order reflects the order of the leaves in the tree's hierarchical structure.\n",
            " |      :rtype: list(tuple)\n",
            " |  \n",
            " |  pprint(self, **kwargs)\n",
            " |      Print a string representation of this Tree to 'stream'\n",
            " |  \n",
            " |  pretty_print(self, sentence=None, highlight=(), stream=None, **kwargs)\n",
            " |      Pretty-print this tree as ASCII or Unicode art.\n",
            " |      For explanation of the arguments, see the documentation for\n",
            " |      `nltk.tree.prettyprinter.TreePrettyPrinter`.\n",
            " |  \n",
            " |  productions(self)\n",
            " |      Generate the productions that correspond to the non-terminal nodes of the tree.\n",
            " |      For each subtree of the form (P: C1 C2 ... Cn) this produces a production of the\n",
            " |      form P -> C1 C2 ... Cn.\n",
            " |      \n",
            " |          >>> t = Tree.fromstring(\"(S (NP (D the) (N dog)) (VP (V chased) (NP (D the) (N cat))))\")\n",
            " |          >>> t.productions() # doctest: +NORMALIZE_WHITESPACE\n",
            " |          [S -> NP VP, NP -> D N, D -> 'the', N -> 'dog', VP -> V NP, V -> 'chased',\n",
            " |          NP -> D N, D -> 'the', N -> 'cat']\n",
            " |      \n",
            " |      :rtype: list(Production)\n",
            " |  \n",
            " |  set_label(self, label)\n",
            " |      Set the node label of the tree.\n",
            " |      \n",
            " |          >>> t = Tree.fromstring(\"(S (NP (D the) (N dog)) (VP (V chased) (NP (D the) (N cat))))\")\n",
            " |          >>> t.set_label(\"T\")\n",
            " |          >>> print(t)\n",
            " |          (T (NP (D the) (N dog)) (VP (V chased) (NP (D the) (N cat))))\n",
            " |      \n",
            " |      :param label: the node label (typically a string)\n",
            " |      :type label: any\n",
            " |  \n",
            " |  subtrees(self, filter=None)\n",
            " |      Generate all the subtrees of this tree, optionally restricted\n",
            " |      to trees matching the filter function.\n",
            " |      \n",
            " |          >>> t = Tree.fromstring(\"(S (NP (D the) (N dog)) (VP (V chased) (NP (D the) (N cat))))\")\n",
            " |          >>> for s in t.subtrees(lambda t: t.height() == 2):\n",
            " |          ...     print(s)\n",
            " |          (D the)\n",
            " |          (N dog)\n",
            " |          (V chased)\n",
            " |          (D the)\n",
            " |          (N cat)\n",
            " |      \n",
            " |      :type filter: function\n",
            " |      :param filter: the function to filter all local trees\n",
            " |  \n",
            " |  treeposition_spanning_leaves(self, start, end)\n",
            " |      :return: The tree position of the lowest descendant of this\n",
            " |          tree that dominates ``self.leaves()[start:end]``.\n",
            " |      :raise ValueError: if ``end <= start``\n",
            " |  \n",
            " |  treepositions(self, order='preorder')\n",
            " |          >>> t = Tree.fromstring(\"(S (NP (D the) (N dog)) (VP (V chased) (NP (D the) (N cat))))\")\n",
            " |          >>> t.treepositions() # doctest: +ELLIPSIS\n",
            " |          [(), (0,), (0, 0), (0, 0, 0), (0, 1), (0, 1, 0), (1,), (1, 0), (1, 0, 0), ...]\n",
            " |          >>> for pos in t.treepositions('leaves'):\n",
            " |          ...     t[pos] = t[pos][::-1].upper()\n",
            " |          >>> print(t)\n",
            " |          (S (NP (D EHT) (N GOD)) (VP (V DESAHC) (NP (D EHT) (N TAC))))\n",
            " |      \n",
            " |      :param order: One of: ``preorder``, ``postorder``, ``bothorder``,\n",
            " |          ``leaves``.\n",
            " |  \n",
            " |  un_chomsky_normal_form(self, expandUnary=True, childChar='|', parentChar='^', unaryChar='+')\n",
            " |      This method modifies the tree in three ways:\n",
            " |      \n",
            " |        1. Transforms a tree in Chomsky Normal Form back to its\n",
            " |           original structure (branching greater than two)\n",
            " |        2. Removes any parent annotation (if it exists)\n",
            " |        3. (optional) expands unary subtrees (if previously\n",
            " |           collapsed with collapseUnary(...) )\n",
            " |      \n",
            " |      :param expandUnary: Flag to expand unary or not (default = True)\n",
            " |      :type  expandUnary: bool\n",
            " |      :param childChar: A string separating the head node from its children in an artificial node (default = \"|\")\n",
            " |      :type  childChar: str\n",
            " |      :param parentChar: A string separating the node label from its parent annotation (default = \"^\")\n",
            " |      :type  parentChar: str\n",
            " |      :param unaryChar: A string joining two non-terminals in a unary production (default = \"+\")\n",
            " |      :type  unaryChar: str\n",
            " |  \n",
            " |  ----------------------------------------------------------------------\n",
            " |  Class methods defined here:\n",
            " |  \n",
            " |  convert(tree) from builtins.type\n",
            " |      Convert a tree between different subtypes of Tree.  ``cls`` determines\n",
            " |      which class will be used to encode the new tree.\n",
            " |      \n",
            " |      :type tree: Tree\n",
            " |      :param tree: The tree that should be converted.\n",
            " |      :return: The new Tree.\n",
            " |  \n",
            " |  fromlist(l) from builtins.type\n",
            " |      :type l: list\n",
            " |      :param l: a tree represented as nested lists\n",
            " |      \n",
            " |      :return: A tree corresponding to the list representation ``l``.\n",
            " |      :rtype: Tree\n",
            " |      \n",
            " |      Convert nested lists to a NLTK Tree\n",
            " |  \n",
            " |  fromstring(s, brackets='()', read_node=None, read_leaf=None, node_pattern=None, leaf_pattern=None, remove_empty_top_bracketing=False) from builtins.type\n",
            " |      Read a bracketed tree string and return the resulting tree.\n",
            " |      Trees are represented as nested brackettings, such as::\n",
            " |      \n",
            " |        (S (NP (NNP John)) (VP (V runs)))\n",
            " |      \n",
            " |      :type s: str\n",
            " |      :param s: The string to read\n",
            " |      \n",
            " |      :type brackets: str (length=2)\n",
            " |      :param brackets: The bracket characters used to mark the\n",
            " |          beginning and end of trees and subtrees.\n",
            " |      \n",
            " |      :type read_node: function\n",
            " |      :type read_leaf: function\n",
            " |      :param read_node, read_leaf: If specified, these functions\n",
            " |          are applied to the substrings of ``s`` corresponding to\n",
            " |          nodes and leaves (respectively) to obtain the values for\n",
            " |          those nodes and leaves.  They should have the following\n",
            " |          signature:\n",
            " |      \n",
            " |             read_node(str) -> value\n",
            " |      \n",
            " |          For example, these functions could be used to process nodes\n",
            " |          and leaves whose values should be some type other than\n",
            " |          string (such as ``FeatStruct``).\n",
            " |          Note that by default, node strings and leaf strings are\n",
            " |          delimited by whitespace and brackets; to override this\n",
            " |          default, use the ``node_pattern`` and ``leaf_pattern``\n",
            " |          arguments.\n",
            " |      \n",
            " |      :type node_pattern: str\n",
            " |      :type leaf_pattern: str\n",
            " |      :param node_pattern, leaf_pattern: Regular expression patterns\n",
            " |          used to find node and leaf substrings in ``s``.  By\n",
            " |          default, both nodes patterns are defined to match any\n",
            " |          sequence of non-whitespace non-bracket characters.\n",
            " |      \n",
            " |      :type remove_empty_top_bracketing: bool\n",
            " |      :param remove_empty_top_bracketing: If the resulting tree has\n",
            " |          an empty node label, and is length one, then return its\n",
            " |          single child instead.  This is useful for treebank trees,\n",
            " |          which sometimes contain an extra level of bracketing.\n",
            " |      \n",
            " |      :return: A tree corresponding to the string representation ``s``.\n",
            " |          If this class method is called using a subclass of Tree,\n",
            " |          then it will return a tree of that type.\n",
            " |      :rtype: Tree\n",
            " |  \n",
            " |  ----------------------------------------------------------------------\n",
            " |  Data descriptors defined here:\n",
            " |  \n",
            " |  __dict__\n",
            " |      dictionary for instance variables (if defined)\n",
            " |  \n",
            " |  __weakref__\n",
            " |      list of weak references to the object (if defined)\n",
            " |  \n",
            " |  node\n",
            " |      Outdated method to access the node value; use the label() method instead.\n",
            " |      \n",
            " |      @deprecated: Use label() instead\n",
            " |  \n",
            " |  ----------------------------------------------------------------------\n",
            " |  Data and other attributes defined here:\n",
            " |  \n",
            " |  __hash__ = None\n",
            " |  \n",
            " |  ----------------------------------------------------------------------\n",
            " |  Methods inherited from builtins.list:\n",
            " |  \n",
            " |  __contains__(self, key, /)\n",
            " |      Return key in self.\n",
            " |  \n",
            " |  __getattribute__(self, name, /)\n",
            " |      Return getattr(self, name).\n",
            " |  \n",
            " |  __iadd__(self, value, /)\n",
            " |      Implement self+=value.\n",
            " |  \n",
            " |  __imul__(self, value, /)\n",
            " |      Implement self*=value.\n",
            " |  \n",
            " |  __iter__(self, /)\n",
            " |      Implement iter(self).\n",
            " |  \n",
            " |  __len__(self, /)\n",
            " |      Return len(self).\n",
            " |  \n",
            " |  __reversed__(self, /)\n",
            " |      Return a reverse iterator over the list.\n",
            " |  \n",
            " |  __sizeof__(self, /)\n",
            " |      Return the size of the list in memory, in bytes.\n",
            " |  \n",
            " |  append(self, object, /)\n",
            " |      Append object to the end of the list.\n",
            " |  \n",
            " |  clear(self, /)\n",
            " |      Remove all items from list.\n",
            " |  \n",
            " |  count(self, value, /)\n",
            " |      Return number of occurrences of value.\n",
            " |  \n",
            " |  extend(self, iterable, /)\n",
            " |      Extend list by appending elements from the iterable.\n",
            " |  \n",
            " |  index(self, value, start=0, stop=9223372036854775807, /)\n",
            " |      Return first index of value.\n",
            " |      \n",
            " |      Raises ValueError if the value is not present.\n",
            " |  \n",
            " |  insert(self, index, object, /)\n",
            " |      Insert object before index.\n",
            " |  \n",
            " |  pop(self, index=-1, /)\n",
            " |      Remove and return item at index (default last).\n",
            " |      \n",
            " |      Raises IndexError if list is empty or index is out of range.\n",
            " |  \n",
            " |  remove(self, value, /)\n",
            " |      Remove first occurrence of value.\n",
            " |      \n",
            " |      Raises ValueError if the value is not present.\n",
            " |  \n",
            " |  reverse(self, /)\n",
            " |      Reverse *IN PLACE*.\n",
            " |  \n",
            " |  sort(self, /, *, key=None, reverse=False)\n",
            " |      Sort the list in ascending order and return None.\n",
            " |      \n",
            " |      The sort is in-place (i.e. the list itself is modified) and stable (i.e. the\n",
            " |      order of two equal elements is maintained).\n",
            " |      \n",
            " |      If a key function is given, apply it once to each list item and sort them,\n",
            " |      ascending or descending, according to their function values.\n",
            " |      \n",
            " |      The reverse flag can be set to sort in descending order.\n",
            " |  \n",
            " |  ----------------------------------------------------------------------\n",
            " |  Class methods inherited from builtins.list:\n",
            " |  \n",
            " |  __class_getitem__(...) from builtins.type\n",
            " |      See PEP 585\n",
            " |  \n",
            " |  ----------------------------------------------------------------------\n",
            " |  Static methods inherited from builtins.list:\n",
            " |  \n",
            " |  __new__(*args, **kwargs) from builtins.type\n",
            " |      Create and return a new object.  See help(type) for accurate signature.\n",
            "\n"
          ]
        }
      ],
      "source": [
        "from nltk import Tree\n",
        "help(Tree)"
      ]
    },
    {
      "cell_type": "markdown",
      "metadata": {
        "id": "en_dh-vB9mJu"
      },
      "source": [
        "__Exercise 5__"
      ]
    },
    {
      "cell_type": "code",
      "execution_count": 6,
      "metadata": {
        "id": "EVgklKpD9mJu",
        "outputId": "771cedc2-1a11-4934-ab92-1f371e7f51ff",
        "colab": {
          "base_uri": "https://localhost:8080/"
        }
      },
      "outputs": [
        {
          "output_type": "stream",
          "name": "stdout",
          "text": [
            "(NP (JJ old) (NP (N men) (Conj and) (N women)))\n"
          ]
        }
      ],
      "source": [
        "# a\n",
        "tree1 = Tree('NP',\n",
        "             [Tree('JJ', ['old']),\n",
        "              Tree('NP',\n",
        "                   [Tree('N', ['men']), Tree('Conj', ['and']), Tree('N', ['women'])])])\n",
        "print(tree1)"
      ]
    },
    {
      "cell_type": "code",
      "execution_count": 7,
      "metadata": {
        "id": "87UBuqJB9mJv",
        "outputId": "bc8bf435-c5e7-4f5b-b6e1-98afb1f93eef",
        "colab": {
          "base_uri": "https://localhost:8080/"
        }
      },
      "outputs": [
        {
          "output_type": "stream",
          "name": "stdout",
          "text": [
            "(NP (NP (JJ old) (N men)) (Conj and) (NP women))\n"
          ]
        }
      ],
      "source": [
        "tree2 = Tree('NP',\n",
        "             [Tree('NP',\n",
        "                   [Tree('JJ', ['old']), Tree('N', ['men'])]),\n",
        "              Tree('Conj', ['and']),\n",
        "              Tree('NP', ['women'])])\n",
        "print(tree2)"
      ]
    },
    {
      "cell_type": "code",
      "source": [
        "import sys\n",
        "\n",
        "if not sys.platform.startswith('linux'):\n",
        "    raise RuntimeError(\"This code requires a graphical display to run.\")"
      ],
      "metadata": {
        "id": "PzMWvaXn_HSr"
      },
      "execution_count": 8,
      "outputs": []
    },
    {
      "cell_type": "code",
      "source": [
        "!pip install tk"
      ],
      "metadata": {
        "colab": {
          "base_uri": "https://localhost:8080/"
        },
        "id": "b106bPl5_JWF",
        "outputId": "55fcb62e-bca6-456b-82f0-072bdd644aa9"
      },
      "execution_count": 11,
      "outputs": [
        {
          "output_type": "stream",
          "name": "stdout",
          "text": [
            "Collecting tk\n",
            "  Downloading tk-0.1.0-py3-none-any.whl.metadata (693 bytes)\n",
            "Downloading tk-0.1.0-py3-none-any.whl (3.9 kB)\n",
            "Installing collected packages: tk\n",
            "Successfully installed tk-0.1.0\n"
          ]
        }
      ]
    },
    {
      "cell_type": "code",
      "source": [
        "baseName = baseName + ext\n",
        "interactive = False\n",
        "self.tk = _tkinter.create(screenName, baseName, className, interactive, wantobjects, useTk, sync, use)\n",
        "if useTk:\n",
        "   self._loadtk()"
      ],
      "metadata": {
        "colab": {
          "base_uri": "https://localhost:8080/",
          "height": 217
        },
        "id": "Pvglw-i2_VO-",
        "outputId": "09c661e9-09a8-41f4-e5b1-4a2e2b48921e"
      },
      "execution_count": 12,
      "outputs": [
        {
          "output_type": "error",
          "ename": "NameError",
          "evalue": "name 'baseName' is not defined",
          "traceback": [
            "\u001b[0;31m---------------------------------------------------------------------------\u001b[0m",
            "\u001b[0;31mNameError\u001b[0m                                 Traceback (most recent call last)",
            "\u001b[0;32m<ipython-input-12-26d49d5c1538>\u001b[0m in \u001b[0;36m<cell line: 1>\u001b[0;34m()\u001b[0m\n\u001b[0;32m----> 1\u001b[0;31m \u001b[0mbaseName\u001b[0m \u001b[0;34m=\u001b[0m \u001b[0mbaseName\u001b[0m \u001b[0;34m+\u001b[0m \u001b[0mext\u001b[0m\u001b[0;34m\u001b[0m\u001b[0;34m\u001b[0m\u001b[0m\n\u001b[0m\u001b[1;32m      2\u001b[0m \u001b[0minteractive\u001b[0m \u001b[0;34m=\u001b[0m \u001b[0;32mFalse\u001b[0m\u001b[0;34m\u001b[0m\u001b[0;34m\u001b[0m\u001b[0m\n\u001b[1;32m      3\u001b[0m \u001b[0mself\u001b[0m\u001b[0;34m.\u001b[0m\u001b[0mtk\u001b[0m \u001b[0;34m=\u001b[0m \u001b[0m_tkinter\u001b[0m\u001b[0;34m.\u001b[0m\u001b[0mcreate\u001b[0m\u001b[0;34m(\u001b[0m\u001b[0mscreenName\u001b[0m\u001b[0;34m,\u001b[0m \u001b[0mbaseName\u001b[0m\u001b[0;34m,\u001b[0m \u001b[0mclassName\u001b[0m\u001b[0;34m,\u001b[0m \u001b[0minteractive\u001b[0m\u001b[0;34m,\u001b[0m \u001b[0mwantobjects\u001b[0m\u001b[0;34m,\u001b[0m \u001b[0museTk\u001b[0m\u001b[0;34m,\u001b[0m \u001b[0msync\u001b[0m\u001b[0;34m,\u001b[0m \u001b[0muse\u001b[0m\u001b[0;34m)\u001b[0m\u001b[0;34m\u001b[0m\u001b[0;34m\u001b[0m\u001b[0m\n\u001b[1;32m      4\u001b[0m \u001b[0;32mif\u001b[0m \u001b[0museTk\u001b[0m\u001b[0;34m:\u001b[0m\u001b[0;34m\u001b[0m\u001b[0;34m\u001b[0m\u001b[0m\n\u001b[1;32m      5\u001b[0m    \u001b[0mself\u001b[0m\u001b[0;34m.\u001b[0m\u001b[0m_loadtk\u001b[0m\u001b[0;34m(\u001b[0m\u001b[0;34m)\u001b[0m\u001b[0;34m\u001b[0m\u001b[0;34m\u001b[0m\u001b[0m\n",
            "\u001b[0;31mNameError\u001b[0m: name 'baseName' is not defined"
          ]
        }
      ]
    },
    {
      "cell_type": "code",
      "source": [
        "tree3 = Tree.fromstring(\"((S (NP I) (VP (VP (V shot) (NP (Det an) (N elephant))) (PP (P in) (NP (Det my) (N pajamas))))))\")"
      ],
      "metadata": {
        "id": "Jv9czXw8_7CK"
      },
      "execution_count": 15,
      "outputs": []
    },
    {
      "cell_type": "code",
      "source": [
        "import os"
      ],
      "metadata": {
        "id": "Wq7yH6hGAPRu"
      },
      "execution_count": 16,
      "outputs": []
    },
    {
      "cell_type": "code",
      "source": [
        "import sys\n",
        "\n",
        "if not sys.platform.startswith('linux'):\n",
        "    raise RuntimeError(\"This code requires a graphical display to run.\")\n",
        "\n",
        "# Check if the DISPLAY environment variable is set\n",
        "if 'DISPLAY' not in os.environ:\n",
        "    raise RuntimeError(\"The DISPLAY environment variable is not set.\")"
      ],
      "metadata": {
        "colab": {
          "base_uri": "https://localhost:8080/",
          "height": 181
        },
        "id": "yPBTANcUAMsW",
        "outputId": "af6c5a58-4eee-4385-f9c0-30d062d9f449"
      },
      "execution_count": 17,
      "outputs": [
        {
          "output_type": "error",
          "ename": "RuntimeError",
          "evalue": "The DISPLAY environment variable is not set.",
          "traceback": [
            "\u001b[0;31m---------------------------------------------------------------------------\u001b[0m",
            "\u001b[0;31mRuntimeError\u001b[0m                              Traceback (most recent call last)",
            "\u001b[0;32m<ipython-input-17-fb4b27473611>\u001b[0m in \u001b[0;36m<cell line: 7>\u001b[0;34m()\u001b[0m\n\u001b[1;32m      6\u001b[0m \u001b[0;31m# Check if the DISPLAY environment variable is set\u001b[0m\u001b[0;34m\u001b[0m\u001b[0;34m\u001b[0m\u001b[0m\n\u001b[1;32m      7\u001b[0m \u001b[0;32mif\u001b[0m \u001b[0;34m'DISPLAY'\u001b[0m \u001b[0;32mnot\u001b[0m \u001b[0;32min\u001b[0m \u001b[0mos\u001b[0m\u001b[0;34m.\u001b[0m\u001b[0menviron\u001b[0m\u001b[0;34m:\u001b[0m\u001b[0;34m\u001b[0m\u001b[0;34m\u001b[0m\u001b[0m\n\u001b[0;32m----> 8\u001b[0;31m     \u001b[0;32mraise\u001b[0m \u001b[0mRuntimeError\u001b[0m\u001b[0;34m(\u001b[0m\u001b[0;34m\"The DISPLAY environment variable is not set.\"\u001b[0m\u001b[0;34m)\u001b[0m\u001b[0;34m\u001b[0m\u001b[0;34m\u001b[0m\u001b[0m\n\u001b[0m",
            "\u001b[0;31mRuntimeError\u001b[0m: The DISPLAY environment variable is not set."
          ]
        }
      ]
    },
    {
      "cell_type": "code",
      "source": [
        "from tkinter import IntVar, Menu, Tk\n",
        "\n",
        "from nltk.draw.util import (\n",
        "    BoxWidget,\n",
        "    CanvasFrame,\n",
        "    CanvasWidget,\n",
        "    OvalWidget,\n",
        "    ParenWidget,\n",
        "    TextWidget,\n",
        ")\n",
        "from nltk.tree import Tree\n",
        "from nltk.util import in_idle"
      ],
      "metadata": {
        "id": "y55knSdEAqpx"
      },
      "execution_count": 19,
      "outputs": []
    },
    {
      "cell_type": "code",
      "source": [
        "def draw_trees(*trees):\n",
        "    \"\"\"\n",
        "    Open a new window containing a graphical diagram of the given\n",
        "    trees.\n",
        "\n",
        "    :rtype: None\n",
        "    \"\"\"\n",
        "    TreeView(*trees).mainloop()\n",
        "    return"
      ],
      "metadata": {
        "id": "sAA6PCKsA-n0"
      },
      "execution_count": 20,
      "outputs": []
    },
    {
      "cell_type": "code",
      "execution_count": 21,
      "metadata": {
        "collapsed": true,
        "id": "a2_nA_do9mJv",
        "colab": {
          "base_uri": "https://localhost:8080/",
          "height": 331
        },
        "outputId": "048d3efb-7641-49c0-ef2f-0010c93af860"
      },
      "outputs": [
        {
          "output_type": "error",
          "ename": "TclError",
          "evalue": "no display name and no $DISPLAY environment variable",
          "traceback": [
            "\u001b[0;31m---------------------------------------------------------------------------\u001b[0m",
            "\u001b[0;31mTclError\u001b[0m                                  Traceback (most recent call last)",
            "\u001b[0;32m<ipython-input-21-9f178169ba7b>\u001b[0m in \u001b[0;36m<cell line: 3>\u001b[0;34m()\u001b[0m\n\u001b[1;32m      1\u001b[0m \u001b[0;31m# b\u001b[0m\u001b[0;34m\u001b[0m\u001b[0;34m\u001b[0m\u001b[0m\n\u001b[1;32m      2\u001b[0m \u001b[0;31m###tree3 = Tree.fromstring(\"((S (NP I) (VP (VP (V shot) (NP (Det an) (N elephant))) (PP (P in) (NP (Det my) (N pajamas))))))\")###\u001b[0m\u001b[0;34m\u001b[0m\u001b[0;34m\u001b[0m\u001b[0m\n\u001b[0;32m----> 3\u001b[0;31m \u001b[0mtree3\u001b[0m\u001b[0;34m.\u001b[0m\u001b[0mdraw\u001b[0m\u001b[0;34m(\u001b[0m\u001b[0;34m)\u001b[0m\u001b[0;34m\u001b[0m\u001b[0;34m\u001b[0m\u001b[0m\n\u001b[0m",
            "\u001b[0;32m/usr/local/lib/python3.10/dist-packages/nltk/tree/tree.py\u001b[0m in \u001b[0;36mdraw\u001b[0;34m(self)\u001b[0m\n\u001b[1;32m    759\u001b[0m         \u001b[0;32mfrom\u001b[0m \u001b[0mnltk\u001b[0m\u001b[0;34m.\u001b[0m\u001b[0mdraw\u001b[0m\u001b[0;34m.\u001b[0m\u001b[0mtree\u001b[0m \u001b[0;32mimport\u001b[0m \u001b[0mdraw_trees\u001b[0m\u001b[0;34m\u001b[0m\u001b[0;34m\u001b[0m\u001b[0m\n\u001b[1;32m    760\u001b[0m \u001b[0;34m\u001b[0m\u001b[0m\n\u001b[0;32m--> 761\u001b[0;31m         \u001b[0mdraw_trees\u001b[0m\u001b[0;34m(\u001b[0m\u001b[0mself\u001b[0m\u001b[0;34m)\u001b[0m\u001b[0;34m\u001b[0m\u001b[0;34m\u001b[0m\u001b[0m\n\u001b[0m\u001b[1;32m    762\u001b[0m \u001b[0;34m\u001b[0m\u001b[0m\n\u001b[1;32m    763\u001b[0m     \u001b[0;32mdef\u001b[0m \u001b[0mpretty_print\u001b[0m\u001b[0;34m(\u001b[0m\u001b[0mself\u001b[0m\u001b[0;34m,\u001b[0m \u001b[0msentence\u001b[0m\u001b[0;34m=\u001b[0m\u001b[0;32mNone\u001b[0m\u001b[0;34m,\u001b[0m \u001b[0mhighlight\u001b[0m\u001b[0;34m=\u001b[0m\u001b[0;34m(\u001b[0m\u001b[0;34m)\u001b[0m\u001b[0;34m,\u001b[0m \u001b[0mstream\u001b[0m\u001b[0;34m=\u001b[0m\u001b[0;32mNone\u001b[0m\u001b[0;34m,\u001b[0m \u001b[0;34m**\u001b[0m\u001b[0mkwargs\u001b[0m\u001b[0;34m)\u001b[0m\u001b[0;34m:\u001b[0m\u001b[0;34m\u001b[0m\u001b[0;34m\u001b[0m\u001b[0m\n",
            "\u001b[0;32m/usr/local/lib/python3.10/dist-packages/nltk/draw/tree.py\u001b[0m in \u001b[0;36mdraw_trees\u001b[0;34m(*trees)\u001b[0m\n\u001b[1;32m   1006\u001b[0m     \u001b[0;34m:\u001b[0m\u001b[0mrtype\u001b[0m\u001b[0;34m:\u001b[0m \u001b[0;32mNone\u001b[0m\u001b[0;34m\u001b[0m\u001b[0;34m\u001b[0m\u001b[0m\n\u001b[1;32m   1007\u001b[0m     \"\"\"\n\u001b[0;32m-> 1008\u001b[0;31m     \u001b[0mTreeView\u001b[0m\u001b[0;34m(\u001b[0m\u001b[0;34m*\u001b[0m\u001b[0mtrees\u001b[0m\u001b[0;34m)\u001b[0m\u001b[0;34m.\u001b[0m\u001b[0mmainloop\u001b[0m\u001b[0;34m(\u001b[0m\u001b[0;34m)\u001b[0m\u001b[0;34m\u001b[0m\u001b[0;34m\u001b[0m\u001b[0m\n\u001b[0m\u001b[1;32m   1009\u001b[0m     \u001b[0;32mreturn\u001b[0m\u001b[0;34m\u001b[0m\u001b[0;34m\u001b[0m\u001b[0m\n\u001b[1;32m   1010\u001b[0m \u001b[0;34m\u001b[0m\u001b[0m\n",
            "\u001b[0;32m/usr/local/lib/python3.10/dist-packages/nltk/draw/tree.py\u001b[0m in \u001b[0;36m__init__\u001b[0;34m(self, *trees)\u001b[0m\n\u001b[1;32m    857\u001b[0m         \u001b[0mself\u001b[0m\u001b[0;34m.\u001b[0m\u001b[0m_trees\u001b[0m \u001b[0;34m=\u001b[0m \u001b[0mtrees\u001b[0m\u001b[0;34m\u001b[0m\u001b[0;34m\u001b[0m\u001b[0m\n\u001b[1;32m    858\u001b[0m \u001b[0;34m\u001b[0m\u001b[0m\n\u001b[0;32m--> 859\u001b[0;31m         \u001b[0mself\u001b[0m\u001b[0;34m.\u001b[0m\u001b[0m_top\u001b[0m \u001b[0;34m=\u001b[0m \u001b[0mTk\u001b[0m\u001b[0;34m(\u001b[0m\u001b[0;34m)\u001b[0m\u001b[0;34m\u001b[0m\u001b[0;34m\u001b[0m\u001b[0m\n\u001b[0m\u001b[1;32m    860\u001b[0m         \u001b[0mself\u001b[0m\u001b[0;34m.\u001b[0m\u001b[0m_top\u001b[0m\u001b[0;34m.\u001b[0m\u001b[0mtitle\u001b[0m\u001b[0;34m(\u001b[0m\u001b[0;34m\"NLTK\"\u001b[0m\u001b[0;34m)\u001b[0m\u001b[0;34m\u001b[0m\u001b[0;34m\u001b[0m\u001b[0m\n\u001b[1;32m    861\u001b[0m         \u001b[0mself\u001b[0m\u001b[0;34m.\u001b[0m\u001b[0m_top\u001b[0m\u001b[0;34m.\u001b[0m\u001b[0mbind\u001b[0m\u001b[0;34m(\u001b[0m\u001b[0;34m\"<Control-x>\"\u001b[0m\u001b[0;34m,\u001b[0m \u001b[0mself\u001b[0m\u001b[0;34m.\u001b[0m\u001b[0mdestroy\u001b[0m\u001b[0;34m)\u001b[0m\u001b[0;34m\u001b[0m\u001b[0;34m\u001b[0m\u001b[0m\n",
            "\u001b[0;32m/usr/lib/python3.10/tkinter/__init__.py\u001b[0m in \u001b[0;36m__init__\u001b[0;34m(self, screenName, baseName, className, useTk, sync, use)\u001b[0m\n\u001b[1;32m   2297\u001b[0m                 \u001b[0mbaseName\u001b[0m \u001b[0;34m=\u001b[0m \u001b[0mbaseName\u001b[0m \u001b[0;34m+\u001b[0m \u001b[0mext\u001b[0m\u001b[0;34m\u001b[0m\u001b[0;34m\u001b[0m\u001b[0m\n\u001b[1;32m   2298\u001b[0m         \u001b[0minteractive\u001b[0m \u001b[0;34m=\u001b[0m \u001b[0;32mFalse\u001b[0m\u001b[0;34m\u001b[0m\u001b[0;34m\u001b[0m\u001b[0m\n\u001b[0;32m-> 2299\u001b[0;31m         \u001b[0mself\u001b[0m\u001b[0;34m.\u001b[0m\u001b[0mtk\u001b[0m \u001b[0;34m=\u001b[0m \u001b[0m_tkinter\u001b[0m\u001b[0;34m.\u001b[0m\u001b[0mcreate\u001b[0m\u001b[0;34m(\u001b[0m\u001b[0mscreenName\u001b[0m\u001b[0;34m,\u001b[0m \u001b[0mbaseName\u001b[0m\u001b[0;34m,\u001b[0m \u001b[0mclassName\u001b[0m\u001b[0;34m,\u001b[0m \u001b[0minteractive\u001b[0m\u001b[0;34m,\u001b[0m \u001b[0mwantobjects\u001b[0m\u001b[0;34m,\u001b[0m \u001b[0museTk\u001b[0m\u001b[0;34m,\u001b[0m \u001b[0msync\u001b[0m\u001b[0;34m,\u001b[0m \u001b[0muse\u001b[0m\u001b[0;34m)\u001b[0m\u001b[0;34m\u001b[0m\u001b[0;34m\u001b[0m\u001b[0m\n\u001b[0m\u001b[1;32m   2300\u001b[0m         \u001b[0;32mif\u001b[0m \u001b[0museTk\u001b[0m\u001b[0;34m:\u001b[0m\u001b[0;34m\u001b[0m\u001b[0;34m\u001b[0m\u001b[0m\n\u001b[1;32m   2301\u001b[0m             \u001b[0mself\u001b[0m\u001b[0;34m.\u001b[0m\u001b[0m_loadtk\u001b[0m\u001b[0;34m(\u001b[0m\u001b[0;34m)\u001b[0m\u001b[0;34m\u001b[0m\u001b[0;34m\u001b[0m\u001b[0m\n",
            "\u001b[0;31mTclError\u001b[0m: no display name and no $DISPLAY environment variable"
          ]
        }
      ],
      "source": [
        "# b\n",
        "###tree3 = Tree.fromstring(\"((S (NP I) (VP (VP (V shot) (NP (Det an) (N elephant))) (PP (P in) (NP (Det my) (N pajamas))))))\")###\n",
        "tree3.draw()"
      ]
    },
    {
      "cell_type": "code",
      "execution_count": 22,
      "metadata": {
        "id": "Gv5qy0Wl9mJv",
        "outputId": "06a9974c-9e52-4d73-9817-79aad293fe39",
        "colab": {
          "base_uri": "https://localhost:8080/"
        }
      },
      "outputs": [
        {
          "output_type": "stream",
          "name": "stdout",
          "text": [
            "(S\n",
            "  (NP (Det The) (N woman))\n",
            "  (VP (V saw) (NP (Det a) (N man)) (NP (JJ last) (N Thursday))))\n"
          ]
        }
      ],
      "source": [
        "# c\n",
        "tree4 = Tree('S',\n",
        "             [Tree('NP',\n",
        "                   [Tree('Det', ['The']), Tree('N', ['woman'])]),\n",
        "              Tree('VP',\n",
        "                   [Tree('V', ['saw']),\n",
        "                    Tree('NP',\n",
        "                         [Tree('Det', ['a']), Tree('N', ['man'])]),\n",
        "                    Tree('NP',\n",
        "                        [Tree('JJ', ['last']), Tree('N', ['Thursday'])])])])\n",
        "print(tree4)\n",
        "##tree4.draw()"
      ]
    },
    {
      "cell_type": "code",
      "execution_count": null,
      "metadata": {
        "collapsed": true,
        "id": "e2pa90IN9mJv"
      },
      "outputs": [],
      "source": []
    }
  ],
  "metadata": {
    "kernelspec": {
      "display_name": "Python 2",
      "language": "python",
      "name": "python2"
    },
    "language_info": {
      "codemirror_mode": {
        "name": "ipython",
        "version": 2
      },
      "file_extension": ".py",
      "mimetype": "text/x-python",
      "name": "python",
      "nbconvert_exporter": "python",
      "pygments_lexer": "ipython2",
      "version": "2.7.12"
    },
    "colab": {
      "provenance": [],
      "include_colab_link": true
    }
  },
  "nbformat": 4,
  "nbformat_minor": 0
}